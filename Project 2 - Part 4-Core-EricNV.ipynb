{
 "cells": [
  {
   "cell_type": "markdown",
   "id": "8c564e11-95a3-4765-b247-8bc92d135297",
   "metadata": {},
   "source": [
    "# <center><u>Project 2 - Part 4 (Core)</u>\n",
    "* Authored by: Eric N Valdez\n",
    "* Date: 1/25/2024"
   ]
  },
  {
   "cell_type": "markdown",
   "id": "4263361d-f7a4-4374-863f-d75c9f5927a4",
   "metadata": {},
   "source": [
    "## <u>Part 4"
   ]
  },
  {
   "cell_type": "markdown",
   "id": "03b3d2c4-1601-4b9d-a806-42d0c7d58347",
   "metadata": {},
   "source": [
    "### **Questions to Answer:**"
   ]
  },
  {
   "cell_type": "markdown",
   "id": "46225c0f-0687-472b-9564-01979a5f45e2",
   "metadata": {},
   "source": [
    "#### 1. Does the MPAA rating of a movie (G/PG/PG-13/R) affect how much revenue the movie generates?\n",
    "- They want you to perform a statistical test to get a mathematically-supported answer.\n",
    "- \n",
    "They want you to report if you found a significant difference between ratings\n",
    "    - \r\n",
    "If so, what was the p-value of your analysi\n",
    "    - ?\r\n",
    "And which rating earns the most reven\n",
    "\n",
    "- e?\r\n",
    "They want you to prepare a visualization that supports your finding."
   ]
  },
  {
   "cell_type": "code",
   "execution_count": null,
   "id": "eee76753-d091-4330-af97-e77dc00f934a",
   "metadata": {},
   "outputs": [],
   "source": []
  },
  {
   "cell_type": "code",
   "execution_count": null,
   "id": "60303d4f-e02c-4d26-92eb-23e4b290fa87",
   "metadata": {},
   "outputs": [],
   "source": []
  },
  {
   "cell_type": "code",
   "execution_count": null,
   "id": "3c5ee90e-7f4a-495e-9541-8582aa6b2c72",
   "metadata": {},
   "outputs": [],
   "source": []
  },
  {
   "cell_type": "code",
   "execution_count": null,
   "id": "2214c8c8-1526-472f-9266-fd47b591ffa8",
   "metadata": {},
   "outputs": [],
   "source": []
  },
  {
   "cell_type": "code",
   "execution_count": null,
   "id": "9aeeea47-2810-4f40-8b15-45168fc8a0a4",
   "metadata": {},
   "outputs": [],
   "source": []
  }
 ],
 "metadata": {
  "kernelspec": {
   "display_name": "Python 3 (ipykernel)",
   "language": "python",
   "name": "python3"
  },
  "language_info": {
   "codemirror_mode": {
    "name": "ipython",
    "version": 3
   },
   "file_extension": ".py",
   "mimetype": "text/x-python",
   "name": "python",
   "nbconvert_exporter": "python",
   "pygments_lexer": "ipython3",
   "version": "3.10.10"
  },
  "widgets": {
   "application/vnd.jupyter.widget-state+json": {
    "state": {},
    "version_major": 2,
    "version_minor": 0
   }
  }
 },
 "nbformat": 4,
 "nbformat_minor": 5
}
