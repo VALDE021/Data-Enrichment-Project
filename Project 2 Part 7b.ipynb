{
 "cells": [
  {
   "cell_type": "code",
   "execution_count": 1,
   "id": "0168d792-124c-4728-a104-9ca75e5b48df",
   "metadata": {},
   "outputs": [
    {
     "name": "stderr",
     "output_type": "stream",
     "text": [
      "2024-04-22 05:27:59.049 \n",
      "  \u001b[33m\u001b[1mWarning:\u001b[0m to view this Streamlit app on a browser, run it with the following\n",
      "  command:\n",
      "\n",
      "    streamlit run C:\\Users\\Valde\\anaconda3\\envs\\dojo-env\\lib\\site-packages\\ipykernel_launcher.py [ARGUMENTS]\n"
     ]
    },
    {
     "data": {
      "text/plain": [
       "DeltaGenerator()"
      ]
     },
     "execution_count": 1,
     "metadata": {},
     "output_type": "execute_result"
    }
   ],
   "source": [
    "import streamlit as st\n",
    "import streamlit.components.v1 as components\n",
    "import pandas as pd\n",
    "import numpy as np\n",
    "import os\n",
    "import joblib\n",
    "from sklearn.metrics import classification_report, ConfusionMatrixDisplay\n",
    "import matplotlib.pyplot as plt\n",
    "import numpy as np\n",
    "import json\n",
    "with open('config/filepaths.json') as f:\n",
    "    FPATHS = json.load(f)\n",
    "st.title(\"Predicting IMBD Review Ratings\")"
   ]
  },
  {
   "cell_type": "code",
   "execution_count": 11,
   "id": "869a9cc4-fba0-4c15-9869-7715102d7695",
   "metadata": {},
   "outputs": [
    {
     "data": {
      "text/plain": [
       "DeltaGenerator()"
      ]
     },
     "execution_count": 11,
     "metadata": {},
     "output_type": "execute_result"
    }
   ],
   "source": [
    "import streamlit as st\n",
    "import streamlit.components.v1 as components\n",
    "import pandas as pd\n",
    "import numpy as np\n",
    "import os\n",
    "import joblib\n",
    "from sklearn.metrics import classification_report, ConfusionMatrixDisplay\n",
    "import matplotlib.pyplot as plt\n",
    "import numpy as np\n",
    "import json\n",
    "with open('config/filepaths.json') as f:\n",
    "    FPATHS = json.load(f)\n",
    "st.title(\"Predicting IMBD Review Ratings\")"
   ]
  },
  {
   "cell_type": "code",
   "execution_count": 2,
   "id": "1ea7eebe-3eb4-48a1-8dc7-fe5c022ddc1d",
   "metadata": {},
   "outputs": [
    {
     "data": {
      "text/plain": [
       "dict_keys(['data', 'models', 'images'])"
      ]
     },
     "execution_count": 2,
     "metadata": {},
     "output_type": "execute_result"
    }
   ],
   "source": [
    "import json\n",
    "with open ('config/filepaths.json') as f:\n",
    "    FPATHS = json.load(f)\n",
    "    \n",
    "FPATHS.keys()"
   ]
  },
  {
   "cell_type": "code",
   "execution_count": 3,
   "id": "e0b8496b-3c1a-4baf-aae6-b2e3418cefdb",
   "metadata": {},
   "outputs": [
    {
     "data": {
      "text/plain": [
       "{'data': {'raw': {'full': 'Data-NLP/movie_reviews_v2.csv',\n",
       "   'processed': 'Data-NLP/processed_data.joblib'},\n",
       "  'ml': {'train': 'Data-NLP/training-data.joblib',\n",
       "   'test': 'Data-NLP/testing-data.joblib'}},\n",
       " 'models': {'gru_model': 'Models/gru.joblib',\n",
       "  'random_forest': 'models/random_forest/rf_reg.joblib'},\n",
       " 'images': {'banner': 'images/app-banner.png'}}"
      ]
     },
     "execution_count": 3,
     "metadata": {},
     "output_type": "execute_result"
    }
   ],
   "source": [
    "FPATHS"
   ]
  },
  {
   "cell_type": "code",
   "execution_count": 4,
   "id": "d349b435-baab-4dab-b25d-03e0d5dce1fb",
   "metadata": {},
   "outputs": [],
   "source": [
    "def load_data(fpath):\n",
    "    df = pd.read_csv(fpath)\n",
    "    df = df.set_index(\"movie_id\")\n",
    "    return df"
   ]
  },
  {
   "cell_type": "code",
   "execution_count": 15,
   "id": "ec913f14-b86a-4fab-8779-0c4bf4d86e89",
   "metadata": {},
   "outputs": [
    {
     "data": {
      "text/html": [
       "<div>\n",
       "<style scoped>\n",
       "    .dataframe tbody tr th:only-of-type {\n",
       "        vertical-align: middle;\n",
       "    }\n",
       "\n",
       "    .dataframe tbody tr th {\n",
       "        vertical-align: top;\n",
       "    }\n",
       "\n",
       "    .dataframe thead th {\n",
       "        text-align: right;\n",
       "    }\n",
       "</style>\n",
       "<table border=\"1\" class=\"dataframe\">\n",
       "  <thead>\n",
       "    <tr style=\"text-align: right;\">\n",
       "      <th></th>\n",
       "      <th>original_title</th>\n",
       "      <th>review</th>\n",
       "      <th>rating</th>\n",
       "    </tr>\n",
       "    <tr>\n",
       "      <th>movie_id</th>\n",
       "      <th></th>\n",
       "      <th></th>\n",
       "      <th></th>\n",
       "    </tr>\n",
       "  </thead>\n",
       "  <tbody>\n",
       "    <tr>\n",
       "      <th>7443</th>\n",
       "      <td>Chicken Run</td>\n",
       "      <td>A guilty pleasure for me personally, as I love...</td>\n",
       "      <td>9.0</td>\n",
       "    </tr>\n",
       "    <tr>\n",
       "      <th>955</th>\n",
       "      <td>Mission: Impossible II</td>\n",
       "      <td>The first underwhelmed me, but this one straig...</td>\n",
       "      <td>3.0</td>\n",
       "    </tr>\n",
       "    <tr>\n",
       "      <th>955</th>\n",
       "      <td>Mission: Impossible II</td>\n",
       "      <td>After quite entertainign Mission Impossible I ...</td>\n",
       "      <td>2.0</td>\n",
       "    </tr>\n",
       "    <tr>\n",
       "      <th>2621</th>\n",
       "      <td>Return to Me</td>\n",
       "      <td>Okay, I will admit I can be a bit of an easy g...</td>\n",
       "      <td>9.0</td>\n",
       "    </tr>\n",
       "    <tr>\n",
       "      <th>4234</th>\n",
       "      <td>Scream 3</td>\n",
       "      <td>**_Scream 3’s_ lackluster screenplay and unima...</td>\n",
       "      <td>4.0</td>\n",
       "    </tr>\n",
       "  </tbody>\n",
       "</table>\n",
       "</div>"
      ],
      "text/plain": [
       "                  original_title  \\\n",
       "movie_id                           \n",
       "7443                 Chicken Run   \n",
       "955       Mission: Impossible II   \n",
       "955       Mission: Impossible II   \n",
       "2621                Return to Me   \n",
       "4234                    Scream 3   \n",
       "\n",
       "                                                     review  rating  \n",
       "movie_id                                                             \n",
       "7443      A guilty pleasure for me personally, as I love...     9.0  \n",
       "955       The first underwhelmed me, but this one straig...     3.0  \n",
       "955       After quite entertainign Mission Impossible I ...     2.0  \n",
       "2621      Okay, I will admit I can be a bit of an easy g...     9.0  \n",
       "4234      **_Scream 3’s_ lackluster screenplay and unima...     4.0  "
      ]
     },
     "execution_count": 15,
     "metadata": {},
     "output_type": "execute_result"
    }
   ],
   "source": [
    "# Load dataset\n",
    "df = load_data(fpath = FPATHS['data']['raw']['full'])\n",
    "df.head()"
   ]
  },
  {
   "cell_type": "code",
   "execution_count": 6,
   "id": "d6923ea7-a112-4694-9ed1-9e6cfded058d",
   "metadata": {},
   "outputs": [],
   "source": [
    "def load_Xy_data(fpath):\n",
    "    return joblib.load(fpath)"
   ]
  },
  {
   "cell_type": "code",
   "execution_count": 7,
   "id": "385c6356-74cd-4985-8372-e60271d7681f",
   "metadata": {},
   "outputs": [],
   "source": [
    "# Call function for train data\n",
    "X_train, y_train = load_Xy_data(fpath=FPATHS['data']['ml']['train'])\n",
    "# Call function for test data\n",
    "X_test, y_test = load_Xy_data(fpath=FPATHS['data']['ml']['test'])"
   ]
  },
  {
   "cell_type": "code",
   "execution_count": 8,
   "id": "bf2c481e-290e-475c-9ba8-5e563d47747d",
   "metadata": {},
   "outputs": [],
   "source": [
    "# Define function to load in model from dictionary with joblib\n",
    "def load_model_ml(fpath):\n",
    "    return joblib.load(fpath)"
   ]
  },
  {
   "cell_type": "code",
   "execution_count": 16,
   "id": "b5b0492a-2ce4-4384-92b9-d2bcfb50d0d4",
   "metadata": {},
   "outputs": [],
   "source": [
    "rf_path = FPATHS['models']['random_forest']"
   ]
  },
  {
   "cell_type": "code",
   "execution_count": 17,
   "id": "58cb7e69-f63d-4277-a8cd-b9b463716f8c",
   "metadata": {},
   "outputs": [
    {
     "ename": "AttributeError",
     "evalue": "'numpy.ndarray' object has no attribute 'head'",
     "output_type": "error",
     "traceback": [
      "\u001b[1;31m---------------------------------------------------------------------------\u001b[0m",
      "\u001b[1;31mAttributeError\u001b[0m                            Traceback (most recent call last)",
      "Cell \u001b[1;32mIn[17], line 2\u001b[0m\n\u001b[0;32m      1\u001b[0m \u001b[38;5;66;03m# Get list of all the features\u001b[39;00m\n\u001b[1;32m----> 2\u001b[0m \u001b[43mX_train\u001b[49m\u001b[38;5;241;43m.\u001b[39;49m\u001b[43mhead\u001b[49m()\n",
      "\u001b[1;31mAttributeError\u001b[0m: 'numpy.ndarray' object has no attribute 'head'"
     ]
    }
   ],
   "source": [
    "# Get list of all the features\n",
    "X_train.head()"
   ]
  },
  {
   "cell_type": "code",
   "execution_count": 12,
   "id": "1475c8c7-9225-4c1c-a5ea-07c3ab2469fd",
   "metadata": {},
   "outputs": [],
   "source": [
    "# Get text to predict from the text input box\n",
    "X_to_pred = st.text_input(\"### High_Rating:\", \n",
    "                          value=\"Great Movie a must See!\")\n",
    "X_to_pred = st.text_input(\"### Low_Rating:\", value=\"Read View, may not be worth seeing\")"
   ]
  },
  {
   "cell_type": "code",
   "execution_count": 19,
   "id": "5fd2bd2c-0314-4125-8f06-6a2546f4d434",
   "metadata": {},
   "outputs": [],
   "source": [
    "# Loading the ML model\n",
    "@st.cache_resource\n",
    "def load_ml_model(fpath):\n",
    "    loaded_model = joblib.load(fpath)\n",
    "    return loaded_model\n",
    "# Load model from FPATHS\n",
    "model_fpath = FPATHS['models']['random_forest']\n",
    "rf_pipe = load_ml_model(model_fpath)"
   ]
  },
  {
   "cell_type": "code",
   "execution_count": 20,
   "id": "55ca31c1-e968-41b6-bbf4-b6b22386d663",
   "metadata": {},
   "outputs": [
    {
     "ename": "KeyError",
     "evalue": "'target_lookup'",
     "output_type": "error",
     "traceback": [
      "\u001b[1;31m---------------------------------------------------------------------------\u001b[0m",
      "\u001b[1;31mKeyError\u001b[0m                                  Traceback (most recent call last)",
      "Cell \u001b[1;32mIn[20], line 4\u001b[0m\n\u001b[0;32m      2\u001b[0m \u001b[38;5;66;03m# load target lookup dict\u001b[39;00m\n\u001b[0;32m      3\u001b[0m st\u001b[38;5;241m.\u001b[39mcache_data\n\u001b[1;32m----> 4\u001b[0m \u001b[38;5;28;01mdef\u001b[39;00m \u001b[38;5;21mload_lookup\u001b[39m(fpath\u001b[38;5;241m=\u001b[39m\u001b[43mFPATHS\u001b[49m\u001b[43m[\u001b[49m\u001b[38;5;124;43m'\u001b[39;49m\u001b[38;5;124;43mdata\u001b[39;49m\u001b[38;5;124;43m'\u001b[39;49m\u001b[43m]\u001b[49m\u001b[43m[\u001b[49m\u001b[38;5;124;43m'\u001b[39;49m\u001b[38;5;124;43mml\u001b[39;49m\u001b[38;5;124;43m'\u001b[39;49m\u001b[43m]\u001b[49m\u001b[43m[\u001b[49m\u001b[38;5;124;43m'\u001b[39;49m\u001b[38;5;124;43mtarget_lookup\u001b[39;49m\u001b[38;5;124;43m'\u001b[39;49m\u001b[43m]\u001b[49m):\n\u001b[0;32m      5\u001b[0m     \u001b[38;5;28;01mreturn\u001b[39;00m joblib\u001b[38;5;241m.\u001b[39mload(fpath)\n\u001b[0;32m      6\u001b[0m st\u001b[38;5;241m.\u001b[39mcache_resource\n",
      "\u001b[1;31mKeyError\u001b[0m: 'target_lookup'"
     ]
    }
   ],
   "source": [
    "import joblib\n",
    "# load target lookup dict\n",
    "st.cache_data\n",
    "def load_lookup(fpath=FPATHS['data']['ml']['target_lookup']):\n",
    "    return joblib.load(fpath)\n",
    "st.cache_resource\n",
    "def load_encoder(fpath=FPATHS['data']['ml']['label_encoder'] ):\n",
    "    return joblib.load(fpath)"
   ]
  },
  {
   "cell_type": "code",
   "execution_count": 21,
   "id": "886be3bc-d8d1-429a-9337-e3f1bdc2f093",
   "metadata": {},
   "outputs": [
    {
     "ename": "NameError",
     "evalue": "name 'load_lookup' is not defined",
     "output_type": "error",
     "traceback": [
      "\u001b[1;31m---------------------------------------------------------------------------\u001b[0m",
      "\u001b[1;31mNameError\u001b[0m                                 Traceback (most recent call last)",
      "Cell \u001b[1;32mIn[21], line 2\u001b[0m\n\u001b[0;32m      1\u001b[0m \u001b[38;5;66;03m# Load the target lookup dictionary\u001b[39;00m\n\u001b[1;32m----> 2\u001b[0m target_lookup \u001b[38;5;241m=\u001b[39m \u001b[43mload_lookup\u001b[49m()\n\u001b[0;32m      3\u001b[0m target_lookup\n",
      "\u001b[1;31mNameError\u001b[0m: name 'load_lookup' is not defined"
     ]
    }
   ],
   "source": [
    "# Load the target lookup dictionary\n",
    "target_lookup = load_lookup()\n",
    "target_lookup"
   ]
  },
  {
   "cell_type": "code",
   "execution_count": 26,
   "id": "e327a97f-c642-435d-91ea-67b64f496203",
   "metadata": {},
   "outputs": [
    {
     "ename": "NameError",
     "evalue": "name 'load_encoder' is not defined",
     "output_type": "error",
     "traceback": [
      "\u001b[1;31m---------------------------------------------------------------------------\u001b[0m",
      "\u001b[1;31mNameError\u001b[0m                                 Traceback (most recent call last)",
      "Cell \u001b[1;32mIn[26], line 2\u001b[0m\n\u001b[0;32m      1\u001b[0m \u001b[38;5;66;03m# Load the encoder\u001b[39;00m\n\u001b[1;32m----> 2\u001b[0m encoder \u001b[38;5;241m=\u001b[39m \u001b[43mload_encoder\u001b[49m()\n\u001b[0;32m      3\u001b[0m encoder\u001b[38;5;241m.\u001b[39mclasses_\n",
      "\u001b[1;31mNameError\u001b[0m: name 'load_encoder' is not defined"
     ]
    }
   ],
   "source": [
    "# Load the encoder\n",
    "encoder = load_encoder()\n",
    "encoder.classes_"
   ]
  },
  {
   "cell_type": "code",
   "execution_count": 25,
   "id": "a6977bd6-2a83-4a47-b5bd-3abaa356bddd",
   "metadata": {},
   "outputs": [],
   "source": [
    "# Basic Function to obtain prediction\n",
    "def make_prediction(X_to_pred):\n",
    "    pred_class = rf_pipe.predict([X_to_pred])[0]\n",
    "    return pred_class"
   ]
  },
  {
   "cell_type": "code",
   "execution_count": 24,
   "id": "981d7138-1464-4771-944d-da5ee270487f",
   "metadata": {},
   "outputs": [
    {
     "ename": "NameError",
     "evalue": "name 'make_prediction' is not defined",
     "output_type": "error",
     "traceback": [
      "\u001b[1;31m---------------------------------------------------------------------------\u001b[0m",
      "\u001b[1;31mNameError\u001b[0m                                 Traceback (most recent call last)",
      "Cell \u001b[1;32mIn[24], line 2\u001b[0m\n\u001b[0;32m      1\u001b[0m \u001b[38;5;66;03m# Test function in notebook\u001b[39;00m\n\u001b[1;32m----> 2\u001b[0m pred_class \u001b[38;5;241m=\u001b[39m \u001b[43mmake_prediction\u001b[49m(X_to_pred)\n\u001b[0;32m      3\u001b[0m pred_class\n",
      "\u001b[1;31mNameError\u001b[0m: name 'make_prediction' is not defined"
     ]
    }
   ],
   "source": [
    "# Test function in notebook\n",
    "pred_class = make_prediction(X_to_pred)\n",
    "pred_class"
   ]
  },
  {
   "cell_type": "code",
   "execution_count": 23,
   "id": "0bc2c476-e12a-4495-a769-07434e1e8786",
   "metadata": {},
   "outputs": [
    {
     "ename": "NameError",
     "evalue": "name 'target_lookup' is not defined",
     "output_type": "error",
     "traceback": [
      "\u001b[1;31m---------------------------------------------------------------------------\u001b[0m",
      "\u001b[1;31mNameError\u001b[0m                                 Traceback (most recent call last)",
      "Cell \u001b[1;32mIn[23], line 2\u001b[0m\n\u001b[0;32m      1\u001b[0m \u001b[38;5;66;03m# Update the function to decode the prediction\u001b[39;00m\n\u001b[1;32m----> 2\u001b[0m \u001b[38;5;28;01mdef\u001b[39;00m \u001b[38;5;21mmake_prediction\u001b[39m(X_to_pred, rf_pipe\u001b[38;5;241m=\u001b[39mrf_pipe, lookup_dict\u001b[38;5;241m=\u001b[39m \u001b[43mtarget_lookup\u001b[49m):\n\u001b[0;32m      3\u001b[0m     \u001b[38;5;66;03m# Get Prediction\u001b[39;00m\n\u001b[0;32m      4\u001b[0m     pred_class \u001b[38;5;241m=\u001b[39m rf_pipe\u001b[38;5;241m.\u001b[39mpredict([X_to_pred])[\u001b[38;5;241m0\u001b[39m]\n\u001b[0;32m      5\u001b[0m     \u001b[38;5;66;03m# Decode label\u001b[39;00m\n",
      "\u001b[1;31mNameError\u001b[0m: name 'target_lookup' is not defined"
     ]
    }
   ],
   "source": [
    "# Update the function to decode the prediction\n",
    "def make_prediction(X_to_pred, rf_pipe=rf_pipe, lookup_dict= target_lookup):\n",
    "    # Get Prediction\n",
    "    pred_class = rf_pipe.predict([X_to_pred])[0]\n",
    "    # Decode label\n",
    "    pred_class = lookup_dict[pred_class]\n",
    "    return pred_class"
   ]
  },
  {
   "cell_type": "code",
   "execution_count": 22,
   "id": "a63c600c-9985-42a3-bc3e-7681cac420b5",
   "metadata": {},
   "outputs": [
    {
     "ename": "NameError",
     "evalue": "name 'make_prediction' is not defined",
     "output_type": "error",
     "traceback": [
      "\u001b[1;31m---------------------------------------------------------------------------\u001b[0m",
      "\u001b[1;31mNameError\u001b[0m                                 Traceback (most recent call last)",
      "Cell \u001b[1;32mIn[22], line 2\u001b[0m\n\u001b[0;32m      1\u001b[0m \u001b[38;5;66;03m# Test updated function\u001b[39;00m\n\u001b[1;32m----> 2\u001b[0m pred_class \u001b[38;5;241m=\u001b[39m \u001b[43mmake_prediction\u001b[49m(X_to_pred)\n\u001b[0;32m      3\u001b[0m pred_class\n",
      "\u001b[1;31mNameError\u001b[0m: name 'make_prediction' is not defined"
     ]
    }
   ],
   "source": [
    "# Test updated function\n",
    "pred_class = make_prediction(X_to_pred)\n",
    "pred_class"
   ]
  },
  {
   "cell_type": "markdown",
   "id": "e54647c7-e3c1-41e0-a8d1-ab3adb3433b8",
   "metadata": {},
   "source": [
    "### End of 6 and 7A notebook has the majority of my changes and adjustments "
   ]
  }
 ],
 "metadata": {
  "kernelspec": {
   "display_name": "Python (dojo-env)",
   "language": "python",
   "name": "dojo-env"
  },
  "language_info": {
   "codemirror_mode": {
    "name": "ipython",
    "version": 3
   },
   "file_extension": ".py",
   "mimetype": "text/x-python",
   "name": "python",
   "nbconvert_exporter": "python",
   "pygments_lexer": "ipython3",
   "version": "3.10.11"
  },
  "widgets": {
   "application/vnd.jupyter.widget-state+json": {
    "state": {},
    "version_major": 2,
    "version_minor": 0
   }
  }
 },
 "nbformat": 4,
 "nbformat_minor": 5
}
