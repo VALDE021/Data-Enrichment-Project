{
 "cells": [
  {
   "cell_type": "code",
   "execution_count": 6,
   "id": "0168d792-124c-4728-a104-9ca75e5b48df",
   "metadata": {},
   "outputs": [
    {
     "name": "stderr",
     "output_type": "stream",
     "text": [
      "2024-04-22 02:30:24.317 \n",
      "  \u001b[33m\u001b[1mWarning:\u001b[0m to view this Streamlit app on a browser, run it with the following\n",
      "  command:\n",
      "\n",
      "    streamlit run C:\\Users\\Valde\\anaconda3\\envs\\dojo-env\\lib\\site-packages\\ipykernel_launcher.py [ARGUMENTS]\n"
     ]
    },
    {
     "data": {
      "text/plain": [
       "DeltaGenerator()"
      ]
     },
     "execution_count": 6,
     "metadata": {},
     "output_type": "execute_result"
    }
   ],
   "source": [
    "import streamlit as st\n",
    "import streamlit.components.v1 as components\n",
    "import pandas as pd\n",
    "import numpy as np\n",
    "import os\n",
    "import joblib\n",
    "from sklearn.metrics import classification_report, ConfusionMatrixDisplay\n",
    "import matplotlib.pyplot as plt\n",
    "import numpy as np\n",
    "import json\n",
    "with open('config/filepaths.json') as f:\n",
    "    FPATHS = json.load(f)\n",
    "st.title(\"Predicting IMBD Review Ratings\")"
   ]
  },
  {
   "cell_type": "code",
   "execution_count": 7,
   "id": "1ea7eebe-3eb4-48a1-8dc7-fe5c022ddc1d",
   "metadata": {},
   "outputs": [
    {
     "data": {
      "text/plain": [
       "dict_keys(['data', 'models', 'eda'])"
      ]
     },
     "execution_count": 7,
     "metadata": {},
     "output_type": "execute_result"
    }
   ],
   "source": [
    "import json\n",
    "with open ('config/filepaths.json') as f:\n",
    "    FPATHS = json.load(f)\n",
    "    \n",
    "FPATHS.keys()"
   ]
  },
  {
   "cell_type": "code",
   "execution_count": 8,
   "id": "e0b8496b-3c1a-4baf-aae6-b2e3418cefdb",
   "metadata": {},
   "outputs": [
    {
     "data": {
      "text/plain": [
       "{'data': {'filtered': 'Data-NLP/movie_reviews_v2.csv',\n",
       "  'processed': 'Data-NLP/processed_data.joblib',\n",
       "  'ml': {'train': 'Data-NLP/training-data.joblib',\n",
       "   'test': 'Data-NLP/testing-data.joblib',\n",
       "   'label_encoder': 'Data-NLP/label-encoder.joblib',\n",
       "   'target_lookup': 'Data-NLP/target-lookup-dict.joblib'},\n",
       "  'tf': {'train_tf': 'Data-NLP/training_tf',\n",
       "   'test_tf': 'Data-NLP/testing_tf'}},\n",
       " 'models': {'rf': 'models/rf-pipe.joblib', 'gru': 'models/tf/'},\n",
       " 'eda': {'scattertext': 'eda/scattertext.html',\n",
       "  'wordclouds-raw': 'eda/wordclouds-raw-text.png',\n",
       "  'wordclouds-lemmas': 'eda/wordclouds-lemmas.png'}}"
      ]
     },
     "execution_count": 8,
     "metadata": {},
     "output_type": "execute_result"
    }
   ],
   "source": [
    "FPATHS"
   ]
  },
  {
   "cell_type": "code",
   "execution_count": 9,
   "id": "d349b435-baab-4dab-b25d-03e0d5dce1fb",
   "metadata": {},
   "outputs": [],
   "source": [
    "def load_data(fpath):\n",
    "    df = pd.read_csv(fpath)\n",
    "    df = df.set_index(\"movie_id\")\n",
    "    return df"
   ]
  },
  {
   "cell_type": "code",
   "execution_count": 11,
   "id": "ec913f14-b86a-4fab-8779-0c4bf4d86e89",
   "metadata": {},
   "outputs": [],
   "source": [
    "# # Load dataset\n",
    "# df = load_data(fpath = FPATHS['data']['raw']['full'])\n",
    "# df.head()"
   ]
  },
  {
   "cell_type": "code",
   "execution_count": 12,
   "id": "d6923ea7-a112-4694-9ed1-9e6cfded058d",
   "metadata": {},
   "outputs": [],
   "source": [
    "def load_Xy_data(fpath):\n",
    "    return joblib.load(fpath)"
   ]
  },
  {
   "cell_type": "code",
   "execution_count": 13,
   "id": "385c6356-74cd-4985-8372-e60271d7681f",
   "metadata": {},
   "outputs": [],
   "source": [
    "# Call function for train data\n",
    "X_train, y_train = load_Xy_data(fpath=FPATHS['data']['ml']['train'])\n",
    "# Call function for test data\n",
    "X_test, y_test = load_Xy_data(fpath=FPATHS['data']['ml']['test'])"
   ]
  },
  {
   "cell_type": "code",
   "execution_count": 14,
   "id": "bf2c481e-290e-475c-9ba8-5e563d47747d",
   "metadata": {},
   "outputs": [],
   "source": [
    "# Define function to load in model from dictionary with joblib\n",
    "def load_model_ml(fpath):\n",
    "    return joblib.load(fpath)"
   ]
  },
  {
   "cell_type": "code",
   "execution_count": 16,
   "id": "b5b0492a-2ce4-4384-92b9-d2bcfb50d0d4",
   "metadata": {},
   "outputs": [],
   "source": [
    "# rf_path = FPATHS['models']['random_forest']"
   ]
  },
  {
   "cell_type": "code",
   "execution_count": 18,
   "id": "58cb7e69-f63d-4277-a8cd-b9b463716f8c",
   "metadata": {},
   "outputs": [],
   "source": [
    "# # Get list of all the features\n",
    "# X_train.head()"
   ]
  },
  {
   "cell_type": "code",
   "execution_count": 19,
   "id": "869a9cc4-fba0-4c15-9869-7715102d7695",
   "metadata": {},
   "outputs": [
    {
     "data": {
      "text/plain": [
       "DeltaGenerator()"
      ]
     },
     "execution_count": 19,
     "metadata": {},
     "output_type": "execute_result"
    }
   ],
   "source": [
    "import streamlit as st\n",
    "import streamlit.components.v1 as components\n",
    "import pandas as pd\n",
    "import numpy as np\n",
    "import os\n",
    "import joblib\n",
    "from sklearn.metrics import classification_report, ConfusionMatrixDisplay\n",
    "import matplotlib.pyplot as plt\n",
    "import numpy as np\n",
    "import json\n",
    "with open('config/filepaths.json') as f:\n",
    "    FPATHS = json.load(f)\n",
    "st.title(\"Predicting IMBD Review Ratings\")"
   ]
  },
  {
   "cell_type": "code",
   "execution_count": 20,
   "id": "1475c8c7-9225-4c1c-a5ea-07c3ab2469fd",
   "metadata": {},
   "outputs": [],
   "source": [
    "# Get text to predict from the text input box\n",
    "X_to_pred = st.text_input(\"### High_Rating:\", \n",
    "                          value=\"Great Movie a must See!\")\n",
    "X_to_pred = st.text_input(\"### Low_Rating:\", value=\"Read View, may not be worth seeing\")"
   ]
  },
  {
   "cell_type": "code",
   "execution_count": 22,
   "id": "5fd2bd2c-0314-4125-8f06-6a2546f4d434",
   "metadata": {},
   "outputs": [
    {
     "ename": "KeyError",
     "evalue": "'random_forest'",
     "output_type": "error",
     "traceback": [
      "\u001b[1;31m---------------------------------------------------------------------------\u001b[0m",
      "\u001b[1;31mKeyError\u001b[0m                                  Traceback (most recent call last)",
      "Cell \u001b[1;32mIn[22], line 7\u001b[0m\n\u001b[0;32m      5\u001b[0m     \u001b[38;5;28;01mreturn\u001b[39;00m loaded_model\n\u001b[0;32m      6\u001b[0m \u001b[38;5;66;03m# Load model from FPATHS\u001b[39;00m\n\u001b[1;32m----> 7\u001b[0m model_fpath \u001b[38;5;241m=\u001b[39m \u001b[43mFPATHS\u001b[49m\u001b[43m[\u001b[49m\u001b[38;5;124;43m'\u001b[39;49m\u001b[38;5;124;43mmodels\u001b[39;49m\u001b[38;5;124;43m'\u001b[39;49m\u001b[43m]\u001b[49m\u001b[43m[\u001b[49m\u001b[38;5;124;43m'\u001b[39;49m\u001b[38;5;124;43mrandom_forest\u001b[39;49m\u001b[38;5;124;43m'\u001b[39;49m\u001b[43m]\u001b[49m\n\u001b[0;32m      8\u001b[0m rf_pipe \u001b[38;5;241m=\u001b[39m load_ml_model(model_fpath)\n",
      "\u001b[1;31mKeyError\u001b[0m: 'random_forest'"
     ]
    }
   ],
   "source": [
    "# # Loading the ML model\n",
    "# @st.cache_resource\n",
    "# def load_ml_model(fpath):\n",
    "#     loaded_model = joblib.load(fpath)\n",
    "#     return loaded_model\n",
    "# # Load model from FPATHS\n",
    "# model_fpath = FPATHS['models']['random_forest']\n",
    "# rf_pipe = load_ml_model(model_fpath)"
   ]
  },
  {
   "cell_type": "code",
   "execution_count": 23,
   "id": "55ca31c1-e968-41b6-bbf4-b6b22386d663",
   "metadata": {},
   "outputs": [],
   "source": [
    "import joblib\n",
    "# load target lookup dict\n",
    "st.cache_data\n",
    "def load_lookup(fpath=FPATHS['data']['ml']['target_lookup']):\n",
    "    return joblib.load(fpath)\n",
    "st.cache_resource\n",
    "def load_encoder(fpath=FPATHS['data']['ml']['label_encoder'] ):\n",
    "    return joblib.load(fpath)"
   ]
  },
  {
   "cell_type": "code",
   "execution_count": 24,
   "id": "886be3bc-d8d1-429a-9337-e3f1bdc2f093",
   "metadata": {},
   "outputs": [
    {
     "data": {
      "text/plain": [
       "{0: 1.0, 1: 2.0, 2: 3.0, 3: 4.0, 4: 9.0, 5: 10.0}"
      ]
     },
     "execution_count": 24,
     "metadata": {},
     "output_type": "execute_result"
    }
   ],
   "source": [
    "# Load the target lookup dictionary\n",
    "target_lookup = load_lookup()\n",
    "target_lookup"
   ]
  },
  {
   "cell_type": "code",
   "execution_count": 25,
   "id": "e327a97f-c642-435d-91ea-67b64f496203",
   "metadata": {},
   "outputs": [
    {
     "data": {
      "text/plain": [
       "array([ 1.,  2.,  3.,  4.,  9., 10.])"
      ]
     },
     "execution_count": 25,
     "metadata": {},
     "output_type": "execute_result"
    }
   ],
   "source": [
    "# Load the encoder\n",
    "encoder = load_encoder()\n",
    "encoder.classes_"
   ]
  },
  {
   "cell_type": "code",
   "execution_count": 26,
   "id": "a6977bd6-2a83-4a47-b5bd-3abaa356bddd",
   "metadata": {},
   "outputs": [],
   "source": [
    "# Basic Function to obtain prediction\n",
    "def make_prediction(X_to_pred):\n",
    "    pred_class = rf_pipe.predict([X_to_pred])[0]\n",
    "    return pred_class"
   ]
  },
  {
   "cell_type": "code",
   "execution_count": 28,
   "id": "981d7138-1464-4771-944d-da5ee270487f",
   "metadata": {},
   "outputs": [],
   "source": [
    "# # Test function in notebook\n",
    "# pred_class = make_prediction(X_to_pred)\n",
    "# pred_class"
   ]
  },
  {
   "cell_type": "code",
   "execution_count": 31,
   "id": "0bc2c476-e12a-4495-a769-07434e1e8786",
   "metadata": {},
   "outputs": [],
   "source": [
    "# # Update the function to decode the prediction\n",
    "# def make_prediction(X_to_pred, rf_pipe=rf_pipe, lookup_dict= target_lookup):\n",
    "#     # Get Prediction\n",
    "#     pred_class = rf_pipe.predict([X_to_pred])[0]\n",
    "#     # Decode label\n",
    "#     pred_class = lookup_dict[pred_class]\n",
    "#     return pred_class"
   ]
  },
  {
   "cell_type": "code",
   "execution_count": 33,
   "id": "a63c600c-9985-42a3-bc3e-7681cac420b5",
   "metadata": {},
   "outputs": [],
   "source": [
    "# # Test updated function\n",
    "# pred_class = make_prediction(X_to_pred)\n",
    "# pred_class"
   ]
  },
  {
   "cell_type": "code",
   "execution_count": null,
   "id": "c6ef0e48-23cf-4385-9c8b-993645b08829",
   "metadata": {},
   "outputs": [],
   "source": []
  },
  {
   "cell_type": "code",
   "execution_count": null,
   "id": "8dba2f34-11a4-436d-a352-2c062e951e82",
   "metadata": {},
   "outputs": [],
   "source": []
  },
  {
   "cell_type": "code",
   "execution_count": null,
   "id": "f90a59aa-faf5-4c49-bffa-a69f0c3bbf6d",
   "metadata": {},
   "outputs": [],
   "source": []
  },
  {
   "cell_type": "code",
   "execution_count": null,
   "id": "bdd7370e-c0f6-4420-b5be-dcfd9db788ca",
   "metadata": {},
   "outputs": [],
   "source": []
  },
  {
   "cell_type": "code",
   "execution_count": null,
   "id": "ce5f648e-3ce5-43e4-bf4a-f687de53bcfe",
   "metadata": {},
   "outputs": [],
   "source": []
  },
  {
   "cell_type": "code",
   "execution_count": null,
   "id": "5fe19181-27a1-4264-9ec0-a0307643d6a0",
   "metadata": {},
   "outputs": [],
   "source": []
  },
  {
   "cell_type": "code",
   "execution_count": null,
   "id": "85a268a1-18d7-442e-8343-4ce3da8828cc",
   "metadata": {},
   "outputs": [],
   "source": []
  },
  {
   "cell_type": "code",
   "execution_count": null,
   "id": "a9c75fde-5933-4d65-824c-947fc02d7b3d",
   "metadata": {},
   "outputs": [],
   "source": []
  },
  {
   "cell_type": "code",
   "execution_count": null,
   "id": "0222c13f-d342-47d8-82a3-35732b5e3c0a",
   "metadata": {},
   "outputs": [],
   "source": []
  }
 ],
 "metadata": {
  "kernelspec": {
   "display_name": "Python (dojo-env)",
   "language": "python",
   "name": "dojo-env"
  },
  "language_info": {
   "codemirror_mode": {
    "name": "ipython",
    "version": 3
   },
   "file_extension": ".py",
   "mimetype": "text/x-python",
   "name": "python",
   "nbconvert_exporter": "python",
   "pygments_lexer": "ipython3",
   "version": "3.10.11"
  },
  "widgets": {
   "application/vnd.jupyter.widget-state+json": {
    "state": {},
    "version_major": 2,
    "version_minor": 0
   }
  }
 },
 "nbformat": 4,
 "nbformat_minor": 5
}
