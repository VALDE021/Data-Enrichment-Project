{
 "cells": [
  {
   "cell_type": "markdown",
   "id": "b49c18ba-d1c5-4f59-a8e0-b13fc46e89ff",
   "metadata": {},
   "source": [
    "# <u><center>Project 2 - Part 4Core)</u>\n",
    "* Authored by: Eric N Valdez\n",
    "* Date: 1/26/2025"
   ]
  },
  {
   "cell_type": "markdown",
   "id": "8864469c-8cda-4b04-b656-27f4ab727a06",
   "metadata": {},
   "source": [
    "### <u>*Imports*:"
   ]
  },
  {
   "cell_type": "code",
   "execution_count": 8,
   "id": "a66b4461-76fb-4549-a451-283ade18602d",
   "metadata": {},
   "outputs": [],
   "source": [
    "import pandas as pd\n",
    "import numpy as np\n",
    "import matplotlib.pyplot as plt\n",
    "import seaborn as sns\n",
    "import scipy.stats as stats\n",
    "import os, json"
   ]
  },
  {
   "cell_type": "markdown",
   "id": "85f132e2-5af4-48eb-9629-d230c98fce90",
   "metadata": {},
   "source": [
    "## <u>*Loading*:"
   ]
  },
  {
   "cell_type": "code",
   "execution_count": null,
   "id": "f13b629d-b184-4f03-bdb3-4a692ec7a62e",
   "metadata": {},
   "outputs": [],
   "source": []
  },
  {
   "cell_type": "markdown",
   "id": "a4231012-6120-4fea-8941-49c7273dd2c2",
   "metadata": {},
   "source": [
    "## <u>Part 4"
   ]
  },
  {
   "cell_type": "markdown",
   "id": "0fec7c59-ec15-42cd-ad53-508e48976b04",
   "metadata": {},
   "source": [
    "### 1. The stakeholder's first question is: does the MPAA rating of a movie (G/PG/PG-13/R) affect how much revenue the movie generates?"
   ]
  },
  {
   "cell_type": "code",
   "execution_count": 3,
   "id": "ed08eed5-2108-4cb7-9d9a-46f2b6eb24b9",
   "metadata": {},
   "outputs": [
    {
     "ename": "NameError",
     "evalue": "name 'f_oneway' is not defined",
     "output_type": "error",
     "traceback": [
      "\u001b[1;31m---------------------------------------------------------------------------\u001b[0m",
      "\u001b[1;31mNameError\u001b[0m                                 Traceback (most recent call last)",
      "Cell \u001b[1;32mIn[3], line 2\u001b[0m\n\u001b[0;32m      1\u001b[0m \u001b[38;5;66;03m# Performing ANOVA test\u001b[39;00m\n\u001b[1;32m----> 2\u001b[0m result \u001b[38;5;241m=\u001b[39m \u001b[43mf_oneway\u001b[49m(\n\u001b[0;32m      3\u001b[0m     df[\u001b[38;5;124m'\u001b[39m\u001b[38;5;124mrevenue\u001b[39m\u001b[38;5;124m'\u001b[39m][df[\u001b[38;5;124m'\u001b[39m\u001b[38;5;124mcertification\u001b[39m\u001b[38;5;124m'\u001b[39m] \u001b[38;5;241m==\u001b[39m \u001b[38;5;124m'\u001b[39m\u001b[38;5;124mG\u001b[39m\u001b[38;5;124m'\u001b[39m],\n\u001b[0;32m      4\u001b[0m     df[\u001b[38;5;124m'\u001b[39m\u001b[38;5;124mrevenue\u001b[39m\u001b[38;5;124m'\u001b[39m][df[\u001b[38;5;124m'\u001b[39m\u001b[38;5;124mcertification\u001b[39m\u001b[38;5;124m'\u001b[39m] \u001b[38;5;241m==\u001b[39m \u001b[38;5;124m'\u001b[39m\u001b[38;5;124mPG\u001b[39m\u001b[38;5;124m'\u001b[39m],\n\u001b[0;32m      5\u001b[0m     df[\u001b[38;5;124m'\u001b[39m\u001b[38;5;124mrevenue\u001b[39m\u001b[38;5;124m'\u001b[39m][df[\u001b[38;5;124m'\u001b[39m\u001b[38;5;124mcertification\u001b[39m\u001b[38;5;124m'\u001b[39m] \u001b[38;5;241m==\u001b[39m \u001b[38;5;124m'\u001b[39m\u001b[38;5;124mPG-13\u001b[39m\u001b[38;5;124m'\u001b[39m],\n\u001b[0;32m      6\u001b[0m     df[\u001b[38;5;124m'\u001b[39m\u001b[38;5;124mrevenue\u001b[39m\u001b[38;5;124m'\u001b[39m][df[\u001b[38;5;124m'\u001b[39m\u001b[38;5;124mcertification\u001b[39m\u001b[38;5;124m'\u001b[39m] \u001b[38;5;241m==\u001b[39m \u001b[38;5;124m'\u001b[39m\u001b[38;5;124mR\u001b[39m\u001b[38;5;124m'\u001b[39m])\n",
      "\u001b[1;31mNameError\u001b[0m: name 'f_oneway' is not defined"
     ]
    }
   ],
   "source": [
    "# Performing ANOVA test\n",
    "result = f_oneway(\n",
    "    df['revenue'][df['certification'] == 'G'],\n",
    "    df['revenue'][df['certification'] == 'PG'],\n",
    "    df['revenue'][df['certification'] == 'PG-13'],\n",
    "    df['revenue'][df['certification'] == 'R'])"
   ]
  },
  {
   "cell_type": "code",
   "execution_count": null,
   "id": "c651ec93-4c55-4af2-9104-d0329daa6116",
   "metadata": {},
   "outputs": [],
   "source": [
    "p_value = result.pvalue"
   ]
  },
  {
   "cell_type": "code",
   "execution_count": null,
   "id": "21f4b714-b2c0-4aa9-864e-1de2016afa49",
   "metadata": {},
   "outputs": [],
   "source": [
    "# Reporting if there is a significant difference\n",
    "if p_value < 0.05:\n",
    "    print(\"There is a significant difference in revenue among certifications.\")\n",
    "else:\n",
    "    print(\"There is no significant difference in revenue among certifications.\")"
   ]
  },
  {
   "cell_type": "code",
   "execution_count": null,
   "id": "da0f5398-4274-47f8-b37a-e2e326cf9946",
   "metadata": {},
   "outputs": [],
   "source": [
    "# Bar Plot\n",
    "average_revenue_by_certification = df.groupby('certification')['revenue'].mean().reset_index()\n",
    "\n",
    "plt.figure(figsize=(10, 6))\n",
    "plt.bar(average_revenue_by_certification['certification'], average_revenue_by_certification['revenue'])\n",
    "plt.xlabel('Certification')\n",
    "plt.ylabel('Average Revenue')\n",
    "plt.title('Average Revenue by Certification')\n",
    "plt.xticks(rotation=45, ha='right')\n",
    "plt.tight_layout()\n",
    "plt.show()"
   ]
  },
  {
   "cell_type": "code",
   "execution_count": null,
   "id": "5ad38d97-821d-469e-abf5-84232cb555d8",
   "metadata": {},
   "outputs": [],
   "source": []
  },
  {
   "cell_type": "markdown",
   "id": "3d6778b8-7932-4d41-bc63-54844d70fd89",
   "metadata": {},
   "source": [
    "### 2. Do movies that are over 2.5 hours long earn more revenue than movies that are 1.5 hours long (or less)?"
   ]
  },
  {
   "cell_type": "markdown",
   "id": "a916c1bd-4d82-4e78-916e-0a5cf2c67d4e",
   "metadata": {},
   "source": [
    "Do movies released in 2020 earn less revenue than movies released in 2018?\r\n",
    "How do the years compare for movie ratings?"
   ]
  },
  {
   "cell_type": "markdown",
   "id": "cbce7eff-54a9-4e76-8e7c-0e46ca9cf40d",
   "metadata": {},
   "source": [
    "Do some movie genres earn more revenue than others?"
   ]
  },
  {
   "cell_type": "markdown",
   "id": "f67ead6b-147f-452a-b6e2-49594ecbd30c",
   "metadata": {},
   "source": [
    "Are some genres higher rated than others?"
   ]
  },
  {
   "cell_type": "markdown",
   "id": "460e2a4f-cecb-4d22-9f0b-b4f5f68b2239",
   "metadata": {},
   "source": [
    "## <u>Specifications"
   ]
  },
  {
   "cell_type": "markdown",
   "id": "ee7eca11-d689-4811-96bd-3a264f256ec3",
   "metadata": {},
   "source": [
    "However, trying to extract the TMDB data for all movies from 2000-2022 could take >24 hours!"
   ]
  },
  {
   "cell_type": "markdown",
   "id": "2c942667-04ef-4616-87c5-19bbfd4c85dd",
   "metadata": {},
   "source": [
    "* Define a smaller (but logical) period of time to use for your analyses (e.g., last 10 years, 2010-2019 (pre-pandemic, etc)."
   ]
  },
  {
   "cell_type": "markdown",
   "id": "751a52c2-f1c2-4336-aa67-f7c1928e8e31",
   "metadata": {},
   "source": [
    "* OR coordinate with cohort-mates and divide the API calls so that you can all download the data for a smaller number of years and then share your downloaded JSON data."
   ]
  },
  {
   "cell_type": "markdown",
   "id": "5d439d98-96bd-4233-b7a9-18914be840ff",
   "metadata": {},
   "source": [
    "## <u>Deliverables"
   ]
  },
  {
   "cell_type": "code",
   "execution_count": null,
   "id": "7aac9a4f-28d6-4fb9-b912-45343f0da51e",
   "metadata": {},
   "outputs": [],
   "source": []
  },
  {
   "cell_type": "code",
   "execution_count": null,
   "id": "55b67e52-be9f-4d8c-9907-bbe6e79cf7ad",
   "metadata": {},
   "outputs": [],
   "source": []
  },
  {
   "cell_type": "code",
   "execution_count": null,
   "id": "b6ea3da5-f243-4aeb-9cef-8e1bece22d03",
   "metadata": {},
   "outputs": [],
   "source": []
  },
  {
   "cell_type": "code",
   "execution_count": null,
   "id": "20b990f8-d83d-4420-884e-ef9ca0670967",
   "metadata": {},
   "outputs": [],
   "source": []
  },
  {
   "cell_type": "code",
   "execution_count": null,
   "id": "149d1b18-86e6-4ac5-bed9-bee86e4aed39",
   "metadata": {},
   "outputs": [],
   "source": []
  },
  {
   "cell_type": "code",
   "execution_count": null,
   "id": "53d915dc-2557-475a-b19c-648ee6873fc6",
   "metadata": {},
   "outputs": [],
   "source": []
  }
 ],
 "metadata": {
  "kernelspec": {
   "display_name": "Python 3 (ipykernel)",
   "language": "python",
   "name": "python3"
  },
  "language_info": {
   "codemirror_mode": {
    "name": "ipython",
    "version": 3
   },
   "file_extension": ".py",
   "mimetype": "text/x-python",
   "name": "python",
   "nbconvert_exporter": "python",
   "pygments_lexer": "ipython3",
   "version": "3.10.10"
  },
  "widgets": {
   "application/vnd.jupyter.widget-state+json": {
    "state": {},
    "version_major": 2,
    "version_minor": 0
   }
  }
 },
 "nbformat": 4,
 "nbformat_minor": 5
}
