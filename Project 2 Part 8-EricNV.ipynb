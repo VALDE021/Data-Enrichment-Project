{
 "cells": [
  {
   "cell_type": "markdown",
   "id": "6328b742-d978-4bad-aba2-160bfdf8c9fe",
   "metadata": {},
   "source": [
    "# <center><u>Project 2 - Part 8 (Core)\n",
    "- Authored by: Eric N. Valdez\n",
    "- Date: 04/21/2024"
   ]
  },
  {
   "cell_type": "markdown",
   "id": "6223d2ae-a148-488b-97cb-9bcfcba546f7",
   "metadata": {},
   "source": [
    "- Construct a Multi-Page app.\n",
    "    - Create a new pages folder and move your previous apps from Project 2 - Part 7 into this folder.\n",
    "    - Create a new app to serve as the main/home page.\n",
    "        - Include your name & email, links to your professional profile (e.g. LinkedIn), GitHub profile, etc.\n",
    "        - Include a short project description/summary\n",
    "- Create an EDA NLP app that includes one or more of the following:\n",
    "    - WordClouds\n",
    "    - FreqDist Plots\n",
    "    - n-grams\n",
    "    - Scattertext\n",
    "- Add your EDA NLP app to your pages folder."
   ]
  },
  {
   "cell_type": "markdown",
   "id": "462d8f40-d9c9-4281-8a34-46a98927860a",
   "metadata": {},
   "source": [
    "### `Deploy`\n",
    "- Run pipreqs to generate requirements.txt\n",
    "- Deploy your app with streamlit (Make sure its visible to the public)\n",
    "\n",
    "### `Update Project Repo`\n",
    "- Add a screenshot of your app and the link to your project README"
   ]
  },
  {
   "cell_type": "markdown",
   "id": "f5d1594e-e7eb-4fc0-99a0-771e3d921a1e",
   "metadata": {},
   "source": [
    "## LinkedIn"
   ]
  },
  {
   "cell_type": "markdown",
   "id": "8e3c959c-cc35-42aa-8433-c80ececada1f",
   "metadata": {},
   "source": [
    "### Professional Information\n",
    "[Eric N Valdez](https://www.linkedin.com/in/eric-n-valdez-94a9003/)"
   ]
  },
  {
   "cell_type": "markdown",
   "id": "e628b10c-fc3c-410c-b289-6b03c1edf597",
   "metadata": {},
   "source": [
    "## GitHub Information:\n",
    "[GitHub](https://github.com/VALDE021)"
   ]
  }
 ],
 "metadata": {
  "kernelspec": {
   "display_name": "Python (dojo-env)",
   "language": "python",
   "name": "dojo-env"
  },
  "language_info": {
   "codemirror_mode": {
    "name": "ipython",
    "version": 3
   },
   "file_extension": ".py",
   "mimetype": "text/x-python",
   "name": "python",
   "nbconvert_exporter": "python",
   "pygments_lexer": "ipython3",
   "version": "3.10.11"
  },
  "widgets": {
   "application/vnd.jupyter.widget-state+json": {
    "state": {},
    "version_major": 2,
    "version_minor": 0
   }
  }
 },
 "nbformat": 4,
 "nbformat_minor": 5
}
