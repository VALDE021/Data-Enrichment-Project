{
 "cells": [
  {
   "cell_type": "markdown",
   "id": "deb8f5b9-4b3b-4312-b45a-92e9b67c77a0",
   "metadata": {},
   "source": [
    "# <u><center>Project 2 Part 6 Core\n",
    "- Authored by: Eric N. Valdez\n",
    "- Date: 4/12/2024"
   ]
  },
  {
   "cell_type": "markdown",
   "id": "dbcf16bd-8439-42f6-98e1-ba4109fde4da",
   "metadata": {},
   "source": [
    "## <u>Instructions\n",
    "For this part of the project, you will be using machine learning and deep NLP to classify the reviews."
   ]
  },
  {
   "cell_type": "markdown",
   "id": "a9be9e68-5e53-44d7-97b6-9d218e7de7b1",
   "metadata": {},
   "source": [
    "# Imports:"
   ]
  },
  {
   "cell_type": "code",
   "execution_count": null,
   "id": "87ab6425-6c58-4835-9705-f1e0c809483f",
   "metadata": {},
   "outputs": [],
   "source": [
    "import joblib\n",
    "%load_ext autoreload\n",
    "%autoreload 2\n",
    "import movie_functions as fn"
   ]
  },
  {
   "cell_type": "markdown",
   "id": "2bce3ba3-29e8-4ab5-8fc9-ad256d6125b4",
   "metadata": {},
   "source": [
    "# Load and Clean Data\n",
    "- Use the original review column as your X and the classification target (High/Low Rating Reviews) as your y:"
   ]
  },
  {
   "cell_type": "code",
   "execution_count": null,
   "id": "9f22a6b3-bf19-4198-a505-f8d56e12273d",
   "metadata": {},
   "outputs": [],
   "source": [
    "# loading the joblib from part 5 of the project\n",
    "df = joblib.load('Data-NLP/processed_data.joblib')\n",
    "df.info()\n",
    "df.head()"
   ]
  },
  {
   "cell_type": "code",
   "execution_count": null,
   "id": "6a3d2751-cbc7-4fa7-b7a0-17a7f780b711",
   "metadata": {},
   "outputs": [],
   "source": [
    "def create_groups(x):\n",
    "    if x>=5.0:\n",
    "        return \"None\"\n",
    "    elif x <=9.0:\n",
    "        return \"None\"\n",
    "    elif x >=9.0: \n",
    "        return \"High\"\n",
    "    elif x<=4.0:\n",
    "        return \"Low\""
   ]
  },
  {
   "cell_type": "code",
   "execution_count": null,
   "id": "0cfc9d08-b958-41e6-9e0f-4470c0bb8c6c",
   "metadata": {},
   "outputs": [],
   "source": [
    "# Use the function to create a new \"rating\" column with groups\n",
    "df['no_rating'] = df['rating'].map(create_groups)\n",
    "df['no_rating'].value_counts(dropna=False)"
   ]
  },
  {
   "cell_type": "code",
   "execution_count": null,
   "id": "85440cb1-999f-4338-8ca5-4f7313ed1bb5",
   "metadata": {},
   "outputs": [],
   "source": [
    "## Check class balance of 'rating'\n",
    "df['ratings'].value_counts(normalize=True)"
   ]
  },
  {
   "cell_type": "code",
   "execution_count": null,
   "id": "e5f526ba-7a21-4bc1-a8df-fb23c858a275",
   "metadata": {},
   "outputs": [],
   "source": [
    "# Create a df_ml without null ratings\n",
    "df = df.dropna(subset=['ratings']).copy()\n",
    "df.isna().sum()"
   ]
  },
  {
   "cell_type": "code",
   "execution_count": null,
   "id": "3d447bc8-30b8-4bce-9cfe-7c8e7d94e1a1",
   "metadata": {},
   "outputs": [],
   "source": [
    "df.head()"
   ]
  },
  {
   "cell_type": "code",
   "execution_count": null,
   "id": "469e26eb-e97c-4af2-9f06-0ef7fd2fc9da",
   "metadata": {},
   "outputs": [],
   "source": [
    "# Drop a column\n",
    "df.drop(columns=['no_rating'], inplace=True)\n",
    "df.head()"
   ]
  },
  {
   "cell_type": "code",
   "execution_count": null,
   "id": "cfe396f4-482b-47da-8a84-39830594b82f",
   "metadata": {},
   "outputs": [],
   "source": [
    "# # Define X and y\n",
    "X = df['review']\n",
    "y = df['ratings']\n",
    "\n",
    "X.head()"
   ]
  },
  {
   "cell_type": "code",
   "execution_count": null,
   "id": "6a0cab87-0ca7-4bc4-ab90-ad3382ed2e87",
   "metadata": {},
   "outputs": [],
   "source": [
    "y.value_counts(normalize=True)"
   ]
  },
  {
   "cell_type": "markdown",
   "id": "567c9418-e95f-4581-a4dd-022bdd1734ae",
   "metadata": {},
   "source": [
    "# Machine Learning:\n",
    "- For this project, you will use modeling pipelines with the text vectorizer and model in the same pipeline.\n",
    "- This will make saving and uploading the models in a deployed application very easy."
   ]
  },
  {
   "cell_type": "markdown",
   "id": "5ec821d3-d41a-43b1-80c4-1543c98b6d6a",
   "metadata": {},
   "source": [
    "## `Create a Text Vectorizer`\n",
    "- Select a sklearn vectorizer for your task.\n",
    "    - Remember to consider your preprocessing choices, such as using stopwords, ngram_range, etc."
   ]
  },
  {
   "cell_type": "code",
   "execution_count": null,
   "id": "744caf09-247d-48ef-afc6-f40825c719a6",
   "metadata": {},
   "outputs": [],
   "source": [
    "# Split data into train, test, val\n",
    "from sklearn.model_selection import train_test_split\n",
    "\n",
    "# Create a 70/30 train-split \n",
    "X_train_full, X_test, y_train_full, y_test = train_test_split(X, y, test_size=.3, random_state=42)\n",
    "X_val, X_test, y_val, y_test = train_test_split(X_test, y_test, test_size=.5, random_state=42)\n",
    "\n",
    "#\n",
    "(len(X_train_full), len(X_val), len(X_test))"
   ]
  },
  {
   "cell_type": "code",
   "execution_count": null,
   "id": "8ee6f72d-9fbc-4f01-aae8-789ce1a064cc",
   "metadata": {},
   "outputs": [],
   "source": [
    "# Check class balance\n",
    "y_train_full.value_counts(normalize=True)"
   ]
  },
  {
   "cell_type": "code",
   "execution_count": null,
   "id": "adecdb29-4a11-4831-ad64-92cc13ea3608",
   "metadata": {},
   "outputs": [],
   "source": [
    "# Instantiate a RandomUnderSampler\n",
    "sampler = fn.RandomUnderSampler(random_state=42)\n",
    "\n",
    "# Fit_resample on the reshaped X_train data and y-train data\n",
    "X_train, y_train = sampler.fit_resample(X_train_full.values.reshape(-1,1),y_train_full)\n",
    "\n",
    "# Flatten the reshaped X_train data back to 1D\n",
    "X_train = X_train.flatten()\n",
    "\n",
    "# Check for class balance\n",
    "y_train.value_counts()"
   ]
  },
  {
   "cell_type": "code",
   "execution_count": null,
   "id": "80f1a481-08c1-4915-8517-b5aea0b0bb05",
   "metadata": {},
   "outputs": [],
   "source": [
    "from sklearn.feature_extraction.text import CountVectorizer, TfidfVectorizer\n",
    "## Instantiate CountVectorizer\n",
    "countvector = CountVectorizer()#min_df=3, ngram_range=(1,2))\n",
    "countvector.fit(X_train)\n",
    "\n",
    "# Transform X_train to see the result (for demo only)\n",
    "countvector.transform(X_train)"
   ]
  },
  {
   "cell_type": "code",
   "execution_count": null,
   "id": "ad982393-8348-4a58-833f-6035d26f99c1",
   "metadata": {},
   "outputs": [],
   "source": [
    "from sklearn.naive_bayes import MultinomialNB\n",
    "## Create a model pipeline \n",
    "nbayes = MultinomialNB()\n",
    "\n",
    "count_pipe = fn.Pipeline([('vectorizer', countvector), \n",
    "                       ('bayes', nbayes)])\n",
    "\n",
    "count_pipe.fit(X_train, y_train)"
   ]
  },
  {
   "cell_type": "code",
   "execution_count": null,
   "id": "48cb258c-16be-498b-a020-b3c4ddba4805",
   "metadata": {},
   "outputs": [],
   "source": [
    "# Evaluate count_pipe\n",
    "fn.evaluate_classification(count_pipe, X_train, y_train, X_test, y_test)"
   ]
  },
  {
   "cell_type": "code",
   "execution_count": null,
   "id": "a5f3c1b2-a429-4f25-84d0-39b834dc23ac",
   "metadata": {},
   "outputs": [],
   "source": [
    "# Instantiate TF-IDF Vectorizor\n",
    "tfidf = TfidfVectorizer()\n",
    "\n",
    "## Instantiate model\n",
    "tfidfbayes = MultinomialNB()\n",
    "\n",
    "\n",
    "## Create pipeline: tfidf_pipe\n",
    "tfidf_pipe = fn.Pipeline([('vectorizer', tfidf),\n",
    "                       ('bayes', tfidfbayes)])\n",
    "\n",
    "\n",
    "\n",
    "## Fit pipeline\n",
    "tfidf_pipe.fit(X_train, y_train)\n",
    "                      "
   ]
  },
  {
   "cell_type": "code",
   "execution_count": null,
   "id": "c2ec7602-7b28-4b77-a982-164561b0a33d",
   "metadata": {},
   "outputs": [],
   "source": [
    "# Evaluate the tfidf_pipeline model\n",
    "fn.evaluate_classification(tfidf_pipe, X_train, y_train, X_test, y_test)"
   ]
  },
  {
   "cell_type": "markdown",
   "id": "6fd60383-65f6-4829-a60e-b5ff670f0f21",
   "metadata": {},
   "source": [
    "## `Build a Machine Learning Model`\n",
    "- Build a sklearn modeling pipeline with a text vectorizer and a classification model.\n",
    "    - Suggested Models: MultinomialNB, LogisticRegression (you may need to increase max_iter), RandomForestClassifier\n",
    "- Fit and evaluate the model using the machine learning classification models from sklearn.\n",
    "    - In a Markdown cell, document your observations from your results. (e.g., how good is the model overall? Is it particularly good/bad at predicting one class?)"
   ]
  },
  {
   "cell_type": "code",
   "execution_count": null,
   "id": "57a81906-d01a-4603-bff9-7a04e57c6dfb",
   "metadata": {},
   "outputs": [],
   "source": [
    "from sklearn.ensemble import RandomForestClassifier\n",
    "rf_pipe  = fn.Pipeline([('vectorizer',CountVectorizer()),\n",
    "                    ('clf',RandomForestClassifier(class_weight='balanced'))])\n",
    "rf_pipe.get_params()"
   ]
  },
  {
   "cell_type": "code",
   "execution_count": null,
   "id": "a36a8bea-0244-4267-a12a-11ad9b14c899",
   "metadata": {},
   "outputs": [],
   "source": [
    "%%time\n",
    "# Create grid search\n",
    "grid_search = fn.GridSearchCV(rf_pipe, params_combined, cv=3, verbose=1, n_jobs=-1)\n",
    "    \n",
    "    \n",
    "# Fit the model\n",
    "grid_search.fit(X_train, y_train)\n",
    "grid_search.best_params_"
   ]
  },
  {
   "cell_type": "code",
   "execution_count": null,
   "id": "46b3cd43-893c-4266-9993-10af2f25e4f9",
   "metadata": {},
   "outputs": [],
   "source": [
    "best_rf_pipe = grid_search.best_estimator_\n",
    "fn.evaluate_classification(best_rf_pipe, X_train, y_train, X_test, y_test)"
   ]
  },
  {
   "cell_type": "markdown",
   "id": "338356a1-3b72-4197-a49e-d0be50f22386",
   "metadata": {},
   "source": [
    "## `GridSearch Text Vectorization`\n",
    "- Attempt to improve your model by tuning the text preprocessing steps."
   ]
  },
  {
   "cell_type": "code",
   "execution_count": null,
   "id": "554a47e6-5c50-4826-b75c-ea9d96c24192",
   "metadata": {},
   "outputs": [],
   "source": [
    "gs_pipe = Pipeline([('vectorizer',CountVectorizer()),\n",
    "                    ('clf',MultinomialNB())])\n",
    "gs_pipe.get_params()"
   ]
  },
  {
   "cell_type": "code",
   "execution_count": null,
   "id": "375332eb-e167-4569-bf60-6cd8679537b2",
   "metadata": {},
   "outputs": [],
   "source": [
    "# Define params to try for both vectorizers\n",
    "param_grid_shared = {\n",
    "    \"vectorizer__max_df\": [0.7, 0.8, 0.9],\n",
    "    'vectorizer__min_df': [ 2, 3, 4 ], \n",
    "    \"vectorizer__max_features\": [None, 1000, 2000],\n",
    "    \"vectorizer__stop_words\": [None,'english']\n",
    "}\n",
    "\n",
    "# Setting params for the count vectorizer\n",
    "param_grid_count = {\n",
    "    'vectorizer':[CountVectorizer()],\n",
    "    **param_grid_shared\n",
    "}\n",
    "\n",
    "\n",
    "# Setting params for tfidf vectorizer \n",
    "param_grid_tfidf = {\n",
    "    'vectorizer': [TfidfVectorizer()],\n",
    "    \"vectorizer__norm\": [\"l1\", \"l2\"],\n",
    "    \"vectorizer__use_idf\": [True, False],\n",
    "    **param_grid_shared\n",
    "}\n",
    "\n",
    "# combine into list of params\n",
    "params_combined = [param_grid_count, param_grid_tfidf]\n",
    "params_combined"
   ]
  },
  {
   "cell_type": "code",
   "execution_count": null,
   "id": "2177a6bd-1c9f-4f56-9f47-2684dd26d659",
   "metadata": {},
   "outputs": [],
   "source": [
    "%%time\n",
    "# Create grid search\n",
    "grid_search = GridSearchCV(gs_pipe, params_combined, cv=3, verbose=1, n_jobs=-1)\n",
    "    \n",
    "    \n",
    "# Fit the model\n",
    "grid_search.fit(X_train, y_train)\n",
    "grid_search.best_params_"
   ]
  },
  {
   "cell_type": "code",
   "execution_count": null,
   "id": "24fe131c-dcdd-457a-b4b5-07ac56241a2e",
   "metadata": {},
   "outputs": [],
   "source": [
    "# Evaluate the best estimator\n",
    "best_gs_pipe = grid_search.best_estimator_\n",
    "evaluate_classification(best_gs_pipe, X_train, y_train, X_test, y_test)"
   ]
  },
  {
   "cell_type": "markdown",
   "id": "38bf232c-2c70-4e68-af46-34e01491613a",
   "metadata": {},
   "source": [
    "### `Construct a grid of parameters for the text vectorization step. Consider trying:`"
   ]
  },
  {
   "cell_type": "code",
   "execution_count": null,
   "id": "a7e9530e-729f-4085-9e35-388dfcf07042",
   "metadata": {},
   "outputs": [],
   "source": [
    "# CountVectorizer/TfidVectorizer"
   ]
  },
  {
   "cell_type": "code",
   "execution_count": null,
   "id": "fa20b437-14c8-40f6-b3c6-5351e48001f5",
   "metadata": {},
   "outputs": [],
   "source": [
    "# Stopwords"
   ]
  },
  {
   "cell_type": "code",
   "execution_count": null,
   "id": "fc26940d-8d20-4cef-abbf-8665acb56d23",
   "metadata": {},
   "outputs": [],
   "source": [
    "# Ngrams_range"
   ]
  },
  {
   "cell_type": "code",
   "execution_count": null,
   "id": "d4eb1d59-75f6-4f21-84dc-3e3806a7481b",
   "metadata": {},
   "outputs": [],
   "source": [
    "# Min_df/max_df"
   ]
  },
  {
   "cell_type": "markdown",
   "id": "3f60638a-7247-4edf-9bcd-8681f2320cc9",
   "metadata": {},
   "source": [
    "### `Fit and evaluate the grid search results:`"
   ]
  },
  {
   "cell_type": "code",
   "execution_count": null,
   "id": "238cf4c4-facc-48d0-8a50-2ce3db044f9c",
   "metadata": {},
   "outputs": [],
   "source": [
    "# What were the best parameters?\n"
   ]
  },
  {
   "cell_type": "code",
   "execution_count": null,
   "id": "fe6a4efb-9401-4f18-9732-d7e3f564f7ef",
   "metadata": {},
   "outputs": [],
   "source": [
    "# How does the best estimator perform when evaluated on the training and test data?"
   ]
  },
  {
   "cell_type": "code",
   "execution_count": null,
   "id": "25814293-c4fa-455e-8127-25505670f0a1",
   "metadata": {},
   "outputs": [],
   "source": []
  },
  {
   "cell_type": "code",
   "execution_count": null,
   "id": "2d8f8160-c2dd-406f-b932-9881bd9e6649",
   "metadata": {},
   "outputs": [],
   "source": []
  },
  {
   "cell_type": "code",
   "execution_count": null,
   "id": "4299bef1-a134-4dae-8842-6a85c54fb08c",
   "metadata": {},
   "outputs": [],
   "source": []
  },
  {
   "cell_type": "markdown",
   "id": "332075cf-ed78-4d6a-836b-d353549f4dfb",
   "metadata": {},
   "source": [
    "# <u>Deep NLP (RNNs):\n",
    "- For this part of the project, you will use the a Keras TextVectorization layer as part of your RNN model.\n",
    "- This serves the same purpose as using sklearn pipeline:\n",
    "    - `It bundles text preparation into the model, making it deployment-ready."
   ]
  },
  {
   "cell_type": "markdown",
   "id": "b33a56b2-4091-4c62-836f-86ea13668e69",
   "metadata": {},
   "source": [
    "#### Create train/test/val datasets:"
   ]
  },
  {
   "cell_type": "code",
   "execution_count": null,
   "id": "8d4007ef-c8ca-4a86-8c15-25eadae6302a",
   "metadata": {},
   "outputs": [],
   "source": []
  },
  {
   "cell_type": "code",
   "execution_count": null,
   "id": "c0767898-0c85-4517-9b49-5060623cfb67",
   "metadata": {},
   "outputs": [],
   "source": []
  },
  {
   "cell_type": "code",
   "execution_count": null,
   "id": "ff39eaa6-75f6-43b0-9c81-9db16daa238c",
   "metadata": {},
   "outputs": [],
   "source": []
  },
  {
   "cell_type": "markdown",
   "id": "9f5159fb-5127-4514-b038-b4a31deca10f",
   "metadata": {},
   "source": [
    "#### Create a Keras Text Vectorization layer:"
   ]
  },
  {
   "cell_type": "code",
   "execution_count": null,
   "id": "07cbcec3-322f-4088-ade3-327a858469f6",
   "metadata": {},
   "outputs": [],
   "source": []
  },
  {
   "cell_type": "code",
   "execution_count": null,
   "id": "9f226032-2d96-4c95-b455-0e7771036c47",
   "metadata": {},
   "outputs": [],
   "source": []
  },
  {
   "cell_type": "code",
   "execution_count": null,
   "id": "8e535771-3c94-487d-bff5-7d67ff1ab5e0",
   "metadata": {},
   "outputs": [],
   "source": []
  },
  {
   "cell_type": "code",
   "execution_count": null,
   "id": "1f998191-9d61-4ecc-b580-e9890c917376",
   "metadata": {},
   "outputs": [],
   "source": []
  },
  {
   "cell_type": "markdown",
   "id": "7d40ee02-4e2a-42d1-93e9-2f0fc06da4cf",
   "metadata": {},
   "source": [
    "#### Build an RNN with the TextVectorization Layer:"
   ]
  },
  {
   "cell_type": "code",
   "execution_count": null,
   "id": "162b730d-e6e2-4518-a67e-b698c9e012c0",
   "metadata": {},
   "outputs": [],
   "source": []
  },
  {
   "cell_type": "code",
   "execution_count": null,
   "id": "69b2d871-59bd-462c-ac9f-975549a8a4ce",
   "metadata": {},
   "outputs": [],
   "source": []
  },
  {
   "cell_type": "code",
   "execution_count": null,
   "id": "99db3ba7-59bb-40e0-b36b-c1999a56033a",
   "metadata": {},
   "outputs": [],
   "source": []
  },
  {
   "cell_type": "code",
   "execution_count": null,
   "id": "ad83e424-0ea7-4bb0-a70e-af5966c9ffb2",
   "metadata": {},
   "outputs": [],
   "source": []
  },
  {
   "cell_type": "markdown",
   "id": "3f776d61-a6a5-48cb-9227-bb456dae7dd4",
   "metadata": {},
   "source": [
    "#### Deliverables:\n",
    "1. New Notebook file for text classification\n",
    "    - These should be submitted as the link to a repository with an appropriate name `(NOT ProJECT 2)`"
   ]
  },
  {
   "cell_type": "code",
   "execution_count": null,
   "id": "2eccd262-fda6-4e67-ab52-2427a5bbf8f4",
   "metadata": {},
   "outputs": [],
   "source": []
  }
 ],
 "metadata": {
  "kernelspec": {
   "display_name": "Python (dojo-env)",
   "language": "python",
   "name": "dojo-env"
  },
  "language_info": {
   "codemirror_mode": {
    "name": "ipython",
    "version": 3
   },
   "file_extension": ".py",
   "mimetype": "text/x-python",
   "name": "python",
   "nbconvert_exporter": "python",
   "pygments_lexer": "ipython3",
   "version": "3.10.11"
  },
  "widgets": {
   "application/vnd.jupyter.widget-state+json": {
    "state": {},
    "version_major": 2,
    "version_minor": 0
   }
  }
 },
 "nbformat": 4,
 "nbformat_minor": 5
}
