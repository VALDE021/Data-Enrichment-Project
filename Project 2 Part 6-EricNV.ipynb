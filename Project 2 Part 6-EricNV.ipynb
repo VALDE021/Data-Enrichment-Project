{
 "cells": [
  {
   "cell_type": "markdown",
   "id": "deb8f5b9-4b3b-4312-b45a-92e9b67c77a0",
   "metadata": {},
   "source": [
    "# <u><center>Project 2 Part 6 Core\n",
    "- Authored by: Eric N. Valdez\n",
    "- Date: 4/12/2024"
   ]
  },
  {
   "cell_type": "markdown",
   "id": "dbcf16bd-8439-42f6-98e1-ba4109fde4da",
   "metadata": {},
   "source": [
    "## <u>Instructions\n",
    "For this part of the project, you will be using machine learning and deep NLP to classify the reviews."
   ]
  },
  {
   "cell_type": "markdown",
   "id": "a9be9e68-5e53-44d7-97b6-9d218e7de7b1",
   "metadata": {},
   "source": [
    "# Imports:"
   ]
  },
  {
   "cell_type": "code",
   "execution_count": 1,
   "id": "87ab6425-6c58-4835-9705-f1e0c809483f",
   "metadata": {},
   "outputs": [],
   "source": [
    "import joblib\n",
    "%load_ext autoreload\n",
    "%autoreload 2\n",
    "import movie_functions as fn"
   ]
  },
  {
   "cell_type": "markdown",
   "id": "2bce3ba3-29e8-4ab5-8fc9-ad256d6125b4",
   "metadata": {},
   "source": [
    "# Load and Clean Data\n",
    "- Use the original review column as your X and the classification target (High/Low Rating Reviews) as your y:"
   ]
  },
  {
   "cell_type": "code",
   "execution_count": 2,
   "id": "9f22a6b3-bf19-4198-a505-f8d56e12273d",
   "metadata": {},
   "outputs": [
    {
     "name": "stdout",
     "output_type": "stream",
     "text": [
      "<class 'pandas.core.frame.DataFrame'>\n",
      "Int64Index: 8650 entries, 843 to 575264\n",
      "Data columns (total 8 columns):\n",
      " #   Column          Non-Null Count  Dtype  \n",
      "---  ------          --------------  -----  \n",
      " 0   original_title  8650 non-null   object \n",
      " 1   review          8650 non-null   object \n",
      " 2   rating          7454 non-null   float64\n",
      " 3   ratings         2419 non-null   object \n",
      " 4   tokens          8650 non-null   object \n",
      " 5   lemmatized      8650 non-null   object \n",
      " 6   tokens-joined   8650 non-null   object \n",
      " 7   lemmas-joined   8650 non-null   object \n",
      "dtypes: float64(1), object(7)\n",
      "memory usage: 608.2+ KB\n"
     ]
    },
    {
     "data": {
      "text/html": [
       "<div>\n",
       "<style scoped>\n",
       "    .dataframe tbody tr th:only-of-type {\n",
       "        vertical-align: middle;\n",
       "    }\n",
       "\n",
       "    .dataframe tbody tr th {\n",
       "        vertical-align: top;\n",
       "    }\n",
       "\n",
       "    .dataframe thead th {\n",
       "        text-align: right;\n",
       "    }\n",
       "</style>\n",
       "<table border=\"1\" class=\"dataframe\">\n",
       "  <thead>\n",
       "    <tr style=\"text-align: right;\">\n",
       "      <th></th>\n",
       "      <th>original_title</th>\n",
       "      <th>review</th>\n",
       "      <th>rating</th>\n",
       "      <th>ratings</th>\n",
       "      <th>tokens</th>\n",
       "      <th>lemmatized</th>\n",
       "      <th>tokens-joined</th>\n",
       "      <th>lemmas-joined</th>\n",
       "    </tr>\n",
       "    <tr>\n",
       "      <th>movie_id</th>\n",
       "      <th></th>\n",
       "      <th></th>\n",
       "      <th></th>\n",
       "      <th></th>\n",
       "      <th></th>\n",
       "      <th></th>\n",
       "      <th></th>\n",
       "      <th></th>\n",
       "    </tr>\n",
       "  </thead>\n",
       "  <tbody>\n",
       "    <tr>\n",
       "      <th>843</th>\n",
       "      <td>花樣年華</td>\n",
       "      <td>This is a fine piece of cinema from Wong Kar-Wai that tells us a story of two people whom circumstance throws together - but not in a way you might expect. We start with two couples who move into a new building. One a newspaper man with his wife, the other a business executive and his wife. The ...</td>\n",
       "      <td>7.0</td>\n",
       "      <td>None</td>\n",
       "      <td>[fine, piece, cinema, wong, kar, wai, tell, story, people, circumstance, throw, way, expect, start, couple, new, building, newspaper, man, wife, business, executive, wife, businessman, rarely, home, journalist, wife, leave, increasingly, loose, end, long, friendship, develop, usually, noodle, en...</td>\n",
       "      <td>[fine, piece, cinema, wong, kar, wai, tell, story, people, circumstance, throw, way, expect, start, couple, new, building, newspaper, man, wife, business, executive, wife, businessman, rarely, home, journalist, wife, leave, increasingly, loose, end, long, friendship, develop, usually, noodle, en...</td>\n",
       "      <td>fine piece cinema wong kar wai tell story people circumstance throw way expect start couple new building newspaper man wife business executive wife businessman rarely home journalist wife leave increasingly loose end long friendship develop usually noodle entirely platonic relationship solid tru...</td>\n",
       "      <td>fine piece cinema wong kar wai tell story people circumstance throw way expect start couple new building newspaper man wife business executive wife businessman rarely home journalist wife leave increasingly loose end long friendship develop usually noodle entirely platonic relationship solid tru...</td>\n",
       "    </tr>\n",
       "    <tr>\n",
       "      <th>7443</th>\n",
       "      <td>Chicken Run</td>\n",
       "      <td>A guilty pleasure for me personally, as I love both 'The Great Escape' and most of the works I have seen, over the years, from this rightfully-esteemed British animation company. Highly recommended both for children and for adults who enjoy animation.</td>\n",
       "      <td>9.0</td>\n",
       "      <td>High_rating</td>\n",
       "      <td>[guilty, pleasure, personally, love, great, escape, work, see, year, rightfully, esteem, british, animation, company, highly, recommend, child, adult, enjoy, animation]</td>\n",
       "      <td>[guilty, pleasure, personally, love, great, escape, work, see, year, rightfully, esteem, british, animation, company, highly, recommend, child, adult, enjoy, animation]</td>\n",
       "      <td>guilty pleasure personally love great escape work see year rightfully esteem british animation company highly recommend child adult enjoy animation</td>\n",
       "      <td>guilty pleasure personally love great escape work see year rightfully esteem british animation company highly recommend child adult enjoy animation</td>\n",
       "    </tr>\n",
       "    <tr>\n",
       "      <th>7443</th>\n",
       "      <td>Chicken Run</td>\n",
       "      <td>Made my roommate who hates stop-motion animation watched this in 2018 and even he had a good time. It's maybe not as great as I remember thinking it was when I was a little kid, but it still holds up to some degree.\\r\\n\\r\\n_Final rating:★★★ - I liked it. Would personally recommend you give it a ...</td>\n",
       "      <td>6.0</td>\n",
       "      <td>None</td>\n",
       "      <td>[roommate, hate, stop, motion, animation, watch, 2018, good, time, maybe, great, remember, think, little, kid, hold, degree, final, rating, ★, ★, ★, like, personally, recommend]</td>\n",
       "      <td>[roommate, hate, stop, motion, animation, watch, 2018, good, time, maybe, great, remember, think, little, kid, hold, degree, final, rating, ★, ★, ★, like, personally, recommend]</td>\n",
       "      <td>roommate hate stop motion animation watch 2018 good time maybe great remember think little kid hold degree final rating ★ ★ ★ like personally recommend</td>\n",
       "      <td>roommate hate stop motion animation watch 2018 good time maybe great remember think little kid hold degree final rating ★ ★ ★ like personally recommend</td>\n",
       "    </tr>\n",
       "    <tr>\n",
       "      <th>7443</th>\n",
       "      <td>Chicken Run</td>\n",
       "      <td>A very good stop-motion animation!\\r\\n\\r\\n&lt;em&gt;'Chicken Run'&lt;/em&gt;, which I watched a crap tonne when I was little but not for a vast number of years now, is an impressive production given it came out in 2000. Despite a pretty simple feel to the film, it's a very well developed concept.\\r\\n\\r\\nThe...</td>\n",
       "      <td>8.0</td>\n",
       "      <td>None</td>\n",
       "      <td>[good, stop, motion, animation, &lt;, em&gt;'chicken, run'&lt;/em, &gt;, watch, crap, tonne, little, vast, number, year, impressive, production, give, come, 2000, despite, pretty, simple, feel, film, develop, concept, admittedly, short, run, time, truly, fly, course, look, relatively, terrific, impress, pac...</td>\n",
       "      <td>[good, stop, motion, animation, &lt;, em&gt;'chicken, run'&lt;/em, &gt;, watch, crap, tonne, little, vast, number, year, impressive, production, give, come, 2000, despite, pretty, simple, feel, film, develop, concept, admittedly, short, run, time, truly, fly, course, look, relatively, terrific, impress, pac...</td>\n",
       "      <td>good stop motion animation &lt; em&gt;'chicken run'&lt;/em &gt; watch crap tonne little vast number year impressive production give come 2000 despite pretty simple feel film develop concept admittedly short run time truly fly course look relatively terrific impress pacing clean cast julia sawalha definite s...</td>\n",
       "      <td>good stop motion animation &lt; em&gt;'chicken run'&lt;/em &gt; watch crap tonne little vast number year impressive production give come 2000 despite pretty simple feel film develop concept admittedly short run time truly fly course look relatively terrific impress pacing clean cast julia sawalha definite s...</td>\n",
       "    </tr>\n",
       "    <tr>\n",
       "      <th>7443</th>\n",
       "      <td>Chicken Run</td>\n",
       "      <td>Ok, there is an huge temptation to riddle this review with puns - but I'm just going to say it's a cracking little family adventure. It's seemingly based on a whole range of classic movies from the \"Great Escape\", \"Star Trek\" to \"Love Story\" with a score cannibalised from just about any/everythi...</td>\n",
       "      <td>7.0</td>\n",
       "      <td>None</td>\n",
       "      <td>[ok, huge, temptation, riddle, review, pun, go, crack, little, family, adventure, seemingly, base, range, classic, movie, great, escape, star, trek, love, story, score, cannibalise, write, messrs., korngold, williams, bernstein, add, super, stop, motion, animation, ray, harryhausen, proud, flock...</td>\n",
       "      <td>[ok, huge, temptation, riddle, review, pun, go, crack, little, family, adventure, seemingly, base, range, classic, movie, great, escape, star, trek, love, story, score, cannibalise, write, messrs., korngold, williams, bernstein, add, super, stop, motion, animation, ray, harryhausen, proud, flock...</td>\n",
       "      <td>ok huge temptation riddle review pun go crack little family adventure seemingly base range classic movie great escape star trek love story score cannibalise write messrs. korngold williams bernstein add super stop motion animation ray harryhausen proud flock chicken relentlessly exploit egg evil...</td>\n",
       "      <td>ok huge temptation riddle review pun go crack little family adventure seemingly base range classic movie great escape star trek love story score cannibalise write messrs. korngold williams bernstein add super stop motion animation ray harryhausen proud flock chicken relentlessly exploit egg evil...</td>\n",
       "    </tr>\n",
       "  </tbody>\n",
       "</table>\n",
       "</div>"
      ],
      "text/plain": [
       "         original_title  \\\n",
       "movie_id                  \n",
       "843                花樣年華   \n",
       "7443        Chicken Run   \n",
       "7443        Chicken Run   \n",
       "7443        Chicken Run   \n",
       "7443        Chicken Run   \n",
       "\n",
       "                                                                                                                                                                                                                                                                                                               review  \\\n",
       "movie_id                                                                                                                                                                                                                                                                                                                \n",
       "843       This is a fine piece of cinema from Wong Kar-Wai that tells us a story of two people whom circumstance throws together - but not in a way you might expect. We start with two couples who move into a new building. One a newspaper man with his wife, the other a business executive and his wife. The ...   \n",
       "7443                                                      A guilty pleasure for me personally, as I love both 'The Great Escape' and most of the works I have seen, over the years, from this rightfully-esteemed British animation company. Highly recommended both for children and for adults who enjoy animation.   \n",
       "7443      Made my roommate who hates stop-motion animation watched this in 2018 and even he had a good time. It's maybe not as great as I remember thinking it was when I was a little kid, but it still holds up to some degree.\\r\\n\\r\\n_Final rating:★★★ - I liked it. Would personally recommend you give it a ...   \n",
       "7443      A very good stop-motion animation!\\r\\n\\r\\n<em>'Chicken Run'</em>, which I watched a crap tonne when I was little but not for a vast number of years now, is an impressive production given it came out in 2000. Despite a pretty simple feel to the film, it's a very well developed concept.\\r\\n\\r\\nThe...   \n",
       "7443      Ok, there is an huge temptation to riddle this review with puns - but I'm just going to say it's a cracking little family adventure. It's seemingly based on a whole range of classic movies from the \"Great Escape\", \"Star Trek\" to \"Love Story\" with a score cannibalised from just about any/everythi...   \n",
       "\n",
       "          rating      ratings  \\\n",
       "movie_id                        \n",
       "843          7.0         None   \n",
       "7443         9.0  High_rating   \n",
       "7443         6.0         None   \n",
       "7443         8.0         None   \n",
       "7443         7.0         None   \n",
       "\n",
       "                                                                                                                                                                                                                                                                                                               tokens  \\\n",
       "movie_id                                                                                                                                                                                                                                                                                                                \n",
       "843       [fine, piece, cinema, wong, kar, wai, tell, story, people, circumstance, throw, way, expect, start, couple, new, building, newspaper, man, wife, business, executive, wife, businessman, rarely, home, journalist, wife, leave, increasingly, loose, end, long, friendship, develop, usually, noodle, en...   \n",
       "7443                                                                                                                                         [guilty, pleasure, personally, love, great, escape, work, see, year, rightfully, esteem, british, animation, company, highly, recommend, child, adult, enjoy, animation]   \n",
       "7443                                                                                                                                [roommate, hate, stop, motion, animation, watch, 2018, good, time, maybe, great, remember, think, little, kid, hold, degree, final, rating, ★, ★, ★, like, personally, recommend]   \n",
       "7443      [good, stop, motion, animation, <, em>'chicken, run'</em, >, watch, crap, tonne, little, vast, number, year, impressive, production, give, come, 2000, despite, pretty, simple, feel, film, develop, concept, admittedly, short, run, time, truly, fly, course, look, relatively, terrific, impress, pac...   \n",
       "7443      [ok, huge, temptation, riddle, review, pun, go, crack, little, family, adventure, seemingly, base, range, classic, movie, great, escape, star, trek, love, story, score, cannibalise, write, messrs., korngold, williams, bernstein, add, super, stop, motion, animation, ray, harryhausen, proud, flock...   \n",
       "\n",
       "                                                                                                                                                                                                                                                                                                           lemmatized  \\\n",
       "movie_id                                                                                                                                                                                                                                                                                                                \n",
       "843       [fine, piece, cinema, wong, kar, wai, tell, story, people, circumstance, throw, way, expect, start, couple, new, building, newspaper, man, wife, business, executive, wife, businessman, rarely, home, journalist, wife, leave, increasingly, loose, end, long, friendship, develop, usually, noodle, en...   \n",
       "7443                                                                                                                                         [guilty, pleasure, personally, love, great, escape, work, see, year, rightfully, esteem, british, animation, company, highly, recommend, child, adult, enjoy, animation]   \n",
       "7443                                                                                                                                [roommate, hate, stop, motion, animation, watch, 2018, good, time, maybe, great, remember, think, little, kid, hold, degree, final, rating, ★, ★, ★, like, personally, recommend]   \n",
       "7443      [good, stop, motion, animation, <, em>'chicken, run'</em, >, watch, crap, tonne, little, vast, number, year, impressive, production, give, come, 2000, despite, pretty, simple, feel, film, develop, concept, admittedly, short, run, time, truly, fly, course, look, relatively, terrific, impress, pac...   \n",
       "7443      [ok, huge, temptation, riddle, review, pun, go, crack, little, family, adventure, seemingly, base, range, classic, movie, great, escape, star, trek, love, story, score, cannibalise, write, messrs., korngold, williams, bernstein, add, super, stop, motion, animation, ray, harryhausen, proud, flock...   \n",
       "\n",
       "                                                                                                                                                                                                                                                                                                        tokens-joined  \\\n",
       "movie_id                                                                                                                                                                                                                                                                                                                \n",
       "843       fine piece cinema wong kar wai tell story people circumstance throw way expect start couple new building newspaper man wife business executive wife businessman rarely home journalist wife leave increasingly loose end long friendship develop usually noodle entirely platonic relationship solid tru...   \n",
       "7443                                                                                                                                                              guilty pleasure personally love great escape work see year rightfully esteem british animation company highly recommend child adult enjoy animation   \n",
       "7443                                                                                                                                                          roommate hate stop motion animation watch 2018 good time maybe great remember think little kid hold degree final rating ★ ★ ★ like personally recommend   \n",
       "7443      good stop motion animation < em>'chicken run'</em > watch crap tonne little vast number year impressive production give come 2000 despite pretty simple feel film develop concept admittedly short run time truly fly course look relatively terrific impress pacing clean cast julia sawalha definite s...   \n",
       "7443      ok huge temptation riddle review pun go crack little family adventure seemingly base range classic movie great escape star trek love story score cannibalise write messrs. korngold williams bernstein add super stop motion animation ray harryhausen proud flock chicken relentlessly exploit egg evil...   \n",
       "\n",
       "                                                                                                                                                                                                                                                                                                        lemmas-joined  \n",
       "movie_id                                                                                                                                                                                                                                                                                                               \n",
       "843       fine piece cinema wong kar wai tell story people circumstance throw way expect start couple new building newspaper man wife business executive wife businessman rarely home journalist wife leave increasingly loose end long friendship develop usually noodle entirely platonic relationship solid tru...  \n",
       "7443                                                                                                                                                              guilty pleasure personally love great escape work see year rightfully esteem british animation company highly recommend child adult enjoy animation  \n",
       "7443                                                                                                                                                          roommate hate stop motion animation watch 2018 good time maybe great remember think little kid hold degree final rating ★ ★ ★ like personally recommend  \n",
       "7443      good stop motion animation < em>'chicken run'</em > watch crap tonne little vast number year impressive production give come 2000 despite pretty simple feel film develop concept admittedly short run time truly fly course look relatively terrific impress pacing clean cast julia sawalha definite s...  \n",
       "7443      ok huge temptation riddle review pun go crack little family adventure seemingly base range classic movie great escape star trek love story score cannibalise write messrs. korngold williams bernstein add super stop motion animation ray harryhausen proud flock chicken relentlessly exploit egg evil...  "
      ]
     },
     "execution_count": 2,
     "metadata": {},
     "output_type": "execute_result"
    }
   ],
   "source": [
    "# loading the joblib from part 5 of the project\n",
    "df = joblib.load('Data-NLP/processed_data.joblib')\n",
    "df.info()\n",
    "df.head()"
   ]
  },
  {
   "cell_type": "code",
   "execution_count": 3,
   "id": "6a3d2751-cbc7-4fa7-b7a0-17a7f780b711",
   "metadata": {},
   "outputs": [],
   "source": [
    "def create_groups(x):\n",
    "    if x>=5.0:\n",
    "        return \"None\"\n",
    "    elif x <=9.0:\n",
    "        return \"None\"\n",
    "    elif x >=9.0: \n",
    "        return \"High\"\n",
    "    elif x<=4.0:\n",
    "        return \"Low\""
   ]
  },
  {
   "cell_type": "code",
   "execution_count": 4,
   "id": "0cfc9d08-b958-41e6-9e0f-4470c0bb8c6c",
   "metadata": {},
   "outputs": [
    {
     "data": {
      "text/plain": [
       "None    7454\n",
       "None    1196\n",
       "Name: no_rating, dtype: int64"
      ]
     },
     "execution_count": 4,
     "metadata": {},
     "output_type": "execute_result"
    }
   ],
   "source": [
    "# Use the function to create a new \"rating\" column with groups\n",
    "df['no_rating'] = df['rating'].map(create_groups)\n",
    "df['no_rating'].value_counts(dropna=False)"
   ]
  },
  {
   "cell_type": "code",
   "execution_count": 5,
   "id": "85440cb1-999f-4338-8ca5-4f7313ed1bb5",
   "metadata": {},
   "outputs": [
    {
     "data": {
      "text/plain": [
       "Low_rating     0.505994\n",
       "High_rating    0.494006\n",
       "Name: ratings, dtype: float64"
      ]
     },
     "execution_count": 5,
     "metadata": {},
     "output_type": "execute_result"
    }
   ],
   "source": [
    "## Check class balance of 'rating'\n",
    "df['ratings'].value_counts(normalize=True)"
   ]
  },
  {
   "cell_type": "code",
   "execution_count": 6,
   "id": "e5f526ba-7a21-4bc1-a8df-fb23c858a275",
   "metadata": {},
   "outputs": [
    {
     "data": {
      "text/plain": [
       "original_title    0\n",
       "review            0\n",
       "rating            0\n",
       "ratings           0\n",
       "tokens            0\n",
       "lemmatized        0\n",
       "tokens-joined     0\n",
       "lemmas-joined     0\n",
       "no_rating         0\n",
       "dtype: int64"
      ]
     },
     "execution_count": 6,
     "metadata": {},
     "output_type": "execute_result"
    }
   ],
   "source": [
    "# Create a df_ml without null ratings\n",
    "df = df.dropna(subset=['ratings']).copy()\n",
    "df.isna().sum()"
   ]
  },
  {
   "cell_type": "code",
   "execution_count": 7,
   "id": "3d447bc8-30b8-4bce-9cfe-7c8e7d94e1a1",
   "metadata": {},
   "outputs": [
    {
     "data": {
      "text/html": [
       "<div>\n",
       "<style scoped>\n",
       "    .dataframe tbody tr th:only-of-type {\n",
       "        vertical-align: middle;\n",
       "    }\n",
       "\n",
       "    .dataframe tbody tr th {\n",
       "        vertical-align: top;\n",
       "    }\n",
       "\n",
       "    .dataframe thead th {\n",
       "        text-align: right;\n",
       "    }\n",
       "</style>\n",
       "<table border=\"1\" class=\"dataframe\">\n",
       "  <thead>\n",
       "    <tr style=\"text-align: right;\">\n",
       "      <th></th>\n",
       "      <th>original_title</th>\n",
       "      <th>review</th>\n",
       "      <th>rating</th>\n",
       "      <th>ratings</th>\n",
       "      <th>tokens</th>\n",
       "      <th>lemmatized</th>\n",
       "      <th>tokens-joined</th>\n",
       "      <th>lemmas-joined</th>\n",
       "      <th>no_rating</th>\n",
       "    </tr>\n",
       "    <tr>\n",
       "      <th>movie_id</th>\n",
       "      <th></th>\n",
       "      <th></th>\n",
       "      <th></th>\n",
       "      <th></th>\n",
       "      <th></th>\n",
       "      <th></th>\n",
       "      <th></th>\n",
       "      <th></th>\n",
       "      <th></th>\n",
       "    </tr>\n",
       "  </thead>\n",
       "  <tbody>\n",
       "    <tr>\n",
       "      <th>7443</th>\n",
       "      <td>Chicken Run</td>\n",
       "      <td>A guilty pleasure for me personally, as I love both 'The Great Escape' and most of the works I have seen, over the years, from this rightfully-esteemed British animation company. Highly recommended both for children and for adults who enjoy animation.</td>\n",
       "      <td>9.0</td>\n",
       "      <td>High_rating</td>\n",
       "      <td>[guilty, pleasure, personally, love, great, escape, work, see, year, rightfully, esteem, british, animation, company, highly, recommend, child, adult, enjoy, animation]</td>\n",
       "      <td>[guilty, pleasure, personally, love, great, escape, work, see, year, rightfully, esteem, british, animation, company, highly, recommend, child, adult, enjoy, animation]</td>\n",
       "      <td>guilty pleasure personally love great escape work see year rightfully esteem british animation company highly recommend child adult enjoy animation</td>\n",
       "      <td>guilty pleasure personally love great escape work see year rightfully esteem british animation company highly recommend child adult enjoy animation</td>\n",
       "      <td>None</td>\n",
       "    </tr>\n",
       "    <tr>\n",
       "      <th>955</th>\n",
       "      <td>Mission: Impossible II</td>\n",
       "      <td>The first underwhelmed me, but this one straight-up bored me. Again, of course seeing Hunt climb a mountain without a harness is impressive sure. And I even quite liked the idea behind the villain of the piece (though even that angle was woefully underdeveloped).\\r\\n\\r\\nEven setting it in predom...</td>\n",
       "      <td>3.0</td>\n",
       "      <td>Low_rating</td>\n",
       "      <td>[underwhelme, straight, bore, course, see, hunt, climb, mountain, harness, impressive, sure, like, idea, villain, piece, angle, woefully, underdeveloped, set, predominantly, australia, grab, attention, say, cause, pretty, biased, come, hear, tell, mission, impossible, ii, low, point, series, enc...</td>\n",
       "      <td>[underwhelme, straight, bore, course, see, hunt, climb, mountain, harness, impressive, sure, like, idea, villain, piece, angle, woefully, underdeveloped, set, predominantly, australia, grab, attention, say, cause, pretty, biased, come, hear, tell, mission, impossible, ii, low, point, series, enc...</td>\n",
       "      <td>underwhelme straight bore course see hunt climb mountain harness impressive sure like idea villain piece angle woefully underdeveloped set predominantly australia grab attention say cause pretty biased come hear tell mission impossible ii low point series encouraging bad know able rogue nation f...</td>\n",
       "      <td>underwhelme straight bore course see hunt climb mountain harness impressive sure like idea villain piece angle woefully underdeveloped set predominantly australia grab attention say cause pretty biased come hear tell mission impossible ii low point series encouraging bad know able rogue nation f...</td>\n",
       "      <td>None</td>\n",
       "    </tr>\n",
       "    <tr>\n",
       "      <th>955</th>\n",
       "      <td>Mission: Impossible II</td>\n",
       "      <td>After quite entertainign Mission Impossible I the second installment turned out ... terrible. As if the screenwriters didn't know how to fill the 2 hrs with action the overuse of heroic slow motion scenes is horrible. You almost might need a barf bag if you can't stand slo-mo every five seconds....</td>\n",
       "      <td>2.0</td>\n",
       "      <td>Low_rating</td>\n",
       "      <td>[entertainign, mission, impossible, second, installment, turn, terrible, screenwriter, know, fill, 2, hrs, action, overuse, heroic, slow, motion, scene, horrible, need, barf, bag, stand, slo, mo, second, 15, second, amazed, decide, push, m, movie, turn, well, hard, beat, lousy, piece, crap, movie]</td>\n",
       "      <td>[entertainign, mission, impossible, second, installment, turn, terrible, screenwriter, know, fill, 2, hrs, action, overuse, heroic, slow, motion, scene, horrible, need, barf, bag, stand, slo, mo, second, 15, second, amazed, decide, push, m, movie, turn, well, hard, beat, lousy, piece, crap, movie]</td>\n",
       "      <td>entertainign mission impossible second installment turn terrible screenwriter know fill 2 hrs action overuse heroic slow motion scene horrible need barf bag stand slo mo second 15 second amazed decide push m movie turn well hard beat lousy piece crap movie</td>\n",
       "      <td>entertainign mission impossible second installment turn terrible screenwriter know fill 2 hrs action overuse heroic slow motion scene horrible need barf bag stand slo mo second 15 second amazed decide push m movie turn well hard beat lousy piece crap movie</td>\n",
       "      <td>None</td>\n",
       "    </tr>\n",
       "    <tr>\n",
       "      <th>2621</th>\n",
       "      <td>Return to Me</td>\n",
       "      <td>Okay, I will admit I can be a bit of an easy grader when it comes to romantic comedies, as long as they are witty with likable characters, don’t insult my intelligence and have suitable happy endings (I guess if they don’t end happily, they aren’t rom-coms).\\r\\n\\r\\nI saw this movie many years ag...</td>\n",
       "      <td>9.0</td>\n",
       "      <td>High_rating</td>\n",
       "      <td>[okay, admit, bit, easy, grader, come, romantic, comedy, long, witty, likable, character, insult, intelligence, suitable, happy, ending, guess, end, happily, rom, com, see, movie, year, ago, forget, fresh, like, movie, plot, rely, huge, coincidence, story, get, sappy, sentimental, place, predict...</td>\n",
       "      <td>[okay, admit, bit, easy, grader, come, romantic, comedy, long, witty, likable, character, insult, intelligence, suitable, happy, ending, guess, end, happily, rom, com, see, movie, year, ago, forget, fresh, like, movie, plot, rely, huge, coincidence, story, get, sappy, sentimental, place, predict...</td>\n",
       "      <td>okay admit bit easy grader come romantic comedy long witty likable character insult intelligence suitable happy ending guess end happily rom com see movie year ago forget fresh like movie plot rely huge coincidence story get sappy sentimental place predictable religion suit thing suit fine prais...</td>\n",
       "      <td>okay admit bit easy grader come romantic comedy long witty likable character insult intelligence suitable happy ending guess end happily rom com see movie year ago forget fresh like movie plot rely huge coincidence story get sappy sentimental place predictable religion suit thing suit fine prais...</td>\n",
       "      <td>None</td>\n",
       "    </tr>\n",
       "    <tr>\n",
       "      <th>4234</th>\n",
       "      <td>Scream 3</td>\n",
       "      <td>**_Scream 3’s_ lackluster screenplay and unimaginative kills leave a film that is a bore to watch.**\\r\\n\\r\\nThe meta-narrative of trilogies throughout the film does not make up for how abysmal the plot was. This film creates so much lore for the past movies seemingly out of the blue, muddling up...</td>\n",
       "      <td>4.0</td>\n",
       "      <td>Low_rating</td>\n",
       "      <td>[scream, 3, lackluster, screenplay, unimaginative, kill, leave, film, bore, watch, meta, narrative, trilogy, film, abysmal, plot, film, create, lore, past, movie, seemingly, blue, muddle, continuity, shock, value, add, little, film, feel, force, entire, plot, point, sidney, mother, hollywood, ac...</td>\n",
       "      <td>[scream, 3, lackluster, screenplay, unimaginative, kill, leave, film, bore, watch, meta, narrative, trilogy, film, abysmal, plot, film, create, lore, past, movie, seemingly, blue, muddle, continuity, shock, value, add, little, film, feel, force, entire, plot, point, sidney, mother, hollywood, ac...</td>\n",
       "      <td>scream 3 lackluster screenplay unimaginative kill leave film bore watch meta narrative trilogy film abysmal plot film create lore past movie seemingly blue muddle continuity shock value add little film feel force entire plot point sidney mother hollywood actress pretty lame especially add plot p...</td>\n",
       "      <td>scream 3 lackluster screenplay unimaginative kill leave film bore watch meta narrative trilogy film abysmal plot film create lore past movie seemingly blue muddle continuity shock value add little film feel force entire plot point sidney mother hollywood actress pretty lame especially add plot p...</td>\n",
       "      <td>None</td>\n",
       "    </tr>\n",
       "  </tbody>\n",
       "</table>\n",
       "</div>"
      ],
      "text/plain": [
       "                  original_title  \\\n",
       "movie_id                           \n",
       "7443                 Chicken Run   \n",
       "955       Mission: Impossible II   \n",
       "955       Mission: Impossible II   \n",
       "2621                Return to Me   \n",
       "4234                    Scream 3   \n",
       "\n",
       "                                                                                                                                                                                                                                                                                                               review  \\\n",
       "movie_id                                                                                                                                                                                                                                                                                                                \n",
       "7443                                                      A guilty pleasure for me personally, as I love both 'The Great Escape' and most of the works I have seen, over the years, from this rightfully-esteemed British animation company. Highly recommended both for children and for adults who enjoy animation.   \n",
       "955       The first underwhelmed me, but this one straight-up bored me. Again, of course seeing Hunt climb a mountain without a harness is impressive sure. And I even quite liked the idea behind the villain of the piece (though even that angle was woefully underdeveloped).\\r\\n\\r\\nEven setting it in predom...   \n",
       "955       After quite entertainign Mission Impossible I the second installment turned out ... terrible. As if the screenwriters didn't know how to fill the 2 hrs with action the overuse of heroic slow motion scenes is horrible. You almost might need a barf bag if you can't stand slo-mo every five seconds....   \n",
       "2621      Okay, I will admit I can be a bit of an easy grader when it comes to romantic comedies, as long as they are witty with likable characters, don’t insult my intelligence and have suitable happy endings (I guess if they don’t end happily, they aren’t rom-coms).\\r\\n\\r\\nI saw this movie many years ag...   \n",
       "4234      **_Scream 3’s_ lackluster screenplay and unimaginative kills leave a film that is a bore to watch.**\\r\\n\\r\\nThe meta-narrative of trilogies throughout the film does not make up for how abysmal the plot was. This film creates so much lore for the past movies seemingly out of the blue, muddling up...   \n",
       "\n",
       "          rating      ratings  \\\n",
       "movie_id                        \n",
       "7443         9.0  High_rating   \n",
       "955          3.0   Low_rating   \n",
       "955          2.0   Low_rating   \n",
       "2621         9.0  High_rating   \n",
       "4234         4.0   Low_rating   \n",
       "\n",
       "                                                                                                                                                                                                                                                                                                               tokens  \\\n",
       "movie_id                                                                                                                                                                                                                                                                                                                \n",
       "7443                                                                                                                                         [guilty, pleasure, personally, love, great, escape, work, see, year, rightfully, esteem, british, animation, company, highly, recommend, child, adult, enjoy, animation]   \n",
       "955       [underwhelme, straight, bore, course, see, hunt, climb, mountain, harness, impressive, sure, like, idea, villain, piece, angle, woefully, underdeveloped, set, predominantly, australia, grab, attention, say, cause, pretty, biased, come, hear, tell, mission, impossible, ii, low, point, series, enc...   \n",
       "955        [entertainign, mission, impossible, second, installment, turn, terrible, screenwriter, know, fill, 2, hrs, action, overuse, heroic, slow, motion, scene, horrible, need, barf, bag, stand, slo, mo, second, 15, second, amazed, decide, push, m, movie, turn, well, hard, beat, lousy, piece, crap, movie]   \n",
       "2621      [okay, admit, bit, easy, grader, come, romantic, comedy, long, witty, likable, character, insult, intelligence, suitable, happy, ending, guess, end, happily, rom, com, see, movie, year, ago, forget, fresh, like, movie, plot, rely, huge, coincidence, story, get, sappy, sentimental, place, predict...   \n",
       "4234      [scream, 3, lackluster, screenplay, unimaginative, kill, leave, film, bore, watch, meta, narrative, trilogy, film, abysmal, plot, film, create, lore, past, movie, seemingly, blue, muddle, continuity, shock, value, add, little, film, feel, force, entire, plot, point, sidney, mother, hollywood, ac...   \n",
       "\n",
       "                                                                                                                                                                                                                                                                                                           lemmatized  \\\n",
       "movie_id                                                                                                                                                                                                                                                                                                                \n",
       "7443                                                                                                                                         [guilty, pleasure, personally, love, great, escape, work, see, year, rightfully, esteem, british, animation, company, highly, recommend, child, adult, enjoy, animation]   \n",
       "955       [underwhelme, straight, bore, course, see, hunt, climb, mountain, harness, impressive, sure, like, idea, villain, piece, angle, woefully, underdeveloped, set, predominantly, australia, grab, attention, say, cause, pretty, biased, come, hear, tell, mission, impossible, ii, low, point, series, enc...   \n",
       "955        [entertainign, mission, impossible, second, installment, turn, terrible, screenwriter, know, fill, 2, hrs, action, overuse, heroic, slow, motion, scene, horrible, need, barf, bag, stand, slo, mo, second, 15, second, amazed, decide, push, m, movie, turn, well, hard, beat, lousy, piece, crap, movie]   \n",
       "2621      [okay, admit, bit, easy, grader, come, romantic, comedy, long, witty, likable, character, insult, intelligence, suitable, happy, ending, guess, end, happily, rom, com, see, movie, year, ago, forget, fresh, like, movie, plot, rely, huge, coincidence, story, get, sappy, sentimental, place, predict...   \n",
       "4234      [scream, 3, lackluster, screenplay, unimaginative, kill, leave, film, bore, watch, meta, narrative, trilogy, film, abysmal, plot, film, create, lore, past, movie, seemingly, blue, muddle, continuity, shock, value, add, little, film, feel, force, entire, plot, point, sidney, mother, hollywood, ac...   \n",
       "\n",
       "                                                                                                                                                                                                                                                                                                        tokens-joined  \\\n",
       "movie_id                                                                                                                                                                                                                                                                                                                \n",
       "7443                                                                                                                                                              guilty pleasure personally love great escape work see year rightfully esteem british animation company highly recommend child adult enjoy animation   \n",
       "955       underwhelme straight bore course see hunt climb mountain harness impressive sure like idea villain piece angle woefully underdeveloped set predominantly australia grab attention say cause pretty biased come hear tell mission impossible ii low point series encouraging bad know able rogue nation f...   \n",
       "955                                                  entertainign mission impossible second installment turn terrible screenwriter know fill 2 hrs action overuse heroic slow motion scene horrible need barf bag stand slo mo second 15 second amazed decide push m movie turn well hard beat lousy piece crap movie   \n",
       "2621      okay admit bit easy grader come romantic comedy long witty likable character insult intelligence suitable happy ending guess end happily rom com see movie year ago forget fresh like movie plot rely huge coincidence story get sappy sentimental place predictable religion suit thing suit fine prais...   \n",
       "4234      scream 3 lackluster screenplay unimaginative kill leave film bore watch meta narrative trilogy film abysmal plot film create lore past movie seemingly blue muddle continuity shock value add little film feel force entire plot point sidney mother hollywood actress pretty lame especially add plot p...   \n",
       "\n",
       "                                                                                                                                                                                                                                                                                                        lemmas-joined  \\\n",
       "movie_id                                                                                                                                                                                                                                                                                                                \n",
       "7443                                                                                                                                                              guilty pleasure personally love great escape work see year rightfully esteem british animation company highly recommend child adult enjoy animation   \n",
       "955       underwhelme straight bore course see hunt climb mountain harness impressive sure like idea villain piece angle woefully underdeveloped set predominantly australia grab attention say cause pretty biased come hear tell mission impossible ii low point series encouraging bad know able rogue nation f...   \n",
       "955                                                  entertainign mission impossible second installment turn terrible screenwriter know fill 2 hrs action overuse heroic slow motion scene horrible need barf bag stand slo mo second 15 second amazed decide push m movie turn well hard beat lousy piece crap movie   \n",
       "2621      okay admit bit easy grader come romantic comedy long witty likable character insult intelligence suitable happy ending guess end happily rom com see movie year ago forget fresh like movie plot rely huge coincidence story get sappy sentimental place predictable religion suit thing suit fine prais...   \n",
       "4234      scream 3 lackluster screenplay unimaginative kill leave film bore watch meta narrative trilogy film abysmal plot film create lore past movie seemingly blue muddle continuity shock value add little film feel force entire plot point sidney mother hollywood actress pretty lame especially add plot p...   \n",
       "\n",
       "         no_rating  \n",
       "movie_id            \n",
       "7443          None  \n",
       "955           None  \n",
       "955           None  \n",
       "2621          None  \n",
       "4234          None  "
      ]
     },
     "execution_count": 7,
     "metadata": {},
     "output_type": "execute_result"
    }
   ],
   "source": [
    "df.head()"
   ]
  },
  {
   "cell_type": "code",
   "execution_count": 8,
   "id": "469e26eb-e97c-4af2-9f06-0ef7fd2fc9da",
   "metadata": {},
   "outputs": [
    {
     "data": {
      "text/html": [
       "<div>\n",
       "<style scoped>\n",
       "    .dataframe tbody tr th:only-of-type {\n",
       "        vertical-align: middle;\n",
       "    }\n",
       "\n",
       "    .dataframe tbody tr th {\n",
       "        vertical-align: top;\n",
       "    }\n",
       "\n",
       "    .dataframe thead th {\n",
       "        text-align: right;\n",
       "    }\n",
       "</style>\n",
       "<table border=\"1\" class=\"dataframe\">\n",
       "  <thead>\n",
       "    <tr style=\"text-align: right;\">\n",
       "      <th></th>\n",
       "      <th>original_title</th>\n",
       "      <th>review</th>\n",
       "      <th>rating</th>\n",
       "      <th>ratings</th>\n",
       "      <th>tokens</th>\n",
       "      <th>lemmatized</th>\n",
       "      <th>tokens-joined</th>\n",
       "      <th>lemmas-joined</th>\n",
       "    </tr>\n",
       "    <tr>\n",
       "      <th>movie_id</th>\n",
       "      <th></th>\n",
       "      <th></th>\n",
       "      <th></th>\n",
       "      <th></th>\n",
       "      <th></th>\n",
       "      <th></th>\n",
       "      <th></th>\n",
       "      <th></th>\n",
       "    </tr>\n",
       "  </thead>\n",
       "  <tbody>\n",
       "    <tr>\n",
       "      <th>7443</th>\n",
       "      <td>Chicken Run</td>\n",
       "      <td>A guilty pleasure for me personally, as I love both 'The Great Escape' and most of the works I have seen, over the years, from this rightfully-esteemed British animation company. Highly recommended both for children and for adults who enjoy animation.</td>\n",
       "      <td>9.0</td>\n",
       "      <td>High_rating</td>\n",
       "      <td>[guilty, pleasure, personally, love, great, escape, work, see, year, rightfully, esteem, british, animation, company, highly, recommend, child, adult, enjoy, animation]</td>\n",
       "      <td>[guilty, pleasure, personally, love, great, escape, work, see, year, rightfully, esteem, british, animation, company, highly, recommend, child, adult, enjoy, animation]</td>\n",
       "      <td>guilty pleasure personally love great escape work see year rightfully esteem british animation company highly recommend child adult enjoy animation</td>\n",
       "      <td>guilty pleasure personally love great escape work see year rightfully esteem british animation company highly recommend child adult enjoy animation</td>\n",
       "    </tr>\n",
       "    <tr>\n",
       "      <th>955</th>\n",
       "      <td>Mission: Impossible II</td>\n",
       "      <td>The first underwhelmed me, but this one straight-up bored me. Again, of course seeing Hunt climb a mountain without a harness is impressive sure. And I even quite liked the idea behind the villain of the piece (though even that angle was woefully underdeveloped).\\r\\n\\r\\nEven setting it in predom...</td>\n",
       "      <td>3.0</td>\n",
       "      <td>Low_rating</td>\n",
       "      <td>[underwhelme, straight, bore, course, see, hunt, climb, mountain, harness, impressive, sure, like, idea, villain, piece, angle, woefully, underdeveloped, set, predominantly, australia, grab, attention, say, cause, pretty, biased, come, hear, tell, mission, impossible, ii, low, point, series, enc...</td>\n",
       "      <td>[underwhelme, straight, bore, course, see, hunt, climb, mountain, harness, impressive, sure, like, idea, villain, piece, angle, woefully, underdeveloped, set, predominantly, australia, grab, attention, say, cause, pretty, biased, come, hear, tell, mission, impossible, ii, low, point, series, enc...</td>\n",
       "      <td>underwhelme straight bore course see hunt climb mountain harness impressive sure like idea villain piece angle woefully underdeveloped set predominantly australia grab attention say cause pretty biased come hear tell mission impossible ii low point series encouraging bad know able rogue nation f...</td>\n",
       "      <td>underwhelme straight bore course see hunt climb mountain harness impressive sure like idea villain piece angle woefully underdeveloped set predominantly australia grab attention say cause pretty biased come hear tell mission impossible ii low point series encouraging bad know able rogue nation f...</td>\n",
       "    </tr>\n",
       "    <tr>\n",
       "      <th>955</th>\n",
       "      <td>Mission: Impossible II</td>\n",
       "      <td>After quite entertainign Mission Impossible I the second installment turned out ... terrible. As if the screenwriters didn't know how to fill the 2 hrs with action the overuse of heroic slow motion scenes is horrible. You almost might need a barf bag if you can't stand slo-mo every five seconds....</td>\n",
       "      <td>2.0</td>\n",
       "      <td>Low_rating</td>\n",
       "      <td>[entertainign, mission, impossible, second, installment, turn, terrible, screenwriter, know, fill, 2, hrs, action, overuse, heroic, slow, motion, scene, horrible, need, barf, bag, stand, slo, mo, second, 15, second, amazed, decide, push, m, movie, turn, well, hard, beat, lousy, piece, crap, movie]</td>\n",
       "      <td>[entertainign, mission, impossible, second, installment, turn, terrible, screenwriter, know, fill, 2, hrs, action, overuse, heroic, slow, motion, scene, horrible, need, barf, bag, stand, slo, mo, second, 15, second, amazed, decide, push, m, movie, turn, well, hard, beat, lousy, piece, crap, movie]</td>\n",
       "      <td>entertainign mission impossible second installment turn terrible screenwriter know fill 2 hrs action overuse heroic slow motion scene horrible need barf bag stand slo mo second 15 second amazed decide push m movie turn well hard beat lousy piece crap movie</td>\n",
       "      <td>entertainign mission impossible second installment turn terrible screenwriter know fill 2 hrs action overuse heroic slow motion scene horrible need barf bag stand slo mo second 15 second amazed decide push m movie turn well hard beat lousy piece crap movie</td>\n",
       "    </tr>\n",
       "    <tr>\n",
       "      <th>2621</th>\n",
       "      <td>Return to Me</td>\n",
       "      <td>Okay, I will admit I can be a bit of an easy grader when it comes to romantic comedies, as long as they are witty with likable characters, don’t insult my intelligence and have suitable happy endings (I guess if they don’t end happily, they aren’t rom-coms).\\r\\n\\r\\nI saw this movie many years ag...</td>\n",
       "      <td>9.0</td>\n",
       "      <td>High_rating</td>\n",
       "      <td>[okay, admit, bit, easy, grader, come, romantic, comedy, long, witty, likable, character, insult, intelligence, suitable, happy, ending, guess, end, happily, rom, com, see, movie, year, ago, forget, fresh, like, movie, plot, rely, huge, coincidence, story, get, sappy, sentimental, place, predict...</td>\n",
       "      <td>[okay, admit, bit, easy, grader, come, romantic, comedy, long, witty, likable, character, insult, intelligence, suitable, happy, ending, guess, end, happily, rom, com, see, movie, year, ago, forget, fresh, like, movie, plot, rely, huge, coincidence, story, get, sappy, sentimental, place, predict...</td>\n",
       "      <td>okay admit bit easy grader come romantic comedy long witty likable character insult intelligence suitable happy ending guess end happily rom com see movie year ago forget fresh like movie plot rely huge coincidence story get sappy sentimental place predictable religion suit thing suit fine prais...</td>\n",
       "      <td>okay admit bit easy grader come romantic comedy long witty likable character insult intelligence suitable happy ending guess end happily rom com see movie year ago forget fresh like movie plot rely huge coincidence story get sappy sentimental place predictable religion suit thing suit fine prais...</td>\n",
       "    </tr>\n",
       "    <tr>\n",
       "      <th>4234</th>\n",
       "      <td>Scream 3</td>\n",
       "      <td>**_Scream 3’s_ lackluster screenplay and unimaginative kills leave a film that is a bore to watch.**\\r\\n\\r\\nThe meta-narrative of trilogies throughout the film does not make up for how abysmal the plot was. This film creates so much lore for the past movies seemingly out of the blue, muddling up...</td>\n",
       "      <td>4.0</td>\n",
       "      <td>Low_rating</td>\n",
       "      <td>[scream, 3, lackluster, screenplay, unimaginative, kill, leave, film, bore, watch, meta, narrative, trilogy, film, abysmal, plot, film, create, lore, past, movie, seemingly, blue, muddle, continuity, shock, value, add, little, film, feel, force, entire, plot, point, sidney, mother, hollywood, ac...</td>\n",
       "      <td>[scream, 3, lackluster, screenplay, unimaginative, kill, leave, film, bore, watch, meta, narrative, trilogy, film, abysmal, plot, film, create, lore, past, movie, seemingly, blue, muddle, continuity, shock, value, add, little, film, feel, force, entire, plot, point, sidney, mother, hollywood, ac...</td>\n",
       "      <td>scream 3 lackluster screenplay unimaginative kill leave film bore watch meta narrative trilogy film abysmal plot film create lore past movie seemingly blue muddle continuity shock value add little film feel force entire plot point sidney mother hollywood actress pretty lame especially add plot p...</td>\n",
       "      <td>scream 3 lackluster screenplay unimaginative kill leave film bore watch meta narrative trilogy film abysmal plot film create lore past movie seemingly blue muddle continuity shock value add little film feel force entire plot point sidney mother hollywood actress pretty lame especially add plot p...</td>\n",
       "    </tr>\n",
       "  </tbody>\n",
       "</table>\n",
       "</div>"
      ],
      "text/plain": [
       "                  original_title  \\\n",
       "movie_id                           \n",
       "7443                 Chicken Run   \n",
       "955       Mission: Impossible II   \n",
       "955       Mission: Impossible II   \n",
       "2621                Return to Me   \n",
       "4234                    Scream 3   \n",
       "\n",
       "                                                                                                                                                                                                                                                                                                               review  \\\n",
       "movie_id                                                                                                                                                                                                                                                                                                                \n",
       "7443                                                      A guilty pleasure for me personally, as I love both 'The Great Escape' and most of the works I have seen, over the years, from this rightfully-esteemed British animation company. Highly recommended both for children and for adults who enjoy animation.   \n",
       "955       The first underwhelmed me, but this one straight-up bored me. Again, of course seeing Hunt climb a mountain without a harness is impressive sure. And I even quite liked the idea behind the villain of the piece (though even that angle was woefully underdeveloped).\\r\\n\\r\\nEven setting it in predom...   \n",
       "955       After quite entertainign Mission Impossible I the second installment turned out ... terrible. As if the screenwriters didn't know how to fill the 2 hrs with action the overuse of heroic slow motion scenes is horrible. You almost might need a barf bag if you can't stand slo-mo every five seconds....   \n",
       "2621      Okay, I will admit I can be a bit of an easy grader when it comes to romantic comedies, as long as they are witty with likable characters, don’t insult my intelligence and have suitable happy endings (I guess if they don’t end happily, they aren’t rom-coms).\\r\\n\\r\\nI saw this movie many years ag...   \n",
       "4234      **_Scream 3’s_ lackluster screenplay and unimaginative kills leave a film that is a bore to watch.**\\r\\n\\r\\nThe meta-narrative of trilogies throughout the film does not make up for how abysmal the plot was. This film creates so much lore for the past movies seemingly out of the blue, muddling up...   \n",
       "\n",
       "          rating      ratings  \\\n",
       "movie_id                        \n",
       "7443         9.0  High_rating   \n",
       "955          3.0   Low_rating   \n",
       "955          2.0   Low_rating   \n",
       "2621         9.0  High_rating   \n",
       "4234         4.0   Low_rating   \n",
       "\n",
       "                                                                                                                                                                                                                                                                                                               tokens  \\\n",
       "movie_id                                                                                                                                                                                                                                                                                                                \n",
       "7443                                                                                                                                         [guilty, pleasure, personally, love, great, escape, work, see, year, rightfully, esteem, british, animation, company, highly, recommend, child, adult, enjoy, animation]   \n",
       "955       [underwhelme, straight, bore, course, see, hunt, climb, mountain, harness, impressive, sure, like, idea, villain, piece, angle, woefully, underdeveloped, set, predominantly, australia, grab, attention, say, cause, pretty, biased, come, hear, tell, mission, impossible, ii, low, point, series, enc...   \n",
       "955        [entertainign, mission, impossible, second, installment, turn, terrible, screenwriter, know, fill, 2, hrs, action, overuse, heroic, slow, motion, scene, horrible, need, barf, bag, stand, slo, mo, second, 15, second, amazed, decide, push, m, movie, turn, well, hard, beat, lousy, piece, crap, movie]   \n",
       "2621      [okay, admit, bit, easy, grader, come, romantic, comedy, long, witty, likable, character, insult, intelligence, suitable, happy, ending, guess, end, happily, rom, com, see, movie, year, ago, forget, fresh, like, movie, plot, rely, huge, coincidence, story, get, sappy, sentimental, place, predict...   \n",
       "4234      [scream, 3, lackluster, screenplay, unimaginative, kill, leave, film, bore, watch, meta, narrative, trilogy, film, abysmal, plot, film, create, lore, past, movie, seemingly, blue, muddle, continuity, shock, value, add, little, film, feel, force, entire, plot, point, sidney, mother, hollywood, ac...   \n",
       "\n",
       "                                                                                                                                                                                                                                                                                                           lemmatized  \\\n",
       "movie_id                                                                                                                                                                                                                                                                                                                \n",
       "7443                                                                                                                                         [guilty, pleasure, personally, love, great, escape, work, see, year, rightfully, esteem, british, animation, company, highly, recommend, child, adult, enjoy, animation]   \n",
       "955       [underwhelme, straight, bore, course, see, hunt, climb, mountain, harness, impressive, sure, like, idea, villain, piece, angle, woefully, underdeveloped, set, predominantly, australia, grab, attention, say, cause, pretty, biased, come, hear, tell, mission, impossible, ii, low, point, series, enc...   \n",
       "955        [entertainign, mission, impossible, second, installment, turn, terrible, screenwriter, know, fill, 2, hrs, action, overuse, heroic, slow, motion, scene, horrible, need, barf, bag, stand, slo, mo, second, 15, second, amazed, decide, push, m, movie, turn, well, hard, beat, lousy, piece, crap, movie]   \n",
       "2621      [okay, admit, bit, easy, grader, come, romantic, comedy, long, witty, likable, character, insult, intelligence, suitable, happy, ending, guess, end, happily, rom, com, see, movie, year, ago, forget, fresh, like, movie, plot, rely, huge, coincidence, story, get, sappy, sentimental, place, predict...   \n",
       "4234      [scream, 3, lackluster, screenplay, unimaginative, kill, leave, film, bore, watch, meta, narrative, trilogy, film, abysmal, plot, film, create, lore, past, movie, seemingly, blue, muddle, continuity, shock, value, add, little, film, feel, force, entire, plot, point, sidney, mother, hollywood, ac...   \n",
       "\n",
       "                                                                                                                                                                                                                                                                                                        tokens-joined  \\\n",
       "movie_id                                                                                                                                                                                                                                                                                                                \n",
       "7443                                                                                                                                                              guilty pleasure personally love great escape work see year rightfully esteem british animation company highly recommend child adult enjoy animation   \n",
       "955       underwhelme straight bore course see hunt climb mountain harness impressive sure like idea villain piece angle woefully underdeveloped set predominantly australia grab attention say cause pretty biased come hear tell mission impossible ii low point series encouraging bad know able rogue nation f...   \n",
       "955                                                  entertainign mission impossible second installment turn terrible screenwriter know fill 2 hrs action overuse heroic slow motion scene horrible need barf bag stand slo mo second 15 second amazed decide push m movie turn well hard beat lousy piece crap movie   \n",
       "2621      okay admit bit easy grader come romantic comedy long witty likable character insult intelligence suitable happy ending guess end happily rom com see movie year ago forget fresh like movie plot rely huge coincidence story get sappy sentimental place predictable religion suit thing suit fine prais...   \n",
       "4234      scream 3 lackluster screenplay unimaginative kill leave film bore watch meta narrative trilogy film abysmal plot film create lore past movie seemingly blue muddle continuity shock value add little film feel force entire plot point sidney mother hollywood actress pretty lame especially add plot p...   \n",
       "\n",
       "                                                                                                                                                                                                                                                                                                        lemmas-joined  \n",
       "movie_id                                                                                                                                                                                                                                                                                                               \n",
       "7443                                                                                                                                                              guilty pleasure personally love great escape work see year rightfully esteem british animation company highly recommend child adult enjoy animation  \n",
       "955       underwhelme straight bore course see hunt climb mountain harness impressive sure like idea villain piece angle woefully underdeveloped set predominantly australia grab attention say cause pretty biased come hear tell mission impossible ii low point series encouraging bad know able rogue nation f...  \n",
       "955                                                  entertainign mission impossible second installment turn terrible screenwriter know fill 2 hrs action overuse heroic slow motion scene horrible need barf bag stand slo mo second 15 second amazed decide push m movie turn well hard beat lousy piece crap movie  \n",
       "2621      okay admit bit easy grader come romantic comedy long witty likable character insult intelligence suitable happy ending guess end happily rom com see movie year ago forget fresh like movie plot rely huge coincidence story get sappy sentimental place predictable religion suit thing suit fine prais...  \n",
       "4234      scream 3 lackluster screenplay unimaginative kill leave film bore watch meta narrative trilogy film abysmal plot film create lore past movie seemingly blue muddle continuity shock value add little film feel force entire plot point sidney mother hollywood actress pretty lame especially add plot p...  "
      ]
     },
     "execution_count": 8,
     "metadata": {},
     "output_type": "execute_result"
    }
   ],
   "source": [
    "# Drop a column\n",
    "df.drop(columns=['no_rating'], inplace=True)\n",
    "df.head()"
   ]
  },
  {
   "cell_type": "code",
   "execution_count": 9,
   "id": "cfe396f4-482b-47da-8a84-39830594b82f",
   "metadata": {},
   "outputs": [
    {
     "data": {
      "text/plain": [
       "movie_id\n",
       "7443                                                    A guilty pleasure for me personally, as I love both 'The Great Escape' and most of the works I have seen, over the years, from this rightfully-esteemed British animation company. Highly recommended both for children and for adults who enjoy animation.\n",
       "955     The first underwhelmed me, but this one straight-up bored me. Again, of course seeing Hunt climb a mountain without a harness is impressive sure. And I even quite liked the idea behind the villain of the piece (though even that angle was woefully underdeveloped).\\r\\n\\r\\nEven setting it in predom...\n",
       "955     After quite entertainign Mission Impossible I the second installment turned out ... terrible. As if the screenwriters didn't know how to fill the 2 hrs with action the overuse of heroic slow motion scenes is horrible. You almost might need a barf bag if you can't stand slo-mo every five seconds....\n",
       "2621    Okay, I will admit I can be a bit of an easy grader when it comes to romantic comedies, as long as they are witty with likable characters, don’t insult my intelligence and have suitable happy endings (I guess if they don’t end happily, they aren’t rom-coms).\\r\\n\\r\\nI saw this movie many years ag...\n",
       "4234    **_Scream 3’s_ lackluster screenplay and unimaginative kills leave a film that is a bore to watch.**\\r\\n\\r\\nThe meta-narrative of trilogies throughout the film does not make up for how abysmal the plot was. This film creates so much lore for the past movies seemingly out of the blue, muddling up...\n",
       "Name: review, dtype: object"
      ]
     },
     "execution_count": 9,
     "metadata": {},
     "output_type": "execute_result"
    }
   ],
   "source": [
    "# # Define X and y\n",
    "X = df['review']\n",
    "y = df['ratings']\n",
    "\n",
    "X.head()"
   ]
  },
  {
   "cell_type": "code",
   "execution_count": 10,
   "id": "6a0cab87-0ca7-4bc4-ab90-ad3382ed2e87",
   "metadata": {},
   "outputs": [
    {
     "data": {
      "text/plain": [
       "Low_rating     0.505994\n",
       "High_rating    0.494006\n",
       "Name: ratings, dtype: float64"
      ]
     },
     "execution_count": 10,
     "metadata": {},
     "output_type": "execute_result"
    }
   ],
   "source": [
    "y.value_counts(normalize=True)"
   ]
  },
  {
   "cell_type": "markdown",
   "id": "567c9418-e95f-4581-a4dd-022bdd1734ae",
   "metadata": {},
   "source": [
    "# Machine Learning:\n",
    "- For this project, you will use modeling pipelines with the text vectorizer and model in the same pipeline.\n",
    "- This will make saving and uploading the models in a deployed application very easy."
   ]
  },
  {
   "cell_type": "markdown",
   "id": "5ec821d3-d41a-43b1-80c4-1543c98b6d6a",
   "metadata": {},
   "source": [
    "## `Create a Text Vectorizer`\n",
    "- Select a sklearn vectorizer for your task.\n",
    "    - Remember to consider your preprocessing choices, such as using stopwords, ngram_range, etc."
   ]
  },
  {
   "cell_type": "code",
   "execution_count": 11,
   "id": "744caf09-247d-48ef-afc6-f40825c719a6",
   "metadata": {},
   "outputs": [
    {
     "data": {
      "text/plain": [
       "(1693, 363, 363)"
      ]
     },
     "execution_count": 11,
     "metadata": {},
     "output_type": "execute_result"
    }
   ],
   "source": [
    "# Split data into train, test, val\n",
    "from sklearn.model_selection import train_test_split\n",
    "\n",
    "# Create a 70/30 train-split \n",
    "X_train_full, X_test, y_train_full, y_test = train_test_split(X, y, test_size=.3, random_state=42)\n",
    "X_val, X_test, y_val, y_test = train_test_split(X_test, y_test, test_size=.5, random_state=42)\n",
    "\n",
    "#\n",
    "(len(X_train_full), len(X_val), len(X_test))"
   ]
  },
  {
   "cell_type": "code",
   "execution_count": 12,
   "id": "8ee6f72d-9fbc-4f01-aae8-789ce1a064cc",
   "metadata": {},
   "outputs": [
    {
     "data": {
      "text/plain": [
       "Low_rating     0.511518\n",
       "High_rating    0.488482\n",
       "Name: ratings, dtype: float64"
      ]
     },
     "execution_count": 12,
     "metadata": {},
     "output_type": "execute_result"
    }
   ],
   "source": [
    "# Check class balance\n",
    "y_train_full.value_counts(normalize=True)"
   ]
  },
  {
   "cell_type": "code",
   "execution_count": 13,
   "id": "adecdb29-4a11-4831-ad64-92cc13ea3608",
   "metadata": {},
   "outputs": [
    {
     "data": {
      "text/plain": [
       "High_rating    827\n",
       "Low_rating     827\n",
       "Name: ratings, dtype: int64"
      ]
     },
     "execution_count": 13,
     "metadata": {},
     "output_type": "execute_result"
    }
   ],
   "source": [
    "# Instantiate a RandomUnderSampler\n",
    "sampler = fn.RandomUnderSampler(random_state=42)\n",
    "\n",
    "# Fit_resample on the reshaped X_train data and y-train data\n",
    "X_train, y_train = sampler.fit_resample(X_train_full.values.reshape(-1,1),y_train_full)\n",
    "\n",
    "# Flatten the reshaped X_train data back to 1D\n",
    "X_train = X_train.flatten()\n",
    "\n",
    "# Check for class balance\n",
    "y_train.value_counts()"
   ]
  },
  {
   "cell_type": "code",
   "execution_count": 14,
   "id": "80f1a481-08c1-4915-8517-b5aea0b0bb05",
   "metadata": {},
   "outputs": [
    {
     "data": {
      "text/plain": [
       "<1654x22256 sparse matrix of type '<class 'numpy.int64'>'\n",
       "\twith 218723 stored elements in Compressed Sparse Row format>"
      ]
     },
     "execution_count": 14,
     "metadata": {},
     "output_type": "execute_result"
    }
   ],
   "source": [
    "from sklearn.feature_extraction.text import CountVectorizer, TfidfVectorizer\n",
    "## Instantiate CountVectorizer\n",
    "countvector = CountVectorizer()#min_df=3, ngram_range=(1,2))\n",
    "countvector.fit(X_train)\n",
    "\n",
    "# Transform X_train to see the result (for demo only)\n",
    "countvector.transform(X_train)"
   ]
  },
  {
   "cell_type": "code",
   "execution_count": 15,
   "id": "ad982393-8348-4a58-833f-6035d26f99c1",
   "metadata": {},
   "outputs": [
    {
     "data": {
      "text/html": [
       "<style>#sk-container-id-1 {color: black;background-color: white;}#sk-container-id-1 pre{padding: 0;}#sk-container-id-1 div.sk-toggleable {background-color: white;}#sk-container-id-1 label.sk-toggleable__label {cursor: pointer;display: block;width: 100%;margin-bottom: 0;padding: 0.3em;box-sizing: border-box;text-align: center;}#sk-container-id-1 label.sk-toggleable__label-arrow:before {content: \"▸\";float: left;margin-right: 0.25em;color: #696969;}#sk-container-id-1 label.sk-toggleable__label-arrow:hover:before {color: black;}#sk-container-id-1 div.sk-estimator:hover label.sk-toggleable__label-arrow:before {color: black;}#sk-container-id-1 div.sk-toggleable__content {max-height: 0;max-width: 0;overflow: hidden;text-align: left;background-color: #f0f8ff;}#sk-container-id-1 div.sk-toggleable__content pre {margin: 0.2em;color: black;border-radius: 0.25em;background-color: #f0f8ff;}#sk-container-id-1 input.sk-toggleable__control:checked~div.sk-toggleable__content {max-height: 200px;max-width: 100%;overflow: auto;}#sk-container-id-1 input.sk-toggleable__control:checked~label.sk-toggleable__label-arrow:before {content: \"▾\";}#sk-container-id-1 div.sk-estimator input.sk-toggleable__control:checked~label.sk-toggleable__label {background-color: #d4ebff;}#sk-container-id-1 div.sk-label input.sk-toggleable__control:checked~label.sk-toggleable__label {background-color: #d4ebff;}#sk-container-id-1 input.sk-hidden--visually {border: 0;clip: rect(1px 1px 1px 1px);clip: rect(1px, 1px, 1px, 1px);height: 1px;margin: -1px;overflow: hidden;padding: 0;position: absolute;width: 1px;}#sk-container-id-1 div.sk-estimator {font-family: monospace;background-color: #f0f8ff;border: 1px dotted black;border-radius: 0.25em;box-sizing: border-box;margin-bottom: 0.5em;}#sk-container-id-1 div.sk-estimator:hover {background-color: #d4ebff;}#sk-container-id-1 div.sk-parallel-item::after {content: \"\";width: 100%;border-bottom: 1px solid gray;flex-grow: 1;}#sk-container-id-1 div.sk-label:hover label.sk-toggleable__label {background-color: #d4ebff;}#sk-container-id-1 div.sk-serial::before {content: \"\";position: absolute;border-left: 1px solid gray;box-sizing: border-box;top: 0;bottom: 0;left: 50%;z-index: 0;}#sk-container-id-1 div.sk-serial {display: flex;flex-direction: column;align-items: center;background-color: white;padding-right: 0.2em;padding-left: 0.2em;position: relative;}#sk-container-id-1 div.sk-item {position: relative;z-index: 1;}#sk-container-id-1 div.sk-parallel {display: flex;align-items: stretch;justify-content: center;background-color: white;position: relative;}#sk-container-id-1 div.sk-item::before, #sk-container-id-1 div.sk-parallel-item::before {content: \"\";position: absolute;border-left: 1px solid gray;box-sizing: border-box;top: 0;bottom: 0;left: 50%;z-index: -1;}#sk-container-id-1 div.sk-parallel-item {display: flex;flex-direction: column;z-index: 1;position: relative;background-color: white;}#sk-container-id-1 div.sk-parallel-item:first-child::after {align-self: flex-end;width: 50%;}#sk-container-id-1 div.sk-parallel-item:last-child::after {align-self: flex-start;width: 50%;}#sk-container-id-1 div.sk-parallel-item:only-child::after {width: 0;}#sk-container-id-1 div.sk-dashed-wrapped {border: 1px dashed gray;margin: 0 0.4em 0.5em 0.4em;box-sizing: border-box;padding-bottom: 0.4em;background-color: white;}#sk-container-id-1 div.sk-label label {font-family: monospace;font-weight: bold;display: inline-block;line-height: 1.2em;}#sk-container-id-1 div.sk-label-container {text-align: center;}#sk-container-id-1 div.sk-container {/* jupyter's `normalize.less` sets `[hidden] { display: none; }` but bootstrap.min.css set `[hidden] { display: none !important; }` so we also need the `!important` here to be able to override the default hidden behavior on the sphinx rendered scikit-learn.org. See: https://github.com/scikit-learn/scikit-learn/issues/21755 */display: inline-block !important;position: relative;}#sk-container-id-1 div.sk-text-repr-fallback {display: none;}</style><div id=\"sk-container-id-1\" class=\"sk-top-container\"><div class=\"sk-text-repr-fallback\"><pre>Pipeline(steps=[(&#x27;vectorizer&#x27;, CountVectorizer()), (&#x27;bayes&#x27;, MultinomialNB())])</pre><b>In a Jupyter environment, please rerun this cell to show the HTML representation or trust the notebook. <br />On GitHub, the HTML representation is unable to render, please try loading this page with nbviewer.org.</b></div><div class=\"sk-container\" hidden><div class=\"sk-item sk-dashed-wrapped\"><div class=\"sk-label-container\"><div class=\"sk-label sk-toggleable\"><input class=\"sk-toggleable__control sk-hidden--visually\" id=\"sk-estimator-id-1\" type=\"checkbox\" ><label for=\"sk-estimator-id-1\" class=\"sk-toggleable__label sk-toggleable__label-arrow\">Pipeline</label><div class=\"sk-toggleable__content\"><pre>Pipeline(steps=[(&#x27;vectorizer&#x27;, CountVectorizer()), (&#x27;bayes&#x27;, MultinomialNB())])</pre></div></div></div><div class=\"sk-serial\"><div class=\"sk-item\"><div class=\"sk-estimator sk-toggleable\"><input class=\"sk-toggleable__control sk-hidden--visually\" id=\"sk-estimator-id-2\" type=\"checkbox\" ><label for=\"sk-estimator-id-2\" class=\"sk-toggleable__label sk-toggleable__label-arrow\">CountVectorizer</label><div class=\"sk-toggleable__content\"><pre>CountVectorizer()</pre></div></div></div><div class=\"sk-item\"><div class=\"sk-estimator sk-toggleable\"><input class=\"sk-toggleable__control sk-hidden--visually\" id=\"sk-estimator-id-3\" type=\"checkbox\" ><label for=\"sk-estimator-id-3\" class=\"sk-toggleable__label sk-toggleable__label-arrow\">MultinomialNB</label><div class=\"sk-toggleable__content\"><pre>MultinomialNB()</pre></div></div></div></div></div></div></div>"
      ],
      "text/plain": [
       "Pipeline(steps=[('vectorizer', CountVectorizer()), ('bayes', MultinomialNB())])"
      ]
     },
     "execution_count": 15,
     "metadata": {},
     "output_type": "execute_result"
    }
   ],
   "source": [
    "from sklearn.naive_bayes import MultinomialNB\n",
    "## Create a model pipeline \n",
    "nbayes = MultinomialNB()\n",
    "\n",
    "count_pipe = fn.Pipeline([('vectorizer', countvector), \n",
    "                       ('bayes', nbayes)])\n",
    "\n",
    "count_pipe.fit(X_train, y_train)"
   ]
  },
  {
   "cell_type": "code",
   "execution_count": 16,
   "id": "48cb258c-16be-498b-a020-b3c4ddba4805",
   "metadata": {},
   "outputs": [
    {
     "name": "stdout",
     "output_type": "stream",
     "text": [
      "----------------------------------------------------------------------\n",
      " Classification Metrics: Training Data\n",
      "----------------------------------------------------------------------\n",
      "              precision    recall  f1-score   support\n",
      "\n",
      " High_rating       0.99      0.97      0.98       827\n",
      "  Low_rating       0.97      0.99      0.98       827\n",
      "\n",
      "    accuracy                           0.98      1654\n",
      "   macro avg       0.98      0.98      0.98      1654\n",
      "weighted avg       0.98      0.98      0.98      1654\n",
      "\n"
     ]
    },
    {
     "data": {
      "image/png": "[encoded data removed]",
      "text/plain": [
       "<Figure size 600x400 with 2 Axes>"
      ]
     },
     "metadata": {},
     "output_type": "display_data"
    },
    {
     "name": "stdout",
     "output_type": "stream",
     "text": [
      "\n",
      "----------------------------------------------------------------------\n",
      " Classification Metrics: Test Data\n",
      "----------------------------------------------------------------------\n",
      "              precision    recall  f1-score   support\n",
      "\n",
      " High_rating       0.88      0.87      0.87       179\n",
      "  Low_rating       0.87      0.88      0.88       184\n",
      "\n",
      "    accuracy                           0.87       363\n",
      "   macro avg       0.87      0.87      0.87       363\n",
      "weighted avg       0.87      0.87      0.87       363\n",
      "\n"
     ]
    },
    {
     "data": {
      "image/png": "[encoded data removed]",
      "text/plain": [
       "<Figure size 600x400 with 2 Axes>"
      ]
     },
     "metadata": {},
     "output_type": "display_data"
    }
   ],
   "source": [
    "# Evaluate count_pipe\n",
    "fn.evaluate_classification(count_pipe, X_train, y_train, X_test, y_test)"
   ]
  },
  {
   "cell_type": "code",
   "execution_count": 17,
   "id": "a5f3c1b2-a429-4f25-84d0-39b834dc23ac",
   "metadata": {},
   "outputs": [
    {
     "data": {
      "text/html": [
       "<style>#sk-container-id-2 {color: black;background-color: white;}#sk-container-id-2 pre{padding: 0;}#sk-container-id-2 div.sk-toggleable {background-color: white;}#sk-container-id-2 label.sk-toggleable__label {cursor: pointer;display: block;width: 100%;margin-bottom: 0;padding: 0.3em;box-sizing: border-box;text-align: center;}#sk-container-id-2 label.sk-toggleable__label-arrow:before {content: \"▸\";float: left;margin-right: 0.25em;color: #696969;}#sk-container-id-2 label.sk-toggleable__label-arrow:hover:before {color: black;}#sk-container-id-2 div.sk-estimator:hover label.sk-toggleable__label-arrow:before {color: black;}#sk-container-id-2 div.sk-toggleable__content {max-height: 0;max-width: 0;overflow: hidden;text-align: left;background-color: #f0f8ff;}#sk-container-id-2 div.sk-toggleable__content pre {margin: 0.2em;color: black;border-radius: 0.25em;background-color: #f0f8ff;}#sk-container-id-2 input.sk-toggleable__control:checked~div.sk-toggleable__content {max-height: 200px;max-width: 100%;overflow: auto;}#sk-container-id-2 input.sk-toggleable__control:checked~label.sk-toggleable__label-arrow:before {content: \"▾\";}#sk-container-id-2 div.sk-estimator input.sk-toggleable__control:checked~label.sk-toggleable__label {background-color: #d4ebff;}#sk-container-id-2 div.sk-label input.sk-toggleable__control:checked~label.sk-toggleable__label {background-color: #d4ebff;}#sk-container-id-2 input.sk-hidden--visually {border: 0;clip: rect(1px 1px 1px 1px);clip: rect(1px, 1px, 1px, 1px);height: 1px;margin: -1px;overflow: hidden;padding: 0;position: absolute;width: 1px;}#sk-container-id-2 div.sk-estimator {font-family: monospace;background-color: #f0f8ff;border: 1px dotted black;border-radius: 0.25em;box-sizing: border-box;margin-bottom: 0.5em;}#sk-container-id-2 div.sk-estimator:hover {background-color: #d4ebff;}#sk-container-id-2 div.sk-parallel-item::after {content: \"\";width: 100%;border-bottom: 1px solid gray;flex-grow: 1;}#sk-container-id-2 div.sk-label:hover label.sk-toggleable__label {background-color: #d4ebff;}#sk-container-id-2 div.sk-serial::before {content: \"\";position: absolute;border-left: 1px solid gray;box-sizing: border-box;top: 0;bottom: 0;left: 50%;z-index: 0;}#sk-container-id-2 div.sk-serial {display: flex;flex-direction: column;align-items: center;background-color: white;padding-right: 0.2em;padding-left: 0.2em;position: relative;}#sk-container-id-2 div.sk-item {position: relative;z-index: 1;}#sk-container-id-2 div.sk-parallel {display: flex;align-items: stretch;justify-content: center;background-color: white;position: relative;}#sk-container-id-2 div.sk-item::before, #sk-container-id-2 div.sk-parallel-item::before {content: \"\";position: absolute;border-left: 1px solid gray;box-sizing: border-box;top: 0;bottom: 0;left: 50%;z-index: -1;}#sk-container-id-2 div.sk-parallel-item {display: flex;flex-direction: column;z-index: 1;position: relative;background-color: white;}#sk-container-id-2 div.sk-parallel-item:first-child::after {align-self: flex-end;width: 50%;}#sk-container-id-2 div.sk-parallel-item:last-child::after {align-self: flex-start;width: 50%;}#sk-container-id-2 div.sk-parallel-item:only-child::after {width: 0;}#sk-container-id-2 div.sk-dashed-wrapped {border: 1px dashed gray;margin: 0 0.4em 0.5em 0.4em;box-sizing: border-box;padding-bottom: 0.4em;background-color: white;}#sk-container-id-2 div.sk-label label {font-family: monospace;font-weight: bold;display: inline-block;line-height: 1.2em;}#sk-container-id-2 div.sk-label-container {text-align: center;}#sk-container-id-2 div.sk-container {/* jupyter's `normalize.less` sets `[hidden] { display: none; }` but bootstrap.min.css set `[hidden] { display: none !important; }` so we also need the `!important` here to be able to override the default hidden behavior on the sphinx rendered scikit-learn.org. See: https://github.com/scikit-learn/scikit-learn/issues/21755 */display: inline-block !important;position: relative;}#sk-container-id-2 div.sk-text-repr-fallback {display: none;}</style><div id=\"sk-container-id-2\" class=\"sk-top-container\"><div class=\"sk-text-repr-fallback\"><pre>Pipeline(steps=[(&#x27;vectorizer&#x27;, TfidfVectorizer()), (&#x27;bayes&#x27;, MultinomialNB())])</pre><b>In a Jupyter environment, please rerun this cell to show the HTML representation or trust the notebook. <br />On GitHub, the HTML representation is unable to render, please try loading this page with nbviewer.org.</b></div><div class=\"sk-container\" hidden><div class=\"sk-item sk-dashed-wrapped\"><div class=\"sk-label-container\"><div class=\"sk-label sk-toggleable\"><input class=\"sk-toggleable__control sk-hidden--visually\" id=\"sk-estimator-id-4\" type=\"checkbox\" ><label for=\"sk-estimator-id-4\" class=\"sk-toggleable__label sk-toggleable__label-arrow\">Pipeline</label><div class=\"sk-toggleable__content\"><pre>Pipeline(steps=[(&#x27;vectorizer&#x27;, TfidfVectorizer()), (&#x27;bayes&#x27;, MultinomialNB())])</pre></div></div></div><div class=\"sk-serial\"><div class=\"sk-item\"><div class=\"sk-estimator sk-toggleable\"><input class=\"sk-toggleable__control sk-hidden--visually\" id=\"sk-estimator-id-5\" type=\"checkbox\" ><label for=\"sk-estimator-id-5\" class=\"sk-toggleable__label sk-toggleable__label-arrow\">TfidfVectorizer</label><div class=\"sk-toggleable__content\"><pre>TfidfVectorizer()</pre></div></div></div><div class=\"sk-item\"><div class=\"sk-estimator sk-toggleable\"><input class=\"sk-toggleable__control sk-hidden--visually\" id=\"sk-estimator-id-6\" type=\"checkbox\" ><label for=\"sk-estimator-id-6\" class=\"sk-toggleable__label sk-toggleable__label-arrow\">MultinomialNB</label><div class=\"sk-toggleable__content\"><pre>MultinomialNB()</pre></div></div></div></div></div></div></div>"
      ],
      "text/plain": [
       "Pipeline(steps=[('vectorizer', TfidfVectorizer()), ('bayes', MultinomialNB())])"
      ]
     },
     "execution_count": 17,
     "metadata": {},
     "output_type": "execute_result"
    }
   ],
   "source": [
    "# Instantiate TF-IDF Vectorizor\n",
    "tfidf = TfidfVectorizer()\n",
    "\n",
    "## Instantiate model\n",
    "tfidfbayes = MultinomialNB()\n",
    "\n",
    "\n",
    "## Create pipeline: tfidf_pipe\n",
    "tfidf_pipe = fn.Pipeline([('vectorizer', tfidf),\n",
    "                       ('bayes', tfidfbayes)])\n",
    "\n",
    "\n",
    "\n",
    "## Fit pipeline\n",
    "tfidf_pipe.fit(X_train, y_train)\n",
    "                      "
   ]
  },
  {
   "cell_type": "code",
   "execution_count": 18,
   "id": "c2ec7602-7b28-4b77-a982-164561b0a33d",
   "metadata": {},
   "outputs": [
    {
     "name": "stdout",
     "output_type": "stream",
     "text": [
      "----------------------------------------------------------------------\n",
      " Classification Metrics: Training Data\n",
      "----------------------------------------------------------------------\n",
      "              precision    recall  f1-score   support\n",
      "\n",
      " High_rating       0.98      0.97      0.98       827\n",
      "  Low_rating       0.97      0.98      0.98       827\n",
      "\n",
      "    accuracy                           0.98      1654\n",
      "   macro avg       0.98      0.98      0.98      1654\n",
      "weighted avg       0.98      0.98      0.98      1654\n",
      "\n"
     ]
    },
    {
     "data": {
      "image/png": "[encoded data removed]",
      "text/plain": [
       "<Figure size 600x400 with 2 Axes>"
      ]
     },
     "metadata": {},
     "output_type": "display_data"
    },
    {
     "name": "stdout",
     "output_type": "stream",
     "text": [
      "\n",
      "----------------------------------------------------------------------\n",
      " Classification Metrics: Test Data\n",
      "----------------------------------------------------------------------\n",
      "              precision    recall  f1-score   support\n",
      "\n",
      " High_rating       0.86      0.90      0.88       179\n",
      "  Low_rating       0.90      0.86      0.88       184\n",
      "\n",
      "    accuracy                           0.88       363\n",
      "   macro avg       0.88      0.88      0.88       363\n",
      "weighted avg       0.88      0.88      0.88       363\n",
      "\n"
     ]
    },
    {
     "data": {
      "image/png": "[encoded data removed]",
      "text/plain": [
       "<Figure size 600x400 with 2 Axes>"
      ]
     },
     "metadata": {},
     "output_type": "display_data"
    }
   ],
   "source": [
    "# Evaluate the tfidf_pipeline model\n",
    "fn.evaluate_classification(tfidf_pipe, X_train, y_train, X_test, y_test)"
   ]
  },
  {
   "cell_type": "markdown",
   "id": "6fd60383-65f6-4829-a60e-b5ff670f0f21",
   "metadata": {},
   "source": [
    "## `Build a Machine Learning Model`\n",
    "- Build a sklearn modeling pipeline with a text vectorizer and a classification model.\n",
    "    - Suggested Models: MultinomialNB, LogisticRegression (you may need to increase max_iter), RandomForestClassifier\n",
    "- Fit and evaluate the model using the machine learning classification models from sklearn.\n",
    "    - In a Markdown cell, document your observations from your results. (e.g., how good is the model overall? Is it particularly good/bad at predicting one class?)"
   ]
  },
  {
   "cell_type": "code",
   "execution_count": 19,
   "id": "57a81906-d01a-4603-bff9-7a04e57c6dfb",
   "metadata": {},
   "outputs": [
    {
     "data": {
      "text/plain": [
       "{'memory': None,\n",
       " 'steps': [('vectorizer', CountVectorizer()),\n",
       "  ('clf', RandomForestClassifier(class_weight='balanced'))],\n",
       " 'verbose': False,\n",
       " 'vectorizer': CountVectorizer(),\n",
       " 'clf': RandomForestClassifier(class_weight='balanced'),\n",
       " 'vectorizer__analyzer': 'word',\n",
       " 'vectorizer__binary': False,\n",
       " 'vectorizer__decode_error': 'strict',\n",
       " 'vectorizer__dtype': numpy.int64,\n",
       " 'vectorizer__encoding': 'utf-8',\n",
       " 'vectorizer__input': 'content',\n",
       " 'vectorizer__lowercase': True,\n",
       " 'vectorizer__max_df': 1.0,\n",
       " 'vectorizer__max_features': None,\n",
       " 'vectorizer__min_df': 1,\n",
       " 'vectorizer__ngram_range': (1, 1),\n",
       " 'vectorizer__preprocessor': None,\n",
       " 'vectorizer__stop_words': None,\n",
       " 'vectorizer__strip_accents': None,\n",
       " 'vectorizer__token_pattern': '(?u)\\\\b\\\\w\\\\w+\\\\b',\n",
       " 'vectorizer__tokenizer': None,\n",
       " 'vectorizer__vocabulary': None,\n",
       " 'clf__bootstrap': True,\n",
       " 'clf__ccp_alpha': 0.0,\n",
       " 'clf__class_weight': 'balanced',\n",
       " 'clf__criterion': 'gini',\n",
       " 'clf__max_depth': None,\n",
       " 'clf__max_features': 'sqrt',\n",
       " 'clf__max_leaf_nodes': None,\n",
       " 'clf__max_samples': None,\n",
       " 'clf__min_impurity_decrease': 0.0,\n",
       " 'clf__min_samples_leaf': 1,\n",
       " 'clf__min_samples_split': 2,\n",
       " 'clf__min_weight_fraction_leaf': 0.0,\n",
       " 'clf__n_estimators': 100,\n",
       " 'clf__n_jobs': None,\n",
       " 'clf__oob_score': False,\n",
       " 'clf__random_state': None,\n",
       " 'clf__verbose': 0,\n",
       " 'clf__warm_start': False}"
      ]
     },
     "execution_count": 19,
     "metadata": {},
     "output_type": "execute_result"
    }
   ],
   "source": [
    "from sklearn.ensemble import RandomForestClassifier\n",
    "rf_pipe  = fn.Pipeline([('vectorizer',CountVectorizer()),\n",
    "                    ('clf',RandomForestClassifier(class_weight='balanced'))])\n",
    "rf_pipe.get_params()"
   ]
  },
  {
   "cell_type": "code",
   "execution_count": 20,
   "id": "a36a8bea-0244-4267-a12a-11ad9b14c899",
   "metadata": {},
   "outputs": [
    {
     "ename": "NameError",
     "evalue": "name 'params_combined' is not defined",
     "output_type": "error",
     "traceback": [
      "\u001b[1;31m---------------------------------------------------------------------------\u001b[0m",
      "\u001b[1;31mNameError\u001b[0m                                 Traceback (most recent call last)",
      "File \u001b[1;32m<timed exec>:2\u001b[0m\n",
      "\u001b[1;31mNameError\u001b[0m: name 'params_combined' is not defined"
     ]
    }
   ],
   "source": [
    "%%time\n",
    "# Create grid search\n",
    "grid_search = fn.GridSearchCV(rf_pipe, params_combined, cv=3, verbose=1, n_jobs=-1)\n",
    "    \n",
    "    \n",
    "# Fit the model\n",
    "grid_search.fit(X_train, y_train)\n",
    "grid_search.best_params_"
   ]
  },
  {
   "cell_type": "code",
   "execution_count": 21,
   "id": "46b3cd43-893c-4266-9993-10af2f25e4f9",
   "metadata": {},
   "outputs": [
    {
     "ename": "NameError",
     "evalue": "name 'grid_search' is not defined",
     "output_type": "error",
     "traceback": [
      "\u001b[1;31m---------------------------------------------------------------------------\u001b[0m",
      "\u001b[1;31mNameError\u001b[0m                                 Traceback (most recent call last)",
      "Cell \u001b[1;32mIn[21], line 1\u001b[0m\n\u001b[1;32m----> 1\u001b[0m best_rf_pipe \u001b[38;5;241m=\u001b[39m \u001b[43mgrid_search\u001b[49m\u001b[38;5;241m.\u001b[39mbest_estimator_\n\u001b[0;32m      2\u001b[0m fn\u001b[38;5;241m.\u001b[39mevaluate_classification(best_rf_pipe, X_train, y_train, X_test, y_test)\n",
      "\u001b[1;31mNameError\u001b[0m: name 'grid_search' is not defined"
     ]
    }
   ],
   "source": [
    "best_rf_pipe = grid_search.best_estimator_\n",
    "fn.evaluate_classification(best_rf_pipe, X_train, y_train, X_test, y_test)"
   ]
  },
  {
   "cell_type": "markdown",
   "id": "338356a1-3b72-4197-a49e-d0be50f22386",
   "metadata": {},
   "source": [
    "## `GridSearch Text Vectorization`\n",
    "- Attempt to improve your model by tuning the text preprocessing steps."
   ]
  },
  {
   "cell_type": "code",
   "execution_count": null,
   "id": "554a47e6-5c50-4826-b75c-ea9d96c24192",
   "metadata": {},
   "outputs": [],
   "source": [
    "gs_pipe = Pipeline([('vectorizer',CountVectorizer()),\n",
    "                    ('clf',MultinomialNB())])\n",
    "gs_pipe.get_params()"
   ]
  },
  {
   "cell_type": "code",
   "execution_count": null,
   "id": "375332eb-e167-4569-bf60-6cd8679537b2",
   "metadata": {},
   "outputs": [],
   "source": [
    "# Define params to try for both vectorizers\n",
    "param_grid_shared = {\n",
    "    \"vectorizer__max_df\": [0.7, 0.8, 0.9],\n",
    "    'vectorizer__min_df': [ 2, 3, 4 ], \n",
    "    \"vectorizer__max_features\": [None, 1000, 2000],\n",
    "    \"vectorizer__stop_words\": [None,'english']\n",
    "}\n",
    "\n",
    "# Setting params for the count vectorizer\n",
    "param_grid_count = {\n",
    "    'vectorizer':[CountVectorizer()],\n",
    "    **param_grid_shared\n",
    "}\n",
    "\n",
    "\n",
    "# Setting params for tfidf vectorizer \n",
    "param_grid_tfidf = {\n",
    "    'vectorizer': [TfidfVectorizer()],\n",
    "    \"vectorizer__norm\": [\"l1\", \"l2\"],\n",
    "    \"vectorizer__use_idf\": [True, False],\n",
    "    **param_grid_shared\n",
    "}\n",
    "\n",
    "# combine into list of params\n",
    "params_combined = [param_grid_count, param_grid_tfidf]\n",
    "params_combined"
   ]
  },
  {
   "cell_type": "code",
   "execution_count": null,
   "id": "2177a6bd-1c9f-4f56-9f47-2684dd26d659",
   "metadata": {},
   "outputs": [],
   "source": [
    "%%time\n",
    "# Create grid search\n",
    "grid_search = GridSearchCV(gs_pipe, params_combined, cv=3, verbose=1, n_jobs=-1)\n",
    "    \n",
    "    \n",
    "# Fit the model\n",
    "grid_search.fit(X_train, y_train)\n",
    "grid_search.best_params_"
   ]
  },
  {
   "cell_type": "code",
   "execution_count": null,
   "id": "24fe131c-dcdd-457a-b4b5-07ac56241a2e",
   "metadata": {},
   "outputs": [],
   "source": [
    "# Evaluate the best estimator\n",
    "best_gs_pipe = grid_search.best_estimator_\n",
    "evaluate_classification(best_gs_pipe, X_train, y_train, X_test, y_test)"
   ]
  },
  {
   "cell_type": "markdown",
   "id": "38bf232c-2c70-4e68-af46-34e01491613a",
   "metadata": {},
   "source": [
    "### `Construct a grid of parameters for the text vectorization step. Consider trying:`"
   ]
  },
  {
   "cell_type": "code",
   "execution_count": null,
   "id": "a7e9530e-729f-4085-9e35-388dfcf07042",
   "metadata": {},
   "outputs": [],
   "source": [
    "# CountVectorizer/TfidVectorizer"
   ]
  },
  {
   "cell_type": "code",
   "execution_count": null,
   "id": "fa20b437-14c8-40f6-b3c6-5351e48001f5",
   "metadata": {},
   "outputs": [],
   "source": [
    "# Stopwords"
   ]
  },
  {
   "cell_type": "code",
   "execution_count": null,
   "id": "fc26940d-8d20-4cef-abbf-8665acb56d23",
   "metadata": {},
   "outputs": [],
   "source": [
    "# Ngrams_range"
   ]
  },
  {
   "cell_type": "code",
   "execution_count": null,
   "id": "d4eb1d59-75f6-4f21-84dc-3e3806a7481b",
   "metadata": {},
   "outputs": [],
   "source": [
    "# Min_df/max_df"
   ]
  },
  {
   "cell_type": "markdown",
   "id": "3f60638a-7247-4edf-9bcd-8681f2320cc9",
   "metadata": {},
   "source": [
    "### `Fit and evaluate the grid search results:`"
   ]
  },
  {
   "cell_type": "code",
   "execution_count": null,
   "id": "238cf4c4-facc-48d0-8a50-2ce3db044f9c",
   "metadata": {},
   "outputs": [],
   "source": [
    "# What were the best parameters?\n"
   ]
  },
  {
   "cell_type": "code",
   "execution_count": null,
   "id": "fe6a4efb-9401-4f18-9732-d7e3f564f7ef",
   "metadata": {},
   "outputs": [],
   "source": [
    "# How does the best estimator perform when evaluated on the training and test data?"
   ]
  },
  {
   "cell_type": "code",
   "execution_count": null,
   "id": "25814293-c4fa-455e-8127-25505670f0a1",
   "metadata": {},
   "outputs": [],
   "source": []
  },
  {
   "cell_type": "code",
   "execution_count": null,
   "id": "2d8f8160-c2dd-406f-b932-9881bd9e6649",
   "metadata": {},
   "outputs": [],
   "source": []
  },
  {
   "cell_type": "code",
   "execution_count": null,
   "id": "4299bef1-a134-4dae-8842-6a85c54fb08c",
   "metadata": {},
   "outputs": [],
   "source": []
  },
  {
   "cell_type": "markdown",
   "id": "332075cf-ed78-4d6a-836b-d353549f4dfb",
   "metadata": {},
   "source": [
    "# <u>Deep NLP (RNNs):\n",
    "- For this part of the project, you will use the a Keras TextVectorization layer as part of your RNN model.\n",
    "- This serves the same purpose as using sklearn pipeline:\n",
    "    - `It bundles text preparation into the model, making it deployment-ready."
   ]
  },
  {
   "cell_type": "markdown",
   "id": "b33a56b2-4091-4c62-836f-86ea13668e69",
   "metadata": {},
   "source": [
    "#### Create train/test/val datasets:"
   ]
  },
  {
   "cell_type": "code",
   "execution_count": null,
   "id": "8d4007ef-c8ca-4a86-8c15-25eadae6302a",
   "metadata": {},
   "outputs": [],
   "source": []
  },
  {
   "cell_type": "code",
   "execution_count": null,
   "id": "c0767898-0c85-4517-9b49-5060623cfb67",
   "metadata": {},
   "outputs": [],
   "source": []
  },
  {
   "cell_type": "code",
   "execution_count": null,
   "id": "ff39eaa6-75f6-43b0-9c81-9db16daa238c",
   "metadata": {},
   "outputs": [],
   "source": []
  },
  {
   "cell_type": "markdown",
   "id": "9f5159fb-5127-4514-b038-b4a31deca10f",
   "metadata": {},
   "source": [
    "#### Create a Keras Text Vectorization layer:"
   ]
  },
  {
   "cell_type": "code",
   "execution_count": null,
   "id": "07cbcec3-322f-4088-ade3-327a858469f6",
   "metadata": {},
   "outputs": [],
   "source": []
  },
  {
   "cell_type": "code",
   "execution_count": null,
   "id": "9f226032-2d96-4c95-b455-0e7771036c47",
   "metadata": {},
   "outputs": [],
   "source": []
  },
  {
   "cell_type": "code",
   "execution_count": null,
   "id": "8e535771-3c94-487d-bff5-7d67ff1ab5e0",
   "metadata": {},
   "outputs": [],
   "source": []
  },
  {
   "cell_type": "code",
   "execution_count": null,
   "id": "1f998191-9d61-4ecc-b580-e9890c917376",
   "metadata": {},
   "outputs": [],
   "source": []
  },
  {
   "cell_type": "markdown",
   "id": "7d40ee02-4e2a-42d1-93e9-2f0fc06da4cf",
   "metadata": {},
   "source": [
    "#### Build an RNN with the TextVectorization Layer:"
   ]
  },
  {
   "cell_type": "code",
   "execution_count": null,
   "id": "162b730d-e6e2-4518-a67e-b698c9e012c0",
   "metadata": {},
   "outputs": [],
   "source": []
  },
  {
   "cell_type": "code",
   "execution_count": null,
   "id": "69b2d871-59bd-462c-ac9f-975549a8a4ce",
   "metadata": {},
   "outputs": [],
   "source": []
  },
  {
   "cell_type": "code",
   "execution_count": null,
   "id": "99db3ba7-59bb-40e0-b36b-c1999a56033a",
   "metadata": {},
   "outputs": [],
   "source": []
  },
  {
   "cell_type": "code",
   "execution_count": null,
   "id": "ad83e424-0ea7-4bb0-a70e-af5966c9ffb2",
   "metadata": {},
   "outputs": [],
   "source": []
  },
  {
   "cell_type": "markdown",
   "id": "3f776d61-a6a5-48cb-9227-bb456dae7dd4",
   "metadata": {},
   "source": [
    "#### Deliverables:\n",
    "1. New Notebook file for text classification\n",
    "    - These should be submitted as the link to a repository with an appropriate name `(NOT ProJECT 2)`"
   ]
  },
  {
   "cell_type": "code",
   "execution_count": null,
   "id": "2eccd262-fda6-4e67-ab52-2427a5bbf8f4",
   "metadata": {},
   "outputs": [],
   "source": []
  }
 ],
 "metadata": {
  "kernelspec": {
   "display_name": "Python (dojo-env)",
   "language": "python",
   "name": "dojo-env"
  },
  "language_info": {
   "codemirror_mode": {
    "name": "ipython",
    "version": 3
   },
   "file_extension": ".py",
   "mimetype": "text/x-python",
   "name": "python",
   "nbconvert_exporter": "python",
   "pygments_lexer": "ipython3",
   "version": "3.10.11"
  },
  "widgets": {
   "application/vnd.jupyter.widget-state+json": {
    "state": {},
    "version_major": 2,
    "version_minor": 0
   }
  }
 },
 "nbformat": 4,
 "nbformat_minor": 5
}
