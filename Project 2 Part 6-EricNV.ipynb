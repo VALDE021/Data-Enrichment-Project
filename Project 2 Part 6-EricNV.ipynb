{
 "cells": [
  {
   "cell_type": "markdown",
   "id": "deb8f5b9-4b3b-4312-b45a-92e9b67c77a0",
   "metadata": {},
   "source": [
    "# <u><center>Project 2 Part 6 Core\n",
    "- Authored by: Eric N. Valdez\n",
    "- Date: 4/12/2024"
   ]
  },
  {
   "cell_type": "markdown",
   "id": "dbcf16bd-8439-42f6-98e1-ba4109fde4da",
   "metadata": {},
   "source": [
    "## <u>Instructions\n",
    "For this part of the project, you will be using machine learning and deep NLP to classify the reviews."
   ]
  },
  {
   "cell_type": "markdown",
   "id": "a9be9e68-5e53-44d7-97b6-9d218e7de7b1",
   "metadata": {},
   "source": [
    "# Imports:"
   ]
  },
  {
   "cell_type": "code",
   "execution_count": 8,
   "id": "87ab6425-6c58-4835-9705-f1e0c809483f",
   "metadata": {},
   "outputs": [
    {
     "name": "stdout",
     "output_type": "stream",
     "text": [
      "The autoreload extension is already loaded. To reload it, use:\n",
      "  %reload_ext autoreload\n"
     ]
    }
   ],
   "source": [
    "import joblib\n",
    "%load_ext autoreload\n",
    "%autoreload 2\n",
    "import movie_functions as fn"
   ]
  },
  {
   "cell_type": "markdown",
   "id": "2bce3ba3-29e8-4ab5-8fc9-ad256d6125b4",
   "metadata": {},
   "source": [
    "# Load and Clean Data\n",
    "- Use the original review column as your X and the classification target (High/Low Rating Reviews) as your y:"
   ]
  },
  {
   "cell_type": "code",
   "execution_count": 9,
   "id": "9f22a6b3-bf19-4198-a505-f8d56e12273d",
   "metadata": {},
   "outputs": [
    {
     "name": "stdout",
     "output_type": "stream",
     "text": [
      "<class 'pandas.core.frame.DataFrame'>\n",
      "Int64Index: 8650 entries, 843 to 575264\n",
      "Data columns (total 8 columns):\n",
      " #   Column          Non-Null Count  Dtype  \n",
      "---  ------          --------------  -----  \n",
      " 0   original_title  8650 non-null   object \n",
      " 1   review          8650 non-null   object \n",
      " 2   rating          7454 non-null   float64\n",
      " 3   ratings         2419 non-null   object \n",
      " 4   tokens          8650 non-null   object \n",
      " 5   lemmatized      8650 non-null   object \n",
      " 6   tokens-joined   8650 non-null   object \n",
      " 7   lemmas-joined   8650 non-null   object \n",
      "dtypes: float64(1), object(7)\n",
      "memory usage: 608.2+ KB\n"
     ]
    },
    {
     "data": {
      "text/html": [
       "<div>\n",
       "<style scoped>\n",
       "    .dataframe tbody tr th:only-of-type {\n",
       "        vertical-align: middle;\n",
       "    }\n",
       "\n",
       "    .dataframe tbody tr th {\n",
       "        vertical-align: top;\n",
       "    }\n",
       "\n",
       "    .dataframe thead th {\n",
       "        text-align: right;\n",
       "    }\n",
       "</style>\n",
       "<table border=\"1\" class=\"dataframe\">\n",
       "  <thead>\n",
       "    <tr style=\"text-align: right;\">\n",
       "      <th></th>\n",
       "      <th>original_title</th>\n",
       "      <th>review</th>\n",
       "      <th>rating</th>\n",
       "      <th>ratings</th>\n",
       "      <th>tokens</th>\n",
       "      <th>lemmatized</th>\n",
       "      <th>tokens-joined</th>\n",
       "      <th>lemmas-joined</th>\n",
       "    </tr>\n",
       "    <tr>\n",
       "      <th>movie_id</th>\n",
       "      <th></th>\n",
       "      <th></th>\n",
       "      <th></th>\n",
       "      <th></th>\n",
       "      <th></th>\n",
       "      <th></th>\n",
       "      <th></th>\n",
       "      <th></th>\n",
       "    </tr>\n",
       "  </thead>\n",
       "  <tbody>\n",
       "    <tr>\n",
       "      <th>843</th>\n",
       "      <td>花樣年華</td>\n",
       "      <td>This is a fine piece of cinema from Wong Kar-Wai that tells us a story of two people whom circumstance throws together - but not in a way you might expect. We start with two couples who move into a new building. One a newspaper man with his wife, the other a business executive and his wife. The ...</td>\n",
       "      <td>7.0</td>\n",
       "      <td>None</td>\n",
       "      <td>[fine, piece, cinema, wong, kar, wai, tell, story, people, circumstance, throw, way, expect, start, couple, new, building, newspaper, man, wife, business, executive, wife, businessman, rarely, home, journalist, wife, leave, increasingly, loose, end, long, friendship, develop, usually, noodle, en...</td>\n",
       "      <td>[fine, piece, cinema, wong, kar, wai, tell, story, people, circumstance, throw, way, expect, start, couple, new, building, newspaper, man, wife, business, executive, wife, businessman, rarely, home, journalist, wife, leave, increasingly, loose, end, long, friendship, develop, usually, noodle, en...</td>\n",
       "      <td>fine piece cinema wong kar wai tell story people circumstance throw way expect start couple new building newspaper man wife business executive wife businessman rarely home journalist wife leave increasingly loose end long friendship develop usually noodle entirely platonic relationship solid tru...</td>\n",
       "      <td>fine piece cinema wong kar wai tell story people circumstance throw way expect start couple new building newspaper man wife business executive wife businessman rarely home journalist wife leave increasingly loose end long friendship develop usually noodle entirely platonic relationship solid tru...</td>\n",
       "    </tr>\n",
       "    <tr>\n",
       "      <th>7443</th>\n",
       "      <td>Chicken Run</td>\n",
       "      <td>A guilty pleasure for me personally, as I love both 'The Great Escape' and most of the works I have seen, over the years, from this rightfully-esteemed British animation company. Highly recommended both for children and for adults who enjoy animation.</td>\n",
       "      <td>9.0</td>\n",
       "      <td>High_rating</td>\n",
       "      <td>[guilty, pleasure, personally, love, great, escape, work, see, year, rightfully, esteem, british, animation, company, highly, recommend, child, adult, enjoy, animation]</td>\n",
       "      <td>[guilty, pleasure, personally, love, great, escape, work, see, year, rightfully, esteem, british, animation, company, highly, recommend, child, adult, enjoy, animation]</td>\n",
       "      <td>guilty pleasure personally love great escape work see year rightfully esteem british animation company highly recommend child adult enjoy animation</td>\n",
       "      <td>guilty pleasure personally love great escape work see year rightfully esteem british animation company highly recommend child adult enjoy animation</td>\n",
       "    </tr>\n",
       "    <tr>\n",
       "      <th>7443</th>\n",
       "      <td>Chicken Run</td>\n",
       "      <td>Made my roommate who hates stop-motion animation watched this in 2018 and even he had a good time. It's maybe not as great as I remember thinking it was when I was a little kid, but it still holds up to some degree.\\r\\n\\r\\n_Final rating:★★★ - I liked it. Would personally recommend you give it a ...</td>\n",
       "      <td>6.0</td>\n",
       "      <td>None</td>\n",
       "      <td>[roommate, hate, stop, motion, animation, watch, 2018, good, time, maybe, great, remember, think, little, kid, hold, degree, final, rating, ★, ★, ★, like, personally, recommend]</td>\n",
       "      <td>[roommate, hate, stop, motion, animation, watch, 2018, good, time, maybe, great, remember, think, little, kid, hold, degree, final, rating, ★, ★, ★, like, personally, recommend]</td>\n",
       "      <td>roommate hate stop motion animation watch 2018 good time maybe great remember think little kid hold degree final rating ★ ★ ★ like personally recommend</td>\n",
       "      <td>roommate hate stop motion animation watch 2018 good time maybe great remember think little kid hold degree final rating ★ ★ ★ like personally recommend</td>\n",
       "    </tr>\n",
       "    <tr>\n",
       "      <th>7443</th>\n",
       "      <td>Chicken Run</td>\n",
       "      <td>A very good stop-motion animation!\\r\\n\\r\\n&lt;em&gt;'Chicken Run'&lt;/em&gt;, which I watched a crap tonne when I was little but not for a vast number of years now, is an impressive production given it came out in 2000. Despite a pretty simple feel to the film, it's a very well developed concept.\\r\\n\\r\\nThe...</td>\n",
       "      <td>8.0</td>\n",
       "      <td>None</td>\n",
       "      <td>[good, stop, motion, animation, &lt;, em&gt;'chicken, run'&lt;/em, &gt;, watch, crap, tonne, little, vast, number, year, impressive, production, give, come, 2000, despite, pretty, simple, feel, film, develop, concept, admittedly, short, run, time, truly, fly, course, look, relatively, terrific, impress, pac...</td>\n",
       "      <td>[good, stop, motion, animation, &lt;, em&gt;'chicken, run'&lt;/em, &gt;, watch, crap, tonne, little, vast, number, year, impressive, production, give, come, 2000, despite, pretty, simple, feel, film, develop, concept, admittedly, short, run, time, truly, fly, course, look, relatively, terrific, impress, pac...</td>\n",
       "      <td>good stop motion animation &lt; em&gt;'chicken run'&lt;/em &gt; watch crap tonne little vast number year impressive production give come 2000 despite pretty simple feel film develop concept admittedly short run time truly fly course look relatively terrific impress pacing clean cast julia sawalha definite s...</td>\n",
       "      <td>good stop motion animation &lt; em&gt;'chicken run'&lt;/em &gt; watch crap tonne little vast number year impressive production give come 2000 despite pretty simple feel film develop concept admittedly short run time truly fly course look relatively terrific impress pacing clean cast julia sawalha definite s...</td>\n",
       "    </tr>\n",
       "    <tr>\n",
       "      <th>7443</th>\n",
       "      <td>Chicken Run</td>\n",
       "      <td>Ok, there is an huge temptation to riddle this review with puns - but I'm just going to say it's a cracking little family adventure. It's seemingly based on a whole range of classic movies from the \"Great Escape\", \"Star Trek\" to \"Love Story\" with a score cannibalised from just about any/everythi...</td>\n",
       "      <td>7.0</td>\n",
       "      <td>None</td>\n",
       "      <td>[ok, huge, temptation, riddle, review, pun, go, crack, little, family, adventure, seemingly, base, range, classic, movie, great, escape, star, trek, love, story, score, cannibalise, write, messrs., korngold, williams, bernstein, add, super, stop, motion, animation, ray, harryhausen, proud, flock...</td>\n",
       "      <td>[ok, huge, temptation, riddle, review, pun, go, crack, little, family, adventure, seemingly, base, range, classic, movie, great, escape, star, trek, love, story, score, cannibalise, write, messrs., korngold, williams, bernstein, add, super, stop, motion, animation, ray, harryhausen, proud, flock...</td>\n",
       "      <td>ok huge temptation riddle review pun go crack little family adventure seemingly base range classic movie great escape star trek love story score cannibalise write messrs. korngold williams bernstein add super stop motion animation ray harryhausen proud flock chicken relentlessly exploit egg evil...</td>\n",
       "      <td>ok huge temptation riddle review pun go crack little family adventure seemingly base range classic movie great escape star trek love story score cannibalise write messrs. korngold williams bernstein add super stop motion animation ray harryhausen proud flock chicken relentlessly exploit egg evil...</td>\n",
       "    </tr>\n",
       "  </tbody>\n",
       "</table>\n",
       "</div>"
      ],
      "text/plain": [
       "         original_title  \\\n",
       "movie_id                  \n",
       "843                花樣年華   \n",
       "7443        Chicken Run   \n",
       "7443        Chicken Run   \n",
       "7443        Chicken Run   \n",
       "7443        Chicken Run   \n",
       "\n",
       "                                                                                                                                                                                                                                                                                                               review  \\\n",
       "movie_id                                                                                                                                                                                                                                                                                                                \n",
       "843       This is a fine piece of cinema from Wong Kar-Wai that tells us a story of two people whom circumstance throws together - but not in a way you might expect. We start with two couples who move into a new building. One a newspaper man with his wife, the other a business executive and his wife. The ...   \n",
       "7443                                                      A guilty pleasure for me personally, as I love both 'The Great Escape' and most of the works I have seen, over the years, from this rightfully-esteemed British animation company. Highly recommended both for children and for adults who enjoy animation.   \n",
       "7443      Made my roommate who hates stop-motion animation watched this in 2018 and even he had a good time. It's maybe not as great as I remember thinking it was when I was a little kid, but it still holds up to some degree.\\r\\n\\r\\n_Final rating:★★★ - I liked it. Would personally recommend you give it a ...   \n",
       "7443      A very good stop-motion animation!\\r\\n\\r\\n<em>'Chicken Run'</em>, which I watched a crap tonne when I was little but not for a vast number of years now, is an impressive production given it came out in 2000. Despite a pretty simple feel to the film, it's a very well developed concept.\\r\\n\\r\\nThe...   \n",
       "7443      Ok, there is an huge temptation to riddle this review with puns - but I'm just going to say it's a cracking little family adventure. It's seemingly based on a whole range of classic movies from the \"Great Escape\", \"Star Trek\" to \"Love Story\" with a score cannibalised from just about any/everythi...   \n",
       "\n",
       "          rating      ratings  \\\n",
       "movie_id                        \n",
       "843          7.0         None   \n",
       "7443         9.0  High_rating   \n",
       "7443         6.0         None   \n",
       "7443         8.0         None   \n",
       "7443         7.0         None   \n",
       "\n",
       "                                                                                                                                                                                                                                                                                                               tokens  \\\n",
       "movie_id                                                                                                                                                                                                                                                                                                                \n",
       "843       [fine, piece, cinema, wong, kar, wai, tell, story, people, circumstance, throw, way, expect, start, couple, new, building, newspaper, man, wife, business, executive, wife, businessman, rarely, home, journalist, wife, leave, increasingly, loose, end, long, friendship, develop, usually, noodle, en...   \n",
       "7443                                                                                                                                         [guilty, pleasure, personally, love, great, escape, work, see, year, rightfully, esteem, british, animation, company, highly, recommend, child, adult, enjoy, animation]   \n",
       "7443                                                                                                                                [roommate, hate, stop, motion, animation, watch, 2018, good, time, maybe, great, remember, think, little, kid, hold, degree, final, rating, ★, ★, ★, like, personally, recommend]   \n",
       "7443      [good, stop, motion, animation, <, em>'chicken, run'</em, >, watch, crap, tonne, little, vast, number, year, impressive, production, give, come, 2000, despite, pretty, simple, feel, film, develop, concept, admittedly, short, run, time, truly, fly, course, look, relatively, terrific, impress, pac...   \n",
       "7443      [ok, huge, temptation, riddle, review, pun, go, crack, little, family, adventure, seemingly, base, range, classic, movie, great, escape, star, trek, love, story, score, cannibalise, write, messrs., korngold, williams, bernstein, add, super, stop, motion, animation, ray, harryhausen, proud, flock...   \n",
       "\n",
       "                                                                                                                                                                                                                                                                                                           lemmatized  \\\n",
       "movie_id                                                                                                                                                                                                                                                                                                                \n",
       "843       [fine, piece, cinema, wong, kar, wai, tell, story, people, circumstance, throw, way, expect, start, couple, new, building, newspaper, man, wife, business, executive, wife, businessman, rarely, home, journalist, wife, leave, increasingly, loose, end, long, friendship, develop, usually, noodle, en...   \n",
       "7443                                                                                                                                         [guilty, pleasure, personally, love, great, escape, work, see, year, rightfully, esteem, british, animation, company, highly, recommend, child, adult, enjoy, animation]   \n",
       "7443                                                                                                                                [roommate, hate, stop, motion, animation, watch, 2018, good, time, maybe, great, remember, think, little, kid, hold, degree, final, rating, ★, ★, ★, like, personally, recommend]   \n",
       "7443      [good, stop, motion, animation, <, em>'chicken, run'</em, >, watch, crap, tonne, little, vast, number, year, impressive, production, give, come, 2000, despite, pretty, simple, feel, film, develop, concept, admittedly, short, run, time, truly, fly, course, look, relatively, terrific, impress, pac...   \n",
       "7443      [ok, huge, temptation, riddle, review, pun, go, crack, little, family, adventure, seemingly, base, range, classic, movie, great, escape, star, trek, love, story, score, cannibalise, write, messrs., korngold, williams, bernstein, add, super, stop, motion, animation, ray, harryhausen, proud, flock...   \n",
       "\n",
       "                                                                                                                                                                                                                                                                                                        tokens-joined  \\\n",
       "movie_id                                                                                                                                                                                                                                                                                                                \n",
       "843       fine piece cinema wong kar wai tell story people circumstance throw way expect start couple new building newspaper man wife business executive wife businessman rarely home journalist wife leave increasingly loose end long friendship develop usually noodle entirely platonic relationship solid tru...   \n",
       "7443                                                                                                                                                              guilty pleasure personally love great escape work see year rightfully esteem british animation company highly recommend child adult enjoy animation   \n",
       "7443                                                                                                                                                          roommate hate stop motion animation watch 2018 good time maybe great remember think little kid hold degree final rating ★ ★ ★ like personally recommend   \n",
       "7443      good stop motion animation < em>'chicken run'</em > watch crap tonne little vast number year impressive production give come 2000 despite pretty simple feel film develop concept admittedly short run time truly fly course look relatively terrific impress pacing clean cast julia sawalha definite s...   \n",
       "7443      ok huge temptation riddle review pun go crack little family adventure seemingly base range classic movie great escape star trek love story score cannibalise write messrs. korngold williams bernstein add super stop motion animation ray harryhausen proud flock chicken relentlessly exploit egg evil...   \n",
       "\n",
       "                                                                                                                                                                                                                                                                                                        lemmas-joined  \n",
       "movie_id                                                                                                                                                                                                                                                                                                               \n",
       "843       fine piece cinema wong kar wai tell story people circumstance throw way expect start couple new building newspaper man wife business executive wife businessman rarely home journalist wife leave increasingly loose end long friendship develop usually noodle entirely platonic relationship solid tru...  \n",
       "7443                                                                                                                                                              guilty pleasure personally love great escape work see year rightfully esteem british animation company highly recommend child adult enjoy animation  \n",
       "7443                                                                                                                                                          roommate hate stop motion animation watch 2018 good time maybe great remember think little kid hold degree final rating ★ ★ ★ like personally recommend  \n",
       "7443      good stop motion animation < em>'chicken run'</em > watch crap tonne little vast number year impressive production give come 2000 despite pretty simple feel film develop concept admittedly short run time truly fly course look relatively terrific impress pacing clean cast julia sawalha definite s...  \n",
       "7443      ok huge temptation riddle review pun go crack little family adventure seemingly base range classic movie great escape star trek love story score cannibalise write messrs. korngold williams bernstein add super stop motion animation ray harryhausen proud flock chicken relentlessly exploit egg evil...  "
      ]
     },
     "execution_count": 9,
     "metadata": {},
     "output_type": "execute_result"
    }
   ],
   "source": [
    "# loading the joblib from part 5 of the project\n",
    "df = joblib.load('Data-NLP/processed_data.joblib')\n",
    "df.info()\n",
    "df.head()"
   ]
  },
  {
   "cell_type": "code",
   "execution_count": 10,
   "id": "8550dcbc-a3f8-41eb-9e97-0ec6665d7b15",
   "metadata": {},
   "outputs": [
    {
     "ename": "KeyError",
     "evalue": "'none'",
     "output_type": "error",
     "traceback": [
      "\u001b[1;31m---------------------------------------------------------------------------\u001b[0m",
      "\u001b[1;31mKeyError\u001b[0m                                  Traceback (most recent call last)",
      "File \u001b[1;32m~\\anaconda3\\envs\\dojo-env\\lib\\site-packages\\pandas\\core\\indexes\\base.py:3802\u001b[0m, in \u001b[0;36mIndex.get_loc\u001b[1;34m(self, key, method, tolerance)\u001b[0m\n\u001b[0;32m   3801\u001b[0m \u001b[38;5;28;01mtry\u001b[39;00m:\n\u001b[1;32m-> 3802\u001b[0m     \u001b[38;5;28;01mreturn\u001b[39;00m \u001b[38;5;28;43mself\u001b[39;49m\u001b[38;5;241;43m.\u001b[39;49m\u001b[43m_engine\u001b[49m\u001b[38;5;241;43m.\u001b[39;49m\u001b[43mget_loc\u001b[49m\u001b[43m(\u001b[49m\u001b[43mcasted_key\u001b[49m\u001b[43m)\u001b[49m\n\u001b[0;32m   3803\u001b[0m \u001b[38;5;28;01mexcept\u001b[39;00m \u001b[38;5;167;01mKeyError\u001b[39;00m \u001b[38;5;28;01mas\u001b[39;00m err:\n",
      "File \u001b[1;32m~\\anaconda3\\envs\\dojo-env\\lib\\site-packages\\pandas\\_libs\\index.pyx:138\u001b[0m, in \u001b[0;36mpandas._libs.index.IndexEngine.get_loc\u001b[1;34m()\u001b[0m\n",
      "File \u001b[1;32m~\\anaconda3\\envs\\dojo-env\\lib\\site-packages\\pandas\\_libs\\index.pyx:165\u001b[0m, in \u001b[0;36mpandas._libs.index.IndexEngine.get_loc\u001b[1;34m()\u001b[0m\n",
      "File \u001b[1;32mpandas\\_libs\\hashtable_class_helper.pxi:5745\u001b[0m, in \u001b[0;36mpandas._libs.hashtable.PyObjectHashTable.get_item\u001b[1;34m()\u001b[0m\n",
      "File \u001b[1;32mpandas\\_libs\\hashtable_class_helper.pxi:5753\u001b[0m, in \u001b[0;36mpandas._libs.hashtable.PyObjectHashTable.get_item\u001b[1;34m()\u001b[0m\n",
      "\u001b[1;31mKeyError\u001b[0m: 'none'",
      "\nThe above exception was the direct cause of the following exception:\n",
      "\u001b[1;31mKeyError\u001b[0m                                  Traceback (most recent call last)",
      "Cell \u001b[1;32mIn[10], line 2\u001b[0m\n\u001b[0;32m      1\u001b[0m \u001b[38;5;66;03m## Use the function to create a new \"rating\" column with groups\u001b[39;00m\n\u001b[1;32m----> 2\u001b[0m df[\u001b[38;5;124m'\u001b[39m\u001b[38;5;124mratings\u001b[39m\u001b[38;5;124m'\u001b[39m] \u001b[38;5;241m=\u001b[39m \u001b[43mdf\u001b[49m\u001b[43m[\u001b[49m\u001b[38;5;124;43m'\u001b[39;49m\u001b[38;5;124;43mnone\u001b[39;49m\u001b[38;5;124;43m'\u001b[39;49m\u001b[43m]\u001b[49m\u001b[38;5;241m.\u001b[39mmap(create_groups)\n\u001b[0;32m      3\u001b[0m df\u001b[38;5;241m.\u001b[39mhead()\n",
      "File \u001b[1;32m~\\anaconda3\\envs\\dojo-env\\lib\\site-packages\\pandas\\core\\frame.py:3807\u001b[0m, in \u001b[0;36mDataFrame.__getitem__\u001b[1;34m(self, key)\u001b[0m\n\u001b[0;32m   3805\u001b[0m \u001b[38;5;28;01mif\u001b[39;00m \u001b[38;5;28mself\u001b[39m\u001b[38;5;241m.\u001b[39mcolumns\u001b[38;5;241m.\u001b[39mnlevels \u001b[38;5;241m>\u001b[39m \u001b[38;5;241m1\u001b[39m:\n\u001b[0;32m   3806\u001b[0m     \u001b[38;5;28;01mreturn\u001b[39;00m \u001b[38;5;28mself\u001b[39m\u001b[38;5;241m.\u001b[39m_getitem_multilevel(key)\n\u001b[1;32m-> 3807\u001b[0m indexer \u001b[38;5;241m=\u001b[39m \u001b[38;5;28;43mself\u001b[39;49m\u001b[38;5;241;43m.\u001b[39;49m\u001b[43mcolumns\u001b[49m\u001b[38;5;241;43m.\u001b[39;49m\u001b[43mget_loc\u001b[49m\u001b[43m(\u001b[49m\u001b[43mkey\u001b[49m\u001b[43m)\u001b[49m\n\u001b[0;32m   3808\u001b[0m \u001b[38;5;28;01mif\u001b[39;00m is_integer(indexer):\n\u001b[0;32m   3809\u001b[0m     indexer \u001b[38;5;241m=\u001b[39m [indexer]\n",
      "File \u001b[1;32m~\\anaconda3\\envs\\dojo-env\\lib\\site-packages\\pandas\\core\\indexes\\base.py:3804\u001b[0m, in \u001b[0;36mIndex.get_loc\u001b[1;34m(self, key, method, tolerance)\u001b[0m\n\u001b[0;32m   3802\u001b[0m     \u001b[38;5;28;01mreturn\u001b[39;00m \u001b[38;5;28mself\u001b[39m\u001b[38;5;241m.\u001b[39m_engine\u001b[38;5;241m.\u001b[39mget_loc(casted_key)\n\u001b[0;32m   3803\u001b[0m \u001b[38;5;28;01mexcept\u001b[39;00m \u001b[38;5;167;01mKeyError\u001b[39;00m \u001b[38;5;28;01mas\u001b[39;00m err:\n\u001b[1;32m-> 3804\u001b[0m     \u001b[38;5;28;01mraise\u001b[39;00m \u001b[38;5;167;01mKeyError\u001b[39;00m(key) \u001b[38;5;28;01mfrom\u001b[39;00m \u001b[38;5;21;01merr\u001b[39;00m\n\u001b[0;32m   3805\u001b[0m \u001b[38;5;28;01mexcept\u001b[39;00m \u001b[38;5;167;01mTypeError\u001b[39;00m:\n\u001b[0;32m   3806\u001b[0m     \u001b[38;5;66;03m# If we have a listlike key, _check_indexing_error will raise\u001b[39;00m\n\u001b[0;32m   3807\u001b[0m     \u001b[38;5;66;03m#  InvalidIndexError. Otherwise we fall through and re-raise\u001b[39;00m\n\u001b[0;32m   3808\u001b[0m     \u001b[38;5;66;03m#  the TypeError.\u001b[39;00m\n\u001b[0;32m   3809\u001b[0m     \u001b[38;5;28mself\u001b[39m\u001b[38;5;241m.\u001b[39m_check_indexing_error(key)\n",
      "\u001b[1;31mKeyError\u001b[0m: 'none'"
     ]
    }
   ],
   "source": [
    "## Use the function to create a new \"rating\" column with groups\n",
    "df['ratings'] = df['none'].map(create_groups)\n",
    "df.head()"
   ]
  },
  {
   "cell_type": "code",
   "execution_count": null,
   "id": "7c8ef99e-793c-456c-9bdb-ad1d5e52b2ad",
   "metadata": {},
   "outputs": [],
   "source": []
  },
  {
   "cell_type": "code",
   "execution_count": 3,
   "id": "3512351b-908a-4694-9aaa-ceff54ac8e8d",
   "metadata": {},
   "outputs": [],
   "source": [
    "# Drop all Reviews that are 'None' Ratings"
   ]
  },
  {
   "cell_type": "code",
   "execution_count": null,
   "id": "dd382206-7d41-435a-9a57-a6513c5c7dac",
   "metadata": {},
   "outputs": [],
   "source": []
  },
  {
   "cell_type": "code",
   "execution_count": 4,
   "id": "cfe396f4-482b-47da-8a84-39830594b82f",
   "metadata": {},
   "outputs": [
    {
     "ename": "NameError",
     "evalue": "name 'reviews' is not defined",
     "output_type": "error",
     "traceback": [
      "\u001b[1;31m---------------------------------------------------------------------------\u001b[0m",
      "\u001b[1;31mNameError\u001b[0m                                 Traceback (most recent call last)",
      "Cell \u001b[1;32mIn[4], line 2\u001b[0m\n\u001b[0;32m      1\u001b[0m \u001b[38;5;66;03m# Define X and y\u001b[39;00m\n\u001b[1;32m----> 2\u001b[0m X \u001b[38;5;241m=\u001b[39m \u001b[43mreviews\u001b[49m\n\u001b[0;32m      3\u001b[0m y \u001b[38;5;241m=\u001b[39m ratings\n",
      "\u001b[1;31mNameError\u001b[0m: name 'reviews' is not defined"
     ]
    }
   ],
   "source": [
    "# # Define X and y\n",
    "# X = reviews\n",
    "# y = ratings"
   ]
  },
  {
   "cell_type": "code",
   "execution_count": null,
   "id": "a30011b8-715e-48ea-b2d9-4759a6b05132",
   "metadata": {},
   "outputs": [],
   "source": []
  },
  {
   "cell_type": "code",
   "execution_count": null,
   "id": "c596ccc3-41c6-4706-bdff-fd2f623c8089",
   "metadata": {},
   "outputs": [],
   "source": []
  },
  {
   "cell_type": "code",
   "execution_count": null,
   "id": "06897041-81a4-4cb0-a4ee-512bab47dcec",
   "metadata": {},
   "outputs": [],
   "source": []
  },
  {
   "cell_type": "markdown",
   "id": "567c9418-e95f-4581-a4dd-022bdd1734ae",
   "metadata": {},
   "source": [
    "# Machine Learning:\n",
    "- For this project, you will use modeling pipelines with the text vectorizer and model in the same pipelin.\n",
    "- This will make saving and uploading the models in a deployed application very easy."
   ]
  },
  {
   "cell_type": "code",
   "execution_count": null,
   "id": "6f8e2f29-1a42-4913-a343-8908dc3e8bc7",
   "metadata": {},
   "outputs": [],
   "source": []
  },
  {
   "cell_type": "code",
   "execution_count": null,
   "id": "b061fc1a-32bf-4a89-985f-9284ac44d491",
   "metadata": {},
   "outputs": [],
   "source": []
  },
  {
   "cell_type": "code",
   "execution_count": null,
   "id": "c10780d9-17ee-4d2a-92ca-208be46fbb30",
   "metadata": {},
   "outputs": [],
   "source": []
  },
  {
   "cell_type": "code",
   "execution_count": null,
   "id": "9a542853-2e1b-424f-b855-9e1fad1e5a5a",
   "metadata": {},
   "outputs": [],
   "source": []
  },
  {
   "cell_type": "code",
   "execution_count": null,
   "id": "df08d907-f8d9-4c55-a7f7-1b7b2c6b61cc",
   "metadata": {},
   "outputs": [],
   "source": []
  },
  {
   "cell_type": "code",
   "execution_count": null,
   "id": "b0376e75-453a-4a2e-8f08-566857da927d",
   "metadata": {},
   "outputs": [],
   "source": []
  },
  {
   "cell_type": "markdown",
   "id": "5ec821d3-d41a-43b1-80c4-1543c98b6d6a",
   "metadata": {},
   "source": [
    "## `Create a Text Vectorizer`\n",
    "- Select a sklearn vectorizer for your task.\n",
    "    - Remember to consider your preprocessing choices, such as using stopwords, ngram_range, etc."
   ]
  },
  {
   "cell_type": "code",
   "execution_count": null,
   "id": "744caf09-247d-48ef-afc6-f40825c719a6",
   "metadata": {},
   "outputs": [],
   "source": []
  },
  {
   "cell_type": "code",
   "execution_count": null,
   "id": "8ee6f72d-9fbc-4f01-aae8-789ce1a064cc",
   "metadata": {},
   "outputs": [],
   "source": []
  },
  {
   "cell_type": "markdown",
   "id": "6fd60383-65f6-4829-a60e-b5ff670f0f21",
   "metadata": {},
   "source": [
    "## `Build a Machine Learning Model`\n",
    "- Build a sklearn modeling pipeline with a text vectorizer and a classification model.\n",
    "    - Suggested Models: MultinomialNB, LogisticRegression (you may need to increase max_iter), RandomForestClassifier\n",
    "- Fit and evaluate the model using the machine learning classification models from sklearn.\n",
    "    - In a Markdown cell, document your observations from your results. (e.g., how good is the model overall? Is it particularly good/bad at predicting one class?)"
   ]
  },
  {
   "cell_type": "code",
   "execution_count": null,
   "id": "57a81906-d01a-4603-bff9-7a04e57c6dfb",
   "metadata": {},
   "outputs": [],
   "source": []
  },
  {
   "cell_type": "code",
   "execution_count": null,
   "id": "a36a8bea-0244-4267-a12a-11ad9b14c899",
   "metadata": {},
   "outputs": [],
   "source": []
  },
  {
   "cell_type": "code",
   "execution_count": null,
   "id": "46b3cd43-893c-4266-9993-10af2f25e4f9",
   "metadata": {},
   "outputs": [],
   "source": []
  },
  {
   "cell_type": "code",
   "execution_count": null,
   "id": "f9b344b6-f88d-4c8c-b055-81e706efc094",
   "metadata": {},
   "outputs": [],
   "source": []
  },
  {
   "cell_type": "code",
   "execution_count": null,
   "id": "1e432d98-1014-4468-beee-b5649cdeb26e",
   "metadata": {},
   "outputs": [],
   "source": []
  },
  {
   "cell_type": "markdown",
   "id": "338356a1-3b72-4197-a49e-d0be50f22386",
   "metadata": {},
   "source": [
    "## `GridSearch Text Vectorization`\n",
    "- Attempt to improve your model by tuning the text preprocessing steps."
   ]
  },
  {
   "cell_type": "code",
   "execution_count": null,
   "id": "554a47e6-5c50-4826-b75c-ea9d96c24192",
   "metadata": {},
   "outputs": [],
   "source": []
  },
  {
   "cell_type": "code",
   "execution_count": null,
   "id": "375332eb-e167-4569-bf60-6cd8679537b2",
   "metadata": {},
   "outputs": [],
   "source": []
  },
  {
   "cell_type": "code",
   "execution_count": null,
   "id": "2177a6bd-1c9f-4f56-9f47-2684dd26d659",
   "metadata": {},
   "outputs": [],
   "source": []
  },
  {
   "cell_type": "markdown",
   "id": "38bf232c-2c70-4e68-af46-34e01491613a",
   "metadata": {},
   "source": [
    "### `Construct a grid of parameters for the text vectorization step. Consider trying:`"
   ]
  },
  {
   "cell_type": "code",
   "execution_count": null,
   "id": "a7e9530e-729f-4085-9e35-388dfcf07042",
   "metadata": {},
   "outputs": [],
   "source": [
    "# CountVectorizer/TfidVectorizer"
   ]
  },
  {
   "cell_type": "code",
   "execution_count": null,
   "id": "fa20b437-14c8-40f6-b3c6-5351e48001f5",
   "metadata": {},
   "outputs": [],
   "source": [
    "# Stopwords"
   ]
  },
  {
   "cell_type": "code",
   "execution_count": null,
   "id": "fc26940d-8d20-4cef-abbf-8665acb56d23",
   "metadata": {},
   "outputs": [],
   "source": [
    "# Ngrams_range"
   ]
  },
  {
   "cell_type": "code",
   "execution_count": null,
   "id": "d4eb1d59-75f6-4f21-84dc-3e3806a7481b",
   "metadata": {},
   "outputs": [],
   "source": [
    "# Min_df/max_df"
   ]
  },
  {
   "cell_type": "markdown",
   "id": "3f60638a-7247-4edf-9bcd-8681f2320cc9",
   "metadata": {},
   "source": [
    "### `Fit and evaluate the grid search results:`"
   ]
  },
  {
   "cell_type": "code",
   "execution_count": null,
   "id": "238cf4c4-facc-48d0-8a50-2ce3db044f9c",
   "metadata": {},
   "outputs": [],
   "source": [
    "# What were the best parameters?\n"
   ]
  },
  {
   "cell_type": "code",
   "execution_count": null,
   "id": "fe6a4efb-9401-4f18-9732-d7e3f564f7ef",
   "metadata": {},
   "outputs": [],
   "source": [
    "# How does the best estimator perform when evaluated on the training and test data?"
   ]
  },
  {
   "cell_type": "code",
   "execution_count": null,
   "id": "25814293-c4fa-455e-8127-25505670f0a1",
   "metadata": {},
   "outputs": [],
   "source": []
  },
  {
   "cell_type": "code",
   "execution_count": null,
   "id": "2d8f8160-c2dd-406f-b932-9881bd9e6649",
   "metadata": {},
   "outputs": [],
   "source": []
  },
  {
   "cell_type": "code",
   "execution_count": null,
   "id": "4299bef1-a134-4dae-8842-6a85c54fb08c",
   "metadata": {},
   "outputs": [],
   "source": []
  },
  {
   "cell_type": "markdown",
   "id": "332075cf-ed78-4d6a-836b-d353549f4dfb",
   "metadata": {},
   "source": [
    "# <u>Deep NLP (RNNs):\n",
    "- For this part of the project, you will use the a Keras TextVectorization layer as part of your RNN model.\n",
    "- This serves the same purpose as using sklearn pipeline:\n",
    "    - `It bundles text preparation into the model, making it deployment-ready."
   ]
  },
  {
   "cell_type": "markdown",
   "id": "b33a56b2-4091-4c62-836f-86ea13668e69",
   "metadata": {},
   "source": [
    "#### Create train/test/val datasets:"
   ]
  },
  {
   "cell_type": "code",
   "execution_count": null,
   "id": "8d4007ef-c8ca-4a86-8c15-25eadae6302a",
   "metadata": {},
   "outputs": [],
   "source": []
  },
  {
   "cell_type": "code",
   "execution_count": null,
   "id": "c0767898-0c85-4517-9b49-5060623cfb67",
   "metadata": {},
   "outputs": [],
   "source": []
  },
  {
   "cell_type": "code",
   "execution_count": null,
   "id": "ff39eaa6-75f6-43b0-9c81-9db16daa238c",
   "metadata": {},
   "outputs": [],
   "source": []
  },
  {
   "cell_type": "markdown",
   "id": "9f5159fb-5127-4514-b038-b4a31deca10f",
   "metadata": {},
   "source": [
    "#### Create a Keras Text Vectorization layer:"
   ]
  },
  {
   "cell_type": "code",
   "execution_count": null,
   "id": "07cbcec3-322f-4088-ade3-327a858469f6",
   "metadata": {},
   "outputs": [],
   "source": []
  },
  {
   "cell_type": "code",
   "execution_count": null,
   "id": "9f226032-2d96-4c95-b455-0e7771036c47",
   "metadata": {},
   "outputs": [],
   "source": []
  },
  {
   "cell_type": "code",
   "execution_count": null,
   "id": "8e535771-3c94-487d-bff5-7d67ff1ab5e0",
   "metadata": {},
   "outputs": [],
   "source": []
  },
  {
   "cell_type": "code",
   "execution_count": null,
   "id": "1f998191-9d61-4ecc-b580-e9890c917376",
   "metadata": {},
   "outputs": [],
   "source": []
  },
  {
   "cell_type": "markdown",
   "id": "7d40ee02-4e2a-42d1-93e9-2f0fc06da4cf",
   "metadata": {},
   "source": [
    "#### Build an RNN with the TextVectorization Layer:"
   ]
  },
  {
   "cell_type": "code",
   "execution_count": null,
   "id": "162b730d-e6e2-4518-a67e-b698c9e012c0",
   "metadata": {},
   "outputs": [],
   "source": []
  },
  {
   "cell_type": "code",
   "execution_count": null,
   "id": "69b2d871-59bd-462c-ac9f-975549a8a4ce",
   "metadata": {},
   "outputs": [],
   "source": []
  },
  {
   "cell_type": "code",
   "execution_count": null,
   "id": "99db3ba7-59bb-40e0-b36b-c1999a56033a",
   "metadata": {},
   "outputs": [],
   "source": []
  },
  {
   "cell_type": "code",
   "execution_count": null,
   "id": "ad83e424-0ea7-4bb0-a70e-af5966c9ffb2",
   "metadata": {},
   "outputs": [],
   "source": []
  },
  {
   "cell_type": "markdown",
   "id": "3f776d61-a6a5-48cb-9227-bb456dae7dd4",
   "metadata": {},
   "source": [
    "#### Deliverables:\n",
    "1. New Notebook file for text classification\n",
    "    - These should be submitted as the link to a repository with an appropriate name `(NOT ProJECT 2)`"
   ]
  },
  {
   "cell_type": "code",
   "execution_count": null,
   "id": "2eccd262-fda6-4e67-ab52-2427a5bbf8f4",
   "metadata": {},
   "outputs": [],
   "source": []
  }
 ],
 "metadata": {
  "kernelspec": {
   "display_name": "Python (dojo-env)",
   "language": "python",
   "name": "dojo-env"
  },
  "language_info": {
   "codemirror_mode": {
    "name": "ipython",
    "version": 3
   },
   "file_extension": ".py",
   "mimetype": "text/x-python",
   "name": "python",
   "nbconvert_exporter": "python",
   "pygments_lexer": "ipython3",
   "version": "3.10.11"
  },
  "widgets": {
   "application/vnd.jupyter.widget-state+json": {
    "state": {},
    "version_major": 2,
    "version_minor": 0
   }
  }
 },
 "nbformat": 4,
 "nbformat_minor": 5
}
