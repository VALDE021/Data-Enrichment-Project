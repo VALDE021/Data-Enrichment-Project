{
 "cells": [
  {
   "cell_type": "markdown",
   "id": "deb8f5b9-4b3b-4312-b45a-92e9b67c77a0",
   "metadata": {},
   "source": [
    "# <u><center>Project 2 Part 6 Core\n",
    "- Authored by: Eric N. Valdez\n",
    "- Date: 4/12/2024"
   ]
  },
  {
   "cell_type": "markdown",
   "id": "dbcf16bd-8439-42f6-98e1-ba4109fde4da",
   "metadata": {},
   "source": [
    "## <u>Instructions\n",
    "For this part of the project, you will be using machine learning and deep NLP to classify the reviews."
   ]
  },
  {
   "cell_type": "markdown",
   "id": "a9be9e68-5e53-44d7-97b6-9d218e7de7b1",
   "metadata": {},
   "source": [
    "# Imports:"
   ]
  },
  {
   "cell_type": "code",
   "execution_count": 1,
   "id": "87ab6425-6c58-4835-9705-f1e0c809483f",
   "metadata": {},
   "outputs": [],
   "source": [
    "import joblib\n",
    "%load_ext autoreload\n",
    "%autoreload 2\n",
    "import movie_functions as fn"
   ]
  },
  {
   "cell_type": "code",
   "execution_count": 2,
   "id": "1b44d1b2-32bd-4094-89c4-f22e6c273a21",
   "metadata": {},
   "outputs": [],
   "source": [
    "%reload_ext autoreload"
   ]
  },
  {
   "cell_type": "markdown",
   "id": "2bce3ba3-29e8-4ab5-8fc9-ad256d6125b4",
   "metadata": {},
   "source": [
    "# Load and Clean Data\n",
    "- Use the original review column as your X and the classification target (High/Low Rating Reviews) as your y:"
   ]
  },
  {
   "cell_type": "code",
   "execution_count": 3,
   "id": "9f22a6b3-bf19-4198-a505-f8d56e12273d",
   "metadata": {},
   "outputs": [
    {
     "name": "stdout",
     "output_type": "stream",
     "text": [
      "<class 'pandas.core.frame.DataFrame'>\n",
      "Int64Index: 8650 entries, 843 to 575264\n",
      "Data columns (total 8 columns):\n",
      " #   Column          Non-Null Count  Dtype  \n",
      "---  ------          --------------  -----  \n",
      " 0   original_title  8650 non-null   object \n",
      " 1   review          8650 non-null   object \n",
      " 2   rating          7454 non-null   float64\n",
      " 3   ratings         2419 non-null   object \n",
      " 4   tokens          8650 non-null   object \n",
      " 5   lemmatized      8650 non-null   object \n",
      " 6   tokens-joined   8650 non-null   object \n",
      " 7   lemmas-joined   8650 non-null   object \n",
      "dtypes: float64(1), object(7)\n",
      "memory usage: 608.2+ KB\n"
     ]
    },
    {
     "data": {
      "text/html": [
       "<div>\n",
       "<style scoped>\n",
       "    .dataframe tbody tr th:only-of-type {\n",
       "        vertical-align: middle;\n",
       "    }\n",
       "\n",
       "    .dataframe tbody tr th {\n",
       "        vertical-align: top;\n",
       "    }\n",
       "\n",
       "    .dataframe thead th {\n",
       "        text-align: right;\n",
       "    }\n",
       "</style>\n",
       "<table border=\"1\" class=\"dataframe\">\n",
       "  <thead>\n",
       "    <tr style=\"text-align: right;\">\n",
       "      <th></th>\n",
       "      <th>original_title</th>\n",
       "      <th>review</th>\n",
       "      <th>rating</th>\n",
       "      <th>ratings</th>\n",
       "      <th>tokens</th>\n",
       "      <th>lemmatized</th>\n",
       "      <th>tokens-joined</th>\n",
       "      <th>lemmas-joined</th>\n",
       "    </tr>\n",
       "    <tr>\n",
       "      <th>movie_id</th>\n",
       "      <th></th>\n",
       "      <th></th>\n",
       "      <th></th>\n",
       "      <th></th>\n",
       "      <th></th>\n",
       "      <th></th>\n",
       "      <th></th>\n",
       "      <th></th>\n",
       "    </tr>\n",
       "  </thead>\n",
       "  <tbody>\n",
       "    <tr>\n",
       "      <th>843</th>\n",
       "      <td>花樣年華</td>\n",
       "      <td>This is a fine piece of cinema from Wong Kar-Wai that tells us a story of two people whom circumstance throws together - but not in a way you might expect. We start with two couples who move into a new building. One a newspaper man with his wife, the other a business executive and his wife. The ...</td>\n",
       "      <td>7.0</td>\n",
       "      <td>None</td>\n",
       "      <td>[fine, piece, cinema, wong, kar, wai, tell, story, people, circumstance, throw, way, expect, start, couple, new, building, newspaper, man, wife, business, executive, wife, businessman, rarely, home, journalist, wife, leave, increasingly, loose, end, long, friendship, develop, usually, noodle, en...</td>\n",
       "      <td>[fine, piece, cinema, wong, kar, wai, tell, story, people, circumstance, throw, way, expect, start, couple, new, building, newspaper, man, wife, business, executive, wife, businessman, rarely, home, journalist, wife, leave, increasingly, loose, end, long, friendship, develop, usually, noodle, en...</td>\n",
       "      <td>fine piece cinema wong kar wai tell story people circumstance throw way expect start couple new building newspaper man wife business executive wife businessman rarely home journalist wife leave increasingly loose end long friendship develop usually noodle entirely platonic relationship solid tru...</td>\n",
       "      <td>fine piece cinema wong kar wai tell story people circumstance throw way expect start couple new building newspaper man wife business executive wife businessman rarely home journalist wife leave increasingly loose end long friendship develop usually noodle entirely platonic relationship solid tru...</td>\n",
       "    </tr>\n",
       "    <tr>\n",
       "      <th>7443</th>\n",
       "      <td>Chicken Run</td>\n",
       "      <td>A guilty pleasure for me personally, as I love both 'The Great Escape' and most of the works I have seen, over the years, from this rightfully-esteemed British animation company. Highly recommended both for children and for adults who enjoy animation.</td>\n",
       "      <td>9.0</td>\n",
       "      <td>High_rating</td>\n",
       "      <td>[guilty, pleasure, personally, love, great, escape, work, see, year, rightfully, esteem, british, animation, company, highly, recommend, child, adult, enjoy, animation]</td>\n",
       "      <td>[guilty, pleasure, personally, love, great, escape, work, see, year, rightfully, esteem, british, animation, company, highly, recommend, child, adult, enjoy, animation]</td>\n",
       "      <td>guilty pleasure personally love great escape work see year rightfully esteem british animation company highly recommend child adult enjoy animation</td>\n",
       "      <td>guilty pleasure personally love great escape work see year rightfully esteem british animation company highly recommend child adult enjoy animation</td>\n",
       "    </tr>\n",
       "    <tr>\n",
       "      <th>7443</th>\n",
       "      <td>Chicken Run</td>\n",
       "      <td>Made my roommate who hates stop-motion animation watched this in 2018 and even he had a good time. It's maybe not as great as I remember thinking it was when I was a little kid, but it still holds up to some degree.\\r\\n\\r\\n_Final rating:★★★ - I liked it. Would personally recommend you give it a ...</td>\n",
       "      <td>6.0</td>\n",
       "      <td>None</td>\n",
       "      <td>[roommate, hate, stop, motion, animation, watch, 2018, good, time, maybe, great, remember, think, little, kid, hold, degree, final, rating, ★, ★, ★, like, personally, recommend]</td>\n",
       "      <td>[roommate, hate, stop, motion, animation, watch, 2018, good, time, maybe, great, remember, think, little, kid, hold, degree, final, rating, ★, ★, ★, like, personally, recommend]</td>\n",
       "      <td>roommate hate stop motion animation watch 2018 good time maybe great remember think little kid hold degree final rating ★ ★ ★ like personally recommend</td>\n",
       "      <td>roommate hate stop motion animation watch 2018 good time maybe great remember think little kid hold degree final rating ★ ★ ★ like personally recommend</td>\n",
       "    </tr>\n",
       "    <tr>\n",
       "      <th>7443</th>\n",
       "      <td>Chicken Run</td>\n",
       "      <td>A very good stop-motion animation!\\r\\n\\r\\n&lt;em&gt;'Chicken Run'&lt;/em&gt;, which I watched a crap tonne when I was little but not for a vast number of years now, is an impressive production given it came out in 2000. Despite a pretty simple feel to the film, it's a very well developed concept.\\r\\n\\r\\nThe...</td>\n",
       "      <td>8.0</td>\n",
       "      <td>None</td>\n",
       "      <td>[good, stop, motion, animation, &lt;, em&gt;'chicken, run'&lt;/em, &gt;, watch, crap, tonne, little, vast, number, year, impressive, production, give, come, 2000, despite, pretty, simple, feel, film, develop, concept, admittedly, short, run, time, truly, fly, course, look, relatively, terrific, impress, pac...</td>\n",
       "      <td>[good, stop, motion, animation, &lt;, em&gt;'chicken, run'&lt;/em, &gt;, watch, crap, tonne, little, vast, number, year, impressive, production, give, come, 2000, despite, pretty, simple, feel, film, develop, concept, admittedly, short, run, time, truly, fly, course, look, relatively, terrific, impress, pac...</td>\n",
       "      <td>good stop motion animation &lt; em&gt;'chicken run'&lt;/em &gt; watch crap tonne little vast number year impressive production give come 2000 despite pretty simple feel film develop concept admittedly short run time truly fly course look relatively terrific impress pacing clean cast julia sawalha definite s...</td>\n",
       "      <td>good stop motion animation &lt; em&gt;'chicken run'&lt;/em &gt; watch crap tonne little vast number year impressive production give come 2000 despite pretty simple feel film develop concept admittedly short run time truly fly course look relatively terrific impress pacing clean cast julia sawalha definite s...</td>\n",
       "    </tr>\n",
       "    <tr>\n",
       "      <th>7443</th>\n",
       "      <td>Chicken Run</td>\n",
       "      <td>Ok, there is an huge temptation to riddle this review with puns - but I'm just going to say it's a cracking little family adventure. It's seemingly based on a whole range of classic movies from the \"Great Escape\", \"Star Trek\" to \"Love Story\" with a score cannibalised from just about any/everythi...</td>\n",
       "      <td>7.0</td>\n",
       "      <td>None</td>\n",
       "      <td>[ok, huge, temptation, riddle, review, pun, go, crack, little, family, adventure, seemingly, base, range, classic, movie, great, escape, star, trek, love, story, score, cannibalise, write, messrs., korngold, williams, bernstein, add, super, stop, motion, animation, ray, harryhausen, proud, flock...</td>\n",
       "      <td>[ok, huge, temptation, riddle, review, pun, go, crack, little, family, adventure, seemingly, base, range, classic, movie, great, escape, star, trek, love, story, score, cannibalise, write, messrs., korngold, williams, bernstein, add, super, stop, motion, animation, ray, harryhausen, proud, flock...</td>\n",
       "      <td>ok huge temptation riddle review pun go crack little family adventure seemingly base range classic movie great escape star trek love story score cannibalise write messrs. korngold williams bernstein add super stop motion animation ray harryhausen proud flock chicken relentlessly exploit egg evil...</td>\n",
       "      <td>ok huge temptation riddle review pun go crack little family adventure seemingly base range classic movie great escape star trek love story score cannibalise write messrs. korngold williams bernstein add super stop motion animation ray harryhausen proud flock chicken relentlessly exploit egg evil...</td>\n",
       "    </tr>\n",
       "  </tbody>\n",
       "</table>\n",
       "</div>"
      ],
      "text/plain": [
       "         original_title  \\\n",
       "movie_id                  \n",
       "843                花樣年華   \n",
       "7443        Chicken Run   \n",
       "7443        Chicken Run   \n",
       "7443        Chicken Run   \n",
       "7443        Chicken Run   \n",
       "\n",
       "                                                                                                                                                                                                                                                                                                               review  \\\n",
       "movie_id                                                                                                                                                                                                                                                                                                                \n",
       "843       This is a fine piece of cinema from Wong Kar-Wai that tells us a story of two people whom circumstance throws together - but not in a way you might expect. We start with two couples who move into a new building. One a newspaper man with his wife, the other a business executive and his wife. The ...   \n",
       "7443                                                      A guilty pleasure for me personally, as I love both 'The Great Escape' and most of the works I have seen, over the years, from this rightfully-esteemed British animation company. Highly recommended both for children and for adults who enjoy animation.   \n",
       "7443      Made my roommate who hates stop-motion animation watched this in 2018 and even he had a good time. It's maybe not as great as I remember thinking it was when I was a little kid, but it still holds up to some degree.\\r\\n\\r\\n_Final rating:★★★ - I liked it. Would personally recommend you give it a ...   \n",
       "7443      A very good stop-motion animation!\\r\\n\\r\\n<em>'Chicken Run'</em>, which I watched a crap tonne when I was little but not for a vast number of years now, is an impressive production given it came out in 2000. Despite a pretty simple feel to the film, it's a very well developed concept.\\r\\n\\r\\nThe...   \n",
       "7443      Ok, there is an huge temptation to riddle this review with puns - but I'm just going to say it's a cracking little family adventure. It's seemingly based on a whole range of classic movies from the \"Great Escape\", \"Star Trek\" to \"Love Story\" with a score cannibalised from just about any/everythi...   \n",
       "\n",
       "          rating      ratings  \\\n",
       "movie_id                        \n",
       "843          7.0         None   \n",
       "7443         9.0  High_rating   \n",
       "7443         6.0         None   \n",
       "7443         8.0         None   \n",
       "7443         7.0         None   \n",
       "\n",
       "                                                                                                                                                                                                                                                                                                               tokens  \\\n",
       "movie_id                                                                                                                                                                                                                                                                                                                \n",
       "843       [fine, piece, cinema, wong, kar, wai, tell, story, people, circumstance, throw, way, expect, start, couple, new, building, newspaper, man, wife, business, executive, wife, businessman, rarely, home, journalist, wife, leave, increasingly, loose, end, long, friendship, develop, usually, noodle, en...   \n",
       "7443                                                                                                                                         [guilty, pleasure, personally, love, great, escape, work, see, year, rightfully, esteem, british, animation, company, highly, recommend, child, adult, enjoy, animation]   \n",
       "7443                                                                                                                                [roommate, hate, stop, motion, animation, watch, 2018, good, time, maybe, great, remember, think, little, kid, hold, degree, final, rating, ★, ★, ★, like, personally, recommend]   \n",
       "7443      [good, stop, motion, animation, <, em>'chicken, run'</em, >, watch, crap, tonne, little, vast, number, year, impressive, production, give, come, 2000, despite, pretty, simple, feel, film, develop, concept, admittedly, short, run, time, truly, fly, course, look, relatively, terrific, impress, pac...   \n",
       "7443      [ok, huge, temptation, riddle, review, pun, go, crack, little, family, adventure, seemingly, base, range, classic, movie, great, escape, star, trek, love, story, score, cannibalise, write, messrs., korngold, williams, bernstein, add, super, stop, motion, animation, ray, harryhausen, proud, flock...   \n",
       "\n",
       "                                                                                                                                                                                                                                                                                                           lemmatized  \\\n",
       "movie_id                                                                                                                                                                                                                                                                                                                \n",
       "843       [fine, piece, cinema, wong, kar, wai, tell, story, people, circumstance, throw, way, expect, start, couple, new, building, newspaper, man, wife, business, executive, wife, businessman, rarely, home, journalist, wife, leave, increasingly, loose, end, long, friendship, develop, usually, noodle, en...   \n",
       "7443                                                                                                                                         [guilty, pleasure, personally, love, great, escape, work, see, year, rightfully, esteem, british, animation, company, highly, recommend, child, adult, enjoy, animation]   \n",
       "7443                                                                                                                                [roommate, hate, stop, motion, animation, watch, 2018, good, time, maybe, great, remember, think, little, kid, hold, degree, final, rating, ★, ★, ★, like, personally, recommend]   \n",
       "7443      [good, stop, motion, animation, <, em>'chicken, run'</em, >, watch, crap, tonne, little, vast, number, year, impressive, production, give, come, 2000, despite, pretty, simple, feel, film, develop, concept, admittedly, short, run, time, truly, fly, course, look, relatively, terrific, impress, pac...   \n",
       "7443      [ok, huge, temptation, riddle, review, pun, go, crack, little, family, adventure, seemingly, base, range, classic, movie, great, escape, star, trek, love, story, score, cannibalise, write, messrs., korngold, williams, bernstein, add, super, stop, motion, animation, ray, harryhausen, proud, flock...   \n",
       "\n",
       "                                                                                                                                                                                                                                                                                                        tokens-joined  \\\n",
       "movie_id                                                                                                                                                                                                                                                                                                                \n",
       "843       fine piece cinema wong kar wai tell story people circumstance throw way expect start couple new building newspaper man wife business executive wife businessman rarely home journalist wife leave increasingly loose end long friendship develop usually noodle entirely platonic relationship solid tru...   \n",
       "7443                                                                                                                                                              guilty pleasure personally love great escape work see year rightfully esteem british animation company highly recommend child adult enjoy animation   \n",
       "7443                                                                                                                                                          roommate hate stop motion animation watch 2018 good time maybe great remember think little kid hold degree final rating ★ ★ ★ like personally recommend   \n",
       "7443      good stop motion animation < em>'chicken run'</em > watch crap tonne little vast number year impressive production give come 2000 despite pretty simple feel film develop concept admittedly short run time truly fly course look relatively terrific impress pacing clean cast julia sawalha definite s...   \n",
       "7443      ok huge temptation riddle review pun go crack little family adventure seemingly base range classic movie great escape star trek love story score cannibalise write messrs. korngold williams bernstein add super stop motion animation ray harryhausen proud flock chicken relentlessly exploit egg evil...   \n",
       "\n",
       "                                                                                                                                                                                                                                                                                                        lemmas-joined  \n",
       "movie_id                                                                                                                                                                                                                                                                                                               \n",
       "843       fine piece cinema wong kar wai tell story people circumstance throw way expect start couple new building newspaper man wife business executive wife businessman rarely home journalist wife leave increasingly loose end long friendship develop usually noodle entirely platonic relationship solid tru...  \n",
       "7443                                                                                                                                                              guilty pleasure personally love great escape work see year rightfully esteem british animation company highly recommend child adult enjoy animation  \n",
       "7443                                                                                                                                                          roommate hate stop motion animation watch 2018 good time maybe great remember think little kid hold degree final rating ★ ★ ★ like personally recommend  \n",
       "7443      good stop motion animation < em>'chicken run'</em > watch crap tonne little vast number year impressive production give come 2000 despite pretty simple feel film develop concept admittedly short run time truly fly course look relatively terrific impress pacing clean cast julia sawalha definite s...  \n",
       "7443      ok huge temptation riddle review pun go crack little family adventure seemingly base range classic movie great escape star trek love story score cannibalise write messrs. korngold williams bernstein add super stop motion animation ray harryhausen proud flock chicken relentlessly exploit egg evil...  "
      ]
     },
     "execution_count": 3,
     "metadata": {},
     "output_type": "execute_result"
    }
   ],
   "source": [
    "# loading the joblib from part 5 of the project\n",
    "df = joblib.load('Data-NLP/processed_data.joblib')\n",
    "df.info()\n",
    "df.head()"
   ]
  },
  {
   "cell_type": "code",
   "execution_count": 4,
   "id": "6a3d2751-cbc7-4fa7-b7a0-17a7f780b711",
   "metadata": {},
   "outputs": [],
   "source": [
    "def create_groups(x):\n",
    "    if x>=5.0:\n",
    "        return \"None\"\n",
    "    elif x <=9.0:\n",
    "        return \"None\"\n",
    "    elif x >=9.0: \n",
    "        return \"High\"\n",
    "    elif x<=4.0:\n",
    "        return \"Low\""
   ]
  },
  {
   "cell_type": "code",
   "execution_count": 5,
   "id": "0cfc9d08-b958-41e6-9e0f-4470c0bb8c6c",
   "metadata": {},
   "outputs": [
    {
     "data": {
      "text/plain": [
       "None    7454\n",
       "None    1196\n",
       "Name: no_rating, dtype: int64"
      ]
     },
     "execution_count": 5,
     "metadata": {},
     "output_type": "execute_result"
    }
   ],
   "source": [
    "# Use the function to create a new \"rating\" column with groups\n",
    "df['no_rating'] = df['rating'].map(create_groups)\n",
    "df['no_rating'].value_counts(dropna=False)"
   ]
  },
  {
   "cell_type": "code",
   "execution_count": 6,
   "id": "85440cb1-999f-4338-8ca5-4f7313ed1bb5",
   "metadata": {},
   "outputs": [
    {
     "data": {
      "text/plain": [
       "Low_rating     0.505994\n",
       "High_rating    0.494006\n",
       "Name: ratings, dtype: float64"
      ]
     },
     "execution_count": 6,
     "metadata": {},
     "output_type": "execute_result"
    }
   ],
   "source": [
    "## Check class balance of 'rating'\n",
    "df['ratings'].value_counts(normalize=True)"
   ]
  },
  {
   "cell_type": "code",
   "execution_count": 7,
   "id": "e5f526ba-7a21-4bc1-a8df-fb23c858a275",
   "metadata": {},
   "outputs": [
    {
     "data": {
      "text/plain": [
       "original_title    0\n",
       "review            0\n",
       "rating            0\n",
       "ratings           0\n",
       "tokens            0\n",
       "lemmatized        0\n",
       "tokens-joined     0\n",
       "lemmas-joined     0\n",
       "no_rating         0\n",
       "dtype: int64"
      ]
     },
     "execution_count": 7,
     "metadata": {},
     "output_type": "execute_result"
    }
   ],
   "source": [
    "# Create a df_ml without null ratings\n",
    "df = df.dropna(subset=['ratings']).copy()\n",
    "df.isna().sum()"
   ]
  },
  {
   "cell_type": "code",
   "execution_count": 8,
   "id": "3d447bc8-30b8-4bce-9cfe-7c8e7d94e1a1",
   "metadata": {},
   "outputs": [
    {
     "data": {
      "text/html": [
       "<div>\n",
       "<style scoped>\n",
       "    .dataframe tbody tr th:only-of-type {\n",
       "        vertical-align: middle;\n",
       "    }\n",
       "\n",
       "    .dataframe tbody tr th {\n",
       "        vertical-align: top;\n",
       "    }\n",
       "\n",
       "    .dataframe thead th {\n",
       "        text-align: right;\n",
       "    }\n",
       "</style>\n",
       "<table border=\"1\" class=\"dataframe\">\n",
       "  <thead>\n",
       "    <tr style=\"text-align: right;\">\n",
       "      <th></th>\n",
       "      <th>original_title</th>\n",
       "      <th>review</th>\n",
       "      <th>rating</th>\n",
       "      <th>ratings</th>\n",
       "      <th>tokens</th>\n",
       "      <th>lemmatized</th>\n",
       "      <th>tokens-joined</th>\n",
       "      <th>lemmas-joined</th>\n",
       "      <th>no_rating</th>\n",
       "    </tr>\n",
       "    <tr>\n",
       "      <th>movie_id</th>\n",
       "      <th></th>\n",
       "      <th></th>\n",
       "      <th></th>\n",
       "      <th></th>\n",
       "      <th></th>\n",
       "      <th></th>\n",
       "      <th></th>\n",
       "      <th></th>\n",
       "      <th></th>\n",
       "    </tr>\n",
       "  </thead>\n",
       "  <tbody>\n",
       "    <tr>\n",
       "      <th>7443</th>\n",
       "      <td>Chicken Run</td>\n",
       "      <td>A guilty pleasure for me personally, as I love both 'The Great Escape' and most of the works I have seen, over the years, from this rightfully-esteemed British animation company. Highly recommended both for children and for adults who enjoy animation.</td>\n",
       "      <td>9.0</td>\n",
       "      <td>High_rating</td>\n",
       "      <td>[guilty, pleasure, personally, love, great, escape, work, see, year, rightfully, esteem, british, animation, company, highly, recommend, child, adult, enjoy, animation]</td>\n",
       "      <td>[guilty, pleasure, personally, love, great, escape, work, see, year, rightfully, esteem, british, animation, company, highly, recommend, child, adult, enjoy, animation]</td>\n",
       "      <td>guilty pleasure personally love great escape work see year rightfully esteem british animation company highly recommend child adult enjoy animation</td>\n",
       "      <td>guilty pleasure personally love great escape work see year rightfully esteem british animation company highly recommend child adult enjoy animation</td>\n",
       "      <td>None</td>\n",
       "    </tr>\n",
       "    <tr>\n",
       "      <th>955</th>\n",
       "      <td>Mission: Impossible II</td>\n",
       "      <td>The first underwhelmed me, but this one straight-up bored me. Again, of course seeing Hunt climb a mountain without a harness is impressive sure. And I even quite liked the idea behind the villain of the piece (though even that angle was woefully underdeveloped).\\r\\n\\r\\nEven setting it in predom...</td>\n",
       "      <td>3.0</td>\n",
       "      <td>Low_rating</td>\n",
       "      <td>[underwhelme, straight, bore, course, see, hunt, climb, mountain, harness, impressive, sure, like, idea, villain, piece, angle, woefully, underdeveloped, set, predominantly, australia, grab, attention, say, cause, pretty, biased, come, hear, tell, mission, impossible, ii, low, point, series, enc...</td>\n",
       "      <td>[underwhelme, straight, bore, course, see, hunt, climb, mountain, harness, impressive, sure, like, idea, villain, piece, angle, woefully, underdeveloped, set, predominantly, australia, grab, attention, say, cause, pretty, biased, come, hear, tell, mission, impossible, ii, low, point, series, enc...</td>\n",
       "      <td>underwhelme straight bore course see hunt climb mountain harness impressive sure like idea villain piece angle woefully underdeveloped set predominantly australia grab attention say cause pretty biased come hear tell mission impossible ii low point series encouraging bad know able rogue nation f...</td>\n",
       "      <td>underwhelme straight bore course see hunt climb mountain harness impressive sure like idea villain piece angle woefully underdeveloped set predominantly australia grab attention say cause pretty biased come hear tell mission impossible ii low point series encouraging bad know able rogue nation f...</td>\n",
       "      <td>None</td>\n",
       "    </tr>\n",
       "    <tr>\n",
       "      <th>955</th>\n",
       "      <td>Mission: Impossible II</td>\n",
       "      <td>After quite entertainign Mission Impossible I the second installment turned out ... terrible. As if the screenwriters didn't know how to fill the 2 hrs with action the overuse of heroic slow motion scenes is horrible. You almost might need a barf bag if you can't stand slo-mo every five seconds....</td>\n",
       "      <td>2.0</td>\n",
       "      <td>Low_rating</td>\n",
       "      <td>[entertainign, mission, impossible, second, installment, turn, terrible, screenwriter, know, fill, 2, hrs, action, overuse, heroic, slow, motion, scene, horrible, need, barf, bag, stand, slo, mo, second, 15, second, amazed, decide, push, m, movie, turn, well, hard, beat, lousy, piece, crap, movie]</td>\n",
       "      <td>[entertainign, mission, impossible, second, installment, turn, terrible, screenwriter, know, fill, 2, hrs, action, overuse, heroic, slow, motion, scene, horrible, need, barf, bag, stand, slo, mo, second, 15, second, amazed, decide, push, m, movie, turn, well, hard, beat, lousy, piece, crap, movie]</td>\n",
       "      <td>entertainign mission impossible second installment turn terrible screenwriter know fill 2 hrs action overuse heroic slow motion scene horrible need barf bag stand slo mo second 15 second amazed decide push m movie turn well hard beat lousy piece crap movie</td>\n",
       "      <td>entertainign mission impossible second installment turn terrible screenwriter know fill 2 hrs action overuse heroic slow motion scene horrible need barf bag stand slo mo second 15 second amazed decide push m movie turn well hard beat lousy piece crap movie</td>\n",
       "      <td>None</td>\n",
       "    </tr>\n",
       "    <tr>\n",
       "      <th>2621</th>\n",
       "      <td>Return to Me</td>\n",
       "      <td>Okay, I will admit I can be a bit of an easy grader when it comes to romantic comedies, as long as they are witty with likable characters, don’t insult my intelligence and have suitable happy endings (I guess if they don’t end happily, they aren’t rom-coms).\\r\\n\\r\\nI saw this movie many years ag...</td>\n",
       "      <td>9.0</td>\n",
       "      <td>High_rating</td>\n",
       "      <td>[okay, admit, bit, easy, grader, come, romantic, comedy, long, witty, likable, character, insult, intelligence, suitable, happy, ending, guess, end, happily, rom, com, see, movie, year, ago, forget, fresh, like, movie, plot, rely, huge, coincidence, story, get, sappy, sentimental, place, predict...</td>\n",
       "      <td>[okay, admit, bit, easy, grader, come, romantic, comedy, long, witty, likable, character, insult, intelligence, suitable, happy, ending, guess, end, happily, rom, com, see, movie, year, ago, forget, fresh, like, movie, plot, rely, huge, coincidence, story, get, sappy, sentimental, place, predict...</td>\n",
       "      <td>okay admit bit easy grader come romantic comedy long witty likable character insult intelligence suitable happy ending guess end happily rom com see movie year ago forget fresh like movie plot rely huge coincidence story get sappy sentimental place predictable religion suit thing suit fine prais...</td>\n",
       "      <td>okay admit bit easy grader come romantic comedy long witty likable character insult intelligence suitable happy ending guess end happily rom com see movie year ago forget fresh like movie plot rely huge coincidence story get sappy sentimental place predictable religion suit thing suit fine prais...</td>\n",
       "      <td>None</td>\n",
       "    </tr>\n",
       "    <tr>\n",
       "      <th>4234</th>\n",
       "      <td>Scream 3</td>\n",
       "      <td>**_Scream 3’s_ lackluster screenplay and unimaginative kills leave a film that is a bore to watch.**\\r\\n\\r\\nThe meta-narrative of trilogies throughout the film does not make up for how abysmal the plot was. This film creates so much lore for the past movies seemingly out of the blue, muddling up...</td>\n",
       "      <td>4.0</td>\n",
       "      <td>Low_rating</td>\n",
       "      <td>[scream, 3, lackluster, screenplay, unimaginative, kill, leave, film, bore, watch, meta, narrative, trilogy, film, abysmal, plot, film, create, lore, past, movie, seemingly, blue, muddle, continuity, shock, value, add, little, film, feel, force, entire, plot, point, sidney, mother, hollywood, ac...</td>\n",
       "      <td>[scream, 3, lackluster, screenplay, unimaginative, kill, leave, film, bore, watch, meta, narrative, trilogy, film, abysmal, plot, film, create, lore, past, movie, seemingly, blue, muddle, continuity, shock, value, add, little, film, feel, force, entire, plot, point, sidney, mother, hollywood, ac...</td>\n",
       "      <td>scream 3 lackluster screenplay unimaginative kill leave film bore watch meta narrative trilogy film abysmal plot film create lore past movie seemingly blue muddle continuity shock value add little film feel force entire plot point sidney mother hollywood actress pretty lame especially add plot p...</td>\n",
       "      <td>scream 3 lackluster screenplay unimaginative kill leave film bore watch meta narrative trilogy film abysmal plot film create lore past movie seemingly blue muddle continuity shock value add little film feel force entire plot point sidney mother hollywood actress pretty lame especially add plot p...</td>\n",
       "      <td>None</td>\n",
       "    </tr>\n",
       "  </tbody>\n",
       "</table>\n",
       "</div>"
      ],
      "text/plain": [
       "                  original_title  \\\n",
       "movie_id                           \n",
       "7443                 Chicken Run   \n",
       "955       Mission: Impossible II   \n",
       "955       Mission: Impossible II   \n",
       "2621                Return to Me   \n",
       "4234                    Scream 3   \n",
       "\n",
       "                                                                                                                                                                                                                                                                                                               review  \\\n",
       "movie_id                                                                                                                                                                                                                                                                                                                \n",
       "7443                                                      A guilty pleasure for me personally, as I love both 'The Great Escape' and most of the works I have seen, over the years, from this rightfully-esteemed British animation company. Highly recommended both for children and for adults who enjoy animation.   \n",
       "955       The first underwhelmed me, but this one straight-up bored me. Again, of course seeing Hunt climb a mountain without a harness is impressive sure. And I even quite liked the idea behind the villain of the piece (though even that angle was woefully underdeveloped).\\r\\n\\r\\nEven setting it in predom...   \n",
       "955       After quite entertainign Mission Impossible I the second installment turned out ... terrible. As if the screenwriters didn't know how to fill the 2 hrs with action the overuse of heroic slow motion scenes is horrible. You almost might need a barf bag if you can't stand slo-mo every five seconds....   \n",
       "2621      Okay, I will admit I can be a bit of an easy grader when it comes to romantic comedies, as long as they are witty with likable characters, don’t insult my intelligence and have suitable happy endings (I guess if they don’t end happily, they aren’t rom-coms).\\r\\n\\r\\nI saw this movie many years ag...   \n",
       "4234      **_Scream 3’s_ lackluster screenplay and unimaginative kills leave a film that is a bore to watch.**\\r\\n\\r\\nThe meta-narrative of trilogies throughout the film does not make up for how abysmal the plot was. This film creates so much lore for the past movies seemingly out of the blue, muddling up...   \n",
       "\n",
       "          rating      ratings  \\\n",
       "movie_id                        \n",
       "7443         9.0  High_rating   \n",
       "955          3.0   Low_rating   \n",
       "955          2.0   Low_rating   \n",
       "2621         9.0  High_rating   \n",
       "4234         4.0   Low_rating   \n",
       "\n",
       "                                                                                                                                                                                                                                                                                                               tokens  \\\n",
       "movie_id                                                                                                                                                                                                                                                                                                                \n",
       "7443                                                                                                                                         [guilty, pleasure, personally, love, great, escape, work, see, year, rightfully, esteem, british, animation, company, highly, recommend, child, adult, enjoy, animation]   \n",
       "955       [underwhelme, straight, bore, course, see, hunt, climb, mountain, harness, impressive, sure, like, idea, villain, piece, angle, woefully, underdeveloped, set, predominantly, australia, grab, attention, say, cause, pretty, biased, come, hear, tell, mission, impossible, ii, low, point, series, enc...   \n",
       "955        [entertainign, mission, impossible, second, installment, turn, terrible, screenwriter, know, fill, 2, hrs, action, overuse, heroic, slow, motion, scene, horrible, need, barf, bag, stand, slo, mo, second, 15, second, amazed, decide, push, m, movie, turn, well, hard, beat, lousy, piece, crap, movie]   \n",
       "2621      [okay, admit, bit, easy, grader, come, romantic, comedy, long, witty, likable, character, insult, intelligence, suitable, happy, ending, guess, end, happily, rom, com, see, movie, year, ago, forget, fresh, like, movie, plot, rely, huge, coincidence, story, get, sappy, sentimental, place, predict...   \n",
       "4234      [scream, 3, lackluster, screenplay, unimaginative, kill, leave, film, bore, watch, meta, narrative, trilogy, film, abysmal, plot, film, create, lore, past, movie, seemingly, blue, muddle, continuity, shock, value, add, little, film, feel, force, entire, plot, point, sidney, mother, hollywood, ac...   \n",
       "\n",
       "                                                                                                                                                                                                                                                                                                           lemmatized  \\\n",
       "movie_id                                                                                                                                                                                                                                                                                                                \n",
       "7443                                                                                                                                         [guilty, pleasure, personally, love, great, escape, work, see, year, rightfully, esteem, british, animation, company, highly, recommend, child, adult, enjoy, animation]   \n",
       "955       [underwhelme, straight, bore, course, see, hunt, climb, mountain, harness, impressive, sure, like, idea, villain, piece, angle, woefully, underdeveloped, set, predominantly, australia, grab, attention, say, cause, pretty, biased, come, hear, tell, mission, impossible, ii, low, point, series, enc...   \n",
       "955        [entertainign, mission, impossible, second, installment, turn, terrible, screenwriter, know, fill, 2, hrs, action, overuse, heroic, slow, motion, scene, horrible, need, barf, bag, stand, slo, mo, second, 15, second, amazed, decide, push, m, movie, turn, well, hard, beat, lousy, piece, crap, movie]   \n",
       "2621      [okay, admit, bit, easy, grader, come, romantic, comedy, long, witty, likable, character, insult, intelligence, suitable, happy, ending, guess, end, happily, rom, com, see, movie, year, ago, forget, fresh, like, movie, plot, rely, huge, coincidence, story, get, sappy, sentimental, place, predict...   \n",
       "4234      [scream, 3, lackluster, screenplay, unimaginative, kill, leave, film, bore, watch, meta, narrative, trilogy, film, abysmal, plot, film, create, lore, past, movie, seemingly, blue, muddle, continuity, shock, value, add, little, film, feel, force, entire, plot, point, sidney, mother, hollywood, ac...   \n",
       "\n",
       "                                                                                                                                                                                                                                                                                                        tokens-joined  \\\n",
       "movie_id                                                                                                                                                                                                                                                                                                                \n",
       "7443                                                                                                                                                              guilty pleasure personally love great escape work see year rightfully esteem british animation company highly recommend child adult enjoy animation   \n",
       "955       underwhelme straight bore course see hunt climb mountain harness impressive sure like idea villain piece angle woefully underdeveloped set predominantly australia grab attention say cause pretty biased come hear tell mission impossible ii low point series encouraging bad know able rogue nation f...   \n",
       "955                                                  entertainign mission impossible second installment turn terrible screenwriter know fill 2 hrs action overuse heroic slow motion scene horrible need barf bag stand slo mo second 15 second amazed decide push m movie turn well hard beat lousy piece crap movie   \n",
       "2621      okay admit bit easy grader come romantic comedy long witty likable character insult intelligence suitable happy ending guess end happily rom com see movie year ago forget fresh like movie plot rely huge coincidence story get sappy sentimental place predictable religion suit thing suit fine prais...   \n",
       "4234      scream 3 lackluster screenplay unimaginative kill leave film bore watch meta narrative trilogy film abysmal plot film create lore past movie seemingly blue muddle continuity shock value add little film feel force entire plot point sidney mother hollywood actress pretty lame especially add plot p...   \n",
       "\n",
       "                                                                                                                                                                                                                                                                                                        lemmas-joined  \\\n",
       "movie_id                                                                                                                                                                                                                                                                                                                \n",
       "7443                                                                                                                                                              guilty pleasure personally love great escape work see year rightfully esteem british animation company highly recommend child adult enjoy animation   \n",
       "955       underwhelme straight bore course see hunt climb mountain harness impressive sure like idea villain piece angle woefully underdeveloped set predominantly australia grab attention say cause pretty biased come hear tell mission impossible ii low point series encouraging bad know able rogue nation f...   \n",
       "955                                                  entertainign mission impossible second installment turn terrible screenwriter know fill 2 hrs action overuse heroic slow motion scene horrible need barf bag stand slo mo second 15 second amazed decide push m movie turn well hard beat lousy piece crap movie   \n",
       "2621      okay admit bit easy grader come romantic comedy long witty likable character insult intelligence suitable happy ending guess end happily rom com see movie year ago forget fresh like movie plot rely huge coincidence story get sappy sentimental place predictable religion suit thing suit fine prais...   \n",
       "4234      scream 3 lackluster screenplay unimaginative kill leave film bore watch meta narrative trilogy film abysmal plot film create lore past movie seemingly blue muddle continuity shock value add little film feel force entire plot point sidney mother hollywood actress pretty lame especially add plot p...   \n",
       "\n",
       "         no_rating  \n",
       "movie_id            \n",
       "7443          None  \n",
       "955           None  \n",
       "955           None  \n",
       "2621          None  \n",
       "4234          None  "
      ]
     },
     "execution_count": 8,
     "metadata": {},
     "output_type": "execute_result"
    }
   ],
   "source": [
    "df.head()"
   ]
  },
  {
   "cell_type": "code",
   "execution_count": 9,
   "id": "469e26eb-e97c-4af2-9f06-0ef7fd2fc9da",
   "metadata": {},
   "outputs": [
    {
     "data": {
      "text/html": [
       "<div>\n",
       "<style scoped>\n",
       "    .dataframe tbody tr th:only-of-type {\n",
       "        vertical-align: middle;\n",
       "    }\n",
       "\n",
       "    .dataframe tbody tr th {\n",
       "        vertical-align: top;\n",
       "    }\n",
       "\n",
       "    .dataframe thead th {\n",
       "        text-align: right;\n",
       "    }\n",
       "</style>\n",
       "<table border=\"1\" class=\"dataframe\">\n",
       "  <thead>\n",
       "    <tr style=\"text-align: right;\">\n",
       "      <th></th>\n",
       "      <th>original_title</th>\n",
       "      <th>review</th>\n",
       "      <th>rating</th>\n",
       "      <th>ratings</th>\n",
       "      <th>tokens</th>\n",
       "      <th>lemmatized</th>\n",
       "      <th>tokens-joined</th>\n",
       "      <th>lemmas-joined</th>\n",
       "    </tr>\n",
       "    <tr>\n",
       "      <th>movie_id</th>\n",
       "      <th></th>\n",
       "      <th></th>\n",
       "      <th></th>\n",
       "      <th></th>\n",
       "      <th></th>\n",
       "      <th></th>\n",
       "      <th></th>\n",
       "      <th></th>\n",
       "    </tr>\n",
       "  </thead>\n",
       "  <tbody>\n",
       "    <tr>\n",
       "      <th>7443</th>\n",
       "      <td>Chicken Run</td>\n",
       "      <td>A guilty pleasure for me personally, as I love both 'The Great Escape' and most of the works I have seen, over the years, from this rightfully-esteemed British animation company. Highly recommended both for children and for adults who enjoy animation.</td>\n",
       "      <td>9.0</td>\n",
       "      <td>High_rating</td>\n",
       "      <td>[guilty, pleasure, personally, love, great, escape, work, see, year, rightfully, esteem, british, animation, company, highly, recommend, child, adult, enjoy, animation]</td>\n",
       "      <td>[guilty, pleasure, personally, love, great, escape, work, see, year, rightfully, esteem, british, animation, company, highly, recommend, child, adult, enjoy, animation]</td>\n",
       "      <td>guilty pleasure personally love great escape work see year rightfully esteem british animation company highly recommend child adult enjoy animation</td>\n",
       "      <td>guilty pleasure personally love great escape work see year rightfully esteem british animation company highly recommend child adult enjoy animation</td>\n",
       "    </tr>\n",
       "    <tr>\n",
       "      <th>955</th>\n",
       "      <td>Mission: Impossible II</td>\n",
       "      <td>The first underwhelmed me, but this one straight-up bored me. Again, of course seeing Hunt climb a mountain without a harness is impressive sure. And I even quite liked the idea behind the villain of the piece (though even that angle was woefully underdeveloped).\\r\\n\\r\\nEven setting it in predom...</td>\n",
       "      <td>3.0</td>\n",
       "      <td>Low_rating</td>\n",
       "      <td>[underwhelme, straight, bore, course, see, hunt, climb, mountain, harness, impressive, sure, like, idea, villain, piece, angle, woefully, underdeveloped, set, predominantly, australia, grab, attention, say, cause, pretty, biased, come, hear, tell, mission, impossible, ii, low, point, series, enc...</td>\n",
       "      <td>[underwhelme, straight, bore, course, see, hunt, climb, mountain, harness, impressive, sure, like, idea, villain, piece, angle, woefully, underdeveloped, set, predominantly, australia, grab, attention, say, cause, pretty, biased, come, hear, tell, mission, impossible, ii, low, point, series, enc...</td>\n",
       "      <td>underwhelme straight bore course see hunt climb mountain harness impressive sure like idea villain piece angle woefully underdeveloped set predominantly australia grab attention say cause pretty biased come hear tell mission impossible ii low point series encouraging bad know able rogue nation f...</td>\n",
       "      <td>underwhelme straight bore course see hunt climb mountain harness impressive sure like idea villain piece angle woefully underdeveloped set predominantly australia grab attention say cause pretty biased come hear tell mission impossible ii low point series encouraging bad know able rogue nation f...</td>\n",
       "    </tr>\n",
       "    <tr>\n",
       "      <th>955</th>\n",
       "      <td>Mission: Impossible II</td>\n",
       "      <td>After quite entertainign Mission Impossible I the second installment turned out ... terrible. As if the screenwriters didn't know how to fill the 2 hrs with action the overuse of heroic slow motion scenes is horrible. You almost might need a barf bag if you can't stand slo-mo every five seconds....</td>\n",
       "      <td>2.0</td>\n",
       "      <td>Low_rating</td>\n",
       "      <td>[entertainign, mission, impossible, second, installment, turn, terrible, screenwriter, know, fill, 2, hrs, action, overuse, heroic, slow, motion, scene, horrible, need, barf, bag, stand, slo, mo, second, 15, second, amazed, decide, push, m, movie, turn, well, hard, beat, lousy, piece, crap, movie]</td>\n",
       "      <td>[entertainign, mission, impossible, second, installment, turn, terrible, screenwriter, know, fill, 2, hrs, action, overuse, heroic, slow, motion, scene, horrible, need, barf, bag, stand, slo, mo, second, 15, second, amazed, decide, push, m, movie, turn, well, hard, beat, lousy, piece, crap, movie]</td>\n",
       "      <td>entertainign mission impossible second installment turn terrible screenwriter know fill 2 hrs action overuse heroic slow motion scene horrible need barf bag stand slo mo second 15 second amazed decide push m movie turn well hard beat lousy piece crap movie</td>\n",
       "      <td>entertainign mission impossible second installment turn terrible screenwriter know fill 2 hrs action overuse heroic slow motion scene horrible need barf bag stand slo mo second 15 second amazed decide push m movie turn well hard beat lousy piece crap movie</td>\n",
       "    </tr>\n",
       "    <tr>\n",
       "      <th>2621</th>\n",
       "      <td>Return to Me</td>\n",
       "      <td>Okay, I will admit I can be a bit of an easy grader when it comes to romantic comedies, as long as they are witty with likable characters, don’t insult my intelligence and have suitable happy endings (I guess if they don’t end happily, they aren’t rom-coms).\\r\\n\\r\\nI saw this movie many years ag...</td>\n",
       "      <td>9.0</td>\n",
       "      <td>High_rating</td>\n",
       "      <td>[okay, admit, bit, easy, grader, come, romantic, comedy, long, witty, likable, character, insult, intelligence, suitable, happy, ending, guess, end, happily, rom, com, see, movie, year, ago, forget, fresh, like, movie, plot, rely, huge, coincidence, story, get, sappy, sentimental, place, predict...</td>\n",
       "      <td>[okay, admit, bit, easy, grader, come, romantic, comedy, long, witty, likable, character, insult, intelligence, suitable, happy, ending, guess, end, happily, rom, com, see, movie, year, ago, forget, fresh, like, movie, plot, rely, huge, coincidence, story, get, sappy, sentimental, place, predict...</td>\n",
       "      <td>okay admit bit easy grader come romantic comedy long witty likable character insult intelligence suitable happy ending guess end happily rom com see movie year ago forget fresh like movie plot rely huge coincidence story get sappy sentimental place predictable religion suit thing suit fine prais...</td>\n",
       "      <td>okay admit bit easy grader come romantic comedy long witty likable character insult intelligence suitable happy ending guess end happily rom com see movie year ago forget fresh like movie plot rely huge coincidence story get sappy sentimental place predictable religion suit thing suit fine prais...</td>\n",
       "    </tr>\n",
       "    <tr>\n",
       "      <th>4234</th>\n",
       "      <td>Scream 3</td>\n",
       "      <td>**_Scream 3’s_ lackluster screenplay and unimaginative kills leave a film that is a bore to watch.**\\r\\n\\r\\nThe meta-narrative of trilogies throughout the film does not make up for how abysmal the plot was. This film creates so much lore for the past movies seemingly out of the blue, muddling up...</td>\n",
       "      <td>4.0</td>\n",
       "      <td>Low_rating</td>\n",
       "      <td>[scream, 3, lackluster, screenplay, unimaginative, kill, leave, film, bore, watch, meta, narrative, trilogy, film, abysmal, plot, film, create, lore, past, movie, seemingly, blue, muddle, continuity, shock, value, add, little, film, feel, force, entire, plot, point, sidney, mother, hollywood, ac...</td>\n",
       "      <td>[scream, 3, lackluster, screenplay, unimaginative, kill, leave, film, bore, watch, meta, narrative, trilogy, film, abysmal, plot, film, create, lore, past, movie, seemingly, blue, muddle, continuity, shock, value, add, little, film, feel, force, entire, plot, point, sidney, mother, hollywood, ac...</td>\n",
       "      <td>scream 3 lackluster screenplay unimaginative kill leave film bore watch meta narrative trilogy film abysmal plot film create lore past movie seemingly blue muddle continuity shock value add little film feel force entire plot point sidney mother hollywood actress pretty lame especially add plot p...</td>\n",
       "      <td>scream 3 lackluster screenplay unimaginative kill leave film bore watch meta narrative trilogy film abysmal plot film create lore past movie seemingly blue muddle continuity shock value add little film feel force entire plot point sidney mother hollywood actress pretty lame especially add plot p...</td>\n",
       "    </tr>\n",
       "  </tbody>\n",
       "</table>\n",
       "</div>"
      ],
      "text/plain": [
       "                  original_title  \\\n",
       "movie_id                           \n",
       "7443                 Chicken Run   \n",
       "955       Mission: Impossible II   \n",
       "955       Mission: Impossible II   \n",
       "2621                Return to Me   \n",
       "4234                    Scream 3   \n",
       "\n",
       "                                                                                                                                                                                                                                                                                                               review  \\\n",
       "movie_id                                                                                                                                                                                                                                                                                                                \n",
       "7443                                                      A guilty pleasure for me personally, as I love both 'The Great Escape' and most of the works I have seen, over the years, from this rightfully-esteemed British animation company. Highly recommended both for children and for adults who enjoy animation.   \n",
       "955       The first underwhelmed me, but this one straight-up bored me. Again, of course seeing Hunt climb a mountain without a harness is impressive sure. And I even quite liked the idea behind the villain of the piece (though even that angle was woefully underdeveloped).\\r\\n\\r\\nEven setting it in predom...   \n",
       "955       After quite entertainign Mission Impossible I the second installment turned out ... terrible. As if the screenwriters didn't know how to fill the 2 hrs with action the overuse of heroic slow motion scenes is horrible. You almost might need a barf bag if you can't stand slo-mo every five seconds....   \n",
       "2621      Okay, I will admit I can be a bit of an easy grader when it comes to romantic comedies, as long as they are witty with likable characters, don’t insult my intelligence and have suitable happy endings (I guess if they don’t end happily, they aren’t rom-coms).\\r\\n\\r\\nI saw this movie many years ag...   \n",
       "4234      **_Scream 3’s_ lackluster screenplay and unimaginative kills leave a film that is a bore to watch.**\\r\\n\\r\\nThe meta-narrative of trilogies throughout the film does not make up for how abysmal the plot was. This film creates so much lore for the past movies seemingly out of the blue, muddling up...   \n",
       "\n",
       "          rating      ratings  \\\n",
       "movie_id                        \n",
       "7443         9.0  High_rating   \n",
       "955          3.0   Low_rating   \n",
       "955          2.0   Low_rating   \n",
       "2621         9.0  High_rating   \n",
       "4234         4.0   Low_rating   \n",
       "\n",
       "                                                                                                                                                                                                                                                                                                               tokens  \\\n",
       "movie_id                                                                                                                                                                                                                                                                                                                \n",
       "7443                                                                                                                                         [guilty, pleasure, personally, love, great, escape, work, see, year, rightfully, esteem, british, animation, company, highly, recommend, child, adult, enjoy, animation]   \n",
       "955       [underwhelme, straight, bore, course, see, hunt, climb, mountain, harness, impressive, sure, like, idea, villain, piece, angle, woefully, underdeveloped, set, predominantly, australia, grab, attention, say, cause, pretty, biased, come, hear, tell, mission, impossible, ii, low, point, series, enc...   \n",
       "955        [entertainign, mission, impossible, second, installment, turn, terrible, screenwriter, know, fill, 2, hrs, action, overuse, heroic, slow, motion, scene, horrible, need, barf, bag, stand, slo, mo, second, 15, second, amazed, decide, push, m, movie, turn, well, hard, beat, lousy, piece, crap, movie]   \n",
       "2621      [okay, admit, bit, easy, grader, come, romantic, comedy, long, witty, likable, character, insult, intelligence, suitable, happy, ending, guess, end, happily, rom, com, see, movie, year, ago, forget, fresh, like, movie, plot, rely, huge, coincidence, story, get, sappy, sentimental, place, predict...   \n",
       "4234      [scream, 3, lackluster, screenplay, unimaginative, kill, leave, film, bore, watch, meta, narrative, trilogy, film, abysmal, plot, film, create, lore, past, movie, seemingly, blue, muddle, continuity, shock, value, add, little, film, feel, force, entire, plot, point, sidney, mother, hollywood, ac...   \n",
       "\n",
       "                                                                                                                                                                                                                                                                                                           lemmatized  \\\n",
       "movie_id                                                                                                                                                                                                                                                                                                                \n",
       "7443                                                                                                                                         [guilty, pleasure, personally, love, great, escape, work, see, year, rightfully, esteem, british, animation, company, highly, recommend, child, adult, enjoy, animation]   \n",
       "955       [underwhelme, straight, bore, course, see, hunt, climb, mountain, harness, impressive, sure, like, idea, villain, piece, angle, woefully, underdeveloped, set, predominantly, australia, grab, attention, say, cause, pretty, biased, come, hear, tell, mission, impossible, ii, low, point, series, enc...   \n",
       "955        [entertainign, mission, impossible, second, installment, turn, terrible, screenwriter, know, fill, 2, hrs, action, overuse, heroic, slow, motion, scene, horrible, need, barf, bag, stand, slo, mo, second, 15, second, amazed, decide, push, m, movie, turn, well, hard, beat, lousy, piece, crap, movie]   \n",
       "2621      [okay, admit, bit, easy, grader, come, romantic, comedy, long, witty, likable, character, insult, intelligence, suitable, happy, ending, guess, end, happily, rom, com, see, movie, year, ago, forget, fresh, like, movie, plot, rely, huge, coincidence, story, get, sappy, sentimental, place, predict...   \n",
       "4234      [scream, 3, lackluster, screenplay, unimaginative, kill, leave, film, bore, watch, meta, narrative, trilogy, film, abysmal, plot, film, create, lore, past, movie, seemingly, blue, muddle, continuity, shock, value, add, little, film, feel, force, entire, plot, point, sidney, mother, hollywood, ac...   \n",
       "\n",
       "                                                                                                                                                                                                                                                                                                        tokens-joined  \\\n",
       "movie_id                                                                                                                                                                                                                                                                                                                \n",
       "7443                                                                                                                                                              guilty pleasure personally love great escape work see year rightfully esteem british animation company highly recommend child adult enjoy animation   \n",
       "955       underwhelme straight bore course see hunt climb mountain harness impressive sure like idea villain piece angle woefully underdeveloped set predominantly australia grab attention say cause pretty biased come hear tell mission impossible ii low point series encouraging bad know able rogue nation f...   \n",
       "955                                                  entertainign mission impossible second installment turn terrible screenwriter know fill 2 hrs action overuse heroic slow motion scene horrible need barf bag stand slo mo second 15 second amazed decide push m movie turn well hard beat lousy piece crap movie   \n",
       "2621      okay admit bit easy grader come romantic comedy long witty likable character insult intelligence suitable happy ending guess end happily rom com see movie year ago forget fresh like movie plot rely huge coincidence story get sappy sentimental place predictable religion suit thing suit fine prais...   \n",
       "4234      scream 3 lackluster screenplay unimaginative kill leave film bore watch meta narrative trilogy film abysmal plot film create lore past movie seemingly blue muddle continuity shock value add little film feel force entire plot point sidney mother hollywood actress pretty lame especially add plot p...   \n",
       "\n",
       "                                                                                                                                                                                                                                                                                                        lemmas-joined  \n",
       "movie_id                                                                                                                                                                                                                                                                                                               \n",
       "7443                                                                                                                                                              guilty pleasure personally love great escape work see year rightfully esteem british animation company highly recommend child adult enjoy animation  \n",
       "955       underwhelme straight bore course see hunt climb mountain harness impressive sure like idea villain piece angle woefully underdeveloped set predominantly australia grab attention say cause pretty biased come hear tell mission impossible ii low point series encouraging bad know able rogue nation f...  \n",
       "955                                                  entertainign mission impossible second installment turn terrible screenwriter know fill 2 hrs action overuse heroic slow motion scene horrible need barf bag stand slo mo second 15 second amazed decide push m movie turn well hard beat lousy piece crap movie  \n",
       "2621      okay admit bit easy grader come romantic comedy long witty likable character insult intelligence suitable happy ending guess end happily rom com see movie year ago forget fresh like movie plot rely huge coincidence story get sappy sentimental place predictable religion suit thing suit fine prais...  \n",
       "4234      scream 3 lackluster screenplay unimaginative kill leave film bore watch meta narrative trilogy film abysmal plot film create lore past movie seemingly blue muddle continuity shock value add little film feel force entire plot point sidney mother hollywood actress pretty lame especially add plot p...  "
      ]
     },
     "execution_count": 9,
     "metadata": {},
     "output_type": "execute_result"
    }
   ],
   "source": [
    "# Drop a column\n",
    "df.drop(columns=['no_rating'], inplace=True)\n",
    "df.head()"
   ]
  },
  {
   "cell_type": "code",
   "execution_count": 10,
   "id": "cfe396f4-482b-47da-8a84-39830594b82f",
   "metadata": {},
   "outputs": [
    {
     "data": {
      "text/plain": [
       "movie_id\n",
       "7443                                                    A guilty pleasure for me personally, as I love both 'The Great Escape' and most of the works I have seen, over the years, from this rightfully-esteemed British animation company. Highly recommended both for children and for adults who enjoy animation.\n",
       "955     The first underwhelmed me, but this one straight-up bored me. Again, of course seeing Hunt climb a mountain without a harness is impressive sure. And I even quite liked the idea behind the villain of the piece (though even that angle was woefully underdeveloped).\\r\\n\\r\\nEven setting it in predom...\n",
       "955     After quite entertainign Mission Impossible I the second installment turned out ... terrible. As if the screenwriters didn't know how to fill the 2 hrs with action the overuse of heroic slow motion scenes is horrible. You almost might need a barf bag if you can't stand slo-mo every five seconds....\n",
       "2621    Okay, I will admit I can be a bit of an easy grader when it comes to romantic comedies, as long as they are witty with likable characters, don’t insult my intelligence and have suitable happy endings (I guess if they don’t end happily, they aren’t rom-coms).\\r\\n\\r\\nI saw this movie many years ag...\n",
       "4234    **_Scream 3’s_ lackluster screenplay and unimaginative kills leave a film that is a bore to watch.**\\r\\n\\r\\nThe meta-narrative of trilogies throughout the film does not make up for how abysmal the plot was. This film creates so much lore for the past movies seemingly out of the blue, muddling up...\n",
       "Name: review, dtype: object"
      ]
     },
     "execution_count": 10,
     "metadata": {},
     "output_type": "execute_result"
    }
   ],
   "source": [
    "# # Define X and y\n",
    "X = df['review']\n",
    "y = df['ratings']\n",
    "\n",
    "X.head()"
   ]
  },
  {
   "cell_type": "code",
   "execution_count": 11,
   "id": "6a0cab87-0ca7-4bc4-ab90-ad3382ed2e87",
   "metadata": {},
   "outputs": [
    {
     "data": {
      "text/plain": [
       "Low_rating     0.505994\n",
       "High_rating    0.494006\n",
       "Name: ratings, dtype: float64"
      ]
     },
     "execution_count": 11,
     "metadata": {},
     "output_type": "execute_result"
    }
   ],
   "source": [
    "y.value_counts(normalize=True)"
   ]
  },
  {
   "cell_type": "markdown",
   "id": "567c9418-e95f-4581-a4dd-022bdd1734ae",
   "metadata": {},
   "source": [
    "# Machine Learning:\n",
    "- For this project, you will use modeling pipelines with the text vectorizer and model in the same pipeline.\n",
    "- This will make saving and uploading the models in a deployed application very easy."
   ]
  },
  {
   "cell_type": "markdown",
   "id": "5ec821d3-d41a-43b1-80c4-1543c98b6d6a",
   "metadata": {},
   "source": [
    "## `Create a Text Vectorizer`\n",
    "- Select a sklearn vectorizer for your task.\n",
    "    - Remember to consider your preprocessing choices, such as using stopwords, ngram_range, etc."
   ]
  },
  {
   "cell_type": "code",
   "execution_count": 12,
   "id": "00b95332-084c-4d29-828c-a7b9a1940050",
   "metadata": {},
   "outputs": [
    {
     "data": {
      "text/plain": [
       "movie_id\n",
       "7443                                                     A guilty pleasure for me personally, as I love both 'The Great Escape' and most of the works I have seen, over the years, from this rightfully-esteemed British animation company. Highly recommended both for children and for adults who enjoy animation.\n",
       "955      The first underwhelmed me, but this one straight-up bored me. Again, of course seeing Hunt climb a mountain without a harness is impressive sure. And I even quite liked the idea behind the villain of the piece (though even that angle was woefully underdeveloped).\\r\\n\\r\\nEven setting it in predom...\n",
       "955      After quite entertainign Mission Impossible I the second installment turned out ... terrible. As if the screenwriters didn't know how to fill the 2 hrs with action the overuse of heroic slow motion scenes is horrible. You almost might need a barf bag if you can't stand slo-mo every five seconds....\n",
       "2621     Okay, I will admit I can be a bit of an easy grader when it comes to romantic comedies, as long as they are witty with likable characters, don’t insult my intelligence and have suitable happy endings (I guess if they don’t end happily, they aren’t rom-coms).\\r\\n\\r\\nI saw this movie many years ag...\n",
       "4234     **_Scream 3’s_ lackluster screenplay and unimaginative kills leave a film that is a bore to watch.**\\r\\n\\r\\nThe meta-narrative of trilogies throughout the film does not make up for how abysmal the plot was. This film creates so much lore for the past movies seemingly out of the blue, muddling up...\n",
       "2787     All you people are so scared of me. Most days I'd take that as a compliment. But it ain't me you gotta worry about now.\\r\\n\\r\\nPitch Black is directed by David Twohy and collectively written by Twohy and Ken and Jim Wheat. It stars Vin Diesel, Radha Mitchell, Cole Hauser, Keith David, Lewis Fitz...\n",
       "2787                                                                                                         One of those few movies that most people don't care for, but I personally think is **criminally** underrated.\\r\\n\\r\\n_Final rating:★★★★½ - Ridiculously strong appeal. I can’t stop thinking about it._\n",
       "2787                                                                                                                     The movie that put Vin Diesel on the map as Riddick, the crooked anti-hero wanted by bounty hunters. This is another movie that benefits from knowing very little before watching the film.\n",
       "1359     I want be Patrick Bateman, well without the sociopathic tendencies and the murder, but his workout routine, apartment, and job are cool...\\r\\n\\r\\nJokes aside, this movie bangs, literally and metaphorically. Christian Bale is great. The cast is stacked. Cool imagery, fantastically paced, and some...\n",
       "12211    **There should have been only one!**\\r\\n\\r\\nIf “Highlander 2” was a complete disgrace and “Highlander 3” somehow tried to give us some compensation, this movie makes it look worse and more worn out. However, a TV series had been made that had little or nothing to do with the original film. What ...\n",
       "Name: review, dtype: object"
      ]
     },
     "execution_count": 12,
     "metadata": {},
     "output_type": "execute_result"
    }
   ],
   "source": [
    "## X - Option A)  lemmas\n",
    "# def join_tokens(token_list):\n",
    "#     joined_tokens = ' '.join(token_list)\n",
    "#     return joined_tokens\n",
    "# X = df_ml['spacy_lemmas'].apply(join_tokens)\n",
    "\n",
    "# X - Option B) original raw text\n",
    "X = df['review']\n",
    "\n",
    "# y - use our binary target \n",
    "y = df['ratings']\n",
    "X.head(10)"
   ]
  },
  {
   "cell_type": "code",
   "execution_count": 13,
   "id": "24776b6a-7fb7-4f2c-98fc-c8258c3e1c40",
   "metadata": {},
   "outputs": [
    {
     "data": {
      "text/plain": [
       "Low_rating     0.505994\n",
       "High_rating    0.494006\n",
       "Name: ratings, dtype: float64"
      ]
     },
     "execution_count": 13,
     "metadata": {},
     "output_type": "execute_result"
    }
   ],
   "source": [
    "y.value_counts(normalize=True)"
   ]
  },
  {
   "cell_type": "code",
   "execution_count": 14,
   "id": "52df1b98-4529-4d35-b68b-db0a959b6dcf",
   "metadata": {},
   "outputs": [
    {
     "data": {
      "text/plain": [
       "(1693, 363, 363)"
      ]
     },
     "execution_count": 14,
     "metadata": {},
     "output_type": "execute_result"
    }
   ],
   "source": [
    "# Split data into train, test, val\n",
    "X_train_full, X_test, y_train_full, y_test = fn.train_test_split(X, y, test_size=.3, random_state=42)\n",
    "X_val, X_test, y_val, y_test = fn.train_test_split(X_test, y_test, test_size=.5, random_state=42)\n",
    "(len(X_train_full), len(X_val), len(X_test))"
   ]
  },
  {
   "cell_type": "code",
   "execution_count": 15,
   "id": "1b9528c4-727d-4faa-8f2a-e8564a378530",
   "metadata": {},
   "outputs": [
    {
     "data": {
      "text/plain": [
       "Low_rating     0.511518\n",
       "High_rating    0.488482\n",
       "Name: ratings, dtype: float64"
      ]
     },
     "execution_count": 15,
     "metadata": {},
     "output_type": "execute_result"
    }
   ],
   "source": [
    "# Check class balance\n",
    "y_train_full.value_counts(normalize=True)"
   ]
  },
  {
   "cell_type": "code",
   "execution_count": 16,
   "id": "adecdb29-4a11-4831-ad64-92cc13ea3608",
   "metadata": {},
   "outputs": [
    {
     "data": {
      "text/plain": [
       "High_rating    827\n",
       "Low_rating     827\n",
       "Name: ratings, dtype: int64"
      ]
     },
     "execution_count": 16,
     "metadata": {},
     "output_type": "execute_result"
    }
   ],
   "source": [
    "# Instantiate a RandomUnderSampler\n",
    "sampler = fn.RandomUnderSampler(random_state=42)\n",
    "\n",
    "# Fit_resample on the reshaped X_train data and y-train data\n",
    "X_train, y_train = sampler.fit_resample(X_train_full.values.reshape(-1,1),y_train_full)\n",
    "\n",
    "# Flatten the reshaped X_train data back to 1D\n",
    "X_train = X_train.flatten()\n",
    "\n",
    "# Check for class balance\n",
    "y_train.value_counts()"
   ]
  },
  {
   "cell_type": "code",
   "execution_count": 17,
   "id": "80f1a481-08c1-4915-8517-b5aea0b0bb05",
   "metadata": {},
   "outputs": [
    {
     "data": {
      "text/plain": [
       "<1654x22256 sparse matrix of type '<class 'numpy.int64'>'\n",
       "\twith 218723 stored elements in Compressed Sparse Row format>"
      ]
     },
     "execution_count": 17,
     "metadata": {},
     "output_type": "execute_result"
    }
   ],
   "source": [
    "## Instantiate CountVectorizer\n",
    "countvector = fn.CountVectorizer()#min_df=3, ngram_range=(1,2))\n",
    "countvector.fit(X_train)\n",
    "\n",
    "# Transform X_train to see the result (for demo only)\n",
    "countvector.transform(X_train)"
   ]
  },
  {
   "cell_type": "code",
   "execution_count": 18,
   "id": "ad982393-8348-4a58-833f-6035d26f99c1",
   "metadata": {},
   "outputs": [
    {
     "data": {
      "text/html": [
       "<style>#sk-container-id-1 {color: black;background-color: white;}#sk-container-id-1 pre{padding: 0;}#sk-container-id-1 div.sk-toggleable {background-color: white;}#sk-container-id-1 label.sk-toggleable__label {cursor: pointer;display: block;width: 100%;margin-bottom: 0;padding: 0.3em;box-sizing: border-box;text-align: center;}#sk-container-id-1 label.sk-toggleable__label-arrow:before {content: \"▸\";float: left;margin-right: 0.25em;color: #696969;}#sk-container-id-1 label.sk-toggleable__label-arrow:hover:before {color: black;}#sk-container-id-1 div.sk-estimator:hover label.sk-toggleable__label-arrow:before {color: black;}#sk-container-id-1 div.sk-toggleable__content {max-height: 0;max-width: 0;overflow: hidden;text-align: left;background-color: #f0f8ff;}#sk-container-id-1 div.sk-toggleable__content pre {margin: 0.2em;color: black;border-radius: 0.25em;background-color: #f0f8ff;}#sk-container-id-1 input.sk-toggleable__control:checked~div.sk-toggleable__content {max-height: 200px;max-width: 100%;overflow: auto;}#sk-container-id-1 input.sk-toggleable__control:checked~label.sk-toggleable__label-arrow:before {content: \"▾\";}#sk-container-id-1 div.sk-estimator input.sk-toggleable__control:checked~label.sk-toggleable__label {background-color: #d4ebff;}#sk-container-id-1 div.sk-label input.sk-toggleable__control:checked~label.sk-toggleable__label {background-color: #d4ebff;}#sk-container-id-1 input.sk-hidden--visually {border: 0;clip: rect(1px 1px 1px 1px);clip: rect(1px, 1px, 1px, 1px);height: 1px;margin: -1px;overflow: hidden;padding: 0;position: absolute;width: 1px;}#sk-container-id-1 div.sk-estimator {font-family: monospace;background-color: #f0f8ff;border: 1px dotted black;border-radius: 0.25em;box-sizing: border-box;margin-bottom: 0.5em;}#sk-container-id-1 div.sk-estimator:hover {background-color: #d4ebff;}#sk-container-id-1 div.sk-parallel-item::after {content: \"\";width: 100%;border-bottom: 1px solid gray;flex-grow: 1;}#sk-container-id-1 div.sk-label:hover label.sk-toggleable__label {background-color: #d4ebff;}#sk-container-id-1 div.sk-serial::before {content: \"\";position: absolute;border-left: 1px solid gray;box-sizing: border-box;top: 0;bottom: 0;left: 50%;z-index: 0;}#sk-container-id-1 div.sk-serial {display: flex;flex-direction: column;align-items: center;background-color: white;padding-right: 0.2em;padding-left: 0.2em;position: relative;}#sk-container-id-1 div.sk-item {position: relative;z-index: 1;}#sk-container-id-1 div.sk-parallel {display: flex;align-items: stretch;justify-content: center;background-color: white;position: relative;}#sk-container-id-1 div.sk-item::before, #sk-container-id-1 div.sk-parallel-item::before {content: \"\";position: absolute;border-left: 1px solid gray;box-sizing: border-box;top: 0;bottom: 0;left: 50%;z-index: -1;}#sk-container-id-1 div.sk-parallel-item {display: flex;flex-direction: column;z-index: 1;position: relative;background-color: white;}#sk-container-id-1 div.sk-parallel-item:first-child::after {align-self: flex-end;width: 50%;}#sk-container-id-1 div.sk-parallel-item:last-child::after {align-self: flex-start;width: 50%;}#sk-container-id-1 div.sk-parallel-item:only-child::after {width: 0;}#sk-container-id-1 div.sk-dashed-wrapped {border: 1px dashed gray;margin: 0 0.4em 0.5em 0.4em;box-sizing: border-box;padding-bottom: 0.4em;background-color: white;}#sk-container-id-1 div.sk-label label {font-family: monospace;font-weight: bold;display: inline-block;line-height: 1.2em;}#sk-container-id-1 div.sk-label-container {text-align: center;}#sk-container-id-1 div.sk-container {/* jupyter's `normalize.less` sets `[hidden] { display: none; }` but bootstrap.min.css set `[hidden] { display: none !important; }` so we also need the `!important` here to be able to override the default hidden behavior on the sphinx rendered scikit-learn.org. See: https://github.com/scikit-learn/scikit-learn/issues/21755 */display: inline-block !important;position: relative;}#sk-container-id-1 div.sk-text-repr-fallback {display: none;}</style><div id=\"sk-container-id-1\" class=\"sk-top-container\"><div class=\"sk-text-repr-fallback\"><pre>Pipeline(steps=[(&#x27;vectorizer&#x27;, CountVectorizer()), (&#x27;bayes&#x27;, MultinomialNB())])</pre><b>In a Jupyter environment, please rerun this cell to show the HTML representation or trust the notebook. <br />On GitHub, the HTML representation is unable to render, please try loading this page with nbviewer.org.</b></div><div class=\"sk-container\" hidden><div class=\"sk-item sk-dashed-wrapped\"><div class=\"sk-label-container\"><div class=\"sk-label sk-toggleable\"><input class=\"sk-toggleable__control sk-hidden--visually\" id=\"sk-estimator-id-1\" type=\"checkbox\" ><label for=\"sk-estimator-id-1\" class=\"sk-toggleable__label sk-toggleable__label-arrow\">Pipeline</label><div class=\"sk-toggleable__content\"><pre>Pipeline(steps=[(&#x27;vectorizer&#x27;, CountVectorizer()), (&#x27;bayes&#x27;, MultinomialNB())])</pre></div></div></div><div class=\"sk-serial\"><div class=\"sk-item\"><div class=\"sk-estimator sk-toggleable\"><input class=\"sk-toggleable__control sk-hidden--visually\" id=\"sk-estimator-id-2\" type=\"checkbox\" ><label for=\"sk-estimator-id-2\" class=\"sk-toggleable__label sk-toggleable__label-arrow\">CountVectorizer</label><div class=\"sk-toggleable__content\"><pre>CountVectorizer()</pre></div></div></div><div class=\"sk-item\"><div class=\"sk-estimator sk-toggleable\"><input class=\"sk-toggleable__control sk-hidden--visually\" id=\"sk-estimator-id-3\" type=\"checkbox\" ><label for=\"sk-estimator-id-3\" class=\"sk-toggleable__label sk-toggleable__label-arrow\">MultinomialNB</label><div class=\"sk-toggleable__content\"><pre>MultinomialNB()</pre></div></div></div></div></div></div></div>"
      ],
      "text/plain": [
       "Pipeline(steps=[('vectorizer', CountVectorizer()), ('bayes', MultinomialNB())])"
      ]
     },
     "execution_count": 18,
     "metadata": {},
     "output_type": "execute_result"
    }
   ],
   "source": [
    "## Create a model pipeline \n",
    "nbayes = fn.MultinomialNB()\n",
    "\n",
    "count_pipe = fn.Pipeline([('vectorizer', countvector), \n",
    "                       ('bayes', nbayes)])\n",
    "\n",
    "count_pipe.fit(X_train, y_train)"
   ]
  },
  {
   "cell_type": "code",
   "execution_count": 19,
   "id": "48cb258c-16be-498b-a020-b3c4ddba4805",
   "metadata": {},
   "outputs": [
    {
     "name": "stdout",
     "output_type": "stream",
     "text": [
      "----------------------------------------------------------------------\n",
      " Classification Metrics: Training Data\n",
      "----------------------------------------------------------------------\n",
      "              precision    recall  f1-score   support\n",
      "\n",
      " High_rating       0.99      0.97      0.98       827\n",
      "  Low_rating       0.97      0.99      0.98       827\n",
      "\n",
      "    accuracy                           0.98      1654\n",
      "   macro avg       0.98      0.98      0.98      1654\n",
      "weighted avg       0.98      0.98      0.98      1654\n",
      "\n"
     ]
    },
    {
     "data": {
      "image/png": "[encoded data removed]",
      "text/plain": [
       "<Figure size 600x400 with 2 Axes>"
      ]
     },
     "metadata": {},
     "output_type": "display_data"
    },
    {
     "name": "stdout",
     "output_type": "stream",
     "text": [
      "\n",
      "----------------------------------------------------------------------\n",
      " Classification Metrics: Test Data\n",
      "----------------------------------------------------------------------\n",
      "              precision    recall  f1-score   support\n",
      "\n",
      " High_rating       0.88      0.87      0.87       179\n",
      "  Low_rating       0.87      0.88      0.88       184\n",
      "\n",
      "    accuracy                           0.87       363\n",
      "   macro avg       0.87      0.87      0.87       363\n",
      "weighted avg       0.87      0.87      0.87       363\n",
      "\n"
     ]
    },
    {
     "data": {
      "image/png": "[encoded data removed]",
      "text/plain": [
       "<Figure size 600x400 with 2 Axes>"
      ]
     },
     "metadata": {},
     "output_type": "display_data"
    }
   ],
   "source": [
    "# Evaluate count_pipe\n",
    "fn.evaluate_classification(count_pipe, X_train, y_train, X_test, y_test)"
   ]
  },
  {
   "cell_type": "code",
   "execution_count": 20,
   "id": "a5f3c1b2-a429-4f25-84d0-39b834dc23ac",
   "metadata": {},
   "outputs": [
    {
     "data": {
      "text/html": [
       "<style>#sk-container-id-2 {color: black;background-color: white;}#sk-container-id-2 pre{padding: 0;}#sk-container-id-2 div.sk-toggleable {background-color: white;}#sk-container-id-2 label.sk-toggleable__label {cursor: pointer;display: block;width: 100%;margin-bottom: 0;padding: 0.3em;box-sizing: border-box;text-align: center;}#sk-container-id-2 label.sk-toggleable__label-arrow:before {content: \"▸\";float: left;margin-right: 0.25em;color: #696969;}#sk-container-id-2 label.sk-toggleable__label-arrow:hover:before {color: black;}#sk-container-id-2 div.sk-estimator:hover label.sk-toggleable__label-arrow:before {color: black;}#sk-container-id-2 div.sk-toggleable__content {max-height: 0;max-width: 0;overflow: hidden;text-align: left;background-color: #f0f8ff;}#sk-container-id-2 div.sk-toggleable__content pre {margin: 0.2em;color: black;border-radius: 0.25em;background-color: #f0f8ff;}#sk-container-id-2 input.sk-toggleable__control:checked~div.sk-toggleable__content {max-height: 200px;max-width: 100%;overflow: auto;}#sk-container-id-2 input.sk-toggleable__control:checked~label.sk-toggleable__label-arrow:before {content: \"▾\";}#sk-container-id-2 div.sk-estimator input.sk-toggleable__control:checked~label.sk-toggleable__label {background-color: #d4ebff;}#sk-container-id-2 div.sk-label input.sk-toggleable__control:checked~label.sk-toggleable__label {background-color: #d4ebff;}#sk-container-id-2 input.sk-hidden--visually {border: 0;clip: rect(1px 1px 1px 1px);clip: rect(1px, 1px, 1px, 1px);height: 1px;margin: -1px;overflow: hidden;padding: 0;position: absolute;width: 1px;}#sk-container-id-2 div.sk-estimator {font-family: monospace;background-color: #f0f8ff;border: 1px dotted black;border-radius: 0.25em;box-sizing: border-box;margin-bottom: 0.5em;}#sk-container-id-2 div.sk-estimator:hover {background-color: #d4ebff;}#sk-container-id-2 div.sk-parallel-item::after {content: \"\";width: 100%;border-bottom: 1px solid gray;flex-grow: 1;}#sk-container-id-2 div.sk-label:hover label.sk-toggleable__label {background-color: #d4ebff;}#sk-container-id-2 div.sk-serial::before {content: \"\";position: absolute;border-left: 1px solid gray;box-sizing: border-box;top: 0;bottom: 0;left: 50%;z-index: 0;}#sk-container-id-2 div.sk-serial {display: flex;flex-direction: column;align-items: center;background-color: white;padding-right: 0.2em;padding-left: 0.2em;position: relative;}#sk-container-id-2 div.sk-item {position: relative;z-index: 1;}#sk-container-id-2 div.sk-parallel {display: flex;align-items: stretch;justify-content: center;background-color: white;position: relative;}#sk-container-id-2 div.sk-item::before, #sk-container-id-2 div.sk-parallel-item::before {content: \"\";position: absolute;border-left: 1px solid gray;box-sizing: border-box;top: 0;bottom: 0;left: 50%;z-index: -1;}#sk-container-id-2 div.sk-parallel-item {display: flex;flex-direction: column;z-index: 1;position: relative;background-color: white;}#sk-container-id-2 div.sk-parallel-item:first-child::after {align-self: flex-end;width: 50%;}#sk-container-id-2 div.sk-parallel-item:last-child::after {align-self: flex-start;width: 50%;}#sk-container-id-2 div.sk-parallel-item:only-child::after {width: 0;}#sk-container-id-2 div.sk-dashed-wrapped {border: 1px dashed gray;margin: 0 0.4em 0.5em 0.4em;box-sizing: border-box;padding-bottom: 0.4em;background-color: white;}#sk-container-id-2 div.sk-label label {font-family: monospace;font-weight: bold;display: inline-block;line-height: 1.2em;}#sk-container-id-2 div.sk-label-container {text-align: center;}#sk-container-id-2 div.sk-container {/* jupyter's `normalize.less` sets `[hidden] { display: none; }` but bootstrap.min.css set `[hidden] { display: none !important; }` so we also need the `!important` here to be able to override the default hidden behavior on the sphinx rendered scikit-learn.org. See: https://github.com/scikit-learn/scikit-learn/issues/21755 */display: inline-block !important;position: relative;}#sk-container-id-2 div.sk-text-repr-fallback {display: none;}</style><div id=\"sk-container-id-2\" class=\"sk-top-container\"><div class=\"sk-text-repr-fallback\"><pre>Pipeline(steps=[(&#x27;vectorizer&#x27;, TfidfVectorizer()), (&#x27;bayes&#x27;, MultinomialNB())])</pre><b>In a Jupyter environment, please rerun this cell to show the HTML representation or trust the notebook. <br />On GitHub, the HTML representation is unable to render, please try loading this page with nbviewer.org.</b></div><div class=\"sk-container\" hidden><div class=\"sk-item sk-dashed-wrapped\"><div class=\"sk-label-container\"><div class=\"sk-label sk-toggleable\"><input class=\"sk-toggleable__control sk-hidden--visually\" id=\"sk-estimator-id-4\" type=\"checkbox\" ><label for=\"sk-estimator-id-4\" class=\"sk-toggleable__label sk-toggleable__label-arrow\">Pipeline</label><div class=\"sk-toggleable__content\"><pre>Pipeline(steps=[(&#x27;vectorizer&#x27;, TfidfVectorizer()), (&#x27;bayes&#x27;, MultinomialNB())])</pre></div></div></div><div class=\"sk-serial\"><div class=\"sk-item\"><div class=\"sk-estimator sk-toggleable\"><input class=\"sk-toggleable__control sk-hidden--visually\" id=\"sk-estimator-id-5\" type=\"checkbox\" ><label for=\"sk-estimator-id-5\" class=\"sk-toggleable__label sk-toggleable__label-arrow\">TfidfVectorizer</label><div class=\"sk-toggleable__content\"><pre>TfidfVectorizer()</pre></div></div></div><div class=\"sk-item\"><div class=\"sk-estimator sk-toggleable\"><input class=\"sk-toggleable__control sk-hidden--visually\" id=\"sk-estimator-id-6\" type=\"checkbox\" ><label for=\"sk-estimator-id-6\" class=\"sk-toggleable__label sk-toggleable__label-arrow\">MultinomialNB</label><div class=\"sk-toggleable__content\"><pre>MultinomialNB()</pre></div></div></div></div></div></div></div>"
      ],
      "text/plain": [
       "Pipeline(steps=[('vectorizer', TfidfVectorizer()), ('bayes', MultinomialNB())])"
      ]
     },
     "execution_count": 20,
     "metadata": {},
     "output_type": "execute_result"
    }
   ],
   "source": [
    "# Instantiate TF-IDF Vectorizor\n",
    "tfidf = fn.TfidfVectorizer()\n",
    "\n",
    "## Instantiate model\n",
    "tfidfbayes = fn.MultinomialNB()\n",
    "\n",
    "\n",
    "## Create pipeline: tfidf_pipe\n",
    "tfidf_pipe = fn.Pipeline([('vectorizer', tfidf),\n",
    "                       ('bayes', tfidfbayes)])\n",
    "\n",
    "\n",
    "\n",
    "## Fit pipeline\n",
    "tfidf_pipe.fit(X_train, y_train)\n",
    "                      "
   ]
  },
  {
   "cell_type": "code",
   "execution_count": 21,
   "id": "c2ec7602-7b28-4b77-a982-164561b0a33d",
   "metadata": {},
   "outputs": [
    {
     "name": "stdout",
     "output_type": "stream",
     "text": [
      "----------------------------------------------------------------------\n",
      " Classification Metrics: Training Data\n",
      "----------------------------------------------------------------------\n",
      "              precision    recall  f1-score   support\n",
      "\n",
      " High_rating       0.98      0.97      0.98       827\n",
      "  Low_rating       0.97      0.98      0.98       827\n",
      "\n",
      "    accuracy                           0.98      1654\n",
      "   macro avg       0.98      0.98      0.98      1654\n",
      "weighted avg       0.98      0.98      0.98      1654\n",
      "\n"
     ]
    },
    {
     "data": {
      "image/png": "[encoded data removed]",
      "text/plain": [
       "<Figure size 600x400 with 2 Axes>"
      ]
     },
     "metadata": {},
     "output_type": "display_data"
    },
    {
     "name": "stdout",
     "output_type": "stream",
     "text": [
      "\n",
      "----------------------------------------------------------------------\n",
      " Classification Metrics: Test Data\n",
      "----------------------------------------------------------------------\n",
      "              precision    recall  f1-score   support\n",
      "\n",
      " High_rating       0.86      0.90      0.88       179\n",
      "  Low_rating       0.90      0.86      0.88       184\n",
      "\n",
      "    accuracy                           0.88       363\n",
      "   macro avg       0.88      0.88      0.88       363\n",
      "weighted avg       0.88      0.88      0.88       363\n",
      "\n"
     ]
    },
    {
     "data": {
      "image/png": "[encoded data removed]",
      "text/plain": [
       "<Figure size 600x400 with 2 Axes>"
      ]
     },
     "metadata": {},
     "output_type": "display_data"
    }
   ],
   "source": [
    "# Evaluate the tfidf_pipeline model\n",
    "fn.evaluate_classification(tfidf_pipe, X_train, y_train, X_test, y_test)"
   ]
  },
  {
   "cell_type": "markdown",
   "id": "6fd60383-65f6-4829-a60e-b5ff670f0f21",
   "metadata": {},
   "source": [
    "## `Build a Machine Learning Model`\n",
    "- Build a sklearn modeling pipeline with a text vectorizer and a classification model.\n",
    "    - Suggested Models: MultinomialNB, LogisticRegression (you may need to increase max_iter), RandomForestClassifier\n",
    "- Fit and evaluate the model using the machine learning classification models from sklearn.\n",
    "    - In a Markdown cell, document your observations from your results. (e.g., how good is the model overall? Is it particularly good/bad at predicting one class?)"
   ]
  },
  {
   "cell_type": "code",
   "execution_count": 22,
   "id": "57a81906-d01a-4603-bff9-7a04e57c6dfb",
   "metadata": {},
   "outputs": [
    {
     "data": {
      "text/plain": [
       "{'memory': None,\n",
       " 'steps': [('vectorizer', CountVectorizer()),\n",
       "  ('clf', RandomForestClassifier(class_weight='balanced'))],\n",
       " 'verbose': False,\n",
       " 'vectorizer': CountVectorizer(),\n",
       " 'clf': RandomForestClassifier(class_weight='balanced'),\n",
       " 'vectorizer__analyzer': 'word',\n",
       " 'vectorizer__binary': False,\n",
       " 'vectorizer__decode_error': 'strict',\n",
       " 'vectorizer__dtype': numpy.int64,\n",
       " 'vectorizer__encoding': 'utf-8',\n",
       " 'vectorizer__input': 'content',\n",
       " 'vectorizer__lowercase': True,\n",
       " 'vectorizer__max_df': 1.0,\n",
       " 'vectorizer__max_features': None,\n",
       " 'vectorizer__min_df': 1,\n",
       " 'vectorizer__ngram_range': (1, 1),\n",
       " 'vectorizer__preprocessor': None,\n",
       " 'vectorizer__stop_words': None,\n",
       " 'vectorizer__strip_accents': None,\n",
       " 'vectorizer__token_pattern': '(?u)\\\\b\\\\w\\\\w+\\\\b',\n",
       " 'vectorizer__tokenizer': None,\n",
       " 'vectorizer__vocabulary': None,\n",
       " 'clf__bootstrap': True,\n",
       " 'clf__ccp_alpha': 0.0,\n",
       " 'clf__class_weight': 'balanced',\n",
       " 'clf__criterion': 'gini',\n",
       " 'clf__max_depth': None,\n",
       " 'clf__max_features': 'sqrt',\n",
       " 'clf__max_leaf_nodes': None,\n",
       " 'clf__max_samples': None,\n",
       " 'clf__min_impurity_decrease': 0.0,\n",
       " 'clf__min_samples_leaf': 1,\n",
       " 'clf__min_samples_split': 2,\n",
       " 'clf__min_weight_fraction_leaf': 0.0,\n",
       " 'clf__n_estimators': 100,\n",
       " 'clf__n_jobs': None,\n",
       " 'clf__oob_score': False,\n",
       " 'clf__random_state': None,\n",
       " 'clf__verbose': 0,\n",
       " 'clf__warm_start': False}"
      ]
     },
     "execution_count": 22,
     "metadata": {},
     "output_type": "execute_result"
    }
   ],
   "source": [
    "from sklearn.ensemble import RandomForestClassifier\n",
    "rf_pipe  = fn.Pipeline([('vectorizer',fn.CountVectorizer()),\n",
    "                    ('clf',fn.RandomForestClassifier(class_weight='balanced'))])\n",
    "rf_pipe.get_params()"
   ]
  },
  {
   "cell_type": "code",
   "execution_count": 23,
   "id": "a4cbb572-dde3-4cc1-99e6-ad38deb0b869",
   "metadata": {},
   "outputs": [
    {
     "data": {
      "text/plain": [
       "[{'vectorizer': [CountVectorizer()],\n",
       "  'vectorizer__max_df': [0.7, 0.8, 0.9],\n",
       "  'vectorizer__min_df': [2, 3, 4],\n",
       "  'vectorizer__max_features': [None, 1000, 2000],\n",
       "  'vectorizer__stop_words': [None, 'english']},\n",
       " {'vectorizer': [TfidfVectorizer()],\n",
       "  'vectorizer__norm': ['l1', 'l2'],\n",
       "  'vectorizer__use_idf': [True, False],\n",
       "  'vectorizer__max_df': [0.7, 0.8, 0.9],\n",
       "  'vectorizer__min_df': [2, 3, 4],\n",
       "  'vectorizer__max_features': [None, 1000, 2000],\n",
       "  'vectorizer__stop_words': [None, 'english']}]"
      ]
     },
     "execution_count": 23,
     "metadata": {},
     "output_type": "execute_result"
    }
   ],
   "source": [
    "# Define params to try for both vectorizers\n",
    "param_grid_shared = {\n",
    "    \"vectorizer__max_df\": [0.7, 0.8, 0.9],\n",
    "    'vectorizer__min_df': [ 2, 3, 4 ], \n",
    "    \"vectorizer__max_features\": [None, 1000, 2000],\n",
    "    \"vectorizer__stop_words\": [None,'english']\n",
    "}\n",
    "\n",
    "# Setting params for the count vectorizer\n",
    "param_grid_count = {\n",
    "    'vectorizer':[fn.CountVectorizer()],\n",
    "    **param_grid_shared\n",
    "}\n",
    "\n",
    "\n",
    "# Setting params for tfidf vectorizer \n",
    "param_grid_tfidf = {\n",
    "    'vectorizer': [fn.TfidfVectorizer()],\n",
    "    \"vectorizer__norm\": [\"l1\", \"l2\"],\n",
    "    \"vectorizer__use_idf\": [True, False],\n",
    "    **param_grid_shared\n",
    "}\n",
    "\n",
    "# combine into list of params\n",
    "params_combined = [param_grid_count, param_grid_tfidf]\n",
    "params_combined"
   ]
  },
  {
   "cell_type": "code",
   "execution_count": 24,
   "id": "a36a8bea-0244-4267-a12a-11ad9b14c899",
   "metadata": {},
   "outputs": [
    {
     "name": "stdout",
     "output_type": "stream",
     "text": [
      "Fitting 3 folds for each of 270 candidates, totalling 810 fits\n",
      "CPU times: total: 12.5 s\n",
      "Wall time: 8min 5s\n"
     ]
    },
    {
     "data": {
      "text/plain": [
       "{'vectorizer': CountVectorizer(max_df=0.7, max_features=2000, min_df=3, stop_words='english'),\n",
       " 'vectorizer__max_df': 0.7,\n",
       " 'vectorizer__max_features': 2000,\n",
       " 'vectorizer__min_df': 3,\n",
       " 'vectorizer__stop_words': 'english'}"
      ]
     },
     "execution_count": 24,
     "metadata": {},
     "output_type": "execute_result"
    }
   ],
   "source": [
    "%%time\n",
    "# Create grid search\n",
    "grid_search = fn.GridSearchCV(rf_pipe, params_combined, cv=3, verbose=1, n_jobs=-1)\n",
    "    \n",
    "    \n",
    "# Fit the model\n",
    "grid_search.fit(X_train, y_train)\n",
    "grid_search.best_params_"
   ]
  },
  {
   "cell_type": "code",
   "execution_count": 25,
   "id": "46b3cd43-893c-4266-9993-10af2f25e4f9",
   "metadata": {},
   "outputs": [
    {
     "name": "stdout",
     "output_type": "stream",
     "text": [
      "----------------------------------------------------------------------\n",
      " Classification Metrics: Training Data\n",
      "----------------------------------------------------------------------\n",
      "              precision    recall  f1-score   support\n",
      "\n",
      " High_rating       1.00      1.00      1.00       827\n",
      "  Low_rating       1.00      1.00      1.00       827\n",
      "\n",
      "    accuracy                           1.00      1654\n",
      "   macro avg       1.00      1.00      1.00      1654\n",
      "weighted avg       1.00      1.00      1.00      1654\n",
      "\n"
     ]
    },
    {
     "data": {
      "image/png": "[encoded data removed]",
      "text/plain": [
       "<Figure size 600x400 with 2 Axes>"
      ]
     },
     "metadata": {},
     "output_type": "display_data"
    },
    {
     "name": "stdout",
     "output_type": "stream",
     "text": [
      "\n",
      "----------------------------------------------------------------------\n",
      " Classification Metrics: Test Data\n",
      "----------------------------------------------------------------------\n",
      "              precision    recall  f1-score   support\n",
      "\n",
      " High_rating       0.82      0.89      0.85       179\n",
      "  Low_rating       0.88      0.80      0.84       184\n",
      "\n",
      "    accuracy                           0.85       363\n",
      "   macro avg       0.85      0.85      0.85       363\n",
      "weighted avg       0.85      0.85      0.85       363\n",
      "\n"
     ]
    },
    {
     "data": {
      "image/png": "[encoded data removed]",
      "text/plain": [
       "<Figure size 600x400 with 2 Axes>"
      ]
     },
     "metadata": {},
     "output_type": "display_data"
    }
   ],
   "source": [
    "best_rf_pipe = grid_search.best_estimator_\n",
    "fn.evaluate_classification(best_rf_pipe, X_train, y_train, X_test, y_test)"
   ]
  },
  {
   "cell_type": "markdown",
   "id": "338356a1-3b72-4197-a49e-d0be50f22386",
   "metadata": {},
   "source": [
    "## `GridSearch Text Vectorization`\n",
    "- Attempt to improve your model by tuning the text preprocessing steps."
   ]
  },
  {
   "cell_type": "markdown",
   "id": "6bb24983-3872-4a0c-9d7f-607e5575b215",
   "metadata": {},
   "source": [
    "### `Construct a grid of parameters for the text vectorization step. Consider trying:`\n",
    "- CountVectorizer/TfidfVectorizer\n",
    "- Stop Words\n",
    "- ngram_range\n",
    "- Min_df/max_df"
   ]
  },
  {
   "cell_type": "code",
   "execution_count": 26,
   "id": "554a47e6-5c50-4826-b75c-ea9d96c24192",
   "metadata": {},
   "outputs": [
    {
     "data": {
      "text/plain": [
       "{'memory': None,\n",
       " 'steps': [('vectorizer', CountVectorizer()), ('clf', MultinomialNB())],\n",
       " 'verbose': False,\n",
       " 'vectorizer': CountVectorizer(),\n",
       " 'clf': MultinomialNB(),\n",
       " 'vectorizer__analyzer': 'word',\n",
       " 'vectorizer__binary': False,\n",
       " 'vectorizer__decode_error': 'strict',\n",
       " 'vectorizer__dtype': numpy.int64,\n",
       " 'vectorizer__encoding': 'utf-8',\n",
       " 'vectorizer__input': 'content',\n",
       " 'vectorizer__lowercase': True,\n",
       " 'vectorizer__max_df': 1.0,\n",
       " 'vectorizer__max_features': None,\n",
       " 'vectorizer__min_df': 1,\n",
       " 'vectorizer__ngram_range': (1, 1),\n",
       " 'vectorizer__preprocessor': None,\n",
       " 'vectorizer__stop_words': None,\n",
       " 'vectorizer__strip_accents': None,\n",
       " 'vectorizer__token_pattern': '(?u)\\\\b\\\\w\\\\w+\\\\b',\n",
       " 'vectorizer__tokenizer': None,\n",
       " 'vectorizer__vocabulary': None,\n",
       " 'clf__alpha': 1.0,\n",
       " 'clf__class_prior': None,\n",
       " 'clf__fit_prior': True,\n",
       " 'clf__force_alpha': 'warn'}"
      ]
     },
     "execution_count": 26,
     "metadata": {},
     "output_type": "execute_result"
    }
   ],
   "source": [
    "gs_pipe = fn.Pipeline([('vectorizer',fn.CountVectorizer()),\n",
    "                    ('clf',fn.MultinomialNB())])\n",
    "gs_pipe.get_params()"
   ]
  },
  {
   "cell_type": "code",
   "execution_count": 27,
   "id": "375332eb-e167-4569-bf60-6cd8679537b2",
   "metadata": {},
   "outputs": [
    {
     "data": {
      "text/plain": [
       "[{'vectorizer': [CountVectorizer()],\n",
       "  'vectorizer__max_df': [0.7, 0.8, 0.9],\n",
       "  'vectorizer__min_df': [2, 3, 4],\n",
       "  'vectorizer__max_features': [None, 1000, 2000],\n",
       "  'vectorizer__stop_words': [None, 'english']},\n",
       " {'vectorizer': [TfidfVectorizer()],\n",
       "  'vectorizer__norm': ['l1', 'l2'],\n",
       "  'vectorizer__use_idf': [True, False],\n",
       "  'vectorizer__max_df': [0.7, 0.8, 0.9],\n",
       "  'vectorizer__min_df': [2, 3, 4],\n",
       "  'vectorizer__max_features': [None, 1000, 2000],\n",
       "  'vectorizer__stop_words': [None, 'english']}]"
      ]
     },
     "execution_count": 27,
     "metadata": {},
     "output_type": "execute_result"
    }
   ],
   "source": [
    "# Define params to try for both vectorizers\n",
    "param_grid_shared = {\n",
    "    \"vectorizer__max_df\": [0.7, 0.8, 0.9],\n",
    "    'vectorizer__min_df': [ 2, 3, 4 ], \n",
    "    \"vectorizer__max_features\": [None, 1000, 2000],\n",
    "    \"vectorizer__stop_words\": [None,'english']\n",
    "}\n",
    "\n",
    "# Setting params for the count vectorizer\n",
    "param_grid_count = {\n",
    "    'vectorizer':[fn.CountVectorizer()],\n",
    "    **param_grid_shared\n",
    "}\n",
    "\n",
    "\n",
    "# Setting params for tfidf vectorizer \n",
    "param_grid_tfidf = {\n",
    "    'vectorizer': [fn.TfidfVectorizer()],\n",
    "    \"vectorizer__norm\": [\"l1\", \"l2\"],\n",
    "    \"vectorizer__use_idf\": [True, False],\n",
    "    **param_grid_shared\n",
    "}\n",
    "\n",
    "# combine into list of params\n",
    "params_combined = [param_grid_count, param_grid_tfidf]\n",
    "params_combined"
   ]
  },
  {
   "cell_type": "markdown",
   "id": "96ae8d98-1a2c-4989-a556-6268224c0844",
   "metadata": {},
   "source": [
    "### `Fit and evaluate the grid search results:`"
   ]
  },
  {
   "cell_type": "code",
   "execution_count": 28,
   "id": "2177a6bd-1c9f-4f56-9f47-2684dd26d659",
   "metadata": {},
   "outputs": [
    {
     "name": "stdout",
     "output_type": "stream",
     "text": [
      "Fitting 3 folds for each of 270 candidates, totalling 810 fits\n",
      "CPU times: total: 10.7 s\n",
      "Wall time: 1min 44s\n"
     ]
    },
    {
     "data": {
      "text/plain": [
       "{'vectorizer': CountVectorizer(max_df=0.8, min_df=3),\n",
       " 'vectorizer__max_df': 0.8,\n",
       " 'vectorizer__max_features': None,\n",
       " 'vectorizer__min_df': 3,\n",
       " 'vectorizer__stop_words': None}"
      ]
     },
     "execution_count": 28,
     "metadata": {},
     "output_type": "execute_result"
    }
   ],
   "source": [
    "%%time\n",
    "# Create grid search\n",
    "grid_search = fn.GridSearchCV(gs_pipe, params_combined, cv=3, verbose=1, n_jobs=-1)\n",
    "    \n",
    "    \n",
    "# Fit the model\n",
    "grid_search.fit(X_train, y_train)\n",
    "grid_search.best_params_"
   ]
  },
  {
   "cell_type": "code",
   "execution_count": 29,
   "id": "24fe131c-dcdd-457a-b4b5-07ac56241a2e",
   "metadata": {},
   "outputs": [
    {
     "name": "stdout",
     "output_type": "stream",
     "text": [
      "----------------------------------------------------------------------\n",
      " Classification Metrics: Training Data\n",
      "----------------------------------------------------------------------\n",
      "              precision    recall  f1-score   support\n",
      "\n",
      " High_rating       0.98      0.94      0.96       827\n",
      "  Low_rating       0.94      0.98      0.96       827\n",
      "\n",
      "    accuracy                           0.96      1654\n",
      "   macro avg       0.96      0.96      0.96      1654\n",
      "weighted avg       0.96      0.96      0.96      1654\n",
      "\n"
     ]
    },
    {
     "data": {
      "image/png": "[encoded data removed]",
      "text/plain": [
       "<Figure size 600x400 with 2 Axes>"
      ]
     },
     "metadata": {},
     "output_type": "display_data"
    },
    {
     "name": "stdout",
     "output_type": "stream",
     "text": [
      "\n",
      "----------------------------------------------------------------------\n",
      " Classification Metrics: Test Data\n",
      "----------------------------------------------------------------------\n",
      "              precision    recall  f1-score   support\n",
      "\n",
      " High_rating       0.88      0.85      0.87       179\n",
      "  Low_rating       0.86      0.89      0.88       184\n",
      "\n",
      "    accuracy                           0.87       363\n",
      "   macro avg       0.87      0.87      0.87       363\n",
      "weighted avg       0.87      0.87      0.87       363\n",
      "\n"
     ]
    },
    {
     "data": {
      "image/png": "[encoded data removed]",
      "text/plain": [
       "<Figure size 600x400 with 2 Axes>"
      ]
     },
     "metadata": {},
     "output_type": "display_data"
    }
   ],
   "source": [
    "# Evaluate the best estimator\n",
    "best_gs_pipe = grid_search.best_estimator_\n",
    "fn.evaluate_classification(best_gs_pipe, X_train, y_train, X_test, y_test)"
   ]
  },
  {
   "cell_type": "markdown",
   "id": "332075cf-ed78-4d6a-836b-d353549f4dfb",
   "metadata": {},
   "source": [
    "# <u>Deep NLP (RNNs):\n",
    "- For this part of the project, you will use the a Keras TextVectorization layer as part of your RNN model.\n",
    "- This serves the same purpose as using sklearn pipeline:\n",
    "    - `It bundles text preparation into the model, making it deployment-ready."
   ]
  },
  {
   "cell_type": "code",
   "execution_count": 30,
   "id": "ebdabacc-b380-445c-894d-bfcaa963e96a",
   "metadata": {},
   "outputs": [
    {
     "data": {
      "text/html": [
       "<div>\n",
       "<style scoped>\n",
       "    .dataframe tbody tr th:only-of-type {\n",
       "        vertical-align: middle;\n",
       "    }\n",
       "\n",
       "    .dataframe tbody tr th {\n",
       "        vertical-align: top;\n",
       "    }\n",
       "\n",
       "    .dataframe thead th {\n",
       "        text-align: right;\n",
       "    }\n",
       "</style>\n",
       "<table border=\"1\" class=\"dataframe\">\n",
       "  <thead>\n",
       "    <tr style=\"text-align: right;\">\n",
       "      <th></th>\n",
       "      <th>original_title</th>\n",
       "      <th>review</th>\n",
       "      <th>rating</th>\n",
       "      <th>ratings</th>\n",
       "      <th>tokens</th>\n",
       "      <th>lemmatized</th>\n",
       "      <th>tokens-joined</th>\n",
       "      <th>lemmas-joined</th>\n",
       "    </tr>\n",
       "    <tr>\n",
       "      <th>movie_id</th>\n",
       "      <th></th>\n",
       "      <th></th>\n",
       "      <th></th>\n",
       "      <th></th>\n",
       "      <th></th>\n",
       "      <th></th>\n",
       "      <th></th>\n",
       "      <th></th>\n",
       "    </tr>\n",
       "  </thead>\n",
       "  <tbody>\n",
       "    <tr>\n",
       "      <th>7443</th>\n",
       "      <td>Chicken Run</td>\n",
       "      <td>A guilty pleasure for me personally, as I love both 'The Great Escape' and most of the works I have seen, over the years, from this rightfully-esteemed British animation company. Highly recommended both for children and for adults who enjoy animation.</td>\n",
       "      <td>9.0</td>\n",
       "      <td>High_rating</td>\n",
       "      <td>[guilty, pleasure, personally, love, great, escape, work, see, year, rightfully, esteem, british, animation, company, highly, recommend, child, adult, enjoy, animation]</td>\n",
       "      <td>[guilty, pleasure, personally, love, great, escape, work, see, year, rightfully, esteem, british, animation, company, highly, recommend, child, adult, enjoy, animation]</td>\n",
       "      <td>guilty pleasure personally love great escape work see year rightfully esteem british animation company highly recommend child adult enjoy animation</td>\n",
       "      <td>guilty pleasure personally love great escape work see year rightfully esteem british animation company highly recommend child adult enjoy animation</td>\n",
       "    </tr>\n",
       "    <tr>\n",
       "      <th>955</th>\n",
       "      <td>Mission: Impossible II</td>\n",
       "      <td>The first underwhelmed me, but this one straight-up bored me. Again, of course seeing Hunt climb a mountain without a harness is impressive sure. And I even quite liked the idea behind the villain of the piece (though even that angle was woefully underdeveloped).\\r\\n\\r\\nEven setting it in predom...</td>\n",
       "      <td>3.0</td>\n",
       "      <td>Low_rating</td>\n",
       "      <td>[underwhelme, straight, bore, course, see, hunt, climb, mountain, harness, impressive, sure, like, idea, villain, piece, angle, woefully, underdeveloped, set, predominantly, australia, grab, attention, say, cause, pretty, biased, come, hear, tell, mission, impossible, ii, low, point, series, enc...</td>\n",
       "      <td>[underwhelme, straight, bore, course, see, hunt, climb, mountain, harness, impressive, sure, like, idea, villain, piece, angle, woefully, underdeveloped, set, predominantly, australia, grab, attention, say, cause, pretty, biased, come, hear, tell, mission, impossible, ii, low, point, series, enc...</td>\n",
       "      <td>underwhelme straight bore course see hunt climb mountain harness impressive sure like idea villain piece angle woefully underdeveloped set predominantly australia grab attention say cause pretty biased come hear tell mission impossible ii low point series encouraging bad know able rogue nation f...</td>\n",
       "      <td>underwhelme straight bore course see hunt climb mountain harness impressive sure like idea villain piece angle woefully underdeveloped set predominantly australia grab attention say cause pretty biased come hear tell mission impossible ii low point series encouraging bad know able rogue nation f...</td>\n",
       "    </tr>\n",
       "    <tr>\n",
       "      <th>955</th>\n",
       "      <td>Mission: Impossible II</td>\n",
       "      <td>After quite entertainign Mission Impossible I the second installment turned out ... terrible. As if the screenwriters didn't know how to fill the 2 hrs with action the overuse of heroic slow motion scenes is horrible. You almost might need a barf bag if you can't stand slo-mo every five seconds....</td>\n",
       "      <td>2.0</td>\n",
       "      <td>Low_rating</td>\n",
       "      <td>[entertainign, mission, impossible, second, installment, turn, terrible, screenwriter, know, fill, 2, hrs, action, overuse, heroic, slow, motion, scene, horrible, need, barf, bag, stand, slo, mo, second, 15, second, amazed, decide, push, m, movie, turn, well, hard, beat, lousy, piece, crap, movie]</td>\n",
       "      <td>[entertainign, mission, impossible, second, installment, turn, terrible, screenwriter, know, fill, 2, hrs, action, overuse, heroic, slow, motion, scene, horrible, need, barf, bag, stand, slo, mo, second, 15, second, amazed, decide, push, m, movie, turn, well, hard, beat, lousy, piece, crap, movie]</td>\n",
       "      <td>entertainign mission impossible second installment turn terrible screenwriter know fill 2 hrs action overuse heroic slow motion scene horrible need barf bag stand slo mo second 15 second amazed decide push m movie turn well hard beat lousy piece crap movie</td>\n",
       "      <td>entertainign mission impossible second installment turn terrible screenwriter know fill 2 hrs action overuse heroic slow motion scene horrible need barf bag stand slo mo second 15 second amazed decide push m movie turn well hard beat lousy piece crap movie</td>\n",
       "    </tr>\n",
       "    <tr>\n",
       "      <th>2621</th>\n",
       "      <td>Return to Me</td>\n",
       "      <td>Okay, I will admit I can be a bit of an easy grader when it comes to romantic comedies, as long as they are witty with likable characters, don’t insult my intelligence and have suitable happy endings (I guess if they don’t end happily, they aren’t rom-coms).\\r\\n\\r\\nI saw this movie many years ag...</td>\n",
       "      <td>9.0</td>\n",
       "      <td>High_rating</td>\n",
       "      <td>[okay, admit, bit, easy, grader, come, romantic, comedy, long, witty, likable, character, insult, intelligence, suitable, happy, ending, guess, end, happily, rom, com, see, movie, year, ago, forget, fresh, like, movie, plot, rely, huge, coincidence, story, get, sappy, sentimental, place, predict...</td>\n",
       "      <td>[okay, admit, bit, easy, grader, come, romantic, comedy, long, witty, likable, character, insult, intelligence, suitable, happy, ending, guess, end, happily, rom, com, see, movie, year, ago, forget, fresh, like, movie, plot, rely, huge, coincidence, story, get, sappy, sentimental, place, predict...</td>\n",
       "      <td>okay admit bit easy grader come romantic comedy long witty likable character insult intelligence suitable happy ending guess end happily rom com see movie year ago forget fresh like movie plot rely huge coincidence story get sappy sentimental place predictable religion suit thing suit fine prais...</td>\n",
       "      <td>okay admit bit easy grader come romantic comedy long witty likable character insult intelligence suitable happy ending guess end happily rom com see movie year ago forget fresh like movie plot rely huge coincidence story get sappy sentimental place predictable religion suit thing suit fine prais...</td>\n",
       "    </tr>\n",
       "    <tr>\n",
       "      <th>4234</th>\n",
       "      <td>Scream 3</td>\n",
       "      <td>**_Scream 3’s_ lackluster screenplay and unimaginative kills leave a film that is a bore to watch.**\\r\\n\\r\\nThe meta-narrative of trilogies throughout the film does not make up for how abysmal the plot was. This film creates so much lore for the past movies seemingly out of the blue, muddling up...</td>\n",
       "      <td>4.0</td>\n",
       "      <td>Low_rating</td>\n",
       "      <td>[scream, 3, lackluster, screenplay, unimaginative, kill, leave, film, bore, watch, meta, narrative, trilogy, film, abysmal, plot, film, create, lore, past, movie, seemingly, blue, muddle, continuity, shock, value, add, little, film, feel, force, entire, plot, point, sidney, mother, hollywood, ac...</td>\n",
       "      <td>[scream, 3, lackluster, screenplay, unimaginative, kill, leave, film, bore, watch, meta, narrative, trilogy, film, abysmal, plot, film, create, lore, past, movie, seemingly, blue, muddle, continuity, shock, value, add, little, film, feel, force, entire, plot, point, sidney, mother, hollywood, ac...</td>\n",
       "      <td>scream 3 lackluster screenplay unimaginative kill leave film bore watch meta narrative trilogy film abysmal plot film create lore past movie seemingly blue muddle continuity shock value add little film feel force entire plot point sidney mother hollywood actress pretty lame especially add plot p...</td>\n",
       "      <td>scream 3 lackluster screenplay unimaginative kill leave film bore watch meta narrative trilogy film abysmal plot film create lore past movie seemingly blue muddle continuity shock value add little film feel force entire plot point sidney mother hollywood actress pretty lame especially add plot p...</td>\n",
       "    </tr>\n",
       "  </tbody>\n",
       "</table>\n",
       "</div>"
      ],
      "text/plain": [
       "                  original_title  \\\n",
       "movie_id                           \n",
       "7443                 Chicken Run   \n",
       "955       Mission: Impossible II   \n",
       "955       Mission: Impossible II   \n",
       "2621                Return to Me   \n",
       "4234                    Scream 3   \n",
       "\n",
       "                                                                                                                                                                                                                                                                                                               review  \\\n",
       "movie_id                                                                                                                                                                                                                                                                                                                \n",
       "7443                                                      A guilty pleasure for me personally, as I love both 'The Great Escape' and most of the works I have seen, over the years, from this rightfully-esteemed British animation company. Highly recommended both for children and for adults who enjoy animation.   \n",
       "955       The first underwhelmed me, but this one straight-up bored me. Again, of course seeing Hunt climb a mountain without a harness is impressive sure. And I even quite liked the idea behind the villain of the piece (though even that angle was woefully underdeveloped).\\r\\n\\r\\nEven setting it in predom...   \n",
       "955       After quite entertainign Mission Impossible I the second installment turned out ... terrible. As if the screenwriters didn't know how to fill the 2 hrs with action the overuse of heroic slow motion scenes is horrible. You almost might need a barf bag if you can't stand slo-mo every five seconds....   \n",
       "2621      Okay, I will admit I can be a bit of an easy grader when it comes to romantic comedies, as long as they are witty with likable characters, don’t insult my intelligence and have suitable happy endings (I guess if they don’t end happily, they aren’t rom-coms).\\r\\n\\r\\nI saw this movie many years ag...   \n",
       "4234      **_Scream 3’s_ lackluster screenplay and unimaginative kills leave a film that is a bore to watch.**\\r\\n\\r\\nThe meta-narrative of trilogies throughout the film does not make up for how abysmal the plot was. This film creates so much lore for the past movies seemingly out of the blue, muddling up...   \n",
       "\n",
       "          rating      ratings  \\\n",
       "movie_id                        \n",
       "7443         9.0  High_rating   \n",
       "955          3.0   Low_rating   \n",
       "955          2.0   Low_rating   \n",
       "2621         9.0  High_rating   \n",
       "4234         4.0   Low_rating   \n",
       "\n",
       "                                                                                                                                                                                                                                                                                                               tokens  \\\n",
       "movie_id                                                                                                                                                                                                                                                                                                                \n",
       "7443                                                                                                                                         [guilty, pleasure, personally, love, great, escape, work, see, year, rightfully, esteem, british, animation, company, highly, recommend, child, adult, enjoy, animation]   \n",
       "955       [underwhelme, straight, bore, course, see, hunt, climb, mountain, harness, impressive, sure, like, idea, villain, piece, angle, woefully, underdeveloped, set, predominantly, australia, grab, attention, say, cause, pretty, biased, come, hear, tell, mission, impossible, ii, low, point, series, enc...   \n",
       "955        [entertainign, mission, impossible, second, installment, turn, terrible, screenwriter, know, fill, 2, hrs, action, overuse, heroic, slow, motion, scene, horrible, need, barf, bag, stand, slo, mo, second, 15, second, amazed, decide, push, m, movie, turn, well, hard, beat, lousy, piece, crap, movie]   \n",
       "2621      [okay, admit, bit, easy, grader, come, romantic, comedy, long, witty, likable, character, insult, intelligence, suitable, happy, ending, guess, end, happily, rom, com, see, movie, year, ago, forget, fresh, like, movie, plot, rely, huge, coincidence, story, get, sappy, sentimental, place, predict...   \n",
       "4234      [scream, 3, lackluster, screenplay, unimaginative, kill, leave, film, bore, watch, meta, narrative, trilogy, film, abysmal, plot, film, create, lore, past, movie, seemingly, blue, muddle, continuity, shock, value, add, little, film, feel, force, entire, plot, point, sidney, mother, hollywood, ac...   \n",
       "\n",
       "                                                                                                                                                                                                                                                                                                           lemmatized  \\\n",
       "movie_id                                                                                                                                                                                                                                                                                                                \n",
       "7443                                                                                                                                         [guilty, pleasure, personally, love, great, escape, work, see, year, rightfully, esteem, british, animation, company, highly, recommend, child, adult, enjoy, animation]   \n",
       "955       [underwhelme, straight, bore, course, see, hunt, climb, mountain, harness, impressive, sure, like, idea, villain, piece, angle, woefully, underdeveloped, set, predominantly, australia, grab, attention, say, cause, pretty, biased, come, hear, tell, mission, impossible, ii, low, point, series, enc...   \n",
       "955        [entertainign, mission, impossible, second, installment, turn, terrible, screenwriter, know, fill, 2, hrs, action, overuse, heroic, slow, motion, scene, horrible, need, barf, bag, stand, slo, mo, second, 15, second, amazed, decide, push, m, movie, turn, well, hard, beat, lousy, piece, crap, movie]   \n",
       "2621      [okay, admit, bit, easy, grader, come, romantic, comedy, long, witty, likable, character, insult, intelligence, suitable, happy, ending, guess, end, happily, rom, com, see, movie, year, ago, forget, fresh, like, movie, plot, rely, huge, coincidence, story, get, sappy, sentimental, place, predict...   \n",
       "4234      [scream, 3, lackluster, screenplay, unimaginative, kill, leave, film, bore, watch, meta, narrative, trilogy, film, abysmal, plot, film, create, lore, past, movie, seemingly, blue, muddle, continuity, shock, value, add, little, film, feel, force, entire, plot, point, sidney, mother, hollywood, ac...   \n",
       "\n",
       "                                                                                                                                                                                                                                                                                                        tokens-joined  \\\n",
       "movie_id                                                                                                                                                                                                                                                                                                                \n",
       "7443                                                                                                                                                              guilty pleasure personally love great escape work see year rightfully esteem british animation company highly recommend child adult enjoy animation   \n",
       "955       underwhelme straight bore course see hunt climb mountain harness impressive sure like idea villain piece angle woefully underdeveloped set predominantly australia grab attention say cause pretty biased come hear tell mission impossible ii low point series encouraging bad know able rogue nation f...   \n",
       "955                                                  entertainign mission impossible second installment turn terrible screenwriter know fill 2 hrs action overuse heroic slow motion scene horrible need barf bag stand slo mo second 15 second amazed decide push m movie turn well hard beat lousy piece crap movie   \n",
       "2621      okay admit bit easy grader come romantic comedy long witty likable character insult intelligence suitable happy ending guess end happily rom com see movie year ago forget fresh like movie plot rely huge coincidence story get sappy sentimental place predictable religion suit thing suit fine prais...   \n",
       "4234      scream 3 lackluster screenplay unimaginative kill leave film bore watch meta narrative trilogy film abysmal plot film create lore past movie seemingly blue muddle continuity shock value add little film feel force entire plot point sidney mother hollywood actress pretty lame especially add plot p...   \n",
       "\n",
       "                                                                                                                                                                                                                                                                                                        lemmas-joined  \n",
       "movie_id                                                                                                                                                                                                                                                                                                               \n",
       "7443                                                                                                                                                              guilty pleasure personally love great escape work see year rightfully esteem british animation company highly recommend child adult enjoy animation  \n",
       "955       underwhelme straight bore course see hunt climb mountain harness impressive sure like idea villain piece angle woefully underdeveloped set predominantly australia grab attention say cause pretty biased come hear tell mission impossible ii low point series encouraging bad know able rogue nation f...  \n",
       "955                                                  entertainign mission impossible second installment turn terrible screenwriter know fill 2 hrs action overuse heroic slow motion scene horrible need barf bag stand slo mo second 15 second amazed decide push m movie turn well hard beat lousy piece crap movie  \n",
       "2621      okay admit bit easy grader come romantic comedy long witty likable character insult intelligence suitable happy ending guess end happily rom com see movie year ago forget fresh like movie plot rely huge coincidence story get sappy sentimental place predictable religion suit thing suit fine prais...  \n",
       "4234      scream 3 lackluster screenplay unimaginative kill leave film bore watch meta narrative trilogy film abysmal plot film create lore past movie seemingly blue muddle continuity shock value add little film feel force entire plot point sidney mother hollywood actress pretty lame especially add plot p...  "
      ]
     },
     "execution_count": 30,
     "metadata": {},
     "output_type": "execute_result"
    }
   ],
   "source": [
    "df.head()"
   ]
  },
  {
   "cell_type": "markdown",
   "id": "b33a56b2-4091-4c62-836f-86ea13668e69",
   "metadata": {},
   "source": [
    "#### Create train/test/val datasets:"
   ]
  },
  {
   "cell_type": "code",
   "execution_count": 31,
   "id": "8d4007ef-c8ca-4a86-8c15-25eadae6302a",
   "metadata": {},
   "outputs": [
    {
     "data": {
      "text/plain": [
       "1    1224\n",
       "0    1195\n",
       "dtype: int64"
      ]
     },
     "execution_count": 31,
     "metadata": {},
     "output_type": "execute_result"
    }
   ],
   "source": [
    "# Define X and y\n",
    "X = df['review']\n",
    "y_string= df['ratings']\n",
    "# Instantiate the LabelEncoder\n",
    "encoder = fn.LabelEncoder()\n",
    "# Fit and Transform the strings into integers\n",
    "y = fn.pd.Series(encoder.fit_transform(y_string))\n",
    "y.value_counts()"
   ]
  },
  {
   "cell_type": "code",
   "execution_count": 32,
   "id": "c0767898-0c85-4517-9b49-5060623cfb67",
   "metadata": {},
   "outputs": [
    {
     "data": {
      "text/plain": [
       "<_TensorSliceDataset element_spec=(TensorSpec(shape=(), dtype=tf.string, name=None), TensorSpec(shape=(), dtype=tf.int32, name=None))>"
      ]
     },
     "execution_count": 32,
     "metadata": {},
     "output_type": "execute_result"
    }
   ],
   "source": [
    "# Convert to Dataset object\n",
    "ds = fn.tf.data.Dataset.from_tensor_slices((X, y))\n",
    "ds"
   ]
  },
  {
   "cell_type": "code",
   "execution_count": 33,
   "id": "ff39eaa6-75f6-43b0-9c81-9db16daa238c",
   "metadata": {},
   "outputs": [],
   "source": [
    "# shuffling the data once\n",
    "ds = ds.shuffle(buffer_size=len(ds), reshuffle_each_iteration=False)"
   ]
  },
  {
   "cell_type": "code",
   "execution_count": 34,
   "id": "c05a4d9d-5bbc-447d-8177-e1028ed8564a",
   "metadata": {},
   "outputs": [
    {
     "name": "stdout",
     "output_type": "stream",
     "text": [
      "Use 1693 samples as training data\n",
      "Use 483 samples as validation data\n",
      "The remaining 243 samples will be used as test data.\n"
     ]
    }
   ],
   "source": [
    "# Determing how many samples for each split\n",
    "# Calculate the number of samples for training \n",
    "split_train = 0.7\n",
    "n_train_samples =  int(len(ds) * split_train)\n",
    "print(f\"Use {n_train_samples} samples as training data\")\n",
    "# Calculate the number of samples for validation\n",
    "split_val = 0.2\n",
    "n_val_samples = int(len(ds) * split_val)\n",
    "print(f\"Use {n_val_samples} samples as validation data\")\n",
    "# Test size is remainder\n",
    "split_test = 1 - (split_train + split_val)\n",
    "print(f\"The remaining {len(ds)- (n_train_samples+n_val_samples)} samples will be used as test data.\")"
   ]
  },
  {
   "cell_type": "code",
   "execution_count": 35,
   "id": "960c3b5d-28d8-48b5-89d8-d6fb75d1953a",
   "metadata": {},
   "outputs": [],
   "source": [
    "# Use .take to slice out the number of samples for training\n",
    "train_ds = ds.take(n_train_samples)\n",
    "# Skipover the training batches\n",
    "val_ds = ds.skip(n_train_samples)\n",
    "# Take .take to slice out the correct number of samples for validation\n",
    "val_ds = val_ds.take(n_val_samples)\n",
    "# Skip over all of the training + validation samples, the rest remain as samples for testing\n",
    "test_ds = ds.skip(n_train_samples + n_val_samples)"
   ]
  },
  {
   "cell_type": "code",
   "execution_count": 36,
   "id": "44748be1-51c2-4bb1-8f66-08220d2d1d18",
   "metadata": {},
   "outputs": [],
   "source": [
    "# Shuffling just the training data  \n",
    "train_ds  = train_ds.shuffle(buffer_size = len(train_ds))"
   ]
  },
  {
   "cell_type": "code",
   "execution_count": 37,
   "id": "17309ee3-c6d5-404c-ac21-2f53d77961a7",
   "metadata": {},
   "outputs": [
    {
     "name": "stdout",
     "output_type": "stream",
     "text": [
      " There are 1693 training batches.\n",
      " There are 483 validation batches.\n",
      " There are 243 testing batches.\n"
     ]
    }
   ],
   "source": [
    "#  Setting the batch_size for all datasets\n",
    "BATCH_SIZE = 1\n",
    "train_ds = train_ds.batch(BATCH_SIZE)\n",
    "val_ds = val_ds.batch(BATCH_SIZE)\n",
    "test_ds = test_ds.batch(BATCH_SIZE)\n",
    "# Confirm the number of batches in each\n",
    "print (f' There are {len(train_ds)} training batches.')\n",
    "print (f' There are {len(val_ds)} validation batches.')\n",
    "print (f' There are {len(test_ds)} testing batches.')"
   ]
  },
  {
   "cell_type": "markdown",
   "id": "5e4eff93-a10a-4158-8a73-f5f66d42a76b",
   "metadata": {},
   "source": [
    "Inspecting the Data"
   ]
  },
  {
   "cell_type": "code",
   "execution_count": 38,
   "id": "7b39f417-6ccc-4147-b96b-1a5fe589e828",
   "metadata": {},
   "outputs": [
    {
     "name": "stdout",
     "output_type": "stream",
     "text": [
      "tf.Tensor([b'We have yet another movie where it is getting high praise for reasons of politics...and possibly because Jamie Lee Curtis is back...but mainly for politics.\\r\\n\\r\\nBut it was really nice seeing Jamie Lee Curtis back, and nice in the \"it doesn\\'t really feel like a Halloween movie without her in it\" kind of way.\\r\\n\\r\\nUnfortunately that isn\\'t enough to save the film, nor is the added over-the-top blood and gore that didn\\'t really need a place in the first two movies.\\r\\n\\r\\nBut...the blood and gore seemed to replace real scares (though there were a couple) as if to say, yeah, they understand that they aren\\'t making this horror movie frightening, so they might as well make it bloodier and hope that it\\'s a decent trade off for actual scares.\\r\\n\\r\\nThe main issue, however, is that it is spread thin. It\\'s like it was written in committee where everyone that there little plot be added to the film despite how difficult that would make actual story telling.\\r\\n\\r\\nThe results are so many tiny little subplots that you end up not even caring about the main plot as they try to cram them all into the same hole. You end up just not caring at all about any of it.\\r\\n\\r\\nAnd then the characters shoved into the movie to accommodate the extra plot lines are just as thin and under-developed that it\\'s really hard to care about what happens to them as well.\\r\\n\\r\\nIn the end there is so much going on that it never really focuses enough on anything to keep the audience emotionally invested and really you end up only caring about Jamie because she won you over in the first two good films and that kind of holds you just enough to actually finish a film.\\r\\n\\r\\nIf she weren\\'t cast in it, even her character would be hard to relate to in any way.\\r\\n\\r\\nIt makes you want to take the director by the collar and yell \"focus!\" with the hopes that it would drop all the unnecessary story lines and just deal with what matters.\\r\\n\\r\\nBut, you know, there are the political signaling, and for a lot of people that matters more than story telling.\\r\\n\\r\\nFor everyone else, there is about 15 minutes, maybe, of actual focused plot and the rest is all tangential.'], shape=(1,), dtype=string)\n",
      "tf.Tensor([1], shape=(1,), dtype=int32)\n"
     ]
    }
   ],
   "source": [
    "# taking a sample \n",
    "example_X, example_y= train_ds.take(1).get_single_element()\n",
    "print(example_X)\n",
    "print(example_y)"
   ]
  },
  {
   "cell_type": "code",
   "execution_count": 39,
   "id": "f755ec5e-7e22-4cf3-adcd-759ac489b522",
   "metadata": {},
   "outputs": [
    {
     "data": {
      "text/plain": [
       "<tf.Tensor: shape=(1,), dtype=string, numpy=\n",
       "array([b\"A kid is getting other kids to play poker online. The head of the university doesn't like it and threaten to throw him out. The kid (Justin Timberlake) takes all his money and play some poker, hoping that he will win and his future secure. Well, you guessed it, he loses everything. But, not because he is bad or anything, no, there is this guy called Ivan (Ben Affleck) who runs these online casinos, and who cheats the poor young kids.\\r\\n\\r\\nNow there is only one sensible thing to do, which is to go to Costa Rica and confront the bad guy with his scheme. Thats exactly what I would do. Well, nah, not really, but I hope you see where I am going with this. He arrives in Costa Rica, and soon finds himself at the deep end of the pool, hunted by Ivan, some dude named Herrera and the FBI... of course.\\r\\n\\r\\nThe plot is idiotic, as you might have guessed. It makes no sense, and the poor actors don't know how to act. And honestly, I don't blame them, they don't understand the manuscript either. I looked for a little light in the darkness, and I think I found it... the  photography. There are some beautiful images in this movie, worthy of a James Bond movie, and you know what, the plot matches the Bond movies of late pretty well too. Yeah, I am not a big Bond fan either.\\r\\n\\r\\n_Last words... it's not worth it. Ben Affleck is an overrated actor, not worth your time. Mr. Timberlake should just have stopped after The Social Network, and he would have stopped on top. This movie... don't waste your time on it. If you like poker and want to see a nice poker movie, watch Rounders instead, or even 21._\"],\n",
       "      dtype=object)>"
      ]
     },
     "execution_count": 39,
     "metadata": {},
     "output_type": "execute_result"
    }
   ],
   "source": [
    "# Get just the text from ds_train\n",
    "ds_texts = train_ds.map(lambda x, y: x)\n",
    "# Preview the text\n",
    "ds_texts.take(1).get_single_element()"
   ]
  },
  {
   "cell_type": "markdown",
   "id": "9f5159fb-5127-4514-b038-b4a31deca10f",
   "metadata": {},
   "source": [
    "#### Create a Keras Text Vectorization layer:"
   ]
  },
  {
   "cell_type": "code",
   "execution_count": 40,
   "id": "07cbcec3-322f-4088-ade3-327a858469f6",
   "metadata": {},
   "outputs": [],
   "source": [
    "# Create the TextVectorization layer\n",
    "count_vectorizer = fn.tf.keras.layers.TextVectorization(\n",
    "    standardize=\"lower_and_strip_punctuation\",\n",
    "    output_mode=\"count\"\n",
    ")"
   ]
  },
  {
   "cell_type": "code",
   "execution_count": 41,
   "id": "9f226032-2d96-4c95-b455-0e7771036c47",
   "metadata": {},
   "outputs": [
    {
     "data": {
      "text/plain": [
       "['[UNK]']"
      ]
     },
     "execution_count": 41,
     "metadata": {},
     "output_type": "execute_result"
    }
   ],
   "source": [
    "# Before training, only contains the out of vocab token ([UNK])\n",
    "count_vectorizer.get_vocabulary()"
   ]
  },
  {
   "cell_type": "code",
   "execution_count": 42,
   "id": "8e535771-3c94-487d-bff5-7d67ff1ab5e0",
   "metadata": {},
   "outputs": [],
   "source": [
    "# Fit the layer on the training texts\n",
    "count_vectorizer.adapt(ds_texts)"
   ]
  },
  {
   "cell_type": "code",
   "execution_count": 43,
   "id": "1f998191-9d61-4ecc-b580-e9890c917376",
   "metadata": {},
   "outputs": [
    {
     "data": {
      "text/plain": [
       "(list, 24922, ['[UNK]', 'the', 'and', 'a', 'of', 'to'])"
      ]
     },
     "execution_count": 43,
     "metadata": {},
     "output_type": "execute_result"
    }
   ],
   "source": [
    "# Getting list of vocab\n",
    "vocab = count_vectorizer.get_vocabulary()\n",
    "# Exploring list of vocab\n",
    "type(vocab), len(vocab), vocab[:6]"
   ]
  },
  {
   "cell_type": "code",
   "execution_count": 44,
   "id": "faefcd36-c7bb-42be-b33a-6ae993487e4f",
   "metadata": {},
   "outputs": [
    {
     "data": {
      "text/plain": [
       "<tf.Tensor: shape=(1, 24922), dtype=float32, numpy=array([[0., 2., 0., ..., 0., 0., 0.]], dtype=float32)>"
      ]
     },
     "execution_count": 44,
     "metadata": {},
     "output_type": "execute_result"
    }
   ],
   "source": [
    "# The first value will be the count of all of the words not in the vocobulary\n",
    "counts= count_vectorizer(['python python python python is the most amazing thing in the world for data science!'])\n",
    "counts"
   ]
  },
  {
   "cell_type": "markdown",
   "id": "7d40ee02-4e2a-42d1-93e9-2f0fc06da4cf",
   "metadata": {},
   "source": [
    "#### Build an RNN with the TextVectorization Layer:"
   ]
  },
  {
   "cell_type": "code",
   "execution_count": 45,
   "id": "162b730d-e6e2-4518-a67e-b698c9e012c0",
   "metadata": {},
   "outputs": [
    {
     "data": {
      "text/plain": [
       "24922"
      ]
     },
     "execution_count": 45,
     "metadata": {},
     "output_type": "execute_result"
    }
   ],
   "source": [
    "# Create Text Vectorization Layer\n",
    "tfidf_vectorizer = fn.tf.keras.layers.TextVectorization(\n",
    "    standardize=\"lower_and_strip_punctuation\",\n",
    "    output_mode=\"tf_idf\",\n",
    ")\n",
    "# Build the vectorizer vocabulary\n",
    "tfidf_vectorizer.adapt(ds_texts)\n",
    "# Confrim vocabulary size\n",
    "tfidf_vectorizer.vocabulary_size()"
   ]
  },
  {
   "cell_type": "code",
   "execution_count": 46,
   "id": "69b2d871-59bd-462c-ac9f-975549a8a4ce",
   "metadata": {},
   "outputs": [
    {
     "data": {
      "text/plain": [
       "<tf.Tensor: shape=(1, 24922), dtype=float32, numpy=\n",
       "array([[0.       , 1.4785116, 0.       , ..., 0.       , 0.       ,\n",
       "        0.       ]], dtype=float32)>"
      ]
     },
     "execution_count": 46,
     "metadata": {},
     "output_type": "execute_result"
    }
   ],
   "source": [
    "# The first value will be the score of all of the words not in the vocobulary\n",
    "tfidf = tfidf_vectorizer(['python python python python is the most amazing thing in the world for data science!'])\n",
    "tfidf"
   ]
  },
  {
   "cell_type": "markdown",
   "id": "8d070d6e-db04-4b70-9f76-fcf5f04f5150",
   "metadata": {},
   "source": [
    "Sequence Vectorizer"
   ]
  },
  {
   "cell_type": "code",
   "execution_count": 47,
   "id": "ad83e424-0ea7-4bb0-a70e-af5966c9ffb2",
   "metadata": {},
   "outputs": [
    {
     "data": {
      "text/plain": [
       "24923"
      ]
     },
     "execution_count": 47,
     "metadata": {},
     "output_type": "execute_result"
    }
   ],
   "source": [
    "# Create text Vectorization layer\n",
    "sequence_vectorizer = fn.tf.keras.layers.TextVectorization(\n",
    "    standardize=\"lower_and_strip_punctuation\",\n",
    "    output_mode=\"int\",\n",
    "    output_sequence_length=30\n",
    ")\n",
    "sequence_vectorizer.adapt(ds_texts)\n",
    "sequence_vectorizer.vocabulary_size()"
   ]
  },
  {
   "cell_type": "code",
   "execution_count": 48,
   "id": "1642583d-cd4f-43ff-a714-961b8c75169d",
   "metadata": {},
   "outputs": [
    {
     "data": {
      "text/plain": [
       "<tf.Tensor: shape=(1, 30), dtype=int64, numpy=\n",
       "array([[16469, 16469, 16469, 16469,     7,     2,    74,   392,   148,\n",
       "            9,     2,   143,    16, 22305,   952,     0,     0,     0,\n",
       "            0,     0,     0,     0,     0,     0,     0,     0,     0,\n",
       "            0,     0,     0]], dtype=int64)>"
      ]
     },
     "execution_count": 48,
     "metadata": {},
     "output_type": "execute_result"
    }
   ],
   "source": [
    "# Obtain the sequence of sample text with the sequence_vectorizer\n",
    "sequence = sequence_vectorizer(['python python python python is the most amazing thing in the world for data science!'])\n",
    "sequence"
   ]
  },
  {
   "cell_type": "code",
   "execution_count": 49,
   "id": "e895b7b4-238b-42e3-b7df-1a5dd8fc0900",
   "metadata": {},
   "outputs": [
    {
     "data": {
      "text/plain": [
       "{0: '',\n",
       " 1: '[UNK]',\n",
       " 2: 'the',\n",
       " 3: 'and',\n",
       " 4: 'a',\n",
       " 5: 'of',\n",
       " 6: 'to',\n",
       " 7: 'is',\n",
       " 8: 'it',\n",
       " 9: 'in',\n",
       " 10: 'that',\n",
       " 11: 'i',\n",
       " 12: 'this',\n",
       " 13: 'but',\n",
       " 14: 'was',\n",
       " 15: 'with',\n",
       " 16: 'for',\n",
       " 17: 'as',\n",
       " 18: 'movie',\n",
       " 19: 'film',\n",
       " 20: 'not',\n",
       " 21: 'are',\n",
       " 22: 'its',\n",
       " 23: 'on',\n",
       " 24: 'be',\n",
       " 25: 'you',\n",
       " 26: 'one',\n",
       " 27: 'have',\n",
       " 28: 'his',\n",
       " 29: 'an',\n",
       " 30: 'so',\n",
       " 31: 'all',\n",
       " 32: 'like',\n",
       " 33: 'from',\n",
       " 34: 'he',\n",
       " 35: 'at',\n",
       " 36: 'by',\n",
       " 37: 'just',\n",
       " 38: 'they',\n",
       " 39: 'if',\n",
       " 40: 'about',\n",
       " 41: 'or',\n",
       " 42: 'what',\n",
       " 43: 'more',\n",
       " 44: 'story',\n",
       " 45: 'has',\n",
       " 46: 'there',\n",
       " 47: 'some',\n",
       " 48: 'even',\n",
       " 49: 'who',\n",
       " 50: 'my',\n",
       " 51: 'good',\n",
       " 52: 'really',\n",
       " 53: 'me',\n",
       " 54: 'out',\n",
       " 55: 'very',\n",
       " 56: 'time',\n",
       " 57: 'when',\n",
       " 58: 'no',\n",
       " 59: 'which',\n",
       " 60: 'we',\n",
       " 61: 'only',\n",
       " 62: 'well',\n",
       " 63: 'their',\n",
       " 64: 'had',\n",
       " 65: 'much',\n",
       " 66: 'can',\n",
       " 67: 'up',\n",
       " 68: 'than',\n",
       " 69: 'would',\n",
       " 70: 'also',\n",
       " 71: 'because',\n",
       " 72: 'great',\n",
       " 73: 'way',\n",
       " 74: 'most',\n",
       " 75: 'do',\n",
       " 76: 'into',\n",
       " 77: 'her',\n",
       " 78: 'characters',\n",
       " 79: 'will',\n",
       " 80: 'were',\n",
       " 81: 'how',\n",
       " 82: 'first',\n",
       " 83: 'films',\n",
       " 84: 'best',\n",
       " 85: 'movies',\n",
       " 86: 'been',\n",
       " 87: 'character',\n",
       " 88: 'watch',\n",
       " 89: 'action',\n",
       " 90: 'other',\n",
       " 91: 'see',\n",
       " 92: 'people',\n",
       " 93: 'where',\n",
       " 94: 'them',\n",
       " 95: 'two',\n",
       " 96: 'get',\n",
       " 97: 'then',\n",
       " 98: 'being',\n",
       " 99: 'did',\n",
       " 100: 'know',\n",
       " 101: 'too',\n",
       " 102: 'dont',\n",
       " 103: 'any',\n",
       " 104: 'she',\n",
       " 105: 'make',\n",
       " 106: 'him',\n",
       " 107: 'bad',\n",
       " 108: 'after',\n",
       " 109: 'still',\n",
       " 110: 'made',\n",
       " 111: 'plot',\n",
       " 112: 'never',\n",
       " 113: 'going',\n",
       " 114: 'could',\n",
       " 115: 'end',\n",
       " 116: 'does',\n",
       " 117: 'every',\n",
       " 118: 'think',\n",
       " 119: 'actually',\n",
       " 120: 'here',\n",
       " 121: 'these',\n",
       " 122: 'cast',\n",
       " 123: 'those',\n",
       " 124: 'work',\n",
       " 125: 'many',\n",
       " 126: 'something',\n",
       " 127: 'say',\n",
       " 128: 'us',\n",
       " 129: 'while',\n",
       " 130: 'now',\n",
       " 131: 'lot',\n",
       " 132: 'seen',\n",
       " 133: 'things',\n",
       " 134: 'love',\n",
       " 135: 'though',\n",
       " 136: 'life',\n",
       " 137: 'little',\n",
       " 138: 'im',\n",
       " 139: 'better',\n",
       " 140: 'scenes',\n",
       " 141: 'it’s',\n",
       " 142: 'feel',\n",
       " 143: 'world',\n",
       " 144: 'why',\n",
       " 145: 'over',\n",
       " 146: 'same',\n",
       " 147: 'everything',\n",
       " 148: 'thing',\n",
       " 149: 'new',\n",
       " 150: 'another',\n",
       " 151: 'your',\n",
       " 152: 'didnt',\n",
       " 153: 'such',\n",
       " 154: 'off',\n",
       " 155: 'makes',\n",
       " 156: 'ever',\n",
       " 157: 'doesnt',\n",
       " 158: 'real',\n",
       " 159: 'go',\n",
       " 160: 'enough',\n",
       " 161: 'point',\n",
       " 162: 'however',\n",
       " 163: 'again',\n",
       " 164: 'through',\n",
       " 165: 'right',\n",
       " 166: 'should',\n",
       " 167: 'both',\n",
       " 168: 'pretty',\n",
       " 169: 'quite',\n",
       " 170: 'nothing',\n",
       " 171: 'far',\n",
       " 172: 'original',\n",
       " 173: 'scene',\n",
       " 174: 'few',\n",
       " 175: 'thats',\n",
       " 176: 'watching',\n",
       " 177: 'fun',\n",
       " 178: 'before',\n",
       " 179: 'man',\n",
       " 180: 'part',\n",
       " 181: 'years',\n",
       " 182: 'kind',\n",
       " 183: 'back',\n",
       " 184: 'want',\n",
       " 185: 'long',\n",
       " 186: 'without',\n",
       " 187: 'final',\n",
       " 188: 'especially',\n",
       " 189: 'big',\n",
       " 190: 'director',\n",
       " 191: 'acting',\n",
       " 192: 'around',\n",
       " 193: 'yet',\n",
       " 194: 'theres',\n",
       " 195: 'performance',\n",
       " 196: 'our',\n",
       " 197: 'almost',\n",
       " 198: 'since',\n",
       " 199: 'least',\n",
       " 200: 'between',\n",
       " 201: 'actors',\n",
       " 202: 'horror',\n",
       " 203: 'always',\n",
       " 204: 'bit',\n",
       " 205: 'might',\n",
       " 206: 'down',\n",
       " 207: 'am',\n",
       " 208: 'audience',\n",
       " 209: 'look',\n",
       " 210: 'take',\n",
       " 211: 'cant',\n",
       " 212: 'own',\n",
       " 213: 'fact',\n",
       " 214: 'find',\n",
       " 215: 'different',\n",
       " 216: 'thought',\n",
       " 217: 'anything',\n",
       " 218: 'last',\n",
       " 219: 'whole',\n",
       " 220: 'comes',\n",
       " 221: 'making',\n",
       " 222: 'give',\n",
       " 223: 'effects',\n",
       " 224: 'isnt',\n",
       " 225: 'got',\n",
       " 226: 'away',\n",
       " 227: 'script',\n",
       " 228: 'role',\n",
       " 229: 'hes',\n",
       " 230: 'everyone',\n",
       " 231: 'old',\n",
       " 232: 'excellent',\n",
       " 233: 'performances',\n",
       " 234: 'full',\n",
       " 235: 'course',\n",
       " 236: 'perfect',\n",
       " 237: 'come',\n",
       " 238: 'probably',\n",
       " 239: 'music',\n",
       " 240: 'ive',\n",
       " 241: 'felt',\n",
       " 242: 'family',\n",
       " 243: 'sense',\n",
       " 244: 'sure',\n",
       " 245: 'year',\n",
       " 246: 'each',\n",
       " 247: '–',\n",
       " 248: 'done',\n",
       " 249: 'place',\n",
       " 250: 'moments',\n",
       " 251: 'seems',\n",
       " 252: 'actor',\n",
       " 253: 'review',\n",
       " 254: 'main',\n",
       " 255: 'absolutely',\n",
       " 256: 'minutes',\n",
       " 257: 'cinematography',\n",
       " 258: 'set',\n",
       " 259: 'rather',\n",
       " 260: 'having',\n",
       " 261: 'said',\n",
       " 262: 'definitely',\n",
       " 263: 'takes',\n",
       " 264: 'job',\n",
       " 265: 'funny',\n",
       " 266: 'fan',\n",
       " 267: 'times',\n",
       " 268: 'dark',\n",
       " 269: 'score',\n",
       " 270: 'less',\n",
       " 271: 'entire',\n",
       " 272: 'enjoy',\n",
       " 273: 'second',\n",
       " 274: 'simply',\n",
       " 275: 'once',\n",
       " 276: 'star',\n",
       " 277: 'given',\n",
       " 278: 'poor',\n",
       " 279: 'may',\n",
       " 280: 'instead',\n",
       " 281: 'young',\n",
       " 282: 'comedy',\n",
       " 283: 'understand',\n",
       " 284: 'start',\n",
       " 285: 'mind',\n",
       " 286: 'high',\n",
       " 287: 'feels',\n",
       " 288: 'based',\n",
       " 289: 'watched',\n",
       " 290: 'someone',\n",
       " 291: 'three',\n",
       " 292: 'need',\n",
       " 293: 'itself',\n",
       " 294: 'trying',\n",
       " 295: 'top',\n",
       " 296: 'together',\n",
       " 297: 'narrative',\n",
       " 298: 'hard',\n",
       " 299: 'franchise',\n",
       " 300: 'screen',\n",
       " 301: 'worst',\n",
       " 302: 'throughout',\n",
       " 303: 'ending',\n",
       " 304: 'reason',\n",
       " 305: 'already',\n",
       " 306: 'interesting',\n",
       " 307: 'completely',\n",
       " 308: 'special',\n",
       " 309: 'show',\n",
       " 310: 'series',\n",
       " 311: 'mean',\n",
       " 312: 'goes',\n",
       " 313: 'overall',\n",
       " 314: 'liked',\n",
       " 315: 'john',\n",
       " 316: 'despite',\n",
       " 317: 'maybe',\n",
       " 318: 'hollywood',\n",
       " 319: 'wrong',\n",
       " 320: 'true',\n",
       " 321: 'sort',\n",
       " 322: 'must',\n",
       " 323: 'single',\n",
       " 324: 'works',\n",
       " 325: 'entertaining',\n",
       " 326: 'either',\n",
       " 327: 'although',\n",
       " 328: 'left',\n",
       " 329: 'wasnt',\n",
       " 330: 'war',\n",
       " 331: 'put',\n",
       " 332: 'found',\n",
       " 333: 'cgi',\n",
       " 334: 'gets',\n",
       " 335: 'fantastic',\n",
       " 336: 'cinema',\n",
       " 337: 'rating',\n",
       " 338: 'piece',\n",
       " 339: 'black',\n",
       " 340: 'truly',\n",
       " 341: 'quality',\n",
       " 342: 'guy',\n",
       " 343: 'else',\n",
       " 344: 'loved',\n",
       " 345: 'bond',\n",
       " 346: 'appeal',\n",
       " 347: 'due',\n",
       " 348: 'until',\n",
       " 349: 'shot',\n",
       " 350: 'half',\n",
       " 351: 'genre',\n",
       " 352: 'during',\n",
       " 353: 'beautiful',\n",
       " 354: 'sequel',\n",
       " 355: 'screenplay',\n",
       " 356: 'book',\n",
       " 357: 'written',\n",
       " 358: 'saw',\n",
       " 359: 'rest',\n",
       " 360: 'idea',\n",
       " 361: 'day',\n",
       " 362: 'honestly',\n",
       " 363: 'care',\n",
       " 364: 'unfortunately',\n",
       " 365: 'possible',\n",
       " 366: 'human',\n",
       " 367: 'couple',\n",
       " 368: 'brilliant',\n",
       " 369: 'seeing',\n",
       " 370: 'play',\n",
       " 371: 'batman',\n",
       " 372: 'worth',\n",
       " 373: 'reviews',\n",
       " 374: 'favorite',\n",
       " 375: 'cool',\n",
       " 376: 'use',\n",
       " 377: 'played',\n",
       " 378: 'able',\n",
       " 379: '2',\n",
       " 380: 'yes',\n",
       " 381: 'totally',\n",
       " 382: 'looks',\n",
       " 383: 'doing',\n",
       " 384: 'act',\n",
       " 385: 'youre',\n",
       " 386: 'try',\n",
       " 387: 'sequences',\n",
       " 388: 'past',\n",
       " 389: 'fight',\n",
       " 390: 'fans',\n",
       " 391: 'boring',\n",
       " 392: 'amazing',\n",
       " 393: 'help',\n",
       " 394: 'anyone',\n",
       " 395: 'stars',\n",
       " 396: 'gives',\n",
       " 397: 'finally',\n",
       " 398: 'production',\n",
       " 399: 'himself',\n",
       " 400: 'don’t',\n",
       " 401: 'believe',\n",
       " 402: 'remember',\n",
       " 403: 'looking',\n",
       " 404: 'dialogue',\n",
       " 405: 'wont',\n",
       " 406: 'wanted',\n",
       " 407: 'against',\n",
       " 408: 'experience',\n",
       " 409: 'enjoyed',\n",
       " 410: 'days',\n",
       " 411: 'writing',\n",
       " 412: 'version',\n",
       " 413: 'short',\n",
       " 414: 'political',\n",
       " 415: 'plays',\n",
       " 416: 'moment',\n",
       " 417: 'michael',\n",
       " 418: 'case',\n",
       " 419: 'came',\n",
       " 420: 'tell',\n",
       " 421: 'strong',\n",
       " 422: 'lead',\n",
       " 423: 'death',\n",
       " 424: 'worse',\n",
       " 425: 'shows',\n",
       " 426: 'read',\n",
       " 427: 'others',\n",
       " 428: 'james',\n",
       " 429: 'guess',\n",
       " 430: 'emotional',\n",
       " 431: 'decent',\n",
       " 432: 'stupid',\n",
       " 433: 'remake',\n",
       " 434: 'product',\n",
       " 435: 'later',\n",
       " 436: 'directed',\n",
       " 437: 'become',\n",
       " 438: 'style',\n",
       " 439: 'seem',\n",
       " 440: 'mostly',\n",
       " 441: 'home',\n",
       " 442: 'heart',\n",
       " 443: 'feeling',\n",
       " 444: 'exactly',\n",
       " 445: 'there’s',\n",
       " 446: 'side',\n",
       " 447: 'perhaps',\n",
       " 448: 'next',\n",
       " 449: 'message',\n",
       " 450: 'keep',\n",
       " 451: 'supposed',\n",
       " 452: 'starts',\n",
       " 453: 'person',\n",
       " 454: 'nice',\n",
       " 455: 'soundtrack',\n",
       " 456: 'father',\n",
       " 457: 'becomes',\n",
       " 458: 'american',\n",
       " 459: 'recommend',\n",
       " 460: 'mother',\n",
       " 461: 'events',\n",
       " 462: 'coming',\n",
       " 463: 'clearly',\n",
       " 464: 'women',\n",
       " 465: 'hope',\n",
       " 466: 'giving',\n",
       " 467: 'easily',\n",
       " 468: 'used',\n",
       " 469: 'name',\n",
       " 470: 'editing',\n",
       " 471: 'woman',\n",
       " 472: 'visual',\n",
       " 473: 'face',\n",
       " 474: 'expect',\n",
       " 475: 'ends',\n",
       " 476: 'classic',\n",
       " 477: 'behind',\n",
       " 478: 'money',\n",
       " 479: 'matter',\n",
       " 480: 'getting',\n",
       " 481: 'terrible',\n",
       " 482: 'simple',\n",
       " 483: 'incredibly',\n",
       " 484: 'that’s',\n",
       " 485: 'small',\n",
       " 486: 'marvel',\n",
       " 487: 'hours',\n",
       " 488: 'history',\n",
       " 489: 'follow',\n",
       " 490: 'delivers',\n",
       " 491: 'seriously',\n",
       " 492: 'lost',\n",
       " 493: 'eyes',\n",
       " 494: 'doesn’t',\n",
       " 495: 'went',\n",
       " 496: 'took',\n",
       " 497: 'entertainment',\n",
       " 498: 'tom',\n",
       " 499: 'third',\n",
       " 500: 'sequence',\n",
       " 501: 'rating★★',\n",
       " 502: 'hand',\n",
       " 503: 'guys',\n",
       " 504: 'finished',\n",
       " 505: 'expected',\n",
       " 506: 'certainly',\n",
       " 507: 'actual',\n",
       " 508: 'level',\n",
       " 509: 'hate',\n",
       " 510: 'girl',\n",
       " 511: 'extremely',\n",
       " 512: 'opening',\n",
       " 513: 'obviously',\n",
       " 514: 'modern',\n",
       " 515: 'line',\n",
       " 516: 'beginning',\n",
       " 517: 'avoid',\n",
       " 518: 'turn',\n",
       " 519: 'ones',\n",
       " 520: 'gave',\n",
       " 521: 'flick',\n",
       " 522: 'blood',\n",
       " 523: '3',\n",
       " 524: 'previous',\n",
       " 525: 'picture',\n",
       " 526: 'perfectly',\n",
       " 527: 'literally',\n",
       " 528: 'fine',\n",
       " 529: 'voice',\n",
       " 530: 'kids',\n",
       " 531: 'close',\n",
       " 532: 'along',\n",
       " 533: 'viewers',\n",
       " 534: 'viewer',\n",
       " 535: 'parts',\n",
       " 536: 'let',\n",
       " 537: 'huge',\n",
       " 538: 'turns',\n",
       " 539: 'myself',\n",
       " 540: 'men',\n",
       " 541: 'masterpiece',\n",
       " 542: 'impressive',\n",
       " 543: 'hero',\n",
       " 544: 'expecting',\n",
       " 545: 'drama',\n",
       " 546: 'direction',\n",
       " 547: '—',\n",
       " 548: 'wants',\n",
       " 549: 'several',\n",
       " 550: 'okay',\n",
       " 551: 'cannot',\n",
       " 552: '10',\n",
       " 553: 'universe',\n",
       " 554: 'stuff',\n",
       " 555: 'particularly',\n",
       " 556: 'knows',\n",
       " 557: 'hour',\n",
       " 558: 'entirely',\n",
       " 559: 'early',\n",
       " 560: 'attention',\n",
       " 561: 'white',\n",
       " 562: 'usually',\n",
       " 563: 'unique',\n",
       " 564: 'type',\n",
       " 565: 'thinking',\n",
       " 566: 'silly',\n",
       " 567: 'serious',\n",
       " 568: 'robert',\n",
       " 569: 'leave',\n",
       " 570: 'lack',\n",
       " 571: 'house',\n",
       " 572: 'david',\n",
       " 573: 'comic',\n",
       " 574: 'wars',\n",
       " 575: 'saying',\n",
       " 576: 'means',\n",
       " 577: 'incredible',\n",
       " 578: 'id',\n",
       " 579: 'humor',\n",
       " 580: 'head',\n",
       " 581: 'children',\n",
       " 582: 'called',\n",
       " 583: 'words',\n",
       " 584: 'within',\n",
       " 585: 'save',\n",
       " 586: 'roles',\n",
       " 587: 'major',\n",
       " 588: 'future',\n",
       " 589: 'bring',\n",
       " 590: 'awesome',\n",
       " 591: 'animation',\n",
       " 592: '1',\n",
       " 593: 'under',\n",
       " 594: 'told',\n",
       " 595: 'themselves',\n",
       " 596: 'taking',\n",
       " 597: 'superb',\n",
       " 598: 'sometimes',\n",
       " 599: 'run',\n",
       " 600: 'predictable',\n",
       " 601: 'including',\n",
       " 602: 'hit',\n",
       " 603: 'female',\n",
       " 604: 'camera',\n",
       " 605: 'villain',\n",
       " 606: 'towards',\n",
       " 607: 'surprise',\n",
       " 608: 'superhero',\n",
       " 609: 'slow',\n",
       " 610: 'seemed',\n",
       " 611: 'outstanding',\n",
       " 612: 'important',\n",
       " 613: 'hell',\n",
       " 614: 'couldnt',\n",
       " 615: 'city',\n",
       " 616: 'art',\n",
       " 617: 'across',\n",
       " 618: 'tale',\n",
       " 619: 'sets',\n",
       " 620: 'reality',\n",
       " 621: 'points',\n",
       " 622: 'order',\n",
       " 623: 'opinion',\n",
       " 624: 'oh',\n",
       " 625: 'needs',\n",
       " 626: 'live',\n",
       " 627: 'indeed',\n",
       " 628: 'ill',\n",
       " 629: 'force',\n",
       " 630: 'cinematic',\n",
       " 631: 'above',\n",
       " 632: 'started',\n",
       " 633: 'mystery',\n",
       " 634: 'material',\n",
       " 635: 'mark',\n",
       " 636: 'except',\n",
       " 637: 'earth',\n",
       " 638: 'doubt',\n",
       " 639: 'clear',\n",
       " 640: 'change',\n",
       " 641: 'budget',\n",
       " 642: 'age',\n",
       " 643: 'adventure',\n",
       " 644: 'title',\n",
       " 645: 'son',\n",
       " 646: 'powerful',\n",
       " 647: 'please',\n",
       " 648: 'often',\n",
       " 649: 'i’m',\n",
       " 650: 'god',\n",
       " 651: 'game',\n",
       " 652: 'design',\n",
       " 653: 'beyond',\n",
       " 654: 'wonderful',\n",
       " 655: 'violence',\n",
       " 656: 'turned',\n",
       " 657: 'somewhat',\n",
       " 658: 'reading',\n",
       " 659: 'problem',\n",
       " 660: 'filled',\n",
       " 661: 'example',\n",
       " 662: 'cut',\n",
       " 663: 'theyre',\n",
       " 664: 'super',\n",
       " 665: 'stunning',\n",
       " 666: 'stop',\n",
       " 667: 'sound',\n",
       " 668: 'relationship',\n",
       " 669: 'mention',\n",
       " 670: 'looked',\n",
       " 671: 'latter',\n",
       " 672: 'critics',\n",
       " 673: 'brings',\n",
       " 674: 'attempt',\n",
       " 675: 'wonder',\n",
       " 676: 'thriller',\n",
       " 677: 'strange',\n",
       " 678: 'ridiculous',\n",
       " 679: 'positive',\n",
       " 680: 'low',\n",
       " 681: 'knew',\n",
       " 682: 'group',\n",
       " 683: 'disappointed',\n",
       " 684: 'deserves',\n",
       " 685: 'deep',\n",
       " 686: 'career',\n",
       " 687: 'absolute',\n",
       " 688: 'tried',\n",
       " 689: 'stories',\n",
       " 690: 'release',\n",
       " 691: 'light',\n",
       " 692: 'laugh',\n",
       " 693: 'issue',\n",
       " 694: 'elements',\n",
       " 695: 'easy',\n",
       " 696: 'dumb',\n",
       " 697: 'call',\n",
       " 698: 'anyway',\n",
       " 699: 'add',\n",
       " 700: 'twist',\n",
       " 701: 'school',\n",
       " 702: 'hilarious',\n",
       " 703: 'happens',\n",
       " 704: 'deliver',\n",
       " 705: 'daughter',\n",
       " 706: 'biggest',\n",
       " 707: 'western',\n",
       " 708: 'waste',\n",
       " 709: 'terrific',\n",
       " 710: 'team',\n",
       " 711: 'similar',\n",
       " 712: 'sex',\n",
       " 713: 'runtime',\n",
       " 714: 'premise',\n",
       " 715: 'personal',\n",
       " 716: 'leads',\n",
       " 717: 'happen',\n",
       " 718: 'gone',\n",
       " 719: 'complete',\n",
       " 720: 'amount',\n",
       " 721: 'addition',\n",
       " 722: '4',\n",
       " 723: 'write',\n",
       " 724: 'word',\n",
       " 725: 'wife',\n",
       " 726: 'tension',\n",
       " 727: 'question',\n",
       " 728: 'playing',\n",
       " 729: 'ok',\n",
       " 730: 'night',\n",
       " 731: 'middle',\n",
       " 732: 'evil',\n",
       " 733: 'era',\n",
       " 734: 'effort',\n",
       " 735: 'ago',\n",
       " 736: 'yeah',\n",
       " 737: 'room',\n",
       " 738: 'plenty',\n",
       " 739: 'obvious',\n",
       " 740: 'genuinely',\n",
       " 741: 'forced',\n",
       " 742: 'etc',\n",
       " 743: 'dramatic',\n",
       " 744: 'didn’t',\n",
       " 745: 'dead',\n",
       " 746: 'tv',\n",
       " 747: 'tries',\n",
       " 748: 'today',\n",
       " 749: 'supporting',\n",
       " 750: 'power',\n",
       " 751: 'poorly',\n",
       " 752: 'particular',\n",
       " 753: 'pacing',\n",
       " 754: 'jokes',\n",
       " 755: 'issues',\n",
       " 756: 'feature',\n",
       " 757: 'complex',\n",
       " 758: 'animated',\n",
       " 759: 'alone',\n",
       " 760: '910',\n",
       " 761: 'tone',\n",
       " 762: 'tells',\n",
       " 763: 'setting',\n",
       " 764: 'realistic',\n",
       " 765: 'number',\n",
       " 766: 'leaves',\n",
       " 767: 'known',\n",
       " 768: 'green',\n",
       " 769: 'greatest',\n",
       " 770: 'enjoyable',\n",
       " 771: 'basically',\n",
       " 772: 'whether',\n",
       " 773: 'upon',\n",
       " 774: 'theme',\n",
       " 775: 'stand',\n",
       " 776: 'spoilerfree',\n",
       " 777: 'released',\n",
       " 778: 'none',\n",
       " 779: 'lets',\n",
       " 780: 'involved',\n",
       " 781: 'created',\n",
       " 782: 'boy',\n",
       " 783: 'aspect',\n",
       " 784: 'whatever',\n",
       " 785: 'ultimately',\n",
       " 786: 'technical',\n",
       " 787: 'talk',\n",
       " 788: 'reasons',\n",
       " 789: 'lines',\n",
       " 790: 'highly',\n",
       " 791: 'happy',\n",
       " 792: 'fear',\n",
       " 793: 'favourite',\n",
       " 794: 'chris',\n",
       " 795: 'awful',\n",
       " 796: 'wouldnt',\n",
       " 797: 'worked',\n",
       " 798: 'visuals',\n",
       " 799: 'utterly',\n",
       " 800: 'situation',\n",
       " 801: 'scifi',\n",
       " 802: 'note',\n",
       " 803: 'nor',\n",
       " 804: 'lives',\n",
       " 805: 'jump',\n",
       " 806: 'isn’t',\n",
       " 807: 'happened',\n",
       " 808: 'girls',\n",
       " 809: 'friends',\n",
       " 810: 'forget',\n",
       " 811: 'development',\n",
       " 812: 'create',\n",
       " 813: 'certain',\n",
       " 814: 'car',\n",
       " 815: 'box',\n",
       " 816: 'battle',\n",
       " 817: 'worthy',\n",
       " 818: 'whilst',\n",
       " 819: 'view',\n",
       " 820: 'train',\n",
       " 821: 'thus',\n",
       " 822: 'space',\n",
       " 823: 'oscar',\n",
       " 824: 'living',\n",
       " 825: 'humour',\n",
       " 826: 'failed',\n",
       " 827: 'emotionally',\n",
       " 828: 'captain',\n",
       " 829: 'can’t',\n",
       " 830: 'writers',\n",
       " 831: 'working',\n",
       " 832: 'usual',\n",
       " 833: 'twists',\n",
       " 834: 'theater',\n",
       " 835: 'shes',\n",
       " 836: 'impossible',\n",
       " 837: 'historical',\n",
       " 838: 'fully',\n",
       " 839: 'fresh',\n",
       " 840: 'following',\n",
       " 841: 'fantasy',\n",
       " 842: 'expectations',\n",
       " 843: 'die',\n",
       " 844: 'crime',\n",
       " 845: 'christopher',\n",
       " 846: 'america',\n",
       " 847: 'alien',\n",
       " 848: 'weird',\n",
       " 849: 'soon',\n",
       " 850: 'sam',\n",
       " 851: 'peter',\n",
       " 852: 'nolan',\n",
       " 853: 'journey',\n",
       " 854: 'form',\n",
       " 855: 'focus',\n",
       " 856: 'dull',\n",
       " 857: 'disney',\n",
       " 858: 'directors',\n",
       " 859: 'crap',\n",
       " 860: 'conclusion',\n",
       " 861: 'bloody',\n",
       " 862: 'whose',\n",
       " 863: 'wait',\n",
       " 864: 'value',\n",
       " 865: 'trilogy',\n",
       " 866: 'themes',\n",
       " 867: 'praise',\n",
       " 868: 'period',\n",
       " 869: 'lots',\n",
       " 870: 'language',\n",
       " 871: 'kid',\n",
       " 872: 'interest',\n",
       " 873: 'imagine',\n",
       " 874: 'finds',\n",
       " 875: 'decade',\n",
       " 876: 'british',\n",
       " 877: 'wrote',\n",
       " 878: 'using',\n",
       " 879: 'talking',\n",
       " 880: 'surprised',\n",
       " 881: 'success',\n",
       " 882: 'social',\n",
       " 883: 'shots',\n",
       " 884: 'problems',\n",
       " 885: 'personally',\n",
       " 886: 'open',\n",
       " 887: 'near',\n",
       " 888: 'justice',\n",
       " 889: 'heroes',\n",
       " 890: 'heard',\n",
       " 891: 'four',\n",
       " 892: 'forward',\n",
       " 893: 'figure',\n",
       " 894: 'details',\n",
       " 895: 'apart',\n",
       " 896: 'xmen',\n",
       " 897: 'wish',\n",
       " 898: 'verdict',\n",
       " 899: 'total',\n",
       " 900: 'talent',\n",
       " 901: 'quickly',\n",
       " 902: 'moving',\n",
       " 903: 'honest',\n",
       " 904: 'he’s',\n",
       " 905: 'happening',\n",
       " 906: 'further',\n",
       " 907: 'follows',\n",
       " 908: 'epic',\n",
       " 909: 'decided',\n",
       " 910: 'class',\n",
       " 911: 'ben',\n",
       " 912: 'average',\n",
       " 913: 'audiences',\n",
       " 914: 'video',\n",
       " 915: 'terms',\n",
       " 916: 'taken',\n",
       " 917: 'superman',\n",
       " 918: 'storytelling',\n",
       " 919: 'somehow',\n",
       " 920: 'sad',\n",
       " 921: 'revenge',\n",
       " 922: 'recent',\n",
       " 923: 'protagonist',\n",
       " 924: 'novel',\n",
       " 925: 'mcu',\n",
       " 926: 'king',\n",
       " 927: 'killer',\n",
       " 928: 'kill',\n",
       " 929: 'horrible',\n",
       " 930: 'fair',\n",
       " 931: 'chemistry',\n",
       " 932: 'zombie',\n",
       " 933: 'state',\n",
       " 934: 'fit',\n",
       " 935: 'fast',\n",
       " 936: 'essentially',\n",
       " 937: 'english',\n",
       " 938: 'credits',\n",
       " 939: 'country',\n",
       " 940: 'control',\n",
       " 941: 'compelling',\n",
       " 942: 'child',\n",
       " 943: 'captivating',\n",
       " 944: 'brought',\n",
       " 945: '“the',\n",
       " 946: 'yourself',\n",
       " 947: 'writer',\n",
       " 948: 'villains',\n",
       " 949: 'truth',\n",
       " 950: 'technically',\n",
       " 951: 'sounds',\n",
       " 952: 'science',\n",
       " 953: 'move',\n",
       " 954: 'memorable',\n",
       " 955: 'impact',\n",
       " 956: 'general',\n",
       " 957: 'fiction',\n",
       " 958: 'disappointment',\n",
       " 959: 'disappointing',\n",
       " 960: 'bunch',\n",
       " 961: 'begins',\n",
       " 962: 'begin',\n",
       " 963: 'becoming',\n",
       " 964: 'background',\n",
       " 965: 'wick',\n",
       " 966: 'ways',\n",
       " 967: 'showing',\n",
       " 968: 'scary',\n",
       " 969: 'office',\n",
       " 970: 'murder',\n",
       " 971: 'mess',\n",
       " 972: 'killed',\n",
       " 973: 'difficult',\n",
       " 974: 'depth',\n",
       " 975: 'concept',\n",
       " 976: 'choice',\n",
       " 977: 'changed',\n",
       " 978: 'chance',\n",
       " 979: 'casting',\n",
       " 980: 'bruce',\n",
       " 981: 'boringdisappointing',\n",
       " 982: 'viewing',\n",
       " 983: 'studio',\n",
       " 984: 'sadly',\n",
       " 985: 'rating★½',\n",
       " 986: 'project',\n",
       " 987: 'paul',\n",
       " 988: 'minute',\n",
       " 989: 'matrix',\n",
       " 990: 'massive',\n",
       " 991: 'list',\n",
       " 992: 'late',\n",
       " 993: 'havent',\n",
       " 994: 'five',\n",
       " 995: 'fall',\n",
       " 996: 'deal',\n",
       " 997: 'dance',\n",
       " 998: 'core',\n",
       " 999: 'appreciate',\n",
       " ...}"
      ]
     },
     "execution_count": 49,
     "metadata": {},
     "output_type": "execute_result"
    }
   ],
   "source": [
    "# Getting list of vocab\n",
    "vocab = sequence_vectorizer.get_vocabulary()\n",
    "int_to_str = {idx: word for idx, word in enumerate(vocab)}\n",
    "int_to_str"
   ]
  },
  {
   "cell_type": "code",
   "execution_count": 50,
   "id": "c4a1df36-b4aa-41a1-9d8e-b9560814f518",
   "metadata": {},
   "outputs": [
    {
     "data": {
      "text/plain": [
       "'whats'"
      ]
     },
     "execution_count": 50,
     "metadata": {},
     "output_type": "execute_result"
    }
   ],
   "source": [
    "# What term corresponds to 1000?\n",
    "int_to_str[1000]"
   ]
  },
  {
   "cell_type": "code",
   "execution_count": 51,
   "id": "222b4a83-7b49-4165-8a4d-007ddc5089ef",
   "metadata": {},
   "outputs": [
    {
     "data": {
      "text/plain": [
       "24923"
      ]
     },
     "execution_count": 51,
     "metadata": {},
     "output_type": "execute_result"
    }
   ],
   "source": [
    "# Programmatically define size of vocab from vectorization layer\n",
    "VOCAB_SIZE = sequence_vectorizer.vocabulary_size()\n",
    "VOCAB_SIZE"
   ]
  },
  {
   "cell_type": "code",
   "execution_count": 52,
   "id": "60a78ffb-de25-4053-8436-aac7dde708a1",
   "metadata": {},
   "outputs": [
    {
     "data": {
      "text/plain": [
       "30"
      ]
     },
     "execution_count": 52,
     "metadata": {},
     "output_type": "execute_result"
    }
   ],
   "source": [
    "SEQUENCE_LENGTH = 30\n",
    "SEQUENCE_LENGTH"
   ]
  },
  {
   "cell_type": "code",
   "execution_count": 53,
   "id": "56037f36-87c5-4d8d-af74-5389de52968c",
   "metadata": {},
   "outputs": [
    {
     "data": {
      "text/plain": [
       "150"
      ]
     },
     "execution_count": 53,
     "metadata": {},
     "output_type": "execute_result"
    }
   ],
   "source": [
    "# Define output dimension\n",
    "EMBED_DIM = 150\n",
    "EMBED_DIM"
   ]
  },
  {
   "cell_type": "code",
   "execution_count": 54,
   "id": "ab90a8d2-8ca8-47cb-8ec4-d8b3e210e5cf",
   "metadata": {},
   "outputs": [
    {
     "data": {
      "text/plain": [
       "array([0, 1])"
      ]
     },
     "execution_count": 54,
     "metadata": {},
     "output_type": "execute_result"
    }
   ],
   "source": [
    "classes = y.unique()\n",
    "classes"
   ]
  },
  {
   "cell_type": "markdown",
   "id": "14cdecf6-048e-4ab0-94e6-337d17662646",
   "metadata": {},
   "source": [
    "## Model 1: GRU"
   ]
  },
  {
   "cell_type": "code",
   "execution_count": 55,
   "id": "d4bd6ea0-871d-4dbd-91f5-9c52ba857919",
   "metadata": {},
   "outputs": [],
   "source": [
    "from tensorflow.keras.models import Sequential\n",
    "from tensorflow.keras import layers, optimizers, regularizers\n",
    "def build_gru_model_stack_deep_pool(text_vectorization_layer):\n",
    "    \n",
    "    \n",
    "    MAX_TOKENS = text_vectorization_layer.vocabulary_size()\n",
    "        \n",
    "    model = fn.tf.keras.Sequential([\n",
    "        text_vectorization_layer,\n",
    "        layers.Embedding(input_dim=VOCAB_SIZE,\n",
    "                                  output_dim=EMBED_DIM, \n",
    "                                  input_length=SEQUENCE_LENGTH)])\n",
    "\n",
    "    # Stack three GrU layers    \n",
    "    model.add(layers.GRU(128, return_sequences=True))\n",
    "    model.add(layers.Dropout(.5))\n",
    "    model.add(layers.GRU(128, return_sequences=True))\n",
    "    model.add(layers.Dropout(.5))         \n",
    "    # For the final GRU layer, use return_sequences = True for pooling layer\n",
    "    model.add(layers.GRU(128, return_sequences = True)) \n",
    "    model.add(layers.GlobalMaxPooling1D())\n",
    "    # Output layer\n",
    "    model.add(layers.Dense(len(classes), \n",
    "                              activation='softmax'))\n",
    "\n",
    "              \n",
    "    # Define optimizer\n",
    "    optimizer = optimizers.legacy.Adam()\n",
    "\n",
    "    # Compile\n",
    "    model.compile(optimizer=optimizer,  \n",
    "                  loss='sparse_categorical_crossentropy', metrics=['accuracy'])\n",
    "    model.summary()\n",
    "    return model"
   ]
  },
  {
   "cell_type": "code",
   "execution_count": 56,
   "id": "4c4b323c-e332-49c3-8627-d800b0627b50",
   "metadata": {},
   "outputs": [],
   "source": [
    "def get_callbacks(patience=3, monitor='val_accuracy'):\n",
    "    early_stop = fn.tf.keras.callbacks.EarlyStopping(patience=patience, monitor=monitor)\n",
    "    return [early_stop]"
   ]
  },
  {
   "cell_type": "code",
   "execution_count": 57,
   "id": "90999a1e-d03b-41ae-a83a-fe574d53b751",
   "metadata": {},
   "outputs": [
    {
     "name": "stderr",
     "output_type": "stream",
     "text": [
      "C:\\Users\\Valde\\anaconda3\\envs\\dojo-env\\lib\\random.py:370: DeprecationWarning: non-integer arguments to randrange() have been deprecated since Python 3.10 and will be removed in a subsequent version\n",
      "  return self.randrange(a, b+1)\n"
     ]
    },
    {
     "name": "stdout",
     "output_type": "stream",
     "text": [
      "Model: \"sequential\"\n",
      "_________________________________________________________________\n",
      " Layer (type)                Output Shape              Param #   \n",
      "=================================================================\n",
      " text_vectorization_2 (TextV  (None, 30)               0         \n",
      " ectorization)                                                   \n",
      "                                                                 \n",
      " embedding (Embedding)       (None, 30, 150)           3738450   \n",
      "                                                                 \n",
      " gru (GRU)                   (None, 30, 128)           107520    \n",
      "                                                                 \n",
      " dropout (Dropout)           (None, 30, 128)           0         \n",
      "                                                                 \n",
      " gru_1 (GRU)                 (None, 30, 128)           99072     \n",
      "                                                                 \n",
      " dropout_1 (Dropout)         (None, 30, 128)           0         \n",
      "                                                                 \n",
      " gru_2 (GRU)                 (None, 30, 128)           99072     \n",
      "                                                                 \n",
      " global_max_pooling1d (Globa  (None, 128)              0         \n",
      " lMaxPooling1D)                                                  \n",
      "                                                                 \n",
      " dense (Dense)               (None, 2)                 258       \n",
      "                                                                 \n",
      "=================================================================\n",
      "Total params: 4,044,372\n",
      "Trainable params: 4,044,372\n",
      "Non-trainable params: 0\n",
      "_________________________________________________________________\n",
      "Epoch 1/30\n",
      "1693/1693 [==============================] - 114s 64ms/step - loss: 0.6898 - accuracy: 0.5517 - val_loss: 0.6635 - val_accuracy: 0.5818\n",
      "Epoch 2/30\n",
      "1693/1693 [==============================] - 108s 64ms/step - loss: 0.4985 - accuracy: 0.7690 - val_loss: 0.5638 - val_accuracy: 0.6998\n",
      "Epoch 3/30\n",
      "1693/1693 [==============================] - 108s 64ms/step - loss: 0.1976 - accuracy: 0.9167 - val_loss: 0.7121 - val_accuracy: 0.7226\n",
      "Epoch 4/30\n",
      "1693/1693 [==============================] - 108s 64ms/step - loss: 0.0799 - accuracy: 0.9693 - val_loss: 1.0291 - val_accuracy: 0.6667\n",
      "Epoch 5/30\n",
      "1693/1693 [==============================] - 110s 65ms/step - loss: 0.0412 - accuracy: 0.9817 - val_loss: 1.1597 - val_accuracy: 0.6832\n",
      "Epoch 6/30\n",
      "1693/1693 [==============================] - 108s 64ms/step - loss: 0.0244 - accuracy: 0.9911 - val_loss: 1.0686 - val_accuracy: 0.7081\n"
     ]
    },
    {
     "data": {
      "image/png": "[encoded data removed]",
      "text/plain": [
       "<Figure size 600x600 with 2 Axes>"
      ]
     },
     "metadata": {},
     "output_type": "display_data"
    },
    {
     "name": "stdout",
     "output_type": "stream",
     "text": [
      "\n",
      "================================================================================\n",
      "- Evaluating Network...\n",
      "================================================================================\n",
      "----------------------------------------------------------------------\n",
      " Classification Metrics: Test Data\n",
      "----------------------------------------------------------------------\n",
      "              precision    recall  f1-score   support\n",
      "\n",
      "           0       0.69      0.65      0.67       113\n",
      "           1       0.71      0.75      0.73       130\n",
      "\n",
      "    accuracy                           0.70       243\n",
      "   macro avg       0.70      0.70      0.70       243\n",
      "weighted avg       0.70      0.70      0.70       243\n",
      "\n"
     ]
    },
    {
     "data": {
      "image/png": "[encoded data removed]",
      "text/plain": [
       "<Figure size 600x400 with 2 Axes>"
      ]
     },
     "metadata": {},
     "output_type": "display_data"
    },
    {
     "name": "stdout",
     "output_type": "stream",
     "text": [
      "\n",
      "- Evaluating Test Data:\n",
      "243/243 [==============================] - 2s 7ms/step - loss: 1.1200 - accuracy: 0.6996\n",
      "{'loss': 1.1200251579284668, 'accuracy': 0.6995884776115417}\n"
     ]
    }
   ],
   "source": [
    "# Build model\n",
    "model = build_gru_model_stack_deep_pool(sequence_vectorizer)\n",
    "\n",
    "EPOCHS = 30\n",
    "history = model.fit(\n",
    "    train_ds,\n",
    "    epochs=EPOCHS,\n",
    "    validation_data=val_ds,\n",
    "    callbacks=get_callbacks(),\n",
    ")\n",
    "results = fn.evaluate_classification_network(\n",
    "    model,\n",
    "    X_test=test_ds, history=history\n",
    ");"
   ]
  },
  {
   "cell_type": "markdown",
   "id": "66ef8542-6c42-4f8d-ad61-eab9d96133f6",
   "metadata": {},
   "source": [
    "## Model 2: LSTM"
   ]
  },
  {
   "cell_type": "code",
   "execution_count": 58,
   "id": "8ceeb937-d11b-430c-904b-f4ad3695a48e",
   "metadata": {},
   "outputs": [],
   "source": [
    "# Define a function for building an LSTM model\n",
    "from tensorflow.keras.models import Sequential\n",
    "from tensorflow.keras import layers, optimizers, regularizers\n",
    "def build_lstm_model(text_vectorization_layer):\n",
    "    \n",
    "    # Define sequential model with pre-trained vectorization layer and *new* embedding layer\n",
    "    lstm_model = Sequential([\n",
    "        text_vectorization_layer,\n",
    "        layers.Embedding(input_dim=VOCAB_SIZE,\n",
    "                                  output_dim=150, #EMBED_DIM, \n",
    "                                  input_length=SEQUENCE_LENGTH)\n",
    "        ])\n",
    "        \n",
    "    # Add *new* LSTM layer\n",
    "    lstm_model.add(layers.LSTM(128))\n",
    "    # Add output layer\n",
    "    lstm_model.add(layers.Dense(len(classes), activation='softmax'))\n",
    " \n",
    "    # Compile the model\n",
    "    lstm_model.compile(optimizer=optimizers.legacy.Adam(learning_rate = .01), \n",
    "                  loss='sparse_categorical_crossentropy', \n",
    "                  metrics=['accuracy'])\n",
    "    \n",
    "    lstm_model.summary()\n",
    "    return lstm_model"
   ]
  },
  {
   "cell_type": "code",
   "execution_count": 59,
   "id": "8584695c-abd6-4998-8a32-fb6efa1386f2",
   "metadata": {},
   "outputs": [],
   "source": [
    "# Include callbacks\n",
    "def get_callbacks(patience=3, monitor='val_accuracy'):\n",
    "    early_stop = fn.tf.keras.callbacks.EarlyStopping(patience=patience, monitor=monitor)\n",
    "    return [early_stop]"
   ]
  },
  {
   "cell_type": "code",
   "execution_count": 60,
   "id": "5813e266-c210-410f-9de8-ad7716764583",
   "metadata": {},
   "outputs": [
    {
     "name": "stderr",
     "output_type": "stream",
     "text": [
      "C:\\Users\\Valde\\anaconda3\\envs\\dojo-env\\lib\\random.py:370: DeprecationWarning: non-integer arguments to randrange() have been deprecated since Python 3.10 and will be removed in a subsequent version\n",
      "  return self.randrange(a, b+1)\n"
     ]
    },
    {
     "name": "stdout",
     "output_type": "stream",
     "text": [
      "Model: \"sequential_1\"\n",
      "_________________________________________________________________\n",
      " Layer (type)                Output Shape              Param #   \n",
      "=================================================================\n",
      " text_vectorization_2 (TextV  (None, 30)               0         \n",
      " ectorization)                                                   \n",
      "                                                                 \n",
      " embedding_1 (Embedding)     (None, 30, 150)           3738450   \n",
      "                                                                 \n",
      " lstm (LSTM)                 (None, 128)               142848    \n",
      "                                                                 \n",
      " dense_1 (Dense)             (None, 2)                 258       \n",
      "                                                                 \n",
      "=================================================================\n",
      "Total params: 3,881,556\n",
      "Trainable params: 3,881,556\n",
      "Non-trainable params: 0\n",
      "_________________________________________________________________\n",
      "Epoch 1/30\n",
      "1693/1693 [==============================] - 70s 40ms/step - loss: 0.7920 - accuracy: 0.4802 - val_loss: 0.7945 - val_accuracy: 0.4741\n",
      "Epoch 2/30\n",
      "1693/1693 [==============================] - 67s 40ms/step - loss: 0.7912 - accuracy: 0.5139 - val_loss: 0.8111 - val_accuracy: 0.4928\n",
      "Epoch 3/30\n",
      "1693/1693 [==============================] - 70s 41ms/step - loss: 0.7515 - accuracy: 0.5765 - val_loss: 0.9150 - val_accuracy: 0.5155\n",
      "Epoch 4/30\n",
      "1693/1693 [==============================] - 69s 41ms/step - loss: 0.6607 - accuracy: 0.6663 - val_loss: 0.9236 - val_accuracy: 0.5197\n",
      "Epoch 5/30\n",
      "1693/1693 [==============================] - 70s 41ms/step - loss: 0.5768 - accuracy: 0.7289 - val_loss: 1.0337 - val_accuracy: 0.5238\n",
      "Epoch 6/30\n",
      "1693/1693 [==============================] - 70s 41ms/step - loss: 0.5476 - accuracy: 0.7549 - val_loss: 1.0867 - val_accuracy: 0.5362\n",
      "Epoch 7/30\n",
      "1693/1693 [==============================] - 69s 41ms/step - loss: 0.5157 - accuracy: 0.7732 - val_loss: 1.0978 - val_accuracy: 0.5010\n",
      "Epoch 8/30\n",
      "1693/1693 [==============================] - 70s 42ms/step - loss: 0.5012 - accuracy: 0.7744 - val_loss: 1.1155 - val_accuracy: 0.5549\n",
      "Epoch 9/30\n",
      "1693/1693 [==============================] - 69s 41ms/step - loss: 0.4631 - accuracy: 0.7909 - val_loss: 1.1114 - val_accuracy: 0.5404\n",
      "Epoch 10/30\n",
      "1693/1693 [==============================] - 70s 41ms/step - loss: 0.4584 - accuracy: 0.8098 - val_loss: 1.1809 - val_accuracy: 0.5093\n",
      "Epoch 11/30\n",
      "1693/1693 [==============================] - 71s 42ms/step - loss: 0.4019 - accuracy: 0.8240 - val_loss: 1.4782 - val_accuracy: 0.5176\n"
     ]
    },
    {
     "data": {
      "image/png": "[encoded data removed]",
      "text/plain": [
       "<Figure size 600x600 with 2 Axes>"
      ]
     },
     "metadata": {},
     "output_type": "display_data"
    },
    {
     "name": "stdout",
     "output_type": "stream",
     "text": [
      "\n",
      "================================================================================\n",
      "- Evaluating Network...\n",
      "================================================================================\n",
      "----------------------------------------------------------------------\n",
      " Classification Metrics: Training Data\n",
      "----------------------------------------------------------------------\n",
      "              precision    recall  f1-score   support\n",
      "\n",
      "           0       0.74      0.96      0.83       856\n",
      "           1       0.93      0.65      0.77       837\n",
      "\n",
      "    accuracy                           0.80      1693\n",
      "   macro avg       0.84      0.80      0.80      1693\n",
      "weighted avg       0.83      0.80      0.80      1693\n",
      "\n"
     ]
    },
    {
     "data": {
      "image/png": "[encoded data removed]",
      "text/plain": [
       "<Figure size 600x400 with 2 Axes>"
      ]
     },
     "metadata": {},
     "output_type": "display_data"
    },
    {
     "name": "stdout",
     "output_type": "stream",
     "text": [
      "\n",
      "- Evaluating Training Data:\n",
      "1693/1693 [==============================] - 6s 3ms/step - loss: 0.4495 - accuracy: 0.8045\n",
      "{'loss': 0.4495042860507965, 'accuracy': 0.8044890761375427}\n",
      "----------------------------------------------------------------------\n",
      " Classification Metrics: Test Data\n",
      "----------------------------------------------------------------------\n",
      "              precision    recall  f1-score   support\n",
      "\n",
      "           0       0.47      0.73      0.57       113\n",
      "           1       0.55      0.28      0.38       130\n",
      "\n",
      "    accuracy                           0.49       243\n",
      "   macro avg       0.51      0.51      0.48       243\n",
      "weighted avg       0.51      0.49      0.47       243\n",
      "\n"
     ]
    },
    {
     "data": {
      "image/png": "[encoded data removed]",
      "text/plain": [
       "<Figure size 600x400 with 2 Axes>"
      ]
     },
     "metadata": {},
     "output_type": "display_data"
    },
    {
     "name": "stdout",
     "output_type": "stream",
     "text": [
      "\n",
      "- Evaluating Test Data:\n",
      "243/243 [==============================] - 1s 3ms/step - loss: 1.7156 - accuracy: 0.4938\n",
      "{'loss': 1.7155916690826416, 'accuracy': 0.4938271641731262}\n"
     ]
    }
   ],
   "source": [
    "# Build the lstm model and specify the vectorizer\n",
    "lstm_model = build_lstm_model(sequence_vectorizer)\n",
    "# Defien number of epocs\n",
    "EPOCHS = 30\n",
    "# Fit the model\n",
    "history = lstm_model.fit(\n",
    "    train_ds,\n",
    "    epochs=EPOCHS,\n",
    "    validation_data=val_ds,\n",
    "    callbacks=get_callbacks(),\n",
    ")\n",
    "# Obtain the results\n",
    "results = fn.evaluate_classification_network(\n",
    "    lstm_model, X_train=train_ds, \n",
    "    X_test=test_ds, history=history\n",
    ");"
   ]
  },
  {
   "cell_type": "markdown",
   "id": "ca06bf2d-6469-47f6-97d7-07801c1470da",
   "metadata": {},
   "source": [
    "## Model 3: Bi-Directional"
   ]
  },
  {
   "cell_type": "code",
   "execution_count": 61,
   "id": "1f4a5e00-cb40-4cbf-8049-c217f84d261b",
   "metadata": {},
   "outputs": [
    {
     "name": "stdout",
     "output_type": "stream",
     "text": [
      " VOCAB_SIZE: 24923\n",
      " EMBED_DIM: 150\n",
      " SEQUENCE_LENGTH: 30\n"
     ]
    }
   ],
   "source": [
    "# Confirm these values\n",
    "print(f' VOCAB_SIZE: {VOCAB_SIZE}')\n",
    "print(f' EMBED_DIM: {EMBED_DIM}')\n",
    "print(f' SEQUENCE_LENGTH: {SEQUENCE_LENGTH}')"
   ]
  },
  {
   "cell_type": "code",
   "execution_count": 62,
   "id": "6817e894-72dc-477e-9c83-b788e0c375de",
   "metadata": {},
   "outputs": [],
   "source": [
    "def build_gru_model_bi_pool(text_vectorization_layer):\n",
    "    \n",
    "    gru_model_bi_pool = Sequential([\n",
    "        text_vectorization_layer,\n",
    "        layers.Embedding(input_dim=VOCAB_SIZE,\n",
    "                      output_dim=EMBED_DIM,\n",
    "                      input_length=SEQUENCE_LENGTH)])\n",
    "        \n",
    "    # Add bidirectional component to GRU layer \n",
    "    gru_model_bi_pool.add(layers.Bidirectional(layers.GRU(128, return_sequences = True)))\n",
    "    \n",
    "    # Add a pooling layer *new\n",
    "    gru_model_bi_pool.add(layers.GlobalMaxPooling1D())\n",
    "    \n",
    "    # Output layer\n",
    "    gru_model_bi_pool.add(layers.Dense(len(classes), activation='softmax'))\n",
    "                     \n",
    "    optimizer = optimizers.legacy.Adam()\n",
    "    gru_model_bi_pool.compile(optimizer=optimizer, \n",
    "                  loss='sparse_categorical_crossentropy', metrics=['accuracy'])\n",
    "    gru_model_bi_pool.summary()\n",
    "    return gru_model_bi_pool"
   ]
  },
  {
   "cell_type": "code",
   "execution_count": 63,
   "id": "9f030a76-f3ec-4974-97ce-3c4b568b5ca1",
   "metadata": {},
   "outputs": [],
   "source": [
    "# Include callbacks\n",
    "def get_callbacks(patience=3, monitor='val_accuracy'):\n",
    "    early_stop =fn.tf.keras.callbacks.EarlyStopping(patience=patience, monitor=monitor)\n",
    "    return [early_stop]"
   ]
  },
  {
   "cell_type": "code",
   "execution_count": 64,
   "id": "1f9df92f-9955-410c-9b53-a412be376e49",
   "metadata": {},
   "outputs": [
    {
     "name": "stderr",
     "output_type": "stream",
     "text": [
      "C:\\Users\\Valde\\anaconda3\\envs\\dojo-env\\lib\\random.py:370: DeprecationWarning: non-integer arguments to randrange() have been deprecated since Python 3.10 and will be removed in a subsequent version\n",
      "  return self.randrange(a, b+1)\n"
     ]
    },
    {
     "name": "stdout",
     "output_type": "stream",
     "text": [
      "Model: \"sequential_2\"\n",
      "_________________________________________________________________\n",
      " Layer (type)                Output Shape              Param #   \n",
      "=================================================================\n",
      " text_vectorization_2 (TextV  (None, 30)               0         \n",
      " ectorization)                                                   \n",
      "                                                                 \n",
      " embedding_2 (Embedding)     (None, 30, 150)           3738450   \n",
      "                                                                 \n",
      " bidirectional (Bidirectiona  (None, 30, 256)          215040    \n",
      " l)                                                              \n",
      "                                                                 \n",
      " global_max_pooling1d_1 (Glo  (None, 256)              0         \n",
      " balMaxPooling1D)                                                \n",
      "                                                                 \n",
      " dense_2 (Dense)             (None, 2)                 514       \n",
      "                                                                 \n",
      "=================================================================\n",
      "Total params: 3,954,004\n",
      "Trainable params: 3,954,004\n",
      "Non-trainable params: 0\n",
      "_________________________________________________________________\n",
      "Epoch 1/30\n",
      "1693/1693 [==============================] - 81s 46ms/step - loss: 0.6335 - accuracy: 0.6137 - val_loss: 0.5716 - val_accuracy: 0.6915\n",
      "Epoch 2/30\n",
      "1693/1693 [==============================] - 87s 52ms/step - loss: 0.3591 - accuracy: 0.8441 - val_loss: 0.5988 - val_accuracy: 0.7101\n",
      "Epoch 3/30\n",
      "1693/1693 [==============================] - 82s 49ms/step - loss: 0.0722 - accuracy: 0.9740 - val_loss: 0.8469 - val_accuracy: 0.7226\n",
      "Epoch 4/30\n",
      "1693/1693 [==============================] - 79s 46ms/step - loss: 0.0145 - accuracy: 0.9959 - val_loss: 1.2148 - val_accuracy: 0.7267\n",
      "Epoch 5/30\n",
      "1693/1693 [==============================] - 79s 46ms/step - loss: 0.0024 - accuracy: 0.9994 - val_loss: 1.3721 - val_accuracy: 0.7308\n",
      "Epoch 6/30\n",
      "1693/1693 [==============================] - 77s 45ms/step - loss: 1.6866e-04 - accuracy: 1.0000 - val_loss: 1.4009 - val_accuracy: 0.7329\n",
      "Epoch 7/30\n",
      "1693/1693 [==============================] - 77s 46ms/step - loss: 2.5654e-05 - accuracy: 1.0000 - val_loss: 1.4862 - val_accuracy: 0.7329\n",
      "Epoch 8/30\n",
      "1693/1693 [==============================] - 77s 46ms/step - loss: 1.1217e-05 - accuracy: 1.0000 - val_loss: 1.5863 - val_accuracy: 0.7371\n",
      "Epoch 9/30\n",
      "1693/1693 [==============================] - 79s 47ms/step - loss: 4.8296e-06 - accuracy: 1.0000 - val_loss: 1.7065 - val_accuracy: 0.7308\n",
      "Epoch 10/30\n",
      "1693/1693 [==============================] - 81s 48ms/step - loss: 2.0175e-06 - accuracy: 1.0000 - val_loss: 1.8334 - val_accuracy: 0.7267\n",
      "Epoch 11/30\n",
      "1693/1693 [==============================] - 85s 50ms/step - loss: 1.3706e-06 - accuracy: 1.0000 - val_loss: 1.9791 - val_accuracy: 0.7246\n"
     ]
    },
    {
     "data": {
      "image/png": "[encoded data removed]",
      "text/plain": [
       "<Figure size 600x600 with 2 Axes>"
      ]
     },
     "metadata": {},
     "output_type": "display_data"
    },
    {
     "name": "stdout",
     "output_type": "stream",
     "text": [
      "\n",
      "================================================================================\n",
      "- Evaluating Network...\n",
      "================================================================================\n",
      "----------------------------------------------------------------------\n",
      " Classification Metrics: Training Data\n",
      "----------------------------------------------------------------------\n",
      "              precision    recall  f1-score   support\n",
      "\n",
      "           0       1.00      1.00      1.00       856\n",
      "           1       1.00      1.00      1.00       837\n",
      "\n",
      "    accuracy                           1.00      1693\n",
      "   macro avg       1.00      1.00      1.00      1693\n",
      "weighted avg       1.00      1.00      1.00      1693\n",
      "\n"
     ]
    },
    {
     "data": {
      "image/png": "[encoded data removed]",
      "text/plain": [
       "<Figure size 600x400 with 2 Axes>"
      ]
     },
     "metadata": {},
     "output_type": "display_data"
    },
    {
     "name": "stdout",
     "output_type": "stream",
     "text": [
      "\n",
      "- Evaluating Training Data:\n",
      "1693/1693 [==============================] - 6s 4ms/step - loss: 5.2634e-07 - accuracy: 1.0000\n",
      "{'loss': 5.263359525997657e-07, 'accuracy': 1.0}\n",
      "----------------------------------------------------------------------\n",
      " Classification Metrics: Test Data\n",
      "----------------------------------------------------------------------\n",
      "              precision    recall  f1-score   support\n",
      "\n",
      "           0       0.65      0.73      0.69       113\n",
      "           1       0.74      0.66      0.70       130\n",
      "\n",
      "    accuracy                           0.69       243\n",
      "   macro avg       0.69      0.69      0.69       243\n",
      "weighted avg       0.70      0.69      0.69       243\n",
      "\n"
     ]
    },
    {
     "data": {
      "image/png": "[encoded data removed]",
      "text/plain": [
       "<Figure size 600x400 with 2 Axes>"
      ]
     },
     "metadata": {},
     "output_type": "display_data"
    },
    {
     "name": "stdout",
     "output_type": "stream",
     "text": [
      "\n",
      "- Evaluating Test Data:\n",
      "243/243 [==============================] - 1s 4ms/step - loss: 2.1243 - accuracy: 0.6914\n",
      "{'loss': 2.1242728233337402, 'accuracy': 0.6913580298423767}\n"
     ]
    }
   ],
   "source": [
    "# Build the model\n",
    "model = build_gru_model_bi_pool(sequence_vectorizer)\n",
    "\n",
    "# Fit the model\n",
    "EPOCHS = 30\n",
    "history = model.fit(\n",
    "    train_ds,\n",
    "    epochs=EPOCHS,\n",
    "    validation_data=val_ds,\n",
    "    callbacks=get_callbacks(),\n",
    ")\n",
    "\n",
    "# Evaluate the model\n",
    "results = fn.evaluate_classification_network(\n",
    "    model, X_train=train_ds, \n",
    "    X_test=test_ds, history=history);"
   ]
  },
  {
   "cell_type": "markdown",
   "id": "6f8e07e8-b80e-46e8-9073-dabc7088c35d",
   "metadata": {},
   "source": [
    "# Project 2 Part 7: Saving"
   ]
  },
  {
   "cell_type": "code",
   "execution_count": 76,
   "id": "41fdd40b-904a-44e6-834c-da3eeadbdcaa",
   "metadata": {},
   "outputs": [
    {
     "data": {
      "text/plain": [
       "dict_keys(['data', 'models', 'images'])"
      ]
     },
     "execution_count": 76,
     "metadata": {},
     "output_type": "execute_result"
    }
   ],
   "source": [
    "import json\n",
    "with open ('config/filepaths.json') as f:\n",
    "    FPATHS = json.load(f)\n",
    "    \n",
    "FPATHS.keys()"
   ]
  },
  {
   "cell_type": "code",
   "execution_count": 77,
   "id": "21ffbfb6-ecf6-4f43-8624-296cba2c4b01",
   "metadata": {},
   "outputs": [],
   "source": [
    "# From source: https://keras.io/examples/keras_recipes/reproducibility_recipes/\n",
    "import tensorflow as tf\n",
    "import numpy as np\n",
    "# Then Set Random Seeds\n",
    "tf.keras.utils.set_random_seed(42)\n",
    "tf.random.set_seed(42)\n",
    "np.random.seed(42)\n",
    "# Then run the Enable Deterministic Operations Function\n",
    "tf.config.experimental.enable_op_determinism()\n",
    "# Source: https://discuss.tensorflow.org/t/upgrading-os-to-sonoma-on-my-mac-causing-tensorflow-errors/19846/5\n",
    "tf.config.set_visible_devices([], 'GPU')"
   ]
  },
  {
   "cell_type": "code",
   "execution_count": 78,
   "id": "795304fa-06c5-4abb-8700-7f53220fc9b4",
   "metadata": {},
   "outputs": [],
   "source": [
    "from tensorflow.keras.layers import TextVectorization\n",
    "from tensorflow.keras import layers\n",
    "from tensorflow.keras import optimizers\n",
    "import os, sys\n",
    "import pandas as pd\n",
    "import matplotlib.pyplot as plt\n",
    "import seaborn as sns\n",
    "import numpy as np\n",
    "from sklearn.model_selection import train_test_split\n",
    "from sklearn.pipeline import make_pipeline, Pipeline\n",
    "from sklearn.model_selection import GridSearchCV\n",
    "from imblearn.under_sampling import RandomUnderSampler\n",
    "from sklearn.preprocessing import LabelEncoder\n",
    "from sklearn import set_config\n",
    "set_config(transform_output='pandas')\n",
    "pd.set_option('display.max_colwidth', 250)"
   ]
  },
  {
   "cell_type": "code",
   "execution_count": 80,
   "id": "c7777d54-fa8c-484c-948b-b763d8445d87",
   "metadata": {},
   "outputs": [],
   "source": [
    "def load_Xy_data(fpath):\n",
    "    return joblib.load(fpath)"
   ]
  },
  {
   "cell_type": "code",
   "execution_count": 82,
   "id": "6357550d-ce85-4a6f-a6f6-15d23b47f108",
   "metadata": {},
   "outputs": [
    {
     "ename": "NameError",
     "evalue": "name 'fpath_test_ds_joblib' is not defined",
     "output_type": "error",
     "traceback": [
      "\u001b[1;31m---------------------------------------------------------------------------\u001b[0m",
      "\u001b[1;31mNameError\u001b[0m                                 Traceback (most recent call last)",
      "Cell \u001b[1;32mIn[82], line 3\u001b[0m\n\u001b[0;32m      1\u001b[0m fpath_save_test_ds \u001b[38;5;241m=\u001b[39m \u001b[38;5;124m\"\u001b[39m\u001b[38;5;124mData-NLP/tf/test/\u001b[39m\u001b[38;5;124m\"\u001b[39m\n\u001b[0;32m      2\u001b[0m tf\u001b[38;5;241m.\u001b[39mdata\u001b[38;5;241m.\u001b[39mDataset\u001b[38;5;241m.\u001b[39msave(test_ds, fpath_save_test_ds)\n\u001b[1;32m----> 3\u001b[0m joblib\u001b[38;5;241m.\u001b[39mdump(test_ds, \u001b[43mfpath_test_ds_joblib\u001b[49m)\n",
      "\u001b[1;31mNameError\u001b[0m: name 'fpath_test_ds_joblib' is not defined"
     ]
    }
   ],
   "source": [
    "fpath_save_test_ds = \"Data-NLP/tf/test/\"\n",
    "tf.data.Dataset.save(test_ds, fpath_save_test_ds)\n",
    "joblib.dump(test_ds, fpath_test_joblib)"
   ]
  },
  {
   "cell_type": "code",
   "execution_count": 73,
   "id": "454f03be-0120-43c5-a2f7-6ee45d02c065",
   "metadata": {},
   "outputs": [
    {
     "ename": "NotImplementedError",
     "evalue": "Save or restore weights that is not an instance of `tf.Variable` is not supported in h5, use `save_format='tf'` instead. Received a model or layer TextVectorization with weights [<keras.layers.preprocessing.index_lookup.VocabWeightHandler object at 0x000002DF84B9E6E0>]",
     "output_type": "error",
     "traceback": [
      "\u001b[1;31m---------------------------------------------------------------------------\u001b[0m",
      "\u001b[1;31mNotImplementedError\u001b[0m                       Traceback (most recent call last)",
      "Cell \u001b[1;32mIn[73], line 2\u001b[0m\n\u001b[0;32m      1\u001b[0m fpath_model \u001b[38;5;241m=\u001b[39m \u001b[38;5;124m\"\u001b[39m\u001b[38;5;124mModels/gru.keras\u001b[39m\u001b[38;5;124m\"\u001b[39m\n\u001b[1;32m----> 2\u001b[0m \u001b[43mtf\u001b[49m\u001b[38;5;241;43m.\u001b[39;49m\u001b[43mkeras\u001b[49m\u001b[38;5;241;43m.\u001b[39;49m\u001b[43mmodels\u001b[49m\u001b[38;5;241;43m.\u001b[39;49m\u001b[43msave_model\u001b[49m\u001b[43m(\u001b[49m\u001b[43mmodel\u001b[49m\u001b[43m,\u001b[49m\u001b[43m \u001b[49m\u001b[43mfpath_model\u001b[49m\u001b[43m)\u001b[49m\n",
      "File \u001b[1;32m~\\anaconda3\\envs\\dojo-env\\lib\\site-packages\\keras\\saving\\saving_api.py:145\u001b[0m, in \u001b[0;36msave_model\u001b[1;34m(model, filepath, overwrite, save_format, **kwargs)\u001b[0m\n\u001b[0;32m    142\u001b[0m     saving_lib\u001b[38;5;241m.\u001b[39msave_model(model, filepath)\n\u001b[0;32m    143\u001b[0m \u001b[38;5;28;01melse\u001b[39;00m:\n\u001b[0;32m    144\u001b[0m     \u001b[38;5;66;03m# Legacy case\u001b[39;00m\n\u001b[1;32m--> 145\u001b[0m     \u001b[38;5;28;01mreturn\u001b[39;00m legacy_sm_saving_lib\u001b[38;5;241m.\u001b[39msave_model(\n\u001b[0;32m    146\u001b[0m         model,\n\u001b[0;32m    147\u001b[0m         filepath,\n\u001b[0;32m    148\u001b[0m         overwrite\u001b[38;5;241m=\u001b[39moverwrite,\n\u001b[0;32m    149\u001b[0m         save_format\u001b[38;5;241m=\u001b[39msave_format,\n\u001b[0;32m    150\u001b[0m         \u001b[38;5;241m*\u001b[39m\u001b[38;5;241m*\u001b[39mkwargs,\n\u001b[0;32m    151\u001b[0m     )\n",
      "File \u001b[1;32m~\\anaconda3\\envs\\dojo-env\\lib\\site-packages\\keras\\utils\\traceback_utils.py:70\u001b[0m, in \u001b[0;36mfilter_traceback.<locals>.error_handler\u001b[1;34m(*args, **kwargs)\u001b[0m\n\u001b[0;32m     67\u001b[0m     filtered_tb \u001b[38;5;241m=\u001b[39m _process_traceback_frames(e\u001b[38;5;241m.\u001b[39m__traceback__)\n\u001b[0;32m     68\u001b[0m     \u001b[38;5;66;03m# To get the full stack trace, call:\u001b[39;00m\n\u001b[0;32m     69\u001b[0m     \u001b[38;5;66;03m# `tf.debugging.disable_traceback_filtering()`\u001b[39;00m\n\u001b[1;32m---> 70\u001b[0m     \u001b[38;5;28;01mraise\u001b[39;00m e\u001b[38;5;241m.\u001b[39mwith_traceback(filtered_tb) \u001b[38;5;28;01mfrom\u001b[39;00m \u001b[38;5;28;01mNone\u001b[39;00m\n\u001b[0;32m     71\u001b[0m \u001b[38;5;28;01mfinally\u001b[39;00m:\n\u001b[0;32m     72\u001b[0m     \u001b[38;5;28;01mdel\u001b[39;00m filtered_tb\n",
      "File \u001b[1;32m~\\anaconda3\\envs\\dojo-env\\lib\\site-packages\\keras\\saving\\legacy\\hdf5_format.py:1102\u001b[0m, in \u001b[0;36m_legacy_weights\u001b[1;34m(layer)\u001b[0m\n\u001b[0;32m   1100\u001b[0m weights \u001b[38;5;241m=\u001b[39m layer\u001b[38;5;241m.\u001b[39mtrainable_weights \u001b[38;5;241m+\u001b[39m layer\u001b[38;5;241m.\u001b[39mnon_trainable_weights\n\u001b[0;32m   1101\u001b[0m \u001b[38;5;28;01mif\u001b[39;00m \u001b[38;5;28many\u001b[39m(\u001b[38;5;129;01mnot\u001b[39;00m \u001b[38;5;28misinstance\u001b[39m(w, tf\u001b[38;5;241m.\u001b[39mVariable) \u001b[38;5;28;01mfor\u001b[39;00m w \u001b[38;5;129;01min\u001b[39;00m weights):\n\u001b[1;32m-> 1102\u001b[0m     \u001b[38;5;28;01mraise\u001b[39;00m \u001b[38;5;167;01mNotImplementedError\u001b[39;00m(\n\u001b[0;32m   1103\u001b[0m         \u001b[38;5;124m\"\u001b[39m\u001b[38;5;124mSave or restore weights that is not an instance of `tf.Variable` \u001b[39m\u001b[38;5;124m\"\u001b[39m\n\u001b[0;32m   1104\u001b[0m         \u001b[38;5;124m\"\u001b[39m\u001b[38;5;124mis not supported in h5, use `save_format=\u001b[39m\u001b[38;5;124m'\u001b[39m\u001b[38;5;124mtf\u001b[39m\u001b[38;5;124m'\u001b[39m\u001b[38;5;124m` instead. Received \u001b[39m\u001b[38;5;124m\"\u001b[39m\n\u001b[0;32m   1105\u001b[0m         \u001b[38;5;124mf\u001b[39m\u001b[38;5;124m\"\u001b[39m\u001b[38;5;124ma model or layer \u001b[39m\u001b[38;5;132;01m{\u001b[39;00mlayer\u001b[38;5;241m.\u001b[39m\u001b[38;5;18m__class__\u001b[39m\u001b[38;5;241m.\u001b[39m\u001b[38;5;18m__name__\u001b[39m\u001b[38;5;132;01m}\u001b[39;00m\u001b[38;5;124m \u001b[39m\u001b[38;5;124m\"\u001b[39m\n\u001b[0;32m   1106\u001b[0m         \u001b[38;5;124mf\u001b[39m\u001b[38;5;124m\"\u001b[39m\u001b[38;5;124mwith weights \u001b[39m\u001b[38;5;132;01m{\u001b[39;00mweights\u001b[38;5;132;01m}\u001b[39;00m\u001b[38;5;124m\"\u001b[39m\n\u001b[0;32m   1107\u001b[0m     )\n\u001b[0;32m   1108\u001b[0m \u001b[38;5;28;01mreturn\u001b[39;00m weights\n",
      "\u001b[1;31mNotImplementedError\u001b[0m: Save or restore weights that is not an instance of `tf.Variable` is not supported in h5, use `save_format='tf'` instead. Received a model or layer TextVectorization with weights [<keras.layers.preprocessing.index_lookup.VocabWeightHandler object at 0x000002DF84B9E6E0>]"
     ]
    }
   ],
   "source": [
    "fpath_model = \"Models/gru.keras\"\n",
    "tf.keras.models.save_model(model, fpath_model)\n"
   ]
  },
  {
   "cell_type": "code",
   "execution_count": 83,
   "id": "aff1cd3d-c441-4ebd-9df3-74890cb608b5",
   "metadata": {},
   "outputs": [
    {
     "data": {
      "text/plain": [
       "NotImplementedError(\"Save or restore weights that is not an instance of `tf.Variable` is not supported in h5, use `save_format='tf'` instead. Received a model or layer TextVectorization with weights [<keras.layers.preprocessing.index_lookup.VocabWeightHandler object at 0x000002DF84B9E6E0>]\")"
      ]
     },
     "metadata": {},
     "output_type": "display_data"
    }
   ],
   "source": [
    "# Try to save NLP model as a .keras\n",
    "try:\n",
    "    fpath_model = \"Models/gru.keras\" \n",
    "    tf.keras.models.save_model(model, fpath_model)\n",
    "except Exception as e:\n",
    "    display(e)"
   ]
  },
  {
   "cell_type": "code",
   "execution_count": 84,
   "id": "f42e136d-39c3-4f98-bab8-3472e1971a74",
   "metadata": {},
   "outputs": [
    {
     "ename": "FileNotFoundError",
     "evalue": "[Errno 2] No such file or directory: 'Data-NLP/ml/training-data.joblib'",
     "output_type": "error",
     "traceback": [
      "\u001b[1;31m---------------------------------------------------------------------------\u001b[0m",
      "\u001b[1;31mFileNotFoundError\u001b[0m                         Traceback (most recent call last)",
      "Cell \u001b[1;32mIn[84], line 3\u001b[0m\n\u001b[0;32m      1\u001b[0m \u001b[38;5;66;03m# Saving Training Data\u001b[39;00m\n\u001b[0;32m      2\u001b[0m fpath_train_joblib \u001b[38;5;241m=\u001b[39m \u001b[38;5;124m'\u001b[39m\u001b[38;5;124mData-NLP/ml/training-data.joblib\u001b[39m\u001b[38;5;124m'\u001b[39m\n\u001b[1;32m----> 3\u001b[0m \u001b[43mjoblib\u001b[49m\u001b[38;5;241;43m.\u001b[39;49m\u001b[43mdump\u001b[49m\u001b[43m(\u001b[49m\u001b[43m[\u001b[49m\u001b[43mX_train\u001b[49m\u001b[43m,\u001b[49m\u001b[43m \u001b[49m\u001b[43my_train\u001b[49m\u001b[43m]\u001b[49m\u001b[43m,\u001b[49m\u001b[43m \u001b[49m\u001b[43mfpath_train_joblib\u001b[49m\u001b[43m)\u001b[49m\n\u001b[0;32m      5\u001b[0m \u001b[38;5;66;03m# Save Test Data\u001b[39;00m\n\u001b[0;32m      6\u001b[0m fpath_test_joblib \u001b[38;5;241m=\u001b[39m \u001b[38;5;124m'\u001b[39m\u001b[38;5;124mData-NLP/ml/test-data.joblib\u001b[39m\u001b[38;5;124m'\u001b[39m\n",
      "File \u001b[1;32m~\\anaconda3\\envs\\dojo-env\\lib\\site-packages\\joblib\\numpy_pickle.py:481\u001b[0m, in \u001b[0;36mdump\u001b[1;34m(value, filename, compress, protocol, cache_size)\u001b[0m\n\u001b[0;32m    479\u001b[0m         NumpyPickler(f, protocol\u001b[38;5;241m=\u001b[39mprotocol)\u001b[38;5;241m.\u001b[39mdump(value)\n\u001b[0;32m    480\u001b[0m \u001b[38;5;28;01melif\u001b[39;00m is_filename:\n\u001b[1;32m--> 481\u001b[0m     \u001b[38;5;28;01mwith\u001b[39;00m \u001b[38;5;28;43mopen\u001b[39;49m\u001b[43m(\u001b[49m\u001b[43mfilename\u001b[49m\u001b[43m,\u001b[49m\u001b[43m \u001b[49m\u001b[38;5;124;43m'\u001b[39;49m\u001b[38;5;124;43mwb\u001b[39;49m\u001b[38;5;124;43m'\u001b[39;49m\u001b[43m)\u001b[49m \u001b[38;5;28;01mas\u001b[39;00m f:\n\u001b[0;32m    482\u001b[0m         NumpyPickler(f, protocol\u001b[38;5;241m=\u001b[39mprotocol)\u001b[38;5;241m.\u001b[39mdump(value)\n\u001b[0;32m    483\u001b[0m \u001b[38;5;28;01melse\u001b[39;00m:\n",
      "\u001b[1;31mFileNotFoundError\u001b[0m: [Errno 2] No such file or directory: 'Data-NLP/ml/training-data.joblib'"
     ]
    }
   ],
   "source": [
    "# Saving Training Data\n",
    "fpath_train_joblib = 'Data-NLP/ml/training-data.joblib'\n",
    "joblib.dump([X_train, y_train], fpath_train_joblib)\n",
    "\n",
    "# Save Test Data\n",
    "fpath_test_joblib = 'Data-NLP/ml/test-data.joblib'\n",
    "joblib.dump([X_test, y_test], fpath_test_joblib)\n",
    "\n",
    "# Save the best Model\n",
    "fpath_best_rf_pipe_ml_model = 'Models/best_rf_pipe-ml-model.joblib'\n",
    "joblib.dump(best_model, fpath_test_joblib)"
   ]
  },
  {
   "cell_type": "code",
   "execution_count": 85,
   "id": "d457d08a-b48a-4217-a2e2-5f41ddb105e8",
   "metadata": {},
   "outputs": [
    {
     "ename": "NotADirectoryError",
     "evalue": "[WinError 267] The directory name is invalid: 'Models/gru.keras'",
     "output_type": "error",
     "traceback": [
      "\u001b[1;31m---------------------------------------------------------------------------\u001b[0m",
      "\u001b[1;31mNotADirectoryError\u001b[0m                        Traceback (most recent call last)",
      "Cell \u001b[1;32mIn[85], line 2\u001b[0m\n\u001b[0;32m      1\u001b[0m \u001b[38;5;66;03m# Viewing the file contents of the saved model\u001b[39;00m\n\u001b[1;32m----> 2\u001b[0m \u001b[38;5;28msorted\u001b[39m(\u001b[43mos\u001b[49m\u001b[38;5;241;43m.\u001b[39;49m\u001b[43mlistdir\u001b[49m\u001b[43m(\u001b[49m\u001b[43mfpath_model\u001b[49m\u001b[43m)\u001b[49m)\n",
      "\u001b[1;31mNotADirectoryError\u001b[0m: [WinError 267] The directory name is invalid: 'Models/gru.keras'"
     ]
    }
   ],
   "source": [
    "# Viewing the file contents of the saved model\n",
    "sorted(os.listdir(fpath_model))"
   ]
  },
  {
   "cell_type": "code",
   "execution_count": 86,
   "id": "64567b11-15f5-4b87-bca9-305a29547e1b",
   "metadata": {},
   "outputs": [
    {
     "ename": "NameError",
     "evalue": "name 'loaded_network' is not defined",
     "output_type": "error",
     "traceback": [
      "\u001b[1;31m---------------------------------------------------------------------------\u001b[0m",
      "\u001b[1;31mNameError\u001b[0m                                 Traceback (most recent call last)",
      "Cell \u001b[1;32mIn[86], line 3\u001b[0m\n\u001b[0;32m      1\u001b[0m \u001b[38;5;66;03m# Evaluate the model\u001b[39;00m\n\u001b[0;32m      2\u001b[0m results \u001b[38;5;241m=\u001b[39m fn\u001b[38;5;241m.\u001b[39mevaluate_classification_network(\n\u001b[1;32m----> 3\u001b[0m     \u001b[43mloaded_network\u001b[49m, X_train\u001b[38;5;241m=\u001b[39mtrain_ds, \n\u001b[0;32m      4\u001b[0m     X_test\u001b[38;5;241m=\u001b[39mtest_ds)\n",
      "\u001b[1;31mNameError\u001b[0m: name 'loaded_network' is not defined"
     ]
    }
   ],
   "source": [
    "# Evaluate the model\n",
    "results = fn.evaluate_classification_network(\n",
    "    loaded_network, X_train=train_ds, \n",
    "    X_test=test_ds)"
   ]
  },
  {
   "cell_type": "code",
   "execution_count": null,
   "id": "aa94edef-6591-4732-931e-44aa7e7a4b3d",
   "metadata": {},
   "outputs": [],
   "source": []
  }
 ],
 "metadata": {
  "kernelspec": {
   "display_name": "Python (dojo-env)",
   "language": "python",
   "name": "dojo-env"
  },
  "language_info": {
   "codemirror_mode": {
    "name": "ipython",
    "version": 3
   },
   "file_extension": ".py",
   "mimetype": "text/x-python",
   "name": "python",
   "nbconvert_exporter": "python",
   "pygments_lexer": "ipython3",
   "version": "3.10.11"
  },
  "widgets": {
   "application/vnd.jupyter.widget-state+json": {
    "state": {},
    "version_major": 2,
    "version_minor": 0
   }
  }
 },
 "nbformat": 4,
 "nbformat_minor": 5
}
