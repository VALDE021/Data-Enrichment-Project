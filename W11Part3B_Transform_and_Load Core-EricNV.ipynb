{
 "cells": [
  {
   "cell_type": "markdown",
   "id": "52b75804-2095-44a5-b7b0-07f46d2a6967",
   "metadata": {},
   "source": [
    "# <center><u>Project 2 - Part 3B: Transform and Load (Core)</u>\n",
    "* Authored By: Eric N Valdez\n",
    "* Date: 1/18/2024"
   ]
  },
  {
   "cell_type": "markdown",
   "id": "5f2ec733-02ce-4051-8a54-4748bdf89f6f",
   "metadata": {},
   "source": [
    "##  Use an API to extract box office financial data and load it into your database."
   ]
  },
  {
   "cell_type": "markdown",
   "id": "e32cf4f9-aea5-40f7-89ba-b67d2d45d373",
   "metadata": {},
   "source": [
    "### <u>Adding Genres to the Database"
   ]
  },
  {
   "cell_type": "code",
   "execution_count": null,
   "id": "7c84003a-ece6-4723-adba-a5ec08541d8b",
   "metadata": {},
   "outputs": [],
   "source": []
  }
 ],
 "metadata": {
  "kernelspec": {
   "display_name": "Python 3 (ipykernel)",
   "language": "python",
   "name": "python3"
  },
  "language_info": {
   "codemirror_mode": {
    "name": "ipython",
    "version": 3
   },
   "file_extension": ".py",
   "mimetype": "text/x-python",
   "name": "python",
   "nbconvert_exporter": "python",
   "pygments_lexer": "ipython3",
   "version": "3.10.10"
  },
  "widgets": {
   "application/vnd.jupyter.widget-state+json": {
    "state": {},
    "version_major": 2,
    "version_minor": 0
   }
  }
 },
 "nbformat": 4,
 "nbformat_minor": 5
}
