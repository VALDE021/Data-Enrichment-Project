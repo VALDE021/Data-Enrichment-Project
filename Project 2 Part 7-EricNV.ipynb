{
 "cells": [
  {
   "cell_type": "markdown",
   "id": "3b27abf7-45b4-4e24-a099-62896d40355a",
   "metadata": {},
   "source": [
    "# <u><center>Project 2 - Part 7 (Core)\n",
    "- Authored By: Eric N. Valdez\n",
    "- Date: 04/19/2024"
   ]
  },
  {
   "cell_type": "markdown",
   "id": "3824d57a-b86b-4a62-bf0b-5ae67c070006",
   "metadata": {},
   "source": [
    "### For this project you will create a streamlit app to get predictions from your best model.\n",
    "\n",
    "# Part 1: Preparing Best Models for Streamlit\n",
    "- ### Create a new Part 7 - Preparing for Streamlit  notebook.\n",
    "\n",
    "### `In the new notebook`\n",
    "- ### Define a filpaths ditionary and save it to config/filepaths.json to include file paths for each component you will save(`review below`).\n",
    "- ### Copy your best models from part 6 into the new notebook.\n",
    "    - #### Update your code to define the final public-facing class labels. "
   ]
  },
  {
   "cell_type": "code",
   "execution_count": 12,
   "id": "8399b21b-a454-4360-b290-f5d01a5fb4a3",
   "metadata": {},
   "outputs": [],
   "source": [
    "# Import standard packages\n",
    "import pandas as pd\n",
    "import numpy as np\n",
    "import matplotlib.pyplot as plt\n",
    "import seaborn as sns\n",
    "pd.set_option('display.max_columns',100)"
   ]
  },
  {
   "cell_type": "code",
   "execution_count": 1,
   "id": "78cbc332-263d-45e9-bdc1-c95cec371bc0",
   "metadata": {},
   "outputs": [
    {
     "name": "stdout",
     "output_type": "stream",
     "text": [
      "{'data': {'ml': {'test': 'Data-NLP/testing-data.joblib',\n",
      "                 'train': 'Data-NLP/training-data.joblib'},\n",
      "          'raw': {'eda': 'Data-NLP/movie_reviews_v2.csv',\n",
      "                  'full': 'Data-NLP/movie_reviews_v2.csv'}},\n",
      " 'images': {'banner': 'Images/IMDB.png'},\n",
      " 'models': {'linear_regression': 'Models/linear_regression/linreg.joblib',\n",
      "            'random_forest': 'Models/random_forest/rf_reg.joblib'}}\n"
     ]
    }
   ],
   "source": [
    "from pprint import pprint\n",
    "FPATHS = dict(\n",
    "    data={\n",
    "        \"raw\": {\n",
    "            \"full\": \"Data-NLP/movie_reviews_v2.csv\",  # (This is the original full dataframe we already have)\n",
    "            \"eda\": \"Data-NLP/movie_reviews_v2.csv\" # We haven't saved this yet\n",
    "        },\n",
    "        \"ml\": {\n",
    "            \"train\": \"Data-NLP/training-data.joblib\",  # (X_train,y_train) We haven't saved this yet\n",
    "            \"test\": \"Data-NLP/testing-data.joblib\",  # (X_test,y_test) We haven't saved this yet\n",
    "        },\n",
    "    },\n",
    "    models={\n",
    "        \"linear_regression\": \"Models/linear_regression/linreg.joblib\", # We haven't saved this yet\n",
    "        \"random_forest\": \"Models/random_forest/rf_reg.joblib\", # We haven't saved this yet\n",
    "    },\n",
    "    images={\n",
    "        \"banner\": \"Images/IMDB.png\", # We haven't saved this yet\n",
    "    },\n",
    ")\n",
    "pprint(FPATHS)"
   ]
  },
  {
   "cell_type": "code",
   "execution_count": 2,
   "id": "c7f63483-e608-438e-98fe-09efb6098881",
   "metadata": {},
   "outputs": [],
   "source": [
    "# Save the filepaths \n",
    "import os, json\n",
    "os.makedirs('config/', exist_ok=True)\n",
    "FPATHS_FILE = 'config/filepaths.json'\n",
    "with open(FPATHS_FILE, 'w') as f:\n",
    "    json.dump(FPATHS, f)"
   ]
  },
  {
   "cell_type": "code",
   "execution_count": 3,
   "id": "22d1eb55-a784-4243-a368-5892299e44e9",
   "metadata": {},
   "outputs": [],
   "source": [
    "import os\n",
    "def create_directories_from_paths(nested_dict):\n",
    "    \"\"\"OpenAI. (2023). ChatGPT [Large language model]. https://chat.openai.com \n",
    "    Recursively create directories for file paths in a nested dictionary.\n",
    "    Parameters:\n",
    "    nested_dict (dict): The nested dictionary containing file paths.\n",
    "    \"\"\"\n",
    "    for key, value in nested_dict.items():\n",
    "        if isinstance(value, dict):\n",
    "            # If the value is a dictionary, recurse into it\n",
    "            create_directories_from_paths(value)\n",
    "        elif isinstance(value, str):\n",
    "            # If the value is a string, treat it as a file path and get the directory path\n",
    "            directory_path = os.path.dirname(value)\n",
    "            # If the directory path is not empty and the directory does not exist, create it\n",
    "            if directory_path and not os.path.exists(directory_path):\n",
    "                os.makedirs(directory_path)\n",
    "                print(f\"Directory created: {directory_path}\")\n",
    "\n",
    "# Use the function on your FPATHS dictionary\n",
    "create_directories_from_paths(FPATHS)"
   ]
  },
  {
   "cell_type": "code",
   "execution_count": 4,
   "id": "082488a1-ed51-46be-b02b-338d9b9dc8bd",
   "metadata": {},
   "outputs": [
    {
     "data": {
      "text/plain": [
       "'Data-NLP/movie_reviews_v2.csv'"
      ]
     },
     "execution_count": 4,
     "metadata": {},
     "output_type": "execute_result"
    }
   ],
   "source": [
    "# We can access a file using our dictionary\n",
    "FPATHS['data']['raw']['full']"
   ]
  },
  {
   "cell_type": "code",
   "execution_count": 5,
   "id": "a3032400-32a4-4f70-9cd1-2d13ed3f7425",
   "metadata": {},
   "outputs": [
    {
     "data": {
      "text/plain": [
       "'Models/random_forest/rf_reg.joblib'"
      ]
     },
     "execution_count": 5,
     "metadata": {},
     "output_type": "execute_result"
    }
   ],
   "source": [
    "# We can access a file using our dictionary\n",
    "FPATHS['models']['random_forest']"
   ]
  },
  {
   "cell_type": "code",
   "execution_count": 6,
   "id": "613d978f-abe6-4f7d-baee-141e2ebfa47b",
   "metadata": {},
   "outputs": [
    {
     "data": {
      "text/markdown": [
       "<img src='Images/IMDB.png'>"
      ],
      "text/plain": [
       "<IPython.core.display.Markdown object>"
      ]
     },
     "execution_count": 6,
     "metadata": {},
     "output_type": "execute_result"
    }
   ],
   "source": [
    "# Confirm the images is in the correct location\n",
    "from IPython.display import display, Markdown\n",
    "Markdown(f\"<img src='{FPATHS['images']['banner']}'>\")"
   ]
  },
  {
   "cell_type": "code",
   "execution_count": 7,
   "id": "ecf7addc-3590-40ef-92b3-6c9d19ebf7c9",
   "metadata": {},
   "outputs": [],
   "source": [
    "import os, sys\n",
    "%load_ext autoreload \n",
    "%autoreload 2\n",
    "import movie_functions as fn"
   ]
  },
  {
   "cell_type": "code",
   "execution_count": 8,
   "id": "74f93279-488c-4456-a215-e7708f87f956",
   "metadata": {},
   "outputs": [],
   "source": [
    "# %reload_ext autoreload"
   ]
  },
  {
   "cell_type": "code",
   "execution_count": 9,
   "id": "3b0e2a9e-45ff-43dc-b17b-07bdd0d93f7f",
   "metadata": {},
   "outputs": [
    {
     "name": "stdout",
     "output_type": "stream",
     "text": [
      "<class 'pandas.core.frame.DataFrame'>\n",
      "Int64Index: 8650 entries, 843 to 575264\n",
      "Data columns (total 8 columns):\n",
      " #   Column          Non-Null Count  Dtype  \n",
      "---  ------          --------------  -----  \n",
      " 0   original_title  8650 non-null   object \n",
      " 1   review          8650 non-null   object \n",
      " 2   rating          7454 non-null   float64\n",
      " 3   ratings         2419 non-null   object \n",
      " 4   tokens          8650 non-null   object \n",
      " 5   lemmatized      8650 non-null   object \n",
      " 6   tokens-joined   8650 non-null   object \n",
      " 7   lemmas-joined   8650 non-null   object \n",
      "dtypes: float64(1), object(7)\n",
      "memory usage: 608.2+ KB\n"
     ]
    },
    {
     "data": {
      "text/html": [
       "<div>\n",
       "<style scoped>\n",
       "    .dataframe tbody tr th:only-of-type {\n",
       "        vertical-align: middle;\n",
       "    }\n",
       "\n",
       "    .dataframe tbody tr th {\n",
       "        vertical-align: top;\n",
       "    }\n",
       "\n",
       "    .dataframe thead th {\n",
       "        text-align: right;\n",
       "    }\n",
       "</style>\n",
       "<table border=\"1\" class=\"dataframe\">\n",
       "  <thead>\n",
       "    <tr style=\"text-align: right;\">\n",
       "      <th></th>\n",
       "      <th>original_title</th>\n",
       "      <th>review</th>\n",
       "      <th>rating</th>\n",
       "      <th>ratings</th>\n",
       "      <th>tokens</th>\n",
       "      <th>lemmatized</th>\n",
       "      <th>tokens-joined</th>\n",
       "      <th>lemmas-joined</th>\n",
       "    </tr>\n",
       "    <tr>\n",
       "      <th>movie_id</th>\n",
       "      <th></th>\n",
       "      <th></th>\n",
       "      <th></th>\n",
       "      <th></th>\n",
       "      <th></th>\n",
       "      <th></th>\n",
       "      <th></th>\n",
       "      <th></th>\n",
       "    </tr>\n",
       "  </thead>\n",
       "  <tbody>\n",
       "    <tr>\n",
       "      <th>843</th>\n",
       "      <td>花樣年華</td>\n",
       "      <td>This is a fine piece of cinema from Wong Kar-Wai that tells us a story of two people whom circumstance throws together - but not in a way you might expect. We start with two couples who move into a new building. One a newspaper man with his wife, the other a business executive and his wife. The ...</td>\n",
       "      <td>7.0</td>\n",
       "      <td>None</td>\n",
       "      <td>[fine, piece, cinema, wong, kar, wai, tell, story, people, circumstance, throw, way, expect, start, couple, new, building, newspaper, man, wife, business, executive, wife, businessman, rarely, home, journalist, wife, leave, increasingly, loose, end, long, friendship, develop, usually, noodle, en...</td>\n",
       "      <td>[fine, piece, cinema, wong, kar, wai, tell, story, people, circumstance, throw, way, expect, start, couple, new, building, newspaper, man, wife, business, executive, wife, businessman, rarely, home, journalist, wife, leave, increasingly, loose, end, long, friendship, develop, usually, noodle, en...</td>\n",
       "      <td>fine piece cinema wong kar wai tell story people circumstance throw way expect start couple new building newspaper man wife business executive wife businessman rarely home journalist wife leave increasingly loose end long friendship develop usually noodle entirely platonic relationship solid tru...</td>\n",
       "      <td>fine piece cinema wong kar wai tell story people circumstance throw way expect start couple new building newspaper man wife business executive wife businessman rarely home journalist wife leave increasingly loose end long friendship develop usually noodle entirely platonic relationship solid tru...</td>\n",
       "    </tr>\n",
       "    <tr>\n",
       "      <th>7443</th>\n",
       "      <td>Chicken Run</td>\n",
       "      <td>A guilty pleasure for me personally, as I love both 'The Great Escape' and most of the works I have seen, over the years, from this rightfully-esteemed British animation company. Highly recommended both for children and for adults who enjoy animation.</td>\n",
       "      <td>9.0</td>\n",
       "      <td>High_rating</td>\n",
       "      <td>[guilty, pleasure, personally, love, great, escape, work, see, year, rightfully, esteem, british, animation, company, highly, recommend, child, adult, enjoy, animation]</td>\n",
       "      <td>[guilty, pleasure, personally, love, great, escape, work, see, year, rightfully, esteem, british, animation, company, highly, recommend, child, adult, enjoy, animation]</td>\n",
       "      <td>guilty pleasure personally love great escape work see year rightfully esteem british animation company highly recommend child adult enjoy animation</td>\n",
       "      <td>guilty pleasure personally love great escape work see year rightfully esteem british animation company highly recommend child adult enjoy animation</td>\n",
       "    </tr>\n",
       "    <tr>\n",
       "      <th>7443</th>\n",
       "      <td>Chicken Run</td>\n",
       "      <td>Made my roommate who hates stop-motion animation watched this in 2018 and even he had a good time. It's maybe not as great as I remember thinking it was when I was a little kid, but it still holds up to some degree.\\r\\n\\r\\n_Final rating:★★★ - I liked it. Would personally recommend you give it a ...</td>\n",
       "      <td>6.0</td>\n",
       "      <td>None</td>\n",
       "      <td>[roommate, hate, stop, motion, animation, watch, 2018, good, time, maybe, great, remember, think, little, kid, hold, degree, final, rating, ★, ★, ★, like, personally, recommend]</td>\n",
       "      <td>[roommate, hate, stop, motion, animation, watch, 2018, good, time, maybe, great, remember, think, little, kid, hold, degree, final, rating, ★, ★, ★, like, personally, recommend]</td>\n",
       "      <td>roommate hate stop motion animation watch 2018 good time maybe great remember think little kid hold degree final rating ★ ★ ★ like personally recommend</td>\n",
       "      <td>roommate hate stop motion animation watch 2018 good time maybe great remember think little kid hold degree final rating ★ ★ ★ like personally recommend</td>\n",
       "    </tr>\n",
       "    <tr>\n",
       "      <th>7443</th>\n",
       "      <td>Chicken Run</td>\n",
       "      <td>A very good stop-motion animation!\\r\\n\\r\\n&lt;em&gt;'Chicken Run'&lt;/em&gt;, which I watched a crap tonne when I was little but not for a vast number of years now, is an impressive production given it came out in 2000. Despite a pretty simple feel to the film, it's a very well developed concept.\\r\\n\\r\\nThe...</td>\n",
       "      <td>8.0</td>\n",
       "      <td>None</td>\n",
       "      <td>[good, stop, motion, animation, &lt;, em&gt;'chicken, run'&lt;/em, &gt;, watch, crap, tonne, little, vast, number, year, impressive, production, give, come, 2000, despite, pretty, simple, feel, film, develop, concept, admittedly, short, run, time, truly, fly, course, look, relatively, terrific, impress, pac...</td>\n",
       "      <td>[good, stop, motion, animation, &lt;, em&gt;'chicken, run'&lt;/em, &gt;, watch, crap, tonne, little, vast, number, year, impressive, production, give, come, 2000, despite, pretty, simple, feel, film, develop, concept, admittedly, short, run, time, truly, fly, course, look, relatively, terrific, impress, pac...</td>\n",
       "      <td>good stop motion animation &lt; em&gt;'chicken run'&lt;/em &gt; watch crap tonne little vast number year impressive production give come 2000 despite pretty simple feel film develop concept admittedly short run time truly fly course look relatively terrific impress pacing clean cast julia sawalha definite s...</td>\n",
       "      <td>good stop motion animation &lt; em&gt;'chicken run'&lt;/em &gt; watch crap tonne little vast number year impressive production give come 2000 despite pretty simple feel film develop concept admittedly short run time truly fly course look relatively terrific impress pacing clean cast julia sawalha definite s...</td>\n",
       "    </tr>\n",
       "    <tr>\n",
       "      <th>7443</th>\n",
       "      <td>Chicken Run</td>\n",
       "      <td>Ok, there is an huge temptation to riddle this review with puns - but I'm just going to say it's a cracking little family adventure. It's seemingly based on a whole range of classic movies from the \"Great Escape\", \"Star Trek\" to \"Love Story\" with a score cannibalised from just about any/everythi...</td>\n",
       "      <td>7.0</td>\n",
       "      <td>None</td>\n",
       "      <td>[ok, huge, temptation, riddle, review, pun, go, crack, little, family, adventure, seemingly, base, range, classic, movie, great, escape, star, trek, love, story, score, cannibalise, write, messrs., korngold, williams, bernstein, add, super, stop, motion, animation, ray, harryhausen, proud, flock...</td>\n",
       "      <td>[ok, huge, temptation, riddle, review, pun, go, crack, little, family, adventure, seemingly, base, range, classic, movie, great, escape, star, trek, love, story, score, cannibalise, write, messrs., korngold, williams, bernstein, add, super, stop, motion, animation, ray, harryhausen, proud, flock...</td>\n",
       "      <td>ok huge temptation riddle review pun go crack little family adventure seemingly base range classic movie great escape star trek love story score cannibalise write messrs. korngold williams bernstein add super stop motion animation ray harryhausen proud flock chicken relentlessly exploit egg evil...</td>\n",
       "      <td>ok huge temptation riddle review pun go crack little family adventure seemingly base range classic movie great escape star trek love story score cannibalise write messrs. korngold williams bernstein add super stop motion animation ray harryhausen proud flock chicken relentlessly exploit egg evil...</td>\n",
       "    </tr>\n",
       "  </tbody>\n",
       "</table>\n",
       "</div>"
      ],
      "text/plain": [
       "         original_title  \\\n",
       "movie_id                  \n",
       "843                花樣年華   \n",
       "7443        Chicken Run   \n",
       "7443        Chicken Run   \n",
       "7443        Chicken Run   \n",
       "7443        Chicken Run   \n",
       "\n",
       "                                                                                                                                                                                                                                                                                                               review  \\\n",
       "movie_id                                                                                                                                                                                                                                                                                                                \n",
       "843       This is a fine piece of cinema from Wong Kar-Wai that tells us a story of two people whom circumstance throws together - but not in a way you might expect. We start with two couples who move into a new building. One a newspaper man with his wife, the other a business executive and his wife. The ...   \n",
       "7443                                                      A guilty pleasure for me personally, as I love both 'The Great Escape' and most of the works I have seen, over the years, from this rightfully-esteemed British animation company. Highly recommended both for children and for adults who enjoy animation.   \n",
       "7443      Made my roommate who hates stop-motion animation watched this in 2018 and even he had a good time. It's maybe not as great as I remember thinking it was when I was a little kid, but it still holds up to some degree.\\r\\n\\r\\n_Final rating:★★★ - I liked it. Would personally recommend you give it a ...   \n",
       "7443      A very good stop-motion animation!\\r\\n\\r\\n<em>'Chicken Run'</em>, which I watched a crap tonne when I was little but not for a vast number of years now, is an impressive production given it came out in 2000. Despite a pretty simple feel to the film, it's a very well developed concept.\\r\\n\\r\\nThe...   \n",
       "7443      Ok, there is an huge temptation to riddle this review with puns - but I'm just going to say it's a cracking little family adventure. It's seemingly based on a whole range of classic movies from the \"Great Escape\", \"Star Trek\" to \"Love Story\" with a score cannibalised from just about any/everythi...   \n",
       "\n",
       "          rating      ratings  \\\n",
       "movie_id                        \n",
       "843          7.0         None   \n",
       "7443         9.0  High_rating   \n",
       "7443         6.0         None   \n",
       "7443         8.0         None   \n",
       "7443         7.0         None   \n",
       "\n",
       "                                                                                                                                                                                                                                                                                                               tokens  \\\n",
       "movie_id                                                                                                                                                                                                                                                                                                                \n",
       "843       [fine, piece, cinema, wong, kar, wai, tell, story, people, circumstance, throw, way, expect, start, couple, new, building, newspaper, man, wife, business, executive, wife, businessman, rarely, home, journalist, wife, leave, increasingly, loose, end, long, friendship, develop, usually, noodle, en...   \n",
       "7443                                                                                                                                         [guilty, pleasure, personally, love, great, escape, work, see, year, rightfully, esteem, british, animation, company, highly, recommend, child, adult, enjoy, animation]   \n",
       "7443                                                                                                                                [roommate, hate, stop, motion, animation, watch, 2018, good, time, maybe, great, remember, think, little, kid, hold, degree, final, rating, ★, ★, ★, like, personally, recommend]   \n",
       "7443      [good, stop, motion, animation, <, em>'chicken, run'</em, >, watch, crap, tonne, little, vast, number, year, impressive, production, give, come, 2000, despite, pretty, simple, feel, film, develop, concept, admittedly, short, run, time, truly, fly, course, look, relatively, terrific, impress, pac...   \n",
       "7443      [ok, huge, temptation, riddle, review, pun, go, crack, little, family, adventure, seemingly, base, range, classic, movie, great, escape, star, trek, love, story, score, cannibalise, write, messrs., korngold, williams, bernstein, add, super, stop, motion, animation, ray, harryhausen, proud, flock...   \n",
       "\n",
       "                                                                                                                                                                                                                                                                                                           lemmatized  \\\n",
       "movie_id                                                                                                                                                                                                                                                                                                                \n",
       "843       [fine, piece, cinema, wong, kar, wai, tell, story, people, circumstance, throw, way, expect, start, couple, new, building, newspaper, man, wife, business, executive, wife, businessman, rarely, home, journalist, wife, leave, increasingly, loose, end, long, friendship, develop, usually, noodle, en...   \n",
       "7443                                                                                                                                         [guilty, pleasure, personally, love, great, escape, work, see, year, rightfully, esteem, british, animation, company, highly, recommend, child, adult, enjoy, animation]   \n",
       "7443                                                                                                                                [roommate, hate, stop, motion, animation, watch, 2018, good, time, maybe, great, remember, think, little, kid, hold, degree, final, rating, ★, ★, ★, like, personally, recommend]   \n",
       "7443      [good, stop, motion, animation, <, em>'chicken, run'</em, >, watch, crap, tonne, little, vast, number, year, impressive, production, give, come, 2000, despite, pretty, simple, feel, film, develop, concept, admittedly, short, run, time, truly, fly, course, look, relatively, terrific, impress, pac...   \n",
       "7443      [ok, huge, temptation, riddle, review, pun, go, crack, little, family, adventure, seemingly, base, range, classic, movie, great, escape, star, trek, love, story, score, cannibalise, write, messrs., korngold, williams, bernstein, add, super, stop, motion, animation, ray, harryhausen, proud, flock...   \n",
       "\n",
       "                                                                                                                                                                                                                                                                                                        tokens-joined  \\\n",
       "movie_id                                                                                                                                                                                                                                                                                                                \n",
       "843       fine piece cinema wong kar wai tell story people circumstance throw way expect start couple new building newspaper man wife business executive wife businessman rarely home journalist wife leave increasingly loose end long friendship develop usually noodle entirely platonic relationship solid tru...   \n",
       "7443                                                                                                                                                              guilty pleasure personally love great escape work see year rightfully esteem british animation company highly recommend child adult enjoy animation   \n",
       "7443                                                                                                                                                          roommate hate stop motion animation watch 2018 good time maybe great remember think little kid hold degree final rating ★ ★ ★ like personally recommend   \n",
       "7443      good stop motion animation < em>'chicken run'</em > watch crap tonne little vast number year impressive production give come 2000 despite pretty simple feel film develop concept admittedly short run time truly fly course look relatively terrific impress pacing clean cast julia sawalha definite s...   \n",
       "7443      ok huge temptation riddle review pun go crack little family adventure seemingly base range classic movie great escape star trek love story score cannibalise write messrs. korngold williams bernstein add super stop motion animation ray harryhausen proud flock chicken relentlessly exploit egg evil...   \n",
       "\n",
       "                                                                                                                                                                                                                                                                                                        lemmas-joined  \n",
       "movie_id                                                                                                                                                                                                                                                                                                               \n",
       "843       fine piece cinema wong kar wai tell story people circumstance throw way expect start couple new building newspaper man wife business executive wife businessman rarely home journalist wife leave increasingly loose end long friendship develop usually noodle entirely platonic relationship solid tru...  \n",
       "7443                                                                                                                                                              guilty pleasure personally love great escape work see year rightfully esteem british animation company highly recommend child adult enjoy animation  \n",
       "7443                                                                                                                                                          roommate hate stop motion animation watch 2018 good time maybe great remember think little kid hold degree final rating ★ ★ ★ like personally recommend  \n",
       "7443      good stop motion animation < em>'chicken run'</em > watch crap tonne little vast number year impressive production give come 2000 despite pretty simple feel film develop concept admittedly short run time truly fly course look relatively terrific impress pacing clean cast julia sawalha definite s...  \n",
       "7443      ok huge temptation riddle review pun go crack little family adventure seemingly base range classic movie great escape star trek love story score cannibalise write messrs. korngold williams bernstein add super stop motion animation ray harryhausen proud flock chicken relentlessly exploit egg evil...  "
      ]
     },
     "execution_count": 9,
     "metadata": {},
     "output_type": "execute_result"
    }
   ],
   "source": [
    "# loading the joblib from part 5 of the project\n",
    "df = fn.joblib.load('Data-NLP/processed_data.joblib')\n",
    "df.info()\n",
    "df.head()"
   ]
  },
  {
   "cell_type": "markdown",
   "id": "a839cb00-2df4-4b67-9989-5615e9062e37",
   "metadata": {},
   "source": [
    "## `Saving Your Models`\n",
    "- ### For your Machine Learning Model:\n",
    "    - Save your training data ([X_train, y_train])\n",
    "    - Save your test data ([X_test, y_test])\n",
    "    - Save your target_lookup dictionary and/or your label encoder\n",
    "    - Save your best model"
   ]
  },
  {
   "cell_type": "code",
   "execution_count": 14,
   "id": "1ecab6c2-fbc1-4003-9835-52422760b58e",
   "metadata": {},
   "outputs": [
    {
     "data": {
      "text/html": [
       "<div>\n",
       "<style scoped>\n",
       "    .dataframe tbody tr th:only-of-type {\n",
       "        vertical-align: middle;\n",
       "    }\n",
       "\n",
       "    .dataframe tbody tr th {\n",
       "        vertical-align: top;\n",
       "    }\n",
       "\n",
       "    .dataframe thead th {\n",
       "        text-align: right;\n",
       "    }\n",
       "</style>\n",
       "<table border=\"1\" class=\"dataframe\">\n",
       "  <thead>\n",
       "    <tr style=\"text-align: right;\">\n",
       "      <th></th>\n",
       "      <th>original_title</th>\n",
       "      <th>review</th>\n",
       "      <th>rating</th>\n",
       "    </tr>\n",
       "    <tr>\n",
       "      <th>movie_id</th>\n",
       "      <th></th>\n",
       "      <th></th>\n",
       "      <th></th>\n",
       "    </tr>\n",
       "  </thead>\n",
       "  <tbody>\n",
       "    <tr>\n",
       "      <th>843</th>\n",
       "      <td>花樣年華</td>\n",
       "      <td>This is a fine piece of cinema from Wong Kar-Wai that tells us a story of two people whom circumstance throws together - but not in a way you might expect. We start with two couples who move into a new building. One a newspaper man with his wife, the other a business executive and his wife. The ...</td>\n",
       "      <td>7.0</td>\n",
       "    </tr>\n",
       "    <tr>\n",
       "      <th>7443</th>\n",
       "      <td>Chicken Run</td>\n",
       "      <td>A guilty pleasure for me personally, as I love both 'The Great Escape' and most of the works I have seen, over the years, from this rightfully-esteemed British animation company. Highly recommended both for children and for adults who enjoy animation.</td>\n",
       "      <td>9.0</td>\n",
       "    </tr>\n",
       "    <tr>\n",
       "      <th>7443</th>\n",
       "      <td>Chicken Run</td>\n",
       "      <td>Made my roommate who hates stop-motion animation watched this in 2018 and even he had a good time. It's maybe not as great as I remember thinking it was when I was a little kid, but it still holds up to some degree.\\r\\n\\r\\n_Final rating:★★★ - I liked it. Would personally recommend you give it a ...</td>\n",
       "      <td>6.0</td>\n",
       "    </tr>\n",
       "    <tr>\n",
       "      <th>7443</th>\n",
       "      <td>Chicken Run</td>\n",
       "      <td>A very good stop-motion animation!\\r\\n\\r\\n&lt;em&gt;'Chicken Run'&lt;/em&gt;, which I watched a crap tonne when I was little but not for a vast number of years now, is an impressive production given it came out in 2000. Despite a pretty simple feel to the film, it's a very well developed concept.\\r\\n\\r\\nThe...</td>\n",
       "      <td>8.0</td>\n",
       "    </tr>\n",
       "    <tr>\n",
       "      <th>7443</th>\n",
       "      <td>Chicken Run</td>\n",
       "      <td>Ok, there is an huge temptation to riddle this review with puns - but I'm just going to say it's a cracking little family adventure. It's seemingly based on a whole range of classic movies from the \"Great Escape\", \"Star Trek\" to \"Love Story\" with a score cannibalised from just about any/everythi...</td>\n",
       "      <td>7.0</td>\n",
       "    </tr>\n",
       "  </tbody>\n",
       "</table>\n",
       "</div>"
      ],
      "text/plain": [
       "         original_title  \\\n",
       "movie_id                  \n",
       "843                花樣年華   \n",
       "7443        Chicken Run   \n",
       "7443        Chicken Run   \n",
       "7443        Chicken Run   \n",
       "7443        Chicken Run   \n",
       "\n",
       "                                                                                                                                                                                                                                                                                                               review  \\\n",
       "movie_id                                                                                                                                                                                                                                                                                                                \n",
       "843       This is a fine piece of cinema from Wong Kar-Wai that tells us a story of two people whom circumstance throws together - but not in a way you might expect. We start with two couples who move into a new building. One a newspaper man with his wife, the other a business executive and his wife. The ...   \n",
       "7443                                                      A guilty pleasure for me personally, as I love both 'The Great Escape' and most of the works I have seen, over the years, from this rightfully-esteemed British animation company. Highly recommended both for children and for adults who enjoy animation.   \n",
       "7443      Made my roommate who hates stop-motion animation watched this in 2018 and even he had a good time. It's maybe not as great as I remember thinking it was when I was a little kid, but it still holds up to some degree.\\r\\n\\r\\n_Final rating:★★★ - I liked it. Would personally recommend you give it a ...   \n",
       "7443      A very good stop-motion animation!\\r\\n\\r\\n<em>'Chicken Run'</em>, which I watched a crap tonne when I was little but not for a vast number of years now, is an impressive production given it came out in 2000. Despite a pretty simple feel to the film, it's a very well developed concept.\\r\\n\\r\\nThe...   \n",
       "7443      Ok, there is an huge temptation to riddle this review with puns - but I'm just going to say it's a cracking little family adventure. It's seemingly based on a whole range of classic movies from the \"Great Escape\", \"Star Trek\" to \"Love Story\" with a score cannibalised from just about any/everythi...   \n",
       "\n",
       "          rating  \n",
       "movie_id          \n",
       "843          7.0  \n",
       "7443         9.0  \n",
       "7443         6.0  \n",
       "7443         8.0  \n",
       "7443         7.0  "
      ]
     },
     "execution_count": 14,
     "metadata": {},
     "output_type": "execute_result"
    }
   ],
   "source": [
    "# Load data \n",
    "fpath =  \"Data-NLP/movie_reviews_v2.csv\"\n",
    "df = pd.read_csv(fpath)\n",
    "df = df.set_index(\"movie_id\")\n",
    "# Define columns to use\n",
    "columns_to_use = columns_to_use = ['original_title', 'review', 'rating']\n",
    "df = df[columns_to_use]\n",
    "df.head()"
   ]
  },
  {
   "cell_type": "code",
   "execution_count": 15,
   "id": "6ebaa331-88c1-4b0a-8db7-92580747e62e",
   "metadata": {},
   "outputs": [
    {
     "data": {
      "text/plain": [
       "original_title       0\n",
       "review               0\n",
       "rating            1196\n",
       "dtype: int64"
      ]
     },
     "execution_count": 15,
     "metadata": {},
     "output_type": "execute_result"
    }
   ],
   "source": [
    "# Checking for null Values\n",
    "df.isna().sum()"
   ]
  },
  {
   "cell_type": "code",
   "execution_count": 17,
   "id": "9da0ed39-3f12-46eb-8ab0-013b4aed0057",
   "metadata": {},
   "outputs": [],
   "source": [
    "def create_groups(x):\n",
    "    if x>=9:\n",
    "        return \"High_Rating\"\n",
    "    elif x <=4:\n",
    "        return \"Low_Rating\"\n",
    "    else: \n",
    "        return None"
   ]
  },
  {
   "cell_type": "code",
   "execution_count": 18,
   "id": "7b0b412c-365f-478c-a665-a63d27b39eb9",
   "metadata": {},
   "outputs": [
    {
     "data": {
      "text/plain": [
       "'High_Rating'"
      ]
     },
     "execution_count": 18,
     "metadata": {},
     "output_type": "execute_result"
    }
   ],
   "source": [
    "# Should return high\n",
    "create_groups(9)"
   ]
  },
  {
   "cell_type": "code",
   "execution_count": 19,
   "id": "c008f581-bf6c-4191-bc3c-de4d8cae55c8",
   "metadata": {},
   "outputs": [
    {
     "data": {
      "text/plain": [
       "'Low_Rating'"
      ]
     },
     "execution_count": 19,
     "metadata": {},
     "output_type": "execute_result"
    }
   ],
   "source": [
    "# Should return low\n",
    "create_groups(4)"
   ]
  },
  {
   "cell_type": "code",
   "execution_count": 22,
   "id": "bac8b0bb-4114-4042-8db6-5088811460b3",
   "metadata": {},
   "outputs": [
    {
     "data": {
      "text/plain": [
       "None           6231\n",
       "Low_Rating     1224\n",
       "High_Rating    1195\n",
       "Name: ratings, dtype: int64"
      ]
     },
     "execution_count": 22,
     "metadata": {},
     "output_type": "execute_result"
    }
   ],
   "source": [
    "# Use the function to create a new \"rating\" column with groups\n",
    "df['ratings'] = df['rating'].map(create_groups)\n",
    "df['ratings'].value_counts(dropna=False)"
   ]
  },
  {
   "cell_type": "code",
   "execution_count": 23,
   "id": "fbd41300-8710-4474-a90f-6c092a36bcb7",
   "metadata": {},
   "outputs": [
    {
     "data": {
      "text/plain": [
       "movie_id\n",
       "843     This is a fine piece of cinema from Wong Kar-Wai that tells us a story of two people whom circumstance throws together - but not in a way you might expect. We start with two couples who move into a new building. One a newspaper man with his wife, the other a business executive and his wife. The ...\n",
       "7443                                                    A guilty pleasure for me personally, as I love both 'The Great Escape' and most of the works I have seen, over the years, from this rightfully-esteemed British animation company. Highly recommended both for children and for adults who enjoy animation.\n",
       "7443    Made my roommate who hates stop-motion animation watched this in 2018 and even he had a good time. It's maybe not as great as I remember thinking it was when I was a little kid, but it still holds up to some degree.\\r\\n\\r\\n_Final rating:★★★ - I liked it. Would personally recommend you give it a ...\n",
       "7443    A very good stop-motion animation!\\r\\n\\r\\n<em>'Chicken Run'</em>, which I watched a crap tonne when I was little but not for a vast number of years now, is an impressive production given it came out in 2000. Despite a pretty simple feel to the film, it's a very well developed concept.\\r\\n\\r\\nThe...\n",
       "7443    Ok, there is an huge temptation to riddle this review with puns - but I'm just going to say it's a cracking little family adventure. It's seemingly based on a whole range of classic movies from the \"Great Escape\", \"Star Trek\" to \"Love Story\" with a score cannibalised from just about any/everythi...\n",
       "Name: review, dtype: object"
      ]
     },
     "execution_count": 23,
     "metadata": {},
     "output_type": "execute_result"
    }
   ],
   "source": [
    "# Define X and y\n",
    "X = df['review']\n",
    "y = df['ratings']\n",
    "\n",
    "X.head()"
   ]
  },
  {
   "cell_type": "code",
   "execution_count": 24,
   "id": "8b55f82f-dd1b-4550-b45f-9ca815269634",
   "metadata": {},
   "outputs": [
    {
     "data": {
      "text/plain": [
       "Low_Rating     0.505994\n",
       "High_Rating    0.494006\n",
       "Name: ratings, dtype: float64"
      ]
     },
     "execution_count": 24,
     "metadata": {},
     "output_type": "execute_result"
    }
   ],
   "source": [
    "y.value_counts(normalize=True)"
   ]
  },
  {
   "cell_type": "code",
   "execution_count": 55,
   "id": "9ee85e9b-93aa-495f-b7b6-0fe0c3f2a987",
   "metadata": {},
   "outputs": [
    {
     "data": {
      "text/plain": [
       "(6055, 1297, 1298)"
      ]
     },
     "execution_count": 55,
     "metadata": {},
     "output_type": "execute_result"
    }
   ],
   "source": [
    "# Split data into train, test, val\n",
    "X_train, X_test, y_train, y_test = fn.train_test_split(X, y, test_size=0.2, random_state=42)\n",
    "X_train_full, X_test, y_train_full, y_test = fn.train_test_split(X, y, test_size=.3, random_state=42)\n",
    "X_val, X_test, y_val, y_test = fn.train_test_split(X_test, y_test, test_size=.5, random_state=42)\n",
    "(len(X_train_full), len(X_val), len(X_test))"
   ]
  },
  {
   "cell_type": "code",
   "execution_count": 26,
   "id": "a2ce5955-6885-41fa-9ac1-71f09cae1f17",
   "metadata": {},
   "outputs": [
    {
     "data": {
      "text/plain": [
       "Low_Rating     0.509953\n",
       "High_Rating    0.490047\n",
       "Name: ratings, dtype: float64"
      ]
     },
     "execution_count": 26,
     "metadata": {},
     "output_type": "execute_result"
    }
   ],
   "source": [
    "# Check class balance\n",
    "y_train_full.value_counts(normalize=True)"
   ]
  },
  {
   "cell_type": "code",
   "execution_count": 56,
   "id": "ba5d5d57-87f3-4961-9e6c-a7be62fd6cf9",
   "metadata": {},
   "outputs": [
    {
     "data": {
      "text/plain": [
       "Low_Rating     998\n",
       "High_Rating    946\n",
       "Name: ratings, dtype: int64"
      ]
     },
     "execution_count": 56,
     "metadata": {},
     "output_type": "execute_result"
    }
   ],
   "source": [
    "y_train.value_counts()"
   ]
  },
  {
   "cell_type": "code",
   "execution_count": 37,
   "id": "40f27767-d0fb-4081-bd50-041fda73a6f0",
   "metadata": {},
   "outputs": [
    {
     "data": {
      "text/plain": [
       "<6055x42617 sparse matrix of type '<class 'numpy.int64'>'\n",
       "\twith 809689 stored elements in Compressed Sparse Row format>"
      ]
     },
     "execution_count": 37,
     "metadata": {},
     "output_type": "execute_result"
    }
   ],
   "source": [
    "## Instantiate CountVectorizer\n",
    "countvector = fn.CountVectorizer()#min_df=3, ngram_range=(1,2))\n",
    "countvector.fit(X_train_full)\n",
    "\n",
    "# Transform X_train to see the result (for demo only)\n",
    "countvector.transform(X_train_full)"
   ]
  },
  {
   "cell_type": "code",
   "execution_count": null,
   "id": "87ddb6c0-1eba-4a11-acbd-fb1a3c374efb",
   "metadata": {},
   "outputs": [],
   "source": [
    "fn.evaluate_classification(count_pipe, X_train, y_train, X_val, y_val)"
   ]
  },
  {
   "cell_type": "markdown",
   "id": "2141e0e8-79b5-4871-a4fe-4a21d4f2f511",
   "metadata": {},
   "source": [
    "- ### For your  Deep NLP model:\n",
    "    - Save your training data (train_ds)\n",
    "    - Save your test data (test_ds)\n",
    "    - Save your best neural network.\n",
    "        - `Reminder:`use safe_format = 'tf' to save the model in a folder of repo-friendly files."
   ]
  },
  {
   "cell_type": "code",
   "execution_count": 57,
   "id": "5feae169-98a8-447a-8123-2c6fd4a814f3",
   "metadata": {},
   "outputs": [
    {
     "data": {
      "text/plain": [
       "dict_keys(['data', 'models', 'images'])"
      ]
     },
     "execution_count": 57,
     "metadata": {},
     "output_type": "execute_result"
    }
   ],
   "source": [
    "import json\n",
    "with open ('config/filepaths.json') as f:\n",
    "    FPATHS = json.load(f)\n",
    "    \n",
    "FPATHS.keys()"
   ]
  },
  {
   "cell_type": "code",
   "execution_count": 58,
   "id": "439af150-7997-400b-9baf-90880b3877dd",
   "metadata": {},
   "outputs": [
    {
     "data": {
      "text/plain": [
       "{'data': {'raw': {'full': 'Data-NLP/movie_reviews_v2.csv',\n",
       "   'eda': 'Data-NLP/movie_reviews_v2.csv'},\n",
       "  'ml': {'train': 'Data-NLP/training-data.joblib',\n",
       "   'test': 'Data-NLP/testing-data.joblib'}},\n",
       " 'models': {'linear_regression': 'Models/linear_regression/linreg.joblib',\n",
       "  'random_forest': 'Models/random_forest/rf_reg.joblib'},\n",
       " 'images': {'banner': 'Images/IMDB.png'}}"
      ]
     },
     "execution_count": 58,
     "metadata": {},
     "output_type": "execute_result"
    }
   ],
   "source": [
    "FPATHS"
   ]
  },
  {
   "cell_type": "code",
   "execution_count": 59,
   "id": "cccb5781-c979-4005-8ee9-70c07331e6c0",
   "metadata": {},
   "outputs": [],
   "source": [
    "def load_data(fpath):\n",
    "    df = pd.read_csv(fpath)\n",
    "    df = df.set_index(\"movie_id\")\n",
    "    return df"
   ]
  },
  {
   "cell_type": "code",
   "execution_count": 60,
   "id": "8698640c-162f-4048-bf4a-2632b3ecb9fa",
   "metadata": {},
   "outputs": [],
   "source": [
    "def load_Xy_data(fpath):\n",
    "    return joblib.load(fpath)"
   ]
  },
  {
   "cell_type": "code",
   "execution_count": null,
   "id": "59907273-8af6-42a6-910e-fa45b4aa4132",
   "metadata": {},
   "outputs": [],
   "source": []
  },
  {
   "cell_type": "code",
   "execution_count": null,
   "id": "487409d0-7052-4392-8cb4-f989fb5bb2f1",
   "metadata": {},
   "outputs": [],
   "source": []
  },
  {
   "cell_type": "code",
   "execution_count": null,
   "id": "05e6a41e-50cf-4c58-8515-cc96356f5b3a",
   "metadata": {},
   "outputs": [],
   "source": []
  },
  {
   "cell_type": "code",
   "execution_count": null,
   "id": "e9a7a2d5-cd40-4c40-8507-0758971163c3",
   "metadata": {},
   "outputs": [],
   "source": []
  },
  {
   "cell_type": "code",
   "execution_count": null,
   "id": "0007dfd8-38b5-4032-815c-18f0a6a2ed13",
   "metadata": {},
   "outputs": [],
   "source": []
  },
  {
   "cell_type": "code",
   "execution_count": null,
   "id": "a19727ff-ed9d-426c-91d4-0eda20487bf6",
   "metadata": {},
   "outputs": [],
   "source": []
  },
  {
   "cell_type": "markdown",
   "id": "c3849d4b-d24a-490e-ac86-ece32ce1bbaf",
   "metadata": {},
   "source": [
    "# Part 2: Streamlit App\n",
    "\n",
    "### You will create a Streamlit app to get model predictions for user-entered text. "
   ]
  },
  {
   "cell_type": "markdown",
   "id": "21ae85a0-90fd-42d4-86de-cb50189923c2",
   "metadata": {},
   "source": [
    "### You may select `either your best machine learning model or deep nlp model.` **Note:** for portfolio purposes, it would be best to eventually create an app for both.\n",
    "- #### Create a Stramlit app for getting predictions for a user-entered text from your loaded model.\n",
    "- #### (Optional but recommended); Include a Lime Text Explainer explanation for the prediction.\n",
    "- #### Include the ability to load the training and test data to evaluate the model."
   ]
  },
  {
   "cell_type": "code",
   "execution_count": null,
   "id": "ee69ff6a-c0ff-4826-a3e8-4bf8a67f70c8",
   "metadata": {},
   "outputs": [],
   "source": []
  }
 ],
 "metadata": {
  "kernelspec": {
   "display_name": "Python (dojo-env)",
   "language": "python",
   "name": "dojo-env"
  },
  "language_info": {
   "codemirror_mode": {
    "name": "ipython",
    "version": 3
   },
   "file_extension": ".py",
   "mimetype": "text/x-python",
   "name": "python",
   "nbconvert_exporter": "python",
   "pygments_lexer": "ipython3",
   "version": "3.10.11"
  },
  "widgets": {
   "application/vnd.jupyter.widget-state+json": {
    "state": {},
    "version_major": 2,
    "version_minor": 0
   }
  }
 },
 "nbformat": 4,
 "nbformat_minor": 5
}
