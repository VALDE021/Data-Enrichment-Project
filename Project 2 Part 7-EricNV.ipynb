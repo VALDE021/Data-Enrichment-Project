{
 "cells": [
  {
   "cell_type": "markdown",
   "id": "3b27abf7-45b4-4e24-a099-62896d40355a",
   "metadata": {},
   "source": [
    "# <u><center>Project 2 - Part 7 (Core)\n",
    "- Authored By: Eric N. Valdez\n",
    "- Date: 04/19/2024"
   ]
  },
  {
   "cell_type": "markdown",
   "id": "3824d57a-b86b-4a62-bf0b-5ae67c070006",
   "metadata": {},
   "source": [
    "### For this project you will create a streamlit app to get predictions from your best model.\n",
    "\n",
    "# Part 1: Preparing Best Models for Streamlit\n",
    "- ### Create a new Part 7 - Preparing for Streamlit  notebook.\n",
    "\n",
    "### `In the new notebook`\n",
    "- ### Define a filpaths ditionary and save it to config/filepaths.json to include file paths for each component you will save(`review below`).\n",
    "- ### Copy your best models from part 6 into the new notebook.\n",
    "    - #### Update your code to define the final public-facing class labels. "
   ]
  },
  {
   "cell_type": "code",
   "execution_count": 1,
   "id": "8399b21b-a454-4360-b290-f5d01a5fb4a3",
   "metadata": {},
   "outputs": [],
   "source": [
    "# Import standard packages\n",
    "import pandas as pd\n",
    "import numpy as np\n",
    "import matplotlib.pyplot as plt\n",
    "import seaborn as sns\n",
    "pd.set_option('display.max_columns',100)"
   ]
  },
  {
   "cell_type": "code",
   "execution_count": 2,
   "id": "78cbc332-263d-45e9-bdc1-c95cec371bc0",
   "metadata": {},
   "outputs": [
    {
     "name": "stdout",
     "output_type": "stream",
     "text": [
      "{'data': {'ml': {'test': 'Data-NLP/testing-data.joblib',\n",
      "                 'train': 'Data-NLP/training-data.joblib'},\n",
      "          'raw': {'eda': 'Data-NLP/movie_reviews_v2.csv',\n",
      "                  'full': 'Data-NLP/movie_reviews_v2.csv'}},\n",
      " 'images': {'banner': 'Images/IMDB.png'},\n",
      " 'models': {'gru': 'Models/gru/',\n",
      "            'random_forest': 'Models/random_forest/rf_reg.joblib'}}\n"
     ]
    }
   ],
   "source": [
    "from pprint import pprint\n",
    "FPATHS = dict(\n",
    "    data={\n",
    "        \"raw\": {\n",
    "            \"full\": \"Data-NLP/movie_reviews_v2.csv\",  # (This is the original full dataframe we already have)\n",
    "            \"eda\": \"Data-NLP/movie_reviews_v2.csv\" # We haven't saved this yet\n",
    "        },\n",
    "        \"ml\": {\n",
    "            \"train\": \"Data-NLP/training-data.joblib\",  # (X_train,y_train) We haven't saved this yet\n",
    "            \"test\": \"Data-NLP/testing-data.joblib\",  # (X_test,y_test) We haven't saved this yet\n",
    "        },\n",
    "    },\n",
    "    models={\n",
    "        \"gru\": \"Models/gru/\", # We haven't saved this yet\n",
    "        \"random_forest\": \"Models/random_forest/rf_reg.joblib\", # We haven't saved this yet\n",
    "    },\n",
    "    images={\n",
    "        \"banner\": \"Images/IMDB.png\", # We haven't saved this yet\n",
    "    },\n",
    ")\n",
    "pprint(FPATHS)"
   ]
  },
  {
   "cell_type": "code",
   "execution_count": 3,
   "id": "c7f63483-e608-438e-98fe-09efb6098881",
   "metadata": {},
   "outputs": [],
   "source": [
    "# Save the filepaths \n",
    "import os, json\n",
    "os.makedirs('config/', exist_ok=True)\n",
    "FPATHS_FILE = 'config/filepaths.json'\n",
    "with open(FPATHS_FILE, 'w') as f:\n",
    "    json.dump(FPATHS, f)"
   ]
  },
  {
   "cell_type": "code",
   "execution_count": 4,
   "id": "22d1eb55-a784-4243-a368-5892299e44e9",
   "metadata": {},
   "outputs": [],
   "source": [
    "import os\n",
    "def create_directories_from_paths(nested_dict):\n",
    "    \"\"\"OpenAI. (2023). ChatGPT [Large language model]. https://chat.openai.com \n",
    "    Recursively create directories for file paths in a nested dictionary.\n",
    "    Parameters:\n",
    "    nested_dict (dict): The nested dictionary containing file paths.\n",
    "    \"\"\"\n",
    "    for key, value in nested_dict.items():\n",
    "        if isinstance(value, dict):\n",
    "            # If the value is a dictionary, recurse into it\n",
    "            create_directories_from_paths(value)\n",
    "        elif isinstance(value, str):\n",
    "            # If the value is a string, treat it as a file path and get the directory path\n",
    "            directory_path = os.path.dirname(value)\n",
    "            # If the directory path is not empty and the directory does not exist, create it\n",
    "            if directory_path and not os.path.exists(directory_path):\n",
    "                os.makedirs(directory_path)\n",
    "                print(f\"Directory created: {directory_path}\")\n",
    "\n",
    "# Use the function on your FPATHS dictionary\n",
    "create_directories_from_paths(FPATHS)"
   ]
  },
  {
   "cell_type": "code",
   "execution_count": 5,
   "id": "082488a1-ed51-46be-b02b-338d9b9dc8bd",
   "metadata": {},
   "outputs": [
    {
     "data": {
      "text/plain": [
       "'Data-NLP/movie_reviews_v2.csv'"
      ]
     },
     "execution_count": 5,
     "metadata": {},
     "output_type": "execute_result"
    }
   ],
   "source": [
    "# We can access a file using our dictionary\n",
    "FPATHS['data']['raw']['full']"
   ]
  },
  {
   "cell_type": "code",
   "execution_count": 6,
   "id": "a3032400-32a4-4f70-9cd1-2d13ed3f7425",
   "metadata": {},
   "outputs": [
    {
     "data": {
      "text/plain": [
       "'Models/random_forest/rf_reg.joblib'"
      ]
     },
     "execution_count": 6,
     "metadata": {},
     "output_type": "execute_result"
    }
   ],
   "source": [
    "# We can access a file using our dictionary\n",
    "FPATHS['models']['random_forest']"
   ]
  },
  {
   "cell_type": "code",
   "execution_count": 7,
   "id": "613d978f-abe6-4f7d-baee-141e2ebfa47b",
   "metadata": {},
   "outputs": [
    {
     "data": {
      "text/markdown": [
       "<img src='Images/IMDB.png'>"
      ],
      "text/plain": [
       "<IPython.core.display.Markdown object>"
      ]
     },
     "execution_count": 7,
     "metadata": {},
     "output_type": "execute_result"
    }
   ],
   "source": [
    "# Confirm the images is in the correct location\n",
    "from IPython.display import display, Markdown\n",
    "Markdown(f\"<img src='{FPATHS['images']['banner']}'>\")"
   ]
  },
  {
   "cell_type": "markdown",
   "id": "a839cb00-2df4-4b67-9989-5615e9062e37",
   "metadata": {},
   "source": [
    "## `Saving Your Models`\n",
    "- ### For your Machine Learning Model:\n",
    "    - Save your training data ([X_train, y_train])\n",
    "    - Save your test data ([X_test, y_test])\n",
    "    - Save your target_lookup dictionary and/or your label encoder\n",
    "    - Save your best model"
   ]
  },
  {
   "cell_type": "code",
   "execution_count": null,
   "id": "877f0960-c551-4d31-aafd-6d602f35149e",
   "metadata": {},
   "outputs": [],
   "source": []
  },
  {
   "cell_type": "markdown",
   "id": "2141e0e8-79b5-4871-a4fe-4a21d4f2f511",
   "metadata": {},
   "source": [
    "- ### For your  Deep NLP model:\n",
    "    - Save your training data (train_ds)\n",
    "    - Save your test data (test_ds)\n",
    "    - Save your best neural network.\n",
    "        - `Reminder:`use safe_format = 'tf' to save the model in a folder of repo-friendly files."
   ]
  },
  {
   "cell_type": "code",
   "execution_count": null,
   "id": "59907273-8af6-42a6-910e-fa45b4aa4132",
   "metadata": {},
   "outputs": [],
   "source": []
  },
  {
   "cell_type": "code",
   "execution_count": null,
   "id": "487409d0-7052-4392-8cb4-f989fb5bb2f1",
   "metadata": {},
   "outputs": [],
   "source": []
  },
  {
   "cell_type": "code",
   "execution_count": null,
   "id": "05e6a41e-50cf-4c58-8515-cc96356f5b3a",
   "metadata": {},
   "outputs": [],
   "source": []
  },
  {
   "cell_type": "code",
   "execution_count": null,
   "id": "e9a7a2d5-cd40-4c40-8507-0758971163c3",
   "metadata": {},
   "outputs": [],
   "source": []
  },
  {
   "cell_type": "code",
   "execution_count": null,
   "id": "0007dfd8-38b5-4032-815c-18f0a6a2ed13",
   "metadata": {},
   "outputs": [],
   "source": []
  },
  {
   "cell_type": "code",
   "execution_count": null,
   "id": "a19727ff-ed9d-426c-91d4-0eda20487bf6",
   "metadata": {},
   "outputs": [],
   "source": []
  },
  {
   "cell_type": "markdown",
   "id": "c3849d4b-d24a-490e-ac86-ece32ce1bbaf",
   "metadata": {},
   "source": [
    "# Part 2: Streamlit App\n",
    "\n",
    "### You will create a Streamlit app to get model predictions for user-entered text. "
   ]
  },
  {
   "cell_type": "markdown",
   "id": "21ae85a0-90fd-42d4-86de-cb50189923c2",
   "metadata": {},
   "source": [
    "### You may select `either your best machine learning model or deep nlp model.` **Note:** for portfolio purposes, it would be best to eventually create an app for both.\n",
    "- #### Create a Stramlit app for getting predictions for a user-entered text from your loaded model.\n",
    "- #### (Optional but recommended); Include a Lime Text Explainer explanation for the prediction.\n",
    "- #### Include the ability to load the training and test data to evaluate the model."
   ]
  },
  {
   "cell_type": "code",
   "execution_count": null,
   "id": "ee69ff6a-c0ff-4826-a3e8-4bf8a67f70c8",
   "metadata": {},
   "outputs": [],
   "source": []
  }
 ],
 "metadata": {
  "kernelspec": {
   "display_name": "Python (dojo-env)",
   "language": "python",
   "name": "dojo-env"
  },
  "language_info": {
   "codemirror_mode": {
    "name": "ipython",
    "version": 3
   },
   "file_extension": ".py",
   "mimetype": "text/x-python",
   "name": "python",
   "nbconvert_exporter": "python",
   "pygments_lexer": "ipython3",
   "version": "3.10.11"
  },
  "widgets": {
   "application/vnd.jupyter.widget-state+json": {
    "state": {},
    "version_major": 2,
    "version_minor": 0
   }
  }
 },
 "nbformat": 4,
 "nbformat_minor": 5
}
